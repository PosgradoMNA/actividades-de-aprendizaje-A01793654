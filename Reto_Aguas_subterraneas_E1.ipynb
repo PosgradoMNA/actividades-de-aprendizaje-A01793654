{
  "nbformat": 4,
  "nbformat_minor": 0,
  "metadata": {
    "colab": {
      "provenance": [],
      "authorship_tag": "ABX9TyOAYdow9Nbgh9Fe82kWDGGd",
      "include_colab_link": true
    },
    "kernelspec": {
      "name": "python3",
      "display_name": "Python 3"
    },
    "language_info": {
      "name": "python"
    }
  },
  "cells": [
    {
      "cell_type": "markdown",
      "metadata": {
        "id": "view-in-github",
        "colab_type": "text"
      },
      "source": [
        "<a href=\"https://colab.research.google.com/github/PosgradoMNA/actividades-de-aprendizaje-A01793654/blob/main/Reto_Aguas_subterraneas_E1.ipynb\" target=\"_parent\"><img src=\"https://colab.research.google.com/assets/colab-badge.svg\" alt=\"Open In Colab\"/></a>"
      ]
    },
    {
      "cell_type": "code",
      "source": [
        "import numpy as np\n",
        "import pandas as pd"
      ],
      "metadata": {
        "id": "ZWls_ZFQ9mEW"
      },
      "execution_count": 2,
      "outputs": []
    },
    {
      "cell_type": "code",
      "execution_count": 1,
      "metadata": {
        "colab": {
          "base_uri": "https://localhost:8080/"
        },
        "id": "-eMMCmHW8AY7",
        "outputId": "f45604f2-037f-4537-8eeb-9d1036e76f5c"
      },
      "outputs": [
        {
          "output_type": "stream",
          "name": "stdout",
          "text": [
            "Mounted at /content/drive\n"
          ]
        }
      ],
      "source": [
        "from google.colab import drive\n",
        "drive.mount('/content/drive')"
      ]
    },
    {
      "cell_type": "code",
      "source": [
        "path = \"/content/drive/MyDrive/DataSet/Datos_agua_subterraneas_2020.csv\"\n",
        "df = pd.read_csv(path,encoding='latin-1')"
      ],
      "metadata": {
        "id": "6AK8SP8T9c-y"
      },
      "execution_count": 6,
      "outputs": []
    },
    {
      "cell_type": "code",
      "source": [
        "df.info()"
      ],
      "metadata": {
        "colab": {
          "base_uri": "https://localhost:8080/"
        },
        "id": "-xB768HG90vZ",
        "outputId": "217c0775-bc4d-47aa-b74d-116c6557457f"
      },
      "execution_count": 13,
      "outputs": [
        {
          "output_type": "stream",
          "name": "stdout",
          "text": [
            "<class 'pandas.core.frame.DataFrame'>\n",
            "RangeIndex: 1068 entries, 0 to 1067\n",
            "Data columns (total 57 columns):\n",
            " #   Column                Non-Null Count  Dtype  \n",
            "---  ------                --------------  -----  \n",
            " 0   CLAVE                 1068 non-null   object \n",
            " 1   SITIO                 1068 non-null   object \n",
            " 2   ORGANISMO_DE_CUENCA   1068 non-null   object \n",
            " 3   ESTADO                1068 non-null   object \n",
            " 4   MUNICIPIO             1068 non-null   object \n",
            " 5   ACUIFERO              1068 non-null   object \n",
            " 6   SUBTIPO               1068 non-null   object \n",
            " 7   LONGITUD              1068 non-null   float64\n",
            " 8   LATITUD               1068 non-null   float64\n",
            " 9   PERIODO               1068 non-null   int64  \n",
            " 10  ALC_mg/L              1064 non-null   float64\n",
            " 11  CALIDAD_ALC           1064 non-null   object \n",
            " 12  CONDUCT_mS/cm         1062 non-null   float64\n",
            " 13  CALIDAD_CONDUC        1062 non-null   object \n",
            " 14  SDT_mg/L              0 non-null      float64\n",
            " 15  SDT_M_mg/L            1066 non-null   object \n",
            " 16  CALIDAD_SDT_ra        1066 non-null   object \n",
            " 17  CALIDAD_SDT_salin     1066 non-null   object \n",
            " 18  FLUORUROS_mg/L        1068 non-null   object \n",
            " 19  CALIDAD_FLUO          1068 non-null   object \n",
            " 20  DUR_mg/L              1067 non-null   object \n",
            " 21  CALIDAD_DUR           1067 non-null   object \n",
            " 22  COLI_FEC_NMP/100_mL   1068 non-null   object \n",
            " 23  CALIDAD_COLI_FEC      1068 non-null   object \n",
            " 24  N_NO3_mg/L            1067 non-null   object \n",
            " 25  CALIDAD_N_NO3         1067 non-null   object \n",
            " 26  AS_TOT_mg/L           1068 non-null   object \n",
            " 27  CALIDAD_AS            1068 non-null   object \n",
            " 28  CD_TOT_mg/L           1068 non-null   object \n",
            " 29  CALIDAD_CD            1068 non-null   object \n",
            " 30  CR_TOT_mg/L           1068 non-null   object \n",
            " 31  CALIDAD_CR            1068 non-null   object \n",
            " 32  HG_TOT_mg/L           1068 non-null   object \n",
            " 33  CALIDAD_HG            1068 non-null   object \n",
            " 34  PB_TOT_mg/L           1068 non-null   object \n",
            " 35  CALIDAD_PB            1068 non-null   object \n",
            " 36  MN_TOT_mg/L           1068 non-null   object \n",
            " 37  CALIDAD_MN            1068 non-null   object \n",
            " 38  FE_TOT_mg/L           1068 non-null   object \n",
            " 39  CALIDAD_FE            1068 non-null   object \n",
            " 40  SEMAFORO              1068 non-null   object \n",
            " 41  CONTAMINANTES         634 non-null    object \n",
            " 42  CUMPLE_CON_ALC        1068 non-null   object \n",
            " 43  CUMPLE_CON_COND       1068 non-null   object \n",
            " 44  CUMPLE_CON_SDT_ra     1068 non-null   object \n",
            " 45  CUMPLE_CON_SDT_salin  1068 non-null   object \n",
            " 46  CUMPLE_CON_FLUO       1068 non-null   object \n",
            " 47  CUMPLE_CON_DUR        1068 non-null   object \n",
            " 48  CUMPLE_CON_CF         1068 non-null   object \n",
            " 49  CUMPLE_CON_NO3        1068 non-null   object \n",
            " 50  CUMPLE_CON_AS         1068 non-null   object \n",
            " 51  CUMPLE_CON_CD         1068 non-null   object \n",
            " 52  CUMPLE_CON_CR         1068 non-null   object \n",
            " 53  CUMPLE_CON_HG         1068 non-null   object \n",
            " 54  CUMPLE_CON_PB         1068 non-null   object \n",
            " 55  CUMPLE_CON_MN         1068 non-null   object \n",
            " 56  CUMPLE_CON_FE         1068 non-null   object \n",
            "dtypes: float64(5), int64(1), object(51)\n",
            "memory usage: 475.7+ KB\n"
          ]
        }
      ]
    },
    {
      "cell_type": "code",
      "source": [
        "df.columns"
      ],
      "metadata": {
        "colab": {
          "base_uri": "https://localhost:8080/"
        },
        "id": "GuVjPeoV-Z4g",
        "outputId": "141adb40-7779-466c-c0b5-3e3aecf34c90"
      },
      "execution_count": 8,
      "outputs": [
        {
          "output_type": "execute_result",
          "data": {
            "text/plain": [
              "Index(['CLAVE', 'SITIO', 'ORGANISMO_DE_CUENCA', 'ESTADO', 'MUNICIPIO',\n",
              "       'ACUIFERO', 'SUBTIPO', 'LONGITUD', 'LATITUD', 'PERIODO', 'ALC_mg/L',\n",
              "       'CALIDAD_ALC', 'CONDUCT_mS/cm', 'CALIDAD_CONDUC', 'SDT_mg/L',\n",
              "       'SDT_M_mg/L', 'CALIDAD_SDT_ra', 'CALIDAD_SDT_salin', 'FLUORUROS_mg/L',\n",
              "       'CALIDAD_FLUO', 'DUR_mg/L', 'CALIDAD_DUR', 'COLI_FEC_NMP/100_mL',\n",
              "       'CALIDAD_COLI_FEC', 'N_NO3_mg/L', 'CALIDAD_N_NO3', 'AS_TOT_mg/L',\n",
              "       'CALIDAD_AS', 'CD_TOT_mg/L', 'CALIDAD_CD', 'CR_TOT_mg/L', 'CALIDAD_CR',\n",
              "       'HG_TOT_mg/L', 'CALIDAD_HG', 'PB_TOT_mg/L', 'CALIDAD_PB', 'MN_TOT_mg/L',\n",
              "       'CALIDAD_MN', 'FE_TOT_mg/L', 'CALIDAD_FE', 'SEMAFORO', 'CONTAMINANTES',\n",
              "       'CUMPLE_CON_ALC', 'CUMPLE_CON_COND', 'CUMPLE_CON_SDT_ra',\n",
              "       'CUMPLE_CON_SDT_salin', 'CUMPLE_CON_FLUO', 'CUMPLE_CON_DUR',\n",
              "       'CUMPLE_CON_CF', 'CUMPLE_CON_NO3', 'CUMPLE_CON_AS', 'CUMPLE_CON_CD',\n",
              "       'CUMPLE_CON_CR', 'CUMPLE_CON_HG', 'CUMPLE_CON_PB', 'CUMPLE_CON_MN',\n",
              "       'CUMPLE_CON_FE'],\n",
              "      dtype='object')"
            ]
          },
          "metadata": {},
          "execution_count": 8
        }
      ]
    },
    {
      "cell_type": "code",
      "source": [
        "df.CONTAMINANTES.value_counts()"
      ],
      "metadata": {
        "colab": {
          "base_uri": "https://localhost:8080/"
        },
        "id": "JEsI5U9qE2i-",
        "outputId": "bbeda1f9-d964-4cb2-ebe7-eae6c863c9a9"
      },
      "execution_count": 11,
      "outputs": [
        {
          "output_type": "execute_result",
          "data": {
            "text/plain": [
              "FLUO,                                            78\n",
              "DT,                                              65\n",
              "FLUO,AS,                                         51\n",
              "CF,                                              31\n",
              "AS,                                              31\n",
              "                                                 ..\n",
              "ALC,CONDUC,SDT_ra,SDT_salin,DT,NO3,               1\n",
              "ALC,CONDUC,SDT_ra,SDT_salin,FLUO,DT,AS,MN,FE,     1\n",
              "PB,MN,FE,                                         1\n",
              "ALC,AS,FE,                                        1\n",
              "ALC,DT,NO3,                                       1\n",
              "Name: CONTAMINANTES, Length: 126, dtype: int64"
            ]
          },
          "metadata": {},
          "execution_count": 11
        }
      ]
    },
    {
      "cell_type": "markdown",
      "source": [],
      "metadata": {
        "id": "IFSL8_GkE2Rc"
      }
    },
    {
      "cell_type": "code",
      "source": [
        "df.drop(columns={'SDT_mg/L'}, inplace=True)"
      ],
      "metadata": {
        "id": "IBb6oQD-AG_H"
      },
      "execution_count": 21,
      "outputs": []
    },
    {
      "cell_type": "code",
      "source": [
        "df.info()"
      ],
      "metadata": {
        "colab": {
          "base_uri": "https://localhost:8080/"
        },
        "id": "x8MgEpeZF-mx",
        "outputId": "db67979c-9219-4b04-bf5d-522828cb39f9"
      },
      "execution_count": 22,
      "outputs": [
        {
          "output_type": "stream",
          "name": "stdout",
          "text": [
            "<class 'pandas.core.frame.DataFrame'>\n",
            "RangeIndex: 1068 entries, 0 to 1067\n",
            "Data columns (total 56 columns):\n",
            " #   Column                Non-Null Count  Dtype  \n",
            "---  ------                --------------  -----  \n",
            " 0   CLAVE                 1068 non-null   object \n",
            " 1   SITIO                 1068 non-null   object \n",
            " 2   ORGANISMO_DE_CUENCA   1068 non-null   object \n",
            " 3   ESTADO                1068 non-null   object \n",
            " 4   MUNICIPIO             1068 non-null   object \n",
            " 5   ACUIFERO              1068 non-null   object \n",
            " 6   SUBTIPO               1068 non-null   object \n",
            " 7   LONGITUD              1068 non-null   float64\n",
            " 8   LATITUD               1068 non-null   float64\n",
            " 9   PERIODO               1068 non-null   int64  \n",
            " 10  ALC_mg/L              1064 non-null   float64\n",
            " 11  CALIDAD_ALC           1064 non-null   object \n",
            " 12  CONDUCT_mS/cm         1062 non-null   float64\n",
            " 13  CALIDAD_CONDUC        1062 non-null   object \n",
            " 14  SDT_M_mg/L            1066 non-null   object \n",
            " 15  CALIDAD_SDT_ra        1066 non-null   object \n",
            " 16  CALIDAD_SDT_salin     1066 non-null   object \n",
            " 17  FLUORUROS_mg/L        1068 non-null   object \n",
            " 18  CALIDAD_FLUO          1068 non-null   object \n",
            " 19  DUR_mg/L              1067 non-null   object \n",
            " 20  CALIDAD_DUR           1067 non-null   object \n",
            " 21  COLI_FEC_NMP/100_mL   1068 non-null   object \n",
            " 22  CALIDAD_COLI_FEC      1068 non-null   object \n",
            " 23  N_NO3_mg/L            1067 non-null   object \n",
            " 24  CALIDAD_N_NO3         1067 non-null   object \n",
            " 25  AS_TOT_mg/L           1068 non-null   object \n",
            " 26  CALIDAD_AS            1068 non-null   object \n",
            " 27  CD_TOT_mg/L           1068 non-null   object \n",
            " 28  CALIDAD_CD            1068 non-null   object \n",
            " 29  CR_TOT_mg/L           1068 non-null   object \n",
            " 30  CALIDAD_CR            1068 non-null   object \n",
            " 31  HG_TOT_mg/L           1068 non-null   object \n",
            " 32  CALIDAD_HG            1068 non-null   object \n",
            " 33  PB_TOT_mg/L           1068 non-null   object \n",
            " 34  CALIDAD_PB            1068 non-null   object \n",
            " 35  MN_TOT_mg/L           1068 non-null   object \n",
            " 36  CALIDAD_MN            1068 non-null   object \n",
            " 37  FE_TOT_mg/L           1068 non-null   object \n",
            " 38  CALIDAD_FE            1068 non-null   object \n",
            " 39  SEMAFORO              1068 non-null   object \n",
            " 40  CONTAMINANTES         634 non-null    object \n",
            " 41  CUMPLE_CON_ALC        1068 non-null   object \n",
            " 42  CUMPLE_CON_COND       1068 non-null   object \n",
            " 43  CUMPLE_CON_SDT_ra     1068 non-null   object \n",
            " 44  CUMPLE_CON_SDT_salin  1068 non-null   object \n",
            " 45  CUMPLE_CON_FLUO       1068 non-null   object \n",
            " 46  CUMPLE_CON_DUR        1068 non-null   object \n",
            " 47  CUMPLE_CON_CF         1068 non-null   object \n",
            " 48  CUMPLE_CON_NO3        1068 non-null   object \n",
            " 49  CUMPLE_CON_AS         1068 non-null   object \n",
            " 50  CUMPLE_CON_CD         1068 non-null   object \n",
            " 51  CUMPLE_CON_CR         1068 non-null   object \n",
            " 52  CUMPLE_CON_HG         1068 non-null   object \n",
            " 53  CUMPLE_CON_PB         1068 non-null   object \n",
            " 54  CUMPLE_CON_MN         1068 non-null   object \n",
            " 55  CUMPLE_CON_FE         1068 non-null   object \n",
            "dtypes: float64(4), int64(1), object(51)\n",
            "memory usage: 467.4+ KB\n"
          ]
        }
      ]
    },
    {
      "cell_type": "code",
      "source": [
        "df."
      ],
      "metadata": {
        "id": "85YXn202GIKT"
      },
      "execution_count": null,
      "outputs": []
    }
  ]
}