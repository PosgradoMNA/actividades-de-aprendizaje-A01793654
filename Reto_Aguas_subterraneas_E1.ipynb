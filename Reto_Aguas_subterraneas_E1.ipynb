{
  "nbformat": 4,
  "nbformat_minor": 0,
  "metadata": {
    "colab": {
      "provenance": [],
      "authorship_tag": "ABX9TyP1xGn+jn+ZD1TYrVUpLI61",
      "include_colab_link": true
    },
    "kernelspec": {
      "name": "python3",
      "display_name": "Python 3"
    },
    "language_info": {
      "name": "python"
    }
  },
  "cells": [
    {
      "cell_type": "markdown",
      "metadata": {
        "id": "view-in-github",
        "colab_type": "text"
      },
      "source": [
        "<a href=\"https://colab.research.google.com/github/PosgradoMNA/actividades-de-aprendizaje-A01793654/blob/main/Reto_Aguas_subterraneas_E1.ipynb\" target=\"_parent\"><img src=\"https://colab.research.google.com/assets/colab-badge.svg\" alt=\"Open In Colab\"/></a>"
      ]
    },
    {
      "cell_type": "code",
      "source": [
        "import numpy as np\n",
        "import pandas as pd"
      ],
      "metadata": {
        "id": "ZWls_ZFQ9mEW"
      },
      "execution_count": 2,
      "outputs": []
    },
    {
      "cell_type": "code",
      "execution_count": 1,
      "metadata": {
        "colab": {
          "base_uri": "https://localhost:8080/"
        },
        "id": "-eMMCmHW8AY7",
        "outputId": "f45604f2-037f-4537-8eeb-9d1036e76f5c"
      },
      "outputs": [
        {
          "output_type": "stream",
          "name": "stdout",
          "text": [
            "Mounted at /content/drive\n"
          ]
        }
      ],
      "source": [
        "from google.colab import drive\n",
        "drive.mount('/content/drive')"
      ]
    },
    {
      "cell_type": "code",
      "source": [
        "path = \"/content/drive/MyDrive/DataSet/Datos_agua_subterraneas_2020.csv\"\n",
        "df = pd.read_csv(path,encoding='latin-1')"
      ],
      "metadata": {
        "id": "6AK8SP8T9c-y"
      },
      "execution_count": 6,
      "outputs": []
    },
    {
      "cell_type": "code",
      "source": [
        "df.info()"
      ],
      "metadata": {
        "colab": {
          "base_uri": "https://localhost:8080/"
        },
        "id": "-xB768HG90vZ",
        "outputId": "217c0775-bc4d-47aa-b74d-116c6557457f"
      },
      "execution_count": 13,
      "outputs": [
        {
          "output_type": "stream",
          "name": "stdout",
          "text": [
            "<class 'pandas.core.frame.DataFrame'>\n",
            "RangeIndex: 1068 entries, 0 to 1067\n",
            "Data columns (total 57 columns):\n",
            " #   Column                Non-Null Count  Dtype  \n",
            "---  ------                --------------  -----  \n",
            " 0   CLAVE                 1068 non-null   object \n",
            " 1   SITIO                 1068 non-null   object \n",
            " 2   ORGANISMO_DE_CUENCA   1068 non-null   object \n",
            " 3   ESTADO                1068 non-null   object \n",
            " 4   MUNICIPIO             1068 non-null   object \n",
            " 5   ACUIFERO              1068 non-null   object \n",
            " 6   SUBTIPO               1068 non-null   object \n",
            " 7   LONGITUD              1068 non-null   float64\n",
            " 8   LATITUD               1068 non-null   float64\n",
            " 9   PERIODO               1068 non-null   int64  \n",
            " 10  ALC_mg/L              1064 non-null   float64\n",
            " 11  CALIDAD_ALC           1064 non-null   object \n",
            " 12  CONDUCT_mS/cm         1062 non-null   float64\n",
            " 13  CALIDAD_CONDUC        1062 non-null   object \n",
            " 14  SDT_mg/L              0 non-null      float64\n",
            " 15  SDT_M_mg/L            1066 non-null   object \n",
            " 16  CALIDAD_SDT_ra        1066 non-null   object \n",
            " 17  CALIDAD_SDT_salin     1066 non-null   object \n",
            " 18  FLUORUROS_mg/L        1068 non-null   object \n",
            " 19  CALIDAD_FLUO          1068 non-null   object \n",
            " 20  DUR_mg/L              1067 non-null   object \n",
            " 21  CALIDAD_DUR           1067 non-null   object \n",
            " 22  COLI_FEC_NMP/100_mL   1068 non-null   object \n",
            " 23  CALIDAD_COLI_FEC      1068 non-null   object \n",
            " 24  N_NO3_mg/L            1067 non-null   object \n",
            " 25  CALIDAD_N_NO3         1067 non-null   object \n",
            " 26  AS_TOT_mg/L           1068 non-null   object \n",
            " 27  CALIDAD_AS            1068 non-null   object \n",
            " 28  CD_TOT_mg/L           1068 non-null   object \n",
            " 29  CALIDAD_CD            1068 non-null   object \n",
            " 30  CR_TOT_mg/L           1068 non-null   object \n",
            " 31  CALIDAD_CR            1068 non-null   object \n",
            " 32  HG_TOT_mg/L           1068 non-null   object \n",
            " 33  CALIDAD_HG            1068 non-null   object \n",
            " 34  PB_TOT_mg/L           1068 non-null   object \n",
            " 35  CALIDAD_PB            1068 non-null   object \n",
            " 36  MN_TOT_mg/L           1068 non-null   object \n",
            " 37  CALIDAD_MN            1068 non-null   object \n",
            " 38  FE_TOT_mg/L           1068 non-null   object \n",
            " 39  CALIDAD_FE            1068 non-null   object \n",
            " 40  SEMAFORO              1068 non-null   object \n",
            " 41  CONTAMINANTES         634 non-null    object \n",
            " 42  CUMPLE_CON_ALC        1068 non-null   object \n",
            " 43  CUMPLE_CON_COND       1068 non-null   object \n",
            " 44  CUMPLE_CON_SDT_ra     1068 non-null   object \n",
            " 45  CUMPLE_CON_SDT_salin  1068 non-null   object \n",
            " 46  CUMPLE_CON_FLUO       1068 non-null   object \n",
            " 47  CUMPLE_CON_DUR        1068 non-null   object \n",
            " 48  CUMPLE_CON_CF         1068 non-null   object \n",
            " 49  CUMPLE_CON_NO3        1068 non-null   object \n",
            " 50  CUMPLE_CON_AS         1068 non-null   object \n",
            " 51  CUMPLE_CON_CD         1068 non-null   object \n",
            " 52  CUMPLE_CON_CR         1068 non-null   object \n",
            " 53  CUMPLE_CON_HG         1068 non-null   object \n",
            " 54  CUMPLE_CON_PB         1068 non-null   object \n",
            " 55  CUMPLE_CON_MN         1068 non-null   object \n",
            " 56  CUMPLE_CON_FE         1068 non-null   object \n",
            "dtypes: float64(5), int64(1), object(51)\n",
            "memory usage: 475.7+ KB\n"
          ]
        }
      ]
    },
    {
      "cell_type": "code",
      "source": [
        "df.columns"
      ],
      "metadata": {
        "colab": {
          "base_uri": "https://localhost:8080/"
        },
        "id": "GuVjPeoV-Z4g",
        "outputId": "141adb40-7779-466c-c0b5-3e3aecf34c90"
      },
      "execution_count": 8,
      "outputs": [
        {
          "output_type": "execute_result",
          "data": {
            "text/plain": [
              "Index(['CLAVE', 'SITIO', 'ORGANISMO_DE_CUENCA', 'ESTADO', 'MUNICIPIO',\n",
              "       'ACUIFERO', 'SUBTIPO', 'LONGITUD', 'LATITUD', 'PERIODO', 'ALC_mg/L',\n",
              "       'CALIDAD_ALC', 'CONDUCT_mS/cm', 'CALIDAD_CONDUC', 'SDT_mg/L',\n",
              "       'SDT_M_mg/L', 'CALIDAD_SDT_ra', 'CALIDAD_SDT_salin', 'FLUORUROS_mg/L',\n",
              "       'CALIDAD_FLUO', 'DUR_mg/L', 'CALIDAD_DUR', 'COLI_FEC_NMP/100_mL',\n",
              "       'CALIDAD_COLI_FEC', 'N_NO3_mg/L', 'CALIDAD_N_NO3', 'AS_TOT_mg/L',\n",
              "       'CALIDAD_AS', 'CD_TOT_mg/L', 'CALIDAD_CD', 'CR_TOT_mg/L', 'CALIDAD_CR',\n",
              "       'HG_TOT_mg/L', 'CALIDAD_HG', 'PB_TOT_mg/L', 'CALIDAD_PB', 'MN_TOT_mg/L',\n",
              "       'CALIDAD_MN', 'FE_TOT_mg/L', 'CALIDAD_FE', 'SEMAFORO', 'CONTAMINANTES',\n",
              "       'CUMPLE_CON_ALC', 'CUMPLE_CON_COND', 'CUMPLE_CON_SDT_ra',\n",
              "       'CUMPLE_CON_SDT_salin', 'CUMPLE_CON_FLUO', 'CUMPLE_CON_DUR',\n",
              "       'CUMPLE_CON_CF', 'CUMPLE_CON_NO3', 'CUMPLE_CON_AS', 'CUMPLE_CON_CD',\n",
              "       'CUMPLE_CON_CR', 'CUMPLE_CON_HG', 'CUMPLE_CON_PB', 'CUMPLE_CON_MN',\n",
              "       'CUMPLE_CON_FE'],\n",
              "      dtype='object')"
            ]
          },
          "metadata": {},
          "execution_count": 8
        }
      ]
    },
    {
      "cell_type": "code",
      "source": [
        "df.drop(columns={'SDT_mg/L'}, inplace=True)"
      ],
      "metadata": {
        "id": "IBb6oQD-AG_H"
      },
      "execution_count": 21,
      "outputs": []
    },
    {
      "cell_type": "code",
      "source": [
        "df.info()"
      ],
      "metadata": {
        "colab": {
          "base_uri": "https://localhost:8080/"
        },
        "id": "x8MgEpeZF-mx",
        "outputId": "db67979c-9219-4b04-bf5d-522828cb39f9"
      },
      "execution_count": 22,
      "outputs": [
        {
          "output_type": "stream",
          "name": "stdout",
          "text": [
            "<class 'pandas.core.frame.DataFrame'>\n",
            "RangeIndex: 1068 entries, 0 to 1067\n",
            "Data columns (total 56 columns):\n",
            " #   Column                Non-Null Count  Dtype  \n",
            "---  ------                --------------  -----  \n",
            " 0   CLAVE                 1068 non-null   object \n",
            " 1   SITIO                 1068 non-null   object \n",
            " 2   ORGANISMO_DE_CUENCA   1068 non-null   object \n",
            " 3   ESTADO                1068 non-null   object \n",
            " 4   MUNICIPIO             1068 non-null   object \n",
            " 5   ACUIFERO              1068 non-null   object \n",
            " 6   SUBTIPO               1068 non-null   object \n",
            " 7   LONGITUD              1068 non-null   float64\n",
            " 8   LATITUD               1068 non-null   float64\n",
            " 9   PERIODO               1068 non-null   int64  \n",
            " 10  ALC_mg/L              1064 non-null   float64\n",
            " 11  CALIDAD_ALC           1064 non-null   object \n",
            " 12  CONDUCT_mS/cm         1062 non-null   float64\n",
            " 13  CALIDAD_CONDUC        1062 non-null   object \n",
            " 14  SDT_M_mg/L            1066 non-null   object \n",
            " 15  CALIDAD_SDT_ra        1066 non-null   object \n",
            " 16  CALIDAD_SDT_salin     1066 non-null   object \n",
            " 17  FLUORUROS_mg/L        1068 non-null   object \n",
            " 18  CALIDAD_FLUO          1068 non-null   object \n",
            " 19  DUR_mg/L              1067 non-null   object \n",
            " 20  CALIDAD_DUR           1067 non-null   object \n",
            " 21  COLI_FEC_NMP/100_mL   1068 non-null   object \n",
            " 22  CALIDAD_COLI_FEC      1068 non-null   object \n",
            " 23  N_NO3_mg/L            1067 non-null   object \n",
            " 24  CALIDAD_N_NO3         1067 non-null   object \n",
            " 25  AS_TOT_mg/L           1068 non-null   object \n",
            " 26  CALIDAD_AS            1068 non-null   object \n",
            " 27  CD_TOT_mg/L           1068 non-null   object \n",
            " 28  CALIDAD_CD            1068 non-null   object \n",
            " 29  CR_TOT_mg/L           1068 non-null   object \n",
            " 30  CALIDAD_CR            1068 non-null   object \n",
            " 31  HG_TOT_mg/L           1068 non-null   object \n",
            " 32  CALIDAD_HG            1068 non-null   object \n",
            " 33  PB_TOT_mg/L           1068 non-null   object \n",
            " 34  CALIDAD_PB            1068 non-null   object \n",
            " 35  MN_TOT_mg/L           1068 non-null   object \n",
            " 36  CALIDAD_MN            1068 non-null   object \n",
            " 37  FE_TOT_mg/L           1068 non-null   object \n",
            " 38  CALIDAD_FE            1068 non-null   object \n",
            " 39  SEMAFORO              1068 non-null   object \n",
            " 40  CONTAMINANTES         634 non-null    object \n",
            " 41  CUMPLE_CON_ALC        1068 non-null   object \n",
            " 42  CUMPLE_CON_COND       1068 non-null   object \n",
            " 43  CUMPLE_CON_SDT_ra     1068 non-null   object \n",
            " 44  CUMPLE_CON_SDT_salin  1068 non-null   object \n",
            " 45  CUMPLE_CON_FLUO       1068 non-null   object \n",
            " 46  CUMPLE_CON_DUR        1068 non-null   object \n",
            " 47  CUMPLE_CON_CF         1068 non-null   object \n",
            " 48  CUMPLE_CON_NO3        1068 non-null   object \n",
            " 49  CUMPLE_CON_AS         1068 non-null   object \n",
            " 50  CUMPLE_CON_CD         1068 non-null   object \n",
            " 51  CUMPLE_CON_CR         1068 non-null   object \n",
            " 52  CUMPLE_CON_HG         1068 non-null   object \n",
            " 53  CUMPLE_CON_PB         1068 non-null   object \n",
            " 54  CUMPLE_CON_MN         1068 non-null   object \n",
            " 55  CUMPLE_CON_FE         1068 non-null   object \n",
            "dtypes: float64(4), int64(1), object(51)\n",
            "memory usage: 467.4+ KB\n"
          ]
        }
      ]
    },
    {
      "cell_type": "code",
      "source": [
        "df.CONTAMINANTES.unique()"
      ],
      "metadata": {
        "colab": {
          "base_uri": "https://localhost:8080/"
        },
        "id": "HDdomOpqYZR0",
        "outputId": "ab292421-cca0-4d0a-cbd8-0b5184b91ed4"
      },
      "execution_count": 28,
      "outputs": [
        {
          "output_type": "execute_result",
          "data": {
            "text/plain": [
              "array([nan, 'FLUO,AS,', 'NO3,', 'CF,', 'CONDUC,NO3,', 'DT,CF,AS,MN,FE,',\n",
              "       'CONDUC,SDT_ra,SDT_salin,DT,AS,', 'AS,', 'DT,CF,PB,FE,',\n",
              "       'CONDUC,SDT_ra,SDT_salin,DT,', 'CONDUC,AS,FE,', 'CONDUC,',\n",
              "       'CF,FE,', 'FE,', 'DT,NO3,', 'DT,CR,FE,', 'CF,FE,NO3,',\n",
              "       'CONDUC,SDT_ra,SDT_salin,DT,CF,FE,',\n",
              "       'CONDUC,SDT_ra,SDT_salin,DT,FE,', 'CONDUC,DT,',\n",
              "       'CONDUC,SDT_ra,SDT_salin,DT,CF,NO3,',\n",
              "       'CONDUC,SDT_ra,SDT_salin,DT,FE,NO3,', 'CONDUC,DT,CF,', 'FLUO,CF,',\n",
              "       'DT,', 'FLUO,', 'FLUO,DT,', 'CONDUC,SDT_ra,SDT_salin,FLUO,',\n",
              "       'CR,FE,', 'ALC,', 'SDT_ra,SDT_salin,DT,MN,FE,', 'FLUO,FE,',\n",
              "       'FLUO,CF,AS,', 'DT,FE,', 'CONDUC,SDT_ra,SDT_salin,FLUO,DT,AS,NO3,',\n",
              "       'CONDUC,SDT_ra,SDT_salin,DT,AS,NO3,', 'FLUO,DT,AS,',\n",
              "       'FLUO,CF,AS,FE,', 'FE,NO3,', 'ALC,FLUO,',\n",
              "       'ALC,CONDUC,SDT_ra,SDT_salin,DT,FE,NO3,',\n",
              "       'CONDUC,SDT_ra,SDT_salin,FLUO,DT,',\n",
              "       'CONDUC,SDT_ra,SDT_salin,FLUO,DT,NO3,',\n",
              "       'CONDUC,SDT_ra,SDT_salin,DT,CF,',\n",
              "       'CONDUC,SDT_ra,SDT_salin,DT,NO3,', 'CR,', 'CONDUC,DT,FE,',\n",
              "       'ALC,CONDUC,DT,', 'CONDUC,DT,NO3,',\n",
              "       'ALC,CONDUC,SDT_ra,SDT_salin,DT,MN,FE,', 'MN,', 'CF,PB,', 'CF,MN,',\n",
              "       'CF,MN,FE,', 'ALC,FLUO,AS,', 'AS,FE,', 'DT,AS,NO3,',\n",
              "       'CONDUC,DT,AS,', 'FLUO,AS,FE,', 'ALC,AS,FE,', 'PB,MN,FE,',\n",
              "       'ALC,CONDUC,SDT_ra,SDT_salin,FLUO,DT,MN,FE,',\n",
              "       'ALC,CONDUC,SDT_ra,SDT_salin,FLUO,DT,AS,MN,FE,',\n",
              "       'ALC,CONDUC,SDT_ra,SDT_salin,DT,NO3,', 'ALC,FLUO,AS,FE,', 'MN,FE,',\n",
              "       'ALC,AS,MN,FE,', 'ALC,MN,', 'NI,FE,', 'CONDUC,MN,FE,',\n",
              "       'ALC,DT,FE,', 'CONDUC,PB,FE,', 'PB,FE,', 'CONDUC,FLUO,DT,',\n",
              "       'ALC,DT,', 'ALC,CONDUC,', 'ALC,CONDUC,AS,MN,', 'AS,MN,FE,',\n",
              "       'DT,PB,', 'PB,', 'CONDUC,SDT_ra,SDT_salin,DT,HG,MN,FE,',\n",
              "       'ALC,CONDUC,DT,NO3,', 'DT,MN,', 'MN,NO3,', 'ALC,CF,',\n",
              "       'FLUO,MN,FE,', 'CONDUC,SDT_ra,SDT_salin,FLUO,DT,PB,',\n",
              "       'CF,CD,MN,FE,', 'ALC,FE,', 'CONDUC,SDT_ra,SDT_salin,DT,AS,FE,',\n",
              "       'ALC,FLUO,AS,NO3,', 'SDT_ra,SDT_salin,DT,NO3,',\n",
              "       'ALC,SDT_ra,SDT_salin,DT,MN,FE,', 'SDT_ra,SDT_salin,DT,CR,',\n",
              "       'CONDUC,FLUO,NO3,', 'CONDUC,DT,CF,AS,NO3,', 'AS,NO3,',\n",
              "       'CONDUC,FE,NO3,', 'CONDUC,SDT_ra,SDT_salin,DT,AS,MN,',\n",
              "       'CONDUC,DT,CD,', 'DT,CF,', 'CONDUC,FLUO,DT,CF,', 'DT,MN,FE,',\n",
              "       'CONDUC,SDT_ra,SDT_salin,CR,', 'CONDUC,FE,', 'CR,MN,FE,',\n",
              "       'CONDUC,SDT_ra,SDT_salin,FLUO,DT,FE,', 'ALC,DT,AS,MN,',\n",
              "       'FLUO,AS,NO3,', 'ALC,MN,FE,', 'CF,NO3,',\n",
              "       'ALC,CONDUC,SDT_ra,SDT_salin,FLUO,NO3,', 'CONDUC,FLUO,FE,',\n",
              "       'SDT_ra,SDT_salin,DT,MN,', 'SDT_ra,SDT_salin,DT,FE,',\n",
              "       'SDT_ra,SDT_salin,DT,', 'CONDUC,SDT_ra,SDT_salin,', 'ALC,DT,MN,',\n",
              "       'CONDUC,SDT_ra,SDT_salin,DT,MN,FE,', 'ALC,CONDUC,DT,MN,NO3,',\n",
              "       'ALC,NO3,', 'CONDUC,DT,MN,FE,', 'CR,MN,', 'FLUO,CR,FE,',\n",
              "       'CR,NI,FE,', 'AS,CR,', 'ALC,DT,NO3,'], dtype=object)"
            ]
          },
          "metadata": {},
          "execution_count": 28
        }
      ]
    },
    {
      "cell_type": "code",
      "source": [
        "df.CONTAMINANTES.value_counts()/df.CONTAMINANTES.count()*100"
      ],
      "metadata": {
        "colab": {
          "base_uri": "https://localhost:8080/"
        },
        "id": "JEsI5U9qE2i-",
        "outputId": "2ce01f52-21d4-4218-ac03-7c874678e6c0"
      },
      "execution_count": 29,
      "outputs": [
        {
          "output_type": "execute_result",
          "data": {
            "text/plain": [
              "FLUO,                                            12.302839\n",
              "DT,                                              10.252366\n",
              "FLUO,AS,                                          8.044164\n",
              "CF,                                               4.889590\n",
              "AS,                                               4.889590\n",
              "                                                   ...    \n",
              "ALC,CONDUC,SDT_ra,SDT_salin,DT,NO3,               0.157729\n",
              "ALC,CONDUC,SDT_ra,SDT_salin,FLUO,DT,AS,MN,FE,     0.157729\n",
              "PB,MN,FE,                                         0.157729\n",
              "ALC,AS,FE,                                        0.157729\n",
              "ALC,DT,NO3,                                       0.157729\n",
              "Name: CONTAMINANTES, Length: 126, dtype: float64"
            ]
          },
          "metadata": {},
          "execution_count": 29
        }
      ]
    },
    {
      "cell_type": "code",
      "source": [
        "df.CONTAMINANTES"
      ],
      "metadata": {
        "colab": {
          "base_uri": "https://localhost:8080/"
        },
        "id": "2A03zg7wZSav",
        "outputId": "eb22d4b0-66ee-4902-f52a-8fb1ce423850"
      },
      "execution_count": 33,
      "outputs": [
        {
          "output_type": "execute_result",
          "data": {
            "text/plain": [
              "0                  NaN\n",
              "1                  NaN\n",
              "2             FLUO,AS,\n",
              "3                  NaN\n",
              "4                 NO3,\n",
              "             ...      \n",
              "1063    CONDUC,DT,NO3,\n",
              "1064              NO3,\n",
              "1065    CONDUC,DT,NO3,\n",
              "1066               NaN\n",
              "1067               NaN\n",
              "Name: CONTAMINANTES, Length: 1068, dtype: object"
            ]
          },
          "metadata": {},
          "execution_count": 33
        }
      ]
    },
    {
      "cell_type": "code",
      "source": [
        "path = \"/content/drive/MyDrive/DataSet/Datos_agua_superficiales_2020.csv\"\n",
        "dfs = pd.read_csv(path,encoding='latin-1')"
      ],
      "metadata": {
        "id": "85YXn202GIKT"
      },
      "execution_count": 23,
      "outputs": []
    },
    {
      "cell_type": "code",
      "source": [
        "dfs.info()"
      ],
      "metadata": {
        "colab": {
          "base_uri": "https://localhost:8080/"
        },
        "id": "w55KG_NuMvjj",
        "outputId": "da81f610-76e8-4f0c-d479-c2b1f9ed780d"
      },
      "execution_count": 24,
      "outputs": [
        {
          "output_type": "stream",
          "name": "stdout",
          "text": [
            "<class 'pandas.core.frame.DataFrame'>\n",
            "RangeIndex: 4141 entries, 0 to 4140\n",
            "Data columns (total 55 columns):\n",
            " #   Column                  Non-Null Count  Dtype  \n",
            "---  ------                  --------------  -----  \n",
            " 0   CLAVE                   3493 non-null   object \n",
            " 1   SITIO                   3493 non-null   object \n",
            " 2   ORGANISMO_DE_CUENCA     3493 non-null   object \n",
            " 3   ESTADO                  3493 non-null   object \n",
            " 4   MUNICIPIO               3493 non-null   object \n",
            " 5   CUENCA                  3492 non-null   object \n",
            " 6   CUERPO DE AGUA          3479 non-null   object \n",
            " 7   TIPO                    3493 non-null   object \n",
            " 8   SUBTIPO                 3479 non-null   object \n",
            " 9   LONGITUD                3493 non-null   float64\n",
            " 10  LATITUD                 3493 non-null   float64\n",
            " 11  PERIODO                 3493 non-null   float64\n",
            " 12  DBO_mg/L                2581 non-null   object \n",
            " 13  CALIDAD_DBO             2581 non-null   object \n",
            " 14  DQO_mg/L                2581 non-null   object \n",
            " 15  CALIDAD_DQO             2581 non-null   object \n",
            " 16  SST_mg/L                3489 non-null   object \n",
            " 17  CALIDAD_SST             3489 non-null   object \n",
            " 18  COLI_FEC_NMP_100mL      2582 non-null   object \n",
            " 19  CALIDAD_COLI_FEC        2582 non-null   object \n",
            " 20  E_COLI_NMP_100mL        2582 non-null   object \n",
            " 21  CALIDAD_E_COLI          2582 non-null   object \n",
            " 22  ENTEROC_NMP_100mL       904 non-null    object \n",
            " 23  CALIDAD_ENTEROC         904 non-null    object \n",
            " 24  OD_PORC                 1797 non-null   object \n",
            " 25  CALIDAD_OD_PORC         1797 non-null   object \n",
            " 26  OD_PORC_SUP             1619 non-null   object \n",
            " 27  CALIDAD_OD_PORC_SUP     1619 non-null   object \n",
            " 28  OD_PORC_MED             487 non-null    object \n",
            " 29  CALIDAD_OD_PORC_MED     487 non-null    object \n",
            " 30  OD_PORC_FON             946 non-null    object \n",
            " 31  CALIDAD_OD_PORC_FON     946 non-null    object \n",
            " 32  TOX_D_48_UT             1816 non-null   object \n",
            " 33  CALIDAD_TOX_D_48        1816 non-null   object \n",
            " 34  TOX_V_15_UT             1819 non-null   object \n",
            " 35  CALIDAD_TOX_V_15        1819 non-null   object \n",
            " 36  TOX_D_48_SUP_UT         762 non-null    object \n",
            " 37  CALIDAD TOX_D_48_SUP    762 non-null    object \n",
            " 38  TOX_D_48_FON_UT         0 non-null      float64\n",
            " 39  CALIDAD_TOX_D_48_FON    0 non-null      float64\n",
            " 40  TOX_FIS_SUP_15_UT       1674 non-null   object \n",
            " 41  CALIDAD_TOX_FIS_SUP_15  1674 non-null   object \n",
            " 42  TOX_FIS_FON_15_UT       0 non-null      float64\n",
            " 43  CALIDAD_TOX_FIS_FON_15  0 non-null      float64\n",
            " 44  SEMAFORO                3493 non-null   object \n",
            " 45  CONTAMINANTES           2226 non-null   object \n",
            " 46  CUMPLE_CON_DBO          3493 non-null   object \n",
            " 47  CUMPLE_CON_DQO          3493 non-null   object \n",
            " 48  CUMPLE_CON_SST          3493 non-null   object \n",
            " 49  CUMPLE_CON_CF           3493 non-null   object \n",
            " 50  CUMPLE_CON_E_COLI       3493 non-null   object \n",
            " 51  CUMPLE_CON_ENTEROC      3493 non-null   object \n",
            " 52  CUMPLE_CON_OD           3493 non-null   object \n",
            " 53  CUMPLE_CON_TOX          3493 non-null   object \n",
            " 54  GRUPO                   3493 non-null   object \n",
            "dtypes: float64(7), object(48)\n",
            "memory usage: 1.7+ MB\n"
          ]
        }
      ]
    },
    {
      "cell_type": "code",
      "source": [],
      "metadata": {
        "id": "Wk27nSmoMy0u"
      },
      "execution_count": null,
      "outputs": []
    }
  ]
}