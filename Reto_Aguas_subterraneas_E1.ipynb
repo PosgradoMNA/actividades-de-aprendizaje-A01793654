{
  "nbformat": 4,
  "nbformat_minor": 0,
  "metadata": {
    "colab": {
      "provenance": [],
      "authorship_tag": "ABX9TyOjxbm+L1JeI54wxG8DSzzb",
      "include_colab_link": true
    },
    "kernelspec": {
      "name": "python3",
      "display_name": "Python 3"
    },
    "language_info": {
      "name": "python"
    }
  },
  "cells": [
    {
      "cell_type": "markdown",
      "metadata": {
        "id": "view-in-github",
        "colab_type": "text"
      },
      "source": [
        "<a href=\"https://colab.research.google.com/github/PosgradoMNA/actividades-de-aprendizaje-A01793654/blob/main/Reto_Aguas_subterraneas_E1.ipynb\" target=\"_parent\"><img src=\"https://colab.research.google.com/assets/colab-badge.svg\" alt=\"Open In Colab\"/></a>"
      ]
    },
    {
      "cell_type": "code",
      "source": [
        "from sklearn import linear_model as lm\n",
        "import seaborn as sns\n",
        "import matplotlib.pyplot as plt\n",
        "import seaborn as sns\n",
        "import statsmodels.api as sm\n",
        "import scipy.stats as sts\n",
        "import pandas as pd\n",
        "import scipy as scp\n",
        "import numpy as np\n",
        "import sklearn.preprocessing as preproc\n",
        "from sklearn.model_selection import train_test_split  ### for train and test split package\n",
        "from sklearn import metrics  ## For calculation of MSE & RMSE\n",
        "from sklearn.preprocessing import LabelEncoder\n",
        "from sklearn.metrics import confusion_matrix, f1_score\n",
        "\n",
        "import requests, zipfile\n",
        "from io import BytesIO"
      ],
      "metadata": {
        "id": "ZWls_ZFQ9mEW"
      },
      "execution_count": 73,
      "outputs": []
    },
    {
      "cell_type": "code",
      "execution_count": 74,
      "metadata": {
        "id": "-eMMCmHW8AY7"
      },
      "outputs": [],
      "source": [
        "url = 'http://201.116.60.46/Datos_de_calidad_del_agua_de_5000_sitios_de_monitoreo.zip'"
      ]
    },
    {
      "cell_type": "code",
      "source": [
        "req = requests.get(url)\n",
        "zipfile.ZipFile(BytesIO(req.content)).extractall('unzipped_zip/')\n",
        "df=pd.read_csv('unzipped_zip/Datos_de_calidad_del_agua_2020/Datos_de_calidad_del_agua_de_sitios_de_monitoreo_de_aguas_subterraneas_2020.csv', encoding = 'latin1')\n",
        "df.head()"
      ],
      "metadata": {
        "id": "6AK8SP8T9c-y",
        "colab": {
          "base_uri": "https://localhost:8080/",
          "height": 421
        },
        "outputId": "c00b1441-05a3-4b2a-bdf1-c0d59fb465ea"
      },
      "execution_count": 75,
      "outputs": [
        {
          "output_type": "execute_result",
          "data": {
            "text/plain": [
              "       CLAVE                   SITIO           ORGANISMO_DE_CUENCA  \\\n",
              "0     DLAGU6            POZO SAN GIL       LERMA SANTIAGO PACIFICO   \n",
              "1  DLAGU6516  POZO R013 CAÑADA HONDA       LERMA SANTIAGO PACIFICO   \n",
              "2     DLAGU7              POZO COSIO       LERMA SANTIAGO PACIFICO   \n",
              "3     DLAGU9      POZO EL SALITRILLO       LERMA SANTIAGO PACIFICO   \n",
              "4   DLBAJ107      RANCHO EL TECOLOTE  PENINSULA DE BAJA CALIFORNIA   \n",
              "\n",
              "                ESTADO        MUNICIPIO                 ACUIFERO SUBTIPO  \\\n",
              "0       AGUASCALIENTES         ASIENTOS       VALLE DE CHICALOTE    POZO   \n",
              "1       AGUASCALIENTES   AGUASCALIENTES       VALLE DE CHICALOTE    POZO   \n",
              "2       AGUASCALIENTES            COSIO  VALLE DE AGUASCALIENTES    POZO   \n",
              "3       AGUASCALIENTES  RINCON DE ROMOS  VALLE DE AGUASCALIENTES    POZO   \n",
              "4  BAJA CALIFORNIA SUR           LA PAZ             TODOS SANTOS    POZO   \n",
              "\n",
              "    LONGITUD   LATITUD  PERIODO  ...  CUMPLE_CON_DUR CUMPLE_CON_CF  \\\n",
              "0 -102.02210  22.20887     2020  ...              SI            SI   \n",
              "1 -102.20075  21.99958     2020  ...              SI            SI   \n",
              "2 -102.28801  22.36685     2020  ...              SI            SI   \n",
              "3 -102.29449  22.18435     2020  ...              SI            SI   \n",
              "4 -110.24480  23.45138     2020  ...              SI            SI   \n",
              "\n",
              "   CUMPLE_CON_NO3 CUMPLE_CON_AS  CUMPLE_CON_CD CUMPLE_CON_CR CUMPLE_CON_HG  \\\n",
              "0              SI            SI             SI            SI            SI   \n",
              "1              SI            SI             SI            SI            SI   \n",
              "2              SI            NO             SI            SI            SI   \n",
              "3              SI            SI             SI            SI            SI   \n",
              "4              NO            SI             SI            SI            SI   \n",
              "\n",
              "  CUMPLE_CON_PB CUMPLE_CON_MN CUMPLE_CON_FE  \n",
              "0            SI            SI            SI  \n",
              "1            SI            SI            SI  \n",
              "2            SI            SI            SI  \n",
              "3            SI            SI            SI  \n",
              "4            SI            SI            SI  \n",
              "\n",
              "[5 rows x 57 columns]"
            ],
            "text/html": [
              "\n",
              "  <div id=\"df-1485fa76-b05f-42cf-b404-4174300dba7f\">\n",
              "    <div class=\"colab-df-container\">\n",
              "      <div>\n",
              "<style scoped>\n",
              "    .dataframe tbody tr th:only-of-type {\n",
              "        vertical-align: middle;\n",
              "    }\n",
              "\n",
              "    .dataframe tbody tr th {\n",
              "        vertical-align: top;\n",
              "    }\n",
              "\n",
              "    .dataframe thead th {\n",
              "        text-align: right;\n",
              "    }\n",
              "</style>\n",
              "<table border=\"1\" class=\"dataframe\">\n",
              "  <thead>\n",
              "    <tr style=\"text-align: right;\">\n",
              "      <th></th>\n",
              "      <th>CLAVE</th>\n",
              "      <th>SITIO</th>\n",
              "      <th>ORGANISMO_DE_CUENCA</th>\n",
              "      <th>ESTADO</th>\n",
              "      <th>MUNICIPIO</th>\n",
              "      <th>ACUIFERO</th>\n",
              "      <th>SUBTIPO</th>\n",
              "      <th>LONGITUD</th>\n",
              "      <th>LATITUD</th>\n",
              "      <th>PERIODO</th>\n",
              "      <th>...</th>\n",
              "      <th>CUMPLE_CON_DUR</th>\n",
              "      <th>CUMPLE_CON_CF</th>\n",
              "      <th>CUMPLE_CON_NO3</th>\n",
              "      <th>CUMPLE_CON_AS</th>\n",
              "      <th>CUMPLE_CON_CD</th>\n",
              "      <th>CUMPLE_CON_CR</th>\n",
              "      <th>CUMPLE_CON_HG</th>\n",
              "      <th>CUMPLE_CON_PB</th>\n",
              "      <th>CUMPLE_CON_MN</th>\n",
              "      <th>CUMPLE_CON_FE</th>\n",
              "    </tr>\n",
              "  </thead>\n",
              "  <tbody>\n",
              "    <tr>\n",
              "      <th>0</th>\n",
              "      <td>DLAGU6</td>\n",
              "      <td>POZO SAN GIL</td>\n",
              "      <td>LERMA SANTIAGO PACIFICO</td>\n",
              "      <td>AGUASCALIENTES</td>\n",
              "      <td>ASIENTOS</td>\n",
              "      <td>VALLE DE CHICALOTE</td>\n",
              "      <td>POZO</td>\n",
              "      <td>-102.02210</td>\n",
              "      <td>22.20887</td>\n",
              "      <td>2020</td>\n",
              "      <td>...</td>\n",
              "      <td>SI</td>\n",
              "      <td>SI</td>\n",
              "      <td>SI</td>\n",
              "      <td>SI</td>\n",
              "      <td>SI</td>\n",
              "      <td>SI</td>\n",
              "      <td>SI</td>\n",
              "      <td>SI</td>\n",
              "      <td>SI</td>\n",
              "      <td>SI</td>\n",
              "    </tr>\n",
              "    <tr>\n",
              "      <th>1</th>\n",
              "      <td>DLAGU6516</td>\n",
              "      <td>POZO R013 CAÑADA HONDA</td>\n",
              "      <td>LERMA SANTIAGO PACIFICO</td>\n",
              "      <td>AGUASCALIENTES</td>\n",
              "      <td>AGUASCALIENTES</td>\n",
              "      <td>VALLE DE CHICALOTE</td>\n",
              "      <td>POZO</td>\n",
              "      <td>-102.20075</td>\n",
              "      <td>21.99958</td>\n",
              "      <td>2020</td>\n",
              "      <td>...</td>\n",
              "      <td>SI</td>\n",
              "      <td>SI</td>\n",
              "      <td>SI</td>\n",
              "      <td>SI</td>\n",
              "      <td>SI</td>\n",
              "      <td>SI</td>\n",
              "      <td>SI</td>\n",
              "      <td>SI</td>\n",
              "      <td>SI</td>\n",
              "      <td>SI</td>\n",
              "    </tr>\n",
              "    <tr>\n",
              "      <th>2</th>\n",
              "      <td>DLAGU7</td>\n",
              "      <td>POZO COSIO</td>\n",
              "      <td>LERMA SANTIAGO PACIFICO</td>\n",
              "      <td>AGUASCALIENTES</td>\n",
              "      <td>COSIO</td>\n",
              "      <td>VALLE DE AGUASCALIENTES</td>\n",
              "      <td>POZO</td>\n",
              "      <td>-102.28801</td>\n",
              "      <td>22.36685</td>\n",
              "      <td>2020</td>\n",
              "      <td>...</td>\n",
              "      <td>SI</td>\n",
              "      <td>SI</td>\n",
              "      <td>SI</td>\n",
              "      <td>NO</td>\n",
              "      <td>SI</td>\n",
              "      <td>SI</td>\n",
              "      <td>SI</td>\n",
              "      <td>SI</td>\n",
              "      <td>SI</td>\n",
              "      <td>SI</td>\n",
              "    </tr>\n",
              "    <tr>\n",
              "      <th>3</th>\n",
              "      <td>DLAGU9</td>\n",
              "      <td>POZO EL SALITRILLO</td>\n",
              "      <td>LERMA SANTIAGO PACIFICO</td>\n",
              "      <td>AGUASCALIENTES</td>\n",
              "      <td>RINCON DE ROMOS</td>\n",
              "      <td>VALLE DE AGUASCALIENTES</td>\n",
              "      <td>POZO</td>\n",
              "      <td>-102.29449</td>\n",
              "      <td>22.18435</td>\n",
              "      <td>2020</td>\n",
              "      <td>...</td>\n",
              "      <td>SI</td>\n",
              "      <td>SI</td>\n",
              "      <td>SI</td>\n",
              "      <td>SI</td>\n",
              "      <td>SI</td>\n",
              "      <td>SI</td>\n",
              "      <td>SI</td>\n",
              "      <td>SI</td>\n",
              "      <td>SI</td>\n",
              "      <td>SI</td>\n",
              "    </tr>\n",
              "    <tr>\n",
              "      <th>4</th>\n",
              "      <td>DLBAJ107</td>\n",
              "      <td>RANCHO EL TECOLOTE</td>\n",
              "      <td>PENINSULA DE BAJA CALIFORNIA</td>\n",
              "      <td>BAJA CALIFORNIA SUR</td>\n",
              "      <td>LA PAZ</td>\n",
              "      <td>TODOS SANTOS</td>\n",
              "      <td>POZO</td>\n",
              "      <td>-110.24480</td>\n",
              "      <td>23.45138</td>\n",
              "      <td>2020</td>\n",
              "      <td>...</td>\n",
              "      <td>SI</td>\n",
              "      <td>SI</td>\n",
              "      <td>NO</td>\n",
              "      <td>SI</td>\n",
              "      <td>SI</td>\n",
              "      <td>SI</td>\n",
              "      <td>SI</td>\n",
              "      <td>SI</td>\n",
              "      <td>SI</td>\n",
              "      <td>SI</td>\n",
              "    </tr>\n",
              "  </tbody>\n",
              "</table>\n",
              "<p>5 rows × 57 columns</p>\n",
              "</div>\n",
              "      <button class=\"colab-df-convert\" onclick=\"convertToInteractive('df-1485fa76-b05f-42cf-b404-4174300dba7f')\"\n",
              "              title=\"Convert this dataframe to an interactive table.\"\n",
              "              style=\"display:none;\">\n",
              "        \n",
              "  <svg xmlns=\"http://www.w3.org/2000/svg\" height=\"24px\"viewBox=\"0 0 24 24\"\n",
              "       width=\"24px\">\n",
              "    <path d=\"M0 0h24v24H0V0z\" fill=\"none\"/>\n",
              "    <path d=\"M18.56 5.44l.94 2.06.94-2.06 2.06-.94-2.06-.94-.94-2.06-.94 2.06-2.06.94zm-11 1L8.5 8.5l.94-2.06 2.06-.94-2.06-.94L8.5 2.5l-.94 2.06-2.06.94zm10 10l.94 2.06.94-2.06 2.06-.94-2.06-.94-.94-2.06-.94 2.06-2.06.94z\"/><path d=\"M17.41 7.96l-1.37-1.37c-.4-.4-.92-.59-1.43-.59-.52 0-1.04.2-1.43.59L10.3 9.45l-7.72 7.72c-.78.78-.78 2.05 0 2.83L4 21.41c.39.39.9.59 1.41.59.51 0 1.02-.2 1.41-.59l7.78-7.78 2.81-2.81c.8-.78.8-2.07 0-2.86zM5.41 20L4 18.59l7.72-7.72 1.47 1.35L5.41 20z\"/>\n",
              "  </svg>\n",
              "      </button>\n",
              "      \n",
              "  <style>\n",
              "    .colab-df-container {\n",
              "      display:flex;\n",
              "      flex-wrap:wrap;\n",
              "      gap: 12px;\n",
              "    }\n",
              "\n",
              "    .colab-df-convert {\n",
              "      background-color: #E8F0FE;\n",
              "      border: none;\n",
              "      border-radius: 50%;\n",
              "      cursor: pointer;\n",
              "      display: none;\n",
              "      fill: #1967D2;\n",
              "      height: 32px;\n",
              "      padding: 0 0 0 0;\n",
              "      width: 32px;\n",
              "    }\n",
              "\n",
              "    .colab-df-convert:hover {\n",
              "      background-color: #E2EBFA;\n",
              "      box-shadow: 0px 1px 2px rgba(60, 64, 67, 0.3), 0px 1px 3px 1px rgba(60, 64, 67, 0.15);\n",
              "      fill: #174EA6;\n",
              "    }\n",
              "\n",
              "    [theme=dark] .colab-df-convert {\n",
              "      background-color: #3B4455;\n",
              "      fill: #D2E3FC;\n",
              "    }\n",
              "\n",
              "    [theme=dark] .colab-df-convert:hover {\n",
              "      background-color: #434B5C;\n",
              "      box-shadow: 0px 1px 3px 1px rgba(0, 0, 0, 0.15);\n",
              "      filter: drop-shadow(0px 1px 2px rgba(0, 0, 0, 0.3));\n",
              "      fill: #FFFFFF;\n",
              "    }\n",
              "  </style>\n",
              "\n",
              "      <script>\n",
              "        const buttonEl =\n",
              "          document.querySelector('#df-1485fa76-b05f-42cf-b404-4174300dba7f button.colab-df-convert');\n",
              "        buttonEl.style.display =\n",
              "          google.colab.kernel.accessAllowed ? 'block' : 'none';\n",
              "\n",
              "        async function convertToInteractive(key) {\n",
              "          const element = document.querySelector('#df-1485fa76-b05f-42cf-b404-4174300dba7f');\n",
              "          const dataTable =\n",
              "            await google.colab.kernel.invokeFunction('convertToInteractive',\n",
              "                                                     [key], {});\n",
              "          if (!dataTable) return;\n",
              "\n",
              "          const docLinkHtml = 'Like what you see? Visit the ' +\n",
              "            '<a target=\"_blank\" href=https://colab.research.google.com/notebooks/data_table.ipynb>data table notebook</a>'\n",
              "            + ' to learn more about interactive tables.';\n",
              "          element.innerHTML = '';\n",
              "          dataTable['output_type'] = 'display_data';\n",
              "          await google.colab.output.renderOutput(dataTable, element);\n",
              "          const docLink = document.createElement('div');\n",
              "          docLink.innerHTML = docLinkHtml;\n",
              "          element.appendChild(docLink);\n",
              "        }\n",
              "      </script>\n",
              "    </div>\n",
              "  </div>\n",
              "  "
            ]
          },
          "metadata": {},
          "execution_count": 75
        }
      ]
    },
    {
      "cell_type": "code",
      "source": [
        "df.info()"
      ],
      "metadata": {
        "colab": {
          "base_uri": "https://localhost:8080/"
        },
        "id": "-xB768HG90vZ",
        "outputId": "b9424233-80a9-43a2-8540-d3ff65f2c3ea"
      },
      "execution_count": 76,
      "outputs": [
        {
          "output_type": "stream",
          "name": "stdout",
          "text": [
            "<class 'pandas.core.frame.DataFrame'>\n",
            "RangeIndex: 1068 entries, 0 to 1067\n",
            "Data columns (total 57 columns):\n",
            " #   Column                Non-Null Count  Dtype  \n",
            "---  ------                --------------  -----  \n",
            " 0   CLAVE                 1068 non-null   object \n",
            " 1   SITIO                 1068 non-null   object \n",
            " 2   ORGANISMO_DE_CUENCA   1068 non-null   object \n",
            " 3   ESTADO                1068 non-null   object \n",
            " 4   MUNICIPIO             1068 non-null   object \n",
            " 5   ACUIFERO              1068 non-null   object \n",
            " 6   SUBTIPO               1068 non-null   object \n",
            " 7   LONGITUD              1068 non-null   float64\n",
            " 8   LATITUD               1068 non-null   float64\n",
            " 9   PERIODO               1068 non-null   int64  \n",
            " 10  ALC_mg/L              1064 non-null   float64\n",
            " 11  CALIDAD_ALC           1064 non-null   object \n",
            " 12  CONDUCT_mS/cm         1062 non-null   float64\n",
            " 13  CALIDAD_CONDUC        1062 non-null   object \n",
            " 14  SDT_mg/L              0 non-null      float64\n",
            " 15  SDT_M_mg/L            1066 non-null   object \n",
            " 16  CALIDAD_SDT_ra        1066 non-null   object \n",
            " 17  CALIDAD_SDT_salin     1066 non-null   object \n",
            " 18  FLUORUROS_mg/L        1068 non-null   object \n",
            " 19  CALIDAD_FLUO          1068 non-null   object \n",
            " 20  DUR_mg/L              1067 non-null   object \n",
            " 21  CALIDAD_DUR           1067 non-null   object \n",
            " 22  COLI_FEC_NMP/100_mL   1068 non-null   object \n",
            " 23  CALIDAD_COLI_FEC      1068 non-null   object \n",
            " 24  N_NO3_mg/L            1067 non-null   object \n",
            " 25  CALIDAD_N_NO3         1067 non-null   object \n",
            " 26  AS_TOT_mg/L           1068 non-null   object \n",
            " 27  CALIDAD_AS            1068 non-null   object \n",
            " 28  CD_TOT_mg/L           1068 non-null   object \n",
            " 29  CALIDAD_CD            1068 non-null   object \n",
            " 30  CR_TOT_mg/L           1068 non-null   object \n",
            " 31  CALIDAD_CR            1068 non-null   object \n",
            " 32  HG_TOT_mg/L           1068 non-null   object \n",
            " 33  CALIDAD_HG            1068 non-null   object \n",
            " 34  PB_TOT_mg/L           1068 non-null   object \n",
            " 35  CALIDAD_PB            1068 non-null   object \n",
            " 36  MN_TOT_mg/L           1068 non-null   object \n",
            " 37  CALIDAD_MN            1068 non-null   object \n",
            " 38  FE_TOT_mg/L           1068 non-null   object \n",
            " 39  CALIDAD_FE            1068 non-null   object \n",
            " 40  SEMAFORO              1068 non-null   object \n",
            " 41  CONTAMINANTES         634 non-null    object \n",
            " 42  CUMPLE_CON_ALC        1068 non-null   object \n",
            " 43  CUMPLE_CON_COND       1068 non-null   object \n",
            " 44  CUMPLE_CON_SDT_ra     1068 non-null   object \n",
            " 45  CUMPLE_CON_SDT_salin  1068 non-null   object \n",
            " 46  CUMPLE_CON_FLUO       1068 non-null   object \n",
            " 47  CUMPLE_CON_DUR        1068 non-null   object \n",
            " 48  CUMPLE_CON_CF         1068 non-null   object \n",
            " 49  CUMPLE_CON_NO3        1068 non-null   object \n",
            " 50  CUMPLE_CON_AS         1068 non-null   object \n",
            " 51  CUMPLE_CON_CD         1068 non-null   object \n",
            " 52  CUMPLE_CON_CR         1068 non-null   object \n",
            " 53  CUMPLE_CON_HG         1068 non-null   object \n",
            " 54  CUMPLE_CON_PB         1068 non-null   object \n",
            " 55  CUMPLE_CON_MN         1068 non-null   object \n",
            " 56  CUMPLE_CON_FE         1068 non-null   object \n",
            "dtypes: float64(5), int64(1), object(51)\n",
            "memory usage: 475.7+ KB\n"
          ]
        }
      ]
    },
    {
      "cell_type": "code",
      "source": [
        "df.columns"
      ],
      "metadata": {
        "colab": {
          "base_uri": "https://localhost:8080/"
        },
        "id": "oSjJMks3gDWZ",
        "outputId": "9a4f30b6-4ae9-4596-b740-e111089934ef"
      },
      "execution_count": 77,
      "outputs": [
        {
          "output_type": "execute_result",
          "data": {
            "text/plain": [
              "Index(['CLAVE', 'SITIO', 'ORGANISMO_DE_CUENCA', 'ESTADO', 'MUNICIPIO',\n",
              "       'ACUIFERO', 'SUBTIPO', 'LONGITUD', 'LATITUD', 'PERIODO', 'ALC_mg/L',\n",
              "       'CALIDAD_ALC', 'CONDUCT_mS/cm', 'CALIDAD_CONDUC', 'SDT_mg/L',\n",
              "       'SDT_M_mg/L', 'CALIDAD_SDT_ra', 'CALIDAD_SDT_salin', 'FLUORUROS_mg/L',\n",
              "       'CALIDAD_FLUO', 'DUR_mg/L', 'CALIDAD_DUR', 'COLI_FEC_NMP/100_mL',\n",
              "       'CALIDAD_COLI_FEC', 'N_NO3_mg/L', 'CALIDAD_N_NO3', 'AS_TOT_mg/L',\n",
              "       'CALIDAD_AS', 'CD_TOT_mg/L', 'CALIDAD_CD', 'CR_TOT_mg/L', 'CALIDAD_CR',\n",
              "       'HG_TOT_mg/L', 'CALIDAD_HG', 'PB_TOT_mg/L', 'CALIDAD_PB', 'MN_TOT_mg/L',\n",
              "       'CALIDAD_MN', 'FE_TOT_mg/L', 'CALIDAD_FE', 'SEMAFORO', 'CONTAMINANTES',\n",
              "       'CUMPLE_CON_ALC', 'CUMPLE_CON_COND', 'CUMPLE_CON_SDT_ra',\n",
              "       'CUMPLE_CON_SDT_salin', 'CUMPLE_CON_FLUO', 'CUMPLE_CON_DUR',\n",
              "       'CUMPLE_CON_CF', 'CUMPLE_CON_NO3', 'CUMPLE_CON_AS', 'CUMPLE_CON_CD',\n",
              "       'CUMPLE_CON_CR', 'CUMPLE_CON_HG', 'CUMPLE_CON_PB', 'CUMPLE_CON_MN',\n",
              "       'CUMPLE_CON_FE'],\n",
              "      dtype='object')"
            ]
          },
          "metadata": {},
          "execution_count": 77
        }
      ]
    },
    {
      "cell_type": "code",
      "source": [
        "# \n",
        "ubicacion = ['ESTADO','MUNICIPIO']\n",
        "\n",
        "categoricas = ['CALIDAD_ALC',\n",
        "                'CALIDAD_CONDUC',\n",
        "                'CALIDAD_SDT_ra',\n",
        "                'CALIDAD_SDT_salin',\n",
        "                'CALIDAD_FLUO',\n",
        "                'CALIDAD_DUR',\n",
        "                'CALIDAD_COLI_FEC',\n",
        "                'CALIDAD_N_NO3',\n",
        "                'CALIDAD_AS',\n",
        "                'CALIDAD_CD',\n",
        "                'CALIDAD_CR',\n",
        "                'CALIDAD_HG',\n",
        "                'CALIDAD_PB',\n",
        "                'CALIDAD_MN',\n",
        "                'CALIDAD_FE']\n",
        "\n",
        "mediciones = ['ALC_mg/L', 'CONDUCT_mS/cm',\n",
        "              'SDT_M_mg/L', 'FLUORUROS_mg/L',\n",
        "              'DUR_mg/L', 'COLI_FEC_NMP/100_mL',\n",
        "              'N_NO3_mg/L', 'AS_TOT_mg/L',\n",
        "              'CD_TOT_mg/L', 'CR_TOT_mg/L',\n",
        "              'HG_TOT_mg/L', 'PB_TOT_mg/L', \n",
        "              'MN_TOT_mg/L', 'FE_TOT_mg/L',]\n",
        "\n",
        "coordenadas = ['LATITUD','LONGITUD']\n",
        "\n",
        "binarias = ['CUMPLE_CON_ALC', 'CUMPLE_CON_COND', 'CUMPLE_CON_SDT_ra',\n",
        "            'CUMPLE_CON_SDT_salin', 'CUMPLE_CON_FLUO', 'CUMPLE_CON_DUR',\n",
        "            'CUMPLE_CON_CF', 'CUMPLE_CON_NO3', 'CUMPLE_CON_AS', 'CUMPLE_CON_CD',\n",
        "            'CUMPLE_CON_CR', 'CUMPLE_CON_HG', 'CUMPLE_CON_PB', 'CUMPLE_CON_MN',\n",
        "            'CUMPLE_CON_FE']\n",
        "\n",
        "calidad=['SEMAFORO']"
      ],
      "metadata": {
        "id": "GuVjPeoV-Z4g"
      },
      "execution_count": 78,
      "outputs": []
    },
    {
      "cell_type": "code",
      "source": [
        "df[ubicacion].value_counts()"
      ],
      "metadata": {
        "id": "W8KD7fff5Bxe",
        "colab": {
          "base_uri": "https://localhost:8080/"
        },
        "outputId": "6b091e5a-6eb6-4a30-8fdc-90d67e1d6da2"
      },
      "execution_count": 79,
      "outputs": [
        {
          "output_type": "execute_result",
          "data": {
            "text/plain": [
              "ESTADO                MUNICIPIO             \n",
              "BAJA CALIFORNIA SUR   LA PAZ                    27\n",
              "BAJA CALIFORNIA       ENSENADA                  26\n",
              "COAHUILA DE ZARAGOZA  PARRAS                    24\n",
              "SONORA                HERMOSILLO                17\n",
              "YUCATAN               MERIDA                    16\n",
              "                                                ..\n",
              "PUEBLA                SAN JOSE MIAHUATLAN        1\n",
              "COAHUILA DE ZARAGOZA  ARTEAGA                    1\n",
              "PUEBLA                CUAPIAXTLA DE MADERO       1\n",
              "                      CORONANGO                  1\n",
              "OAXACA                SAN LORENZO CACAOTEPEC     1\n",
              "Length: 462, dtype: int64"
            ]
          },
          "metadata": {},
          "execution_count": 79
        }
      ]
    },
    {
      "cell_type": "code",
      "source": [
        "df[ubicacion].describe()"
      ],
      "metadata": {
        "colab": {
          "base_uri": "https://localhost:8080/",
          "height": 175
        },
        "id": "Z1l1ZbH_i8rk",
        "outputId": "819e302c-9a01-46d1-c305-f68d2a72ec57"
      },
      "execution_count": 80,
      "outputs": [
        {
          "output_type": "execute_result",
          "data": {
            "text/plain": [
              "         ESTADO MUNICIPIO\n",
              "count      1068      1068\n",
              "unique       32       452\n",
              "top     DURANGO    LA PAZ\n",
              "freq        121        27"
            ],
            "text/html": [
              "\n",
              "  <div id=\"df-20629ba1-9b2b-448f-b1ca-fde4c1f41659\">\n",
              "    <div class=\"colab-df-container\">\n",
              "      <div>\n",
              "<style scoped>\n",
              "    .dataframe tbody tr th:only-of-type {\n",
              "        vertical-align: middle;\n",
              "    }\n",
              "\n",
              "    .dataframe tbody tr th {\n",
              "        vertical-align: top;\n",
              "    }\n",
              "\n",
              "    .dataframe thead th {\n",
              "        text-align: right;\n",
              "    }\n",
              "</style>\n",
              "<table border=\"1\" class=\"dataframe\">\n",
              "  <thead>\n",
              "    <tr style=\"text-align: right;\">\n",
              "      <th></th>\n",
              "      <th>ESTADO</th>\n",
              "      <th>MUNICIPIO</th>\n",
              "    </tr>\n",
              "  </thead>\n",
              "  <tbody>\n",
              "    <tr>\n",
              "      <th>count</th>\n",
              "      <td>1068</td>\n",
              "      <td>1068</td>\n",
              "    </tr>\n",
              "    <tr>\n",
              "      <th>unique</th>\n",
              "      <td>32</td>\n",
              "      <td>452</td>\n",
              "    </tr>\n",
              "    <tr>\n",
              "      <th>top</th>\n",
              "      <td>DURANGO</td>\n",
              "      <td>LA PAZ</td>\n",
              "    </tr>\n",
              "    <tr>\n",
              "      <th>freq</th>\n",
              "      <td>121</td>\n",
              "      <td>27</td>\n",
              "    </tr>\n",
              "  </tbody>\n",
              "</table>\n",
              "</div>\n",
              "      <button class=\"colab-df-convert\" onclick=\"convertToInteractive('df-20629ba1-9b2b-448f-b1ca-fde4c1f41659')\"\n",
              "              title=\"Convert this dataframe to an interactive table.\"\n",
              "              style=\"display:none;\">\n",
              "        \n",
              "  <svg xmlns=\"http://www.w3.org/2000/svg\" height=\"24px\"viewBox=\"0 0 24 24\"\n",
              "       width=\"24px\">\n",
              "    <path d=\"M0 0h24v24H0V0z\" fill=\"none\"/>\n",
              "    <path d=\"M18.56 5.44l.94 2.06.94-2.06 2.06-.94-2.06-.94-.94-2.06-.94 2.06-2.06.94zm-11 1L8.5 8.5l.94-2.06 2.06-.94-2.06-.94L8.5 2.5l-.94 2.06-2.06.94zm10 10l.94 2.06.94-2.06 2.06-.94-2.06-.94-.94-2.06-.94 2.06-2.06.94z\"/><path d=\"M17.41 7.96l-1.37-1.37c-.4-.4-.92-.59-1.43-.59-.52 0-1.04.2-1.43.59L10.3 9.45l-7.72 7.72c-.78.78-.78 2.05 0 2.83L4 21.41c.39.39.9.59 1.41.59.51 0 1.02-.2 1.41-.59l7.78-7.78 2.81-2.81c.8-.78.8-2.07 0-2.86zM5.41 20L4 18.59l7.72-7.72 1.47 1.35L5.41 20z\"/>\n",
              "  </svg>\n",
              "      </button>\n",
              "      \n",
              "  <style>\n",
              "    .colab-df-container {\n",
              "      display:flex;\n",
              "      flex-wrap:wrap;\n",
              "      gap: 12px;\n",
              "    }\n",
              "\n",
              "    .colab-df-convert {\n",
              "      background-color: #E8F0FE;\n",
              "      border: none;\n",
              "      border-radius: 50%;\n",
              "      cursor: pointer;\n",
              "      display: none;\n",
              "      fill: #1967D2;\n",
              "      height: 32px;\n",
              "      padding: 0 0 0 0;\n",
              "      width: 32px;\n",
              "    }\n",
              "\n",
              "    .colab-df-convert:hover {\n",
              "      background-color: #E2EBFA;\n",
              "      box-shadow: 0px 1px 2px rgba(60, 64, 67, 0.3), 0px 1px 3px 1px rgba(60, 64, 67, 0.15);\n",
              "      fill: #174EA6;\n",
              "    }\n",
              "\n",
              "    [theme=dark] .colab-df-convert {\n",
              "      background-color: #3B4455;\n",
              "      fill: #D2E3FC;\n",
              "    }\n",
              "\n",
              "    [theme=dark] .colab-df-convert:hover {\n",
              "      background-color: #434B5C;\n",
              "      box-shadow: 0px 1px 3px 1px rgba(0, 0, 0, 0.15);\n",
              "      filter: drop-shadow(0px 1px 2px rgba(0, 0, 0, 0.3));\n",
              "      fill: #FFFFFF;\n",
              "    }\n",
              "  </style>\n",
              "\n",
              "      <script>\n",
              "        const buttonEl =\n",
              "          document.querySelector('#df-20629ba1-9b2b-448f-b1ca-fde4c1f41659 button.colab-df-convert');\n",
              "        buttonEl.style.display =\n",
              "          google.colab.kernel.accessAllowed ? 'block' : 'none';\n",
              "\n",
              "        async function convertToInteractive(key) {\n",
              "          const element = document.querySelector('#df-20629ba1-9b2b-448f-b1ca-fde4c1f41659');\n",
              "          const dataTable =\n",
              "            await google.colab.kernel.invokeFunction('convertToInteractive',\n",
              "                                                     [key], {});\n",
              "          if (!dataTable) return;\n",
              "\n",
              "          const docLinkHtml = 'Like what you see? Visit the ' +\n",
              "            '<a target=\"_blank\" href=https://colab.research.google.com/notebooks/data_table.ipynb>data table notebook</a>'\n",
              "            + ' to learn more about interactive tables.';\n",
              "          element.innerHTML = '';\n",
              "          dataTable['output_type'] = 'display_data';\n",
              "          await google.colab.output.renderOutput(dataTable, element);\n",
              "          const docLink = document.createElement('div');\n",
              "          docLink.innerHTML = docLinkHtml;\n",
              "          element.appendChild(docLink);\n",
              "        }\n",
              "      </script>\n",
              "    </div>\n",
              "  </div>\n",
              "  "
            ]
          },
          "metadata": {},
          "execution_count": 80
        }
      ]
    },
    {
      "cell_type": "code",
      "source": [
        "df[categoricas].describe()"
      ],
      "metadata": {
        "colab": {
          "base_uri": "https://localhost:8080/",
          "height": 256
        },
        "id": "IctLNPQkjhGC",
        "outputId": "a6d0b9cf-7187-4c8b-e712-89f8f360320d"
      },
      "execution_count": 81,
      "outputs": [
        {
          "output_type": "execute_result",
          "data": {
            "text/plain": [
              "       CALIDAD_ALC         CALIDAD_CONDUC        CALIDAD_SDT_ra  \\\n",
              "count         1064                   1062                  1066   \n",
              "unique           4                      5                     5   \n",
              "top           Alta  Permisible para riego  Excelente para riego   \n",
              "freq           794                    460                   491   \n",
              "\n",
              "       CALIDAD_SDT_salin CALIDAD_FLUO     CALIDAD_DUR     CALIDAD_COLI_FEC  \\\n",
              "count               1066         1068            1067                 1068   \n",
              "unique                 4            4               4                    5   \n",
              "top      Potable - Dulce         Baja  Potable - Dura  Potable - Excelente   \n",
              "freq                 834          434             577                  739   \n",
              "\n",
              "              CALIDAD_N_NO3           CALIDAD_AS           CALIDAD_CD  \\\n",
              "count                  1067                 1068                 1068   \n",
              "unique                    3                    3                    2   \n",
              "top     Potable - Excelente  Potable - Excelente  Potable - Excelente   \n",
              "freq                    788                  816                 1066   \n",
              "\n",
              "                 CALIDAD_CR           CALIDAD_HG           CALIDAD_PB  \\\n",
              "count                  1068                 1068                 1068   \n",
              "unique                    2                    2                    2   \n",
              "top     Potable - Excelente  Potable - Excelente  Potable - Excelente   \n",
              "freq                   1053                 1067                 1056   \n",
              "\n",
              "                 CALIDAD_MN           CALIDAD_FE  \n",
              "count                  1068                 1068  \n",
              "unique                    3                    2  \n",
              "top     Potable - Excelente  Potable - Excelente  \n",
              "freq                    982                  932  "
            ],
            "text/html": [
              "\n",
              "  <div id=\"df-3fc78fde-5dc1-4285-bfc0-4fea0d5eb003\">\n",
              "    <div class=\"colab-df-container\">\n",
              "      <div>\n",
              "<style scoped>\n",
              "    .dataframe tbody tr th:only-of-type {\n",
              "        vertical-align: middle;\n",
              "    }\n",
              "\n",
              "    .dataframe tbody tr th {\n",
              "        vertical-align: top;\n",
              "    }\n",
              "\n",
              "    .dataframe thead th {\n",
              "        text-align: right;\n",
              "    }\n",
              "</style>\n",
              "<table border=\"1\" class=\"dataframe\">\n",
              "  <thead>\n",
              "    <tr style=\"text-align: right;\">\n",
              "      <th></th>\n",
              "      <th>CALIDAD_ALC</th>\n",
              "      <th>CALIDAD_CONDUC</th>\n",
              "      <th>CALIDAD_SDT_ra</th>\n",
              "      <th>CALIDAD_SDT_salin</th>\n",
              "      <th>CALIDAD_FLUO</th>\n",
              "      <th>CALIDAD_DUR</th>\n",
              "      <th>CALIDAD_COLI_FEC</th>\n",
              "      <th>CALIDAD_N_NO3</th>\n",
              "      <th>CALIDAD_AS</th>\n",
              "      <th>CALIDAD_CD</th>\n",
              "      <th>CALIDAD_CR</th>\n",
              "      <th>CALIDAD_HG</th>\n",
              "      <th>CALIDAD_PB</th>\n",
              "      <th>CALIDAD_MN</th>\n",
              "      <th>CALIDAD_FE</th>\n",
              "    </tr>\n",
              "  </thead>\n",
              "  <tbody>\n",
              "    <tr>\n",
              "      <th>count</th>\n",
              "      <td>1064</td>\n",
              "      <td>1062</td>\n",
              "      <td>1066</td>\n",
              "      <td>1066</td>\n",
              "      <td>1068</td>\n",
              "      <td>1067</td>\n",
              "      <td>1068</td>\n",
              "      <td>1067</td>\n",
              "      <td>1068</td>\n",
              "      <td>1068</td>\n",
              "      <td>1068</td>\n",
              "      <td>1068</td>\n",
              "      <td>1068</td>\n",
              "      <td>1068</td>\n",
              "      <td>1068</td>\n",
              "    </tr>\n",
              "    <tr>\n",
              "      <th>unique</th>\n",
              "      <td>4</td>\n",
              "      <td>5</td>\n",
              "      <td>5</td>\n",
              "      <td>4</td>\n",
              "      <td>4</td>\n",
              "      <td>4</td>\n",
              "      <td>5</td>\n",
              "      <td>3</td>\n",
              "      <td>3</td>\n",
              "      <td>2</td>\n",
              "      <td>2</td>\n",
              "      <td>2</td>\n",
              "      <td>2</td>\n",
              "      <td>3</td>\n",
              "      <td>2</td>\n",
              "    </tr>\n",
              "    <tr>\n",
              "      <th>top</th>\n",
              "      <td>Alta</td>\n",
              "      <td>Permisible para riego</td>\n",
              "      <td>Excelente para riego</td>\n",
              "      <td>Potable - Dulce</td>\n",
              "      <td>Baja</td>\n",
              "      <td>Potable - Dura</td>\n",
              "      <td>Potable - Excelente</td>\n",
              "      <td>Potable - Excelente</td>\n",
              "      <td>Potable - Excelente</td>\n",
              "      <td>Potable - Excelente</td>\n",
              "      <td>Potable - Excelente</td>\n",
              "      <td>Potable - Excelente</td>\n",
              "      <td>Potable - Excelente</td>\n",
              "      <td>Potable - Excelente</td>\n",
              "      <td>Potable - Excelente</td>\n",
              "    </tr>\n",
              "    <tr>\n",
              "      <th>freq</th>\n",
              "      <td>794</td>\n",
              "      <td>460</td>\n",
              "      <td>491</td>\n",
              "      <td>834</td>\n",
              "      <td>434</td>\n",
              "      <td>577</td>\n",
              "      <td>739</td>\n",
              "      <td>788</td>\n",
              "      <td>816</td>\n",
              "      <td>1066</td>\n",
              "      <td>1053</td>\n",
              "      <td>1067</td>\n",
              "      <td>1056</td>\n",
              "      <td>982</td>\n",
              "      <td>932</td>\n",
              "    </tr>\n",
              "  </tbody>\n",
              "</table>\n",
              "</div>\n",
              "      <button class=\"colab-df-convert\" onclick=\"convertToInteractive('df-3fc78fde-5dc1-4285-bfc0-4fea0d5eb003')\"\n",
              "              title=\"Convert this dataframe to an interactive table.\"\n",
              "              style=\"display:none;\">\n",
              "        \n",
              "  <svg xmlns=\"http://www.w3.org/2000/svg\" height=\"24px\"viewBox=\"0 0 24 24\"\n",
              "       width=\"24px\">\n",
              "    <path d=\"M0 0h24v24H0V0z\" fill=\"none\"/>\n",
              "    <path d=\"M18.56 5.44l.94 2.06.94-2.06 2.06-.94-2.06-.94-.94-2.06-.94 2.06-2.06.94zm-11 1L8.5 8.5l.94-2.06 2.06-.94-2.06-.94L8.5 2.5l-.94 2.06-2.06.94zm10 10l.94 2.06.94-2.06 2.06-.94-2.06-.94-.94-2.06-.94 2.06-2.06.94z\"/><path d=\"M17.41 7.96l-1.37-1.37c-.4-.4-.92-.59-1.43-.59-.52 0-1.04.2-1.43.59L10.3 9.45l-7.72 7.72c-.78.78-.78 2.05 0 2.83L4 21.41c.39.39.9.59 1.41.59.51 0 1.02-.2 1.41-.59l7.78-7.78 2.81-2.81c.8-.78.8-2.07 0-2.86zM5.41 20L4 18.59l7.72-7.72 1.47 1.35L5.41 20z\"/>\n",
              "  </svg>\n",
              "      </button>\n",
              "      \n",
              "  <style>\n",
              "    .colab-df-container {\n",
              "      display:flex;\n",
              "      flex-wrap:wrap;\n",
              "      gap: 12px;\n",
              "    }\n",
              "\n",
              "    .colab-df-convert {\n",
              "      background-color: #E8F0FE;\n",
              "      border: none;\n",
              "      border-radius: 50%;\n",
              "      cursor: pointer;\n",
              "      display: none;\n",
              "      fill: #1967D2;\n",
              "      height: 32px;\n",
              "      padding: 0 0 0 0;\n",
              "      width: 32px;\n",
              "    }\n",
              "\n",
              "    .colab-df-convert:hover {\n",
              "      background-color: #E2EBFA;\n",
              "      box-shadow: 0px 1px 2px rgba(60, 64, 67, 0.3), 0px 1px 3px 1px rgba(60, 64, 67, 0.15);\n",
              "      fill: #174EA6;\n",
              "    }\n",
              "\n",
              "    [theme=dark] .colab-df-convert {\n",
              "      background-color: #3B4455;\n",
              "      fill: #D2E3FC;\n",
              "    }\n",
              "\n",
              "    [theme=dark] .colab-df-convert:hover {\n",
              "      background-color: #434B5C;\n",
              "      box-shadow: 0px 1px 3px 1px rgba(0, 0, 0, 0.15);\n",
              "      filter: drop-shadow(0px 1px 2px rgba(0, 0, 0, 0.3));\n",
              "      fill: #FFFFFF;\n",
              "    }\n",
              "  </style>\n",
              "\n",
              "      <script>\n",
              "        const buttonEl =\n",
              "          document.querySelector('#df-3fc78fde-5dc1-4285-bfc0-4fea0d5eb003 button.colab-df-convert');\n",
              "        buttonEl.style.display =\n",
              "          google.colab.kernel.accessAllowed ? 'block' : 'none';\n",
              "\n",
              "        async function convertToInteractive(key) {\n",
              "          const element = document.querySelector('#df-3fc78fde-5dc1-4285-bfc0-4fea0d5eb003');\n",
              "          const dataTable =\n",
              "            await google.colab.kernel.invokeFunction('convertToInteractive',\n",
              "                                                     [key], {});\n",
              "          if (!dataTable) return;\n",
              "\n",
              "          const docLinkHtml = 'Like what you see? Visit the ' +\n",
              "            '<a target=\"_blank\" href=https://colab.research.google.com/notebooks/data_table.ipynb>data table notebook</a>'\n",
              "            + ' to learn more about interactive tables.';\n",
              "          element.innerHTML = '';\n",
              "          dataTable['output_type'] = 'display_data';\n",
              "          await google.colab.output.renderOutput(dataTable, element);\n",
              "          const docLink = document.createElement('div');\n",
              "          docLink.innerHTML = docLinkHtml;\n",
              "          element.appendChild(docLink);\n",
              "        }\n",
              "      </script>\n",
              "    </div>\n",
              "  </div>\n",
              "  "
            ]
          },
          "metadata": {},
          "execution_count": 81
        }
      ]
    },
    {
      "cell_type": "code",
      "source": [
        "df[categoricas].isnull().sum()"
      ],
      "metadata": {
        "colab": {
          "base_uri": "https://localhost:8080/"
        },
        "id": "V2Fz_LRBjvaB",
        "outputId": "720bb30b-555a-4476-d7d3-3d50e86cde63"
      },
      "execution_count": 82,
      "outputs": [
        {
          "output_type": "execute_result",
          "data": {
            "text/plain": [
              "CALIDAD_ALC          4\n",
              "CALIDAD_CONDUC       6\n",
              "CALIDAD_SDT_ra       2\n",
              "CALIDAD_SDT_salin    2\n",
              "CALIDAD_FLUO         0\n",
              "CALIDAD_DUR          1\n",
              "CALIDAD_COLI_FEC     0\n",
              "CALIDAD_N_NO3        1\n",
              "CALIDAD_AS           0\n",
              "CALIDAD_CD           0\n",
              "CALIDAD_CR           0\n",
              "CALIDAD_HG           0\n",
              "CALIDAD_PB           0\n",
              "CALIDAD_MN           0\n",
              "CALIDAD_FE           0\n",
              "dtype: int64"
            ]
          },
          "metadata": {},
          "execution_count": 82
        }
      ]
    },
    {
      "cell_type": "code",
      "source": [
        "df1=df[df['CALIDAD_ALC'].isnull()]\n",
        "print(df1[calidad],df1[binarias])"
      ],
      "metadata": {
        "colab": {
          "base_uri": "https://localhost:8080/"
        },
        "id": "r5MAXOj_j4H1",
        "outputId": "5358d70b-d1ac-4ec2-e6ba-b9d8bf8acd69"
      },
      "execution_count": 83,
      "outputs": [
        {
          "output_type": "stream",
          "name": "stdout",
          "text": [
            "    SEMAFORO\n",
            "406     Rojo\n",
            "407    Verde\n",
            "722    Verde\n",
            "861     Rojo     CUMPLE_CON_ALC CUMPLE_CON_COND CUMPLE_CON_SDT_ra CUMPLE_CON_SDT_salin  \\\n",
            "406             ND              SI                SI                   SI   \n",
            "407             ND              SI                SI                   SI   \n",
            "722             ND              SI                SI                   SI   \n",
            "861             ND              SI                SI                   SI   \n",
            "\n",
            "    CUMPLE_CON_FLUO CUMPLE_CON_DUR CUMPLE_CON_CF CUMPLE_CON_NO3 CUMPLE_CON_AS  \\\n",
            "406              SI             SI            SI             NO            SI   \n",
            "407              SI             SI            SI             SI            SI   \n",
            "722              SI             SI            SI             SI            SI   \n",
            "861              NO             SI            SI             SI            SI   \n",
            "\n",
            "    CUMPLE_CON_CD CUMPLE_CON_CR CUMPLE_CON_HG CUMPLE_CON_PB CUMPLE_CON_MN  \\\n",
            "406            SI            SI            SI            SI            SI   \n",
            "407            SI            SI            SI            SI            SI   \n",
            "722            SI            SI            SI            SI            SI   \n",
            "861            SI            SI            SI            SI            SI   \n",
            "\n",
            "    CUMPLE_CON_FE  \n",
            "406            SI  \n",
            "407            SI  \n",
            "722            SI  \n",
            "861            SI  \n"
          ]
        }
      ]
    },
    {
      "cell_type": "code",
      "source": [
        "df1=df[df['CALIDAD_CONDUC'].isnull()]\n",
        "print(df1[calidad],df1[binarias])"
      ],
      "metadata": {
        "colab": {
          "base_uri": "https://localhost:8080/"
        },
        "id": "HjKlnH4PmJMI",
        "outputId": "5f0f2e58-8085-44f5-f797-5bf99ec9f86d"
      },
      "execution_count": 84,
      "outputs": [
        {
          "output_type": "stream",
          "name": "stdout",
          "text": [
            "     SEMAFORO\n",
            "18       Rojo\n",
            "281     Verde\n",
            "293      Rojo\n",
            "616  Amarillo\n",
            "891     Verde\n",
            "906     Verde     CUMPLE_CON_ALC CUMPLE_CON_COND CUMPLE_CON_SDT_ra CUMPLE_CON_SDT_salin  \\\n",
            "18              SI              ND                SI                   SI   \n",
            "281             SI              ND                SI                   SI   \n",
            "293             NO              ND                SI                   SI   \n",
            "616             NO              ND                NO                   NO   \n",
            "891             SI              ND                SI                   SI   \n",
            "906             SI              ND                SI                   SI   \n",
            "\n",
            "    CUMPLE_CON_FLUO CUMPLE_CON_DUR CUMPLE_CON_CF CUMPLE_CON_NO3 CUMPLE_CON_AS  \\\n",
            "18               SI             SI            SI             SI            NO   \n",
            "281              SI             SI            SI             SI            SI   \n",
            "293              NO             SI            SI             SI            NO   \n",
            "616              SI             NO            SI             SI            SI   \n",
            "891              SI             SI            SI             SI            SI   \n",
            "906              SI             SI            SI             SI            SI   \n",
            "\n",
            "    CUMPLE_CON_CD CUMPLE_CON_CR CUMPLE_CON_HG CUMPLE_CON_PB CUMPLE_CON_MN  \\\n",
            "18             SI            SI            SI            SI            SI   \n",
            "281            SI            SI            SI            SI            SI   \n",
            "293            SI            SI            SI            SI            SI   \n",
            "616            SI            SI            SI            SI            NO   \n",
            "891            SI            SI            SI            SI            SI   \n",
            "906            SI            SI            SI            SI            SI   \n",
            "\n",
            "    CUMPLE_CON_FE  \n",
            "18             SI  \n",
            "281            SI  \n",
            "293            SI  \n",
            "616            NO  \n",
            "891            SI  \n",
            "906            SI  \n"
          ]
        }
      ]
    },
    {
      "cell_type": "code",
      "source": [
        "df1=df[df['CALIDAD_SDT_ra'].isnull()]\n",
        "print(df1[calidad],df1[binarias])"
      ],
      "metadata": {
        "colab": {
          "base_uri": "https://localhost:8080/"
        },
        "id": "1kgIr23pkX8F",
        "outputId": "0baaef00-b8c9-43d6-bbe5-fdfcdad8e3d5"
      },
      "execution_count": 85,
      "outputs": [
        {
          "output_type": "stream",
          "name": "stdout",
          "text": [
            "     SEMAFORO\n",
            "175      Rojo\n",
            "677  Amarillo     CUMPLE_CON_ALC CUMPLE_CON_COND CUMPLE_CON_SDT_ra CUMPLE_CON_SDT_salin  \\\n",
            "175             SI              SI                ND                   ND   \n",
            "677             SI              SI                ND                   ND   \n",
            "\n",
            "    CUMPLE_CON_FLUO CUMPLE_CON_DUR CUMPLE_CON_CF CUMPLE_CON_NO3 CUMPLE_CON_AS  \\\n",
            "175              SI             SI            SI             NO            SI   \n",
            "677              SI             SI            SI             SI            SI   \n",
            "\n",
            "    CUMPLE_CON_CD CUMPLE_CON_CR CUMPLE_CON_HG CUMPLE_CON_PB CUMPLE_CON_MN  \\\n",
            "175            SI            SI            SI            SI            SI   \n",
            "677            SI            SI            SI            SI            SI   \n",
            "\n",
            "    CUMPLE_CON_FE  \n",
            "175            SI  \n",
            "677            NO  \n"
          ]
        }
      ]
    },
    {
      "cell_type": "code",
      "source": [
        "df1=df[df['CALIDAD_SDT_salin'].isnull()]\n",
        "print(df1[calidad],df1[binarias])"
      ],
      "metadata": {
        "colab": {
          "base_uri": "https://localhost:8080/"
        },
        "id": "VxCRnuhbl1eW",
        "outputId": "e89943c3-8649-4168-ccf3-9e61ee40e1f6"
      },
      "execution_count": 86,
      "outputs": [
        {
          "output_type": "stream",
          "name": "stdout",
          "text": [
            "     SEMAFORO\n",
            "175      Rojo\n",
            "677  Amarillo     CUMPLE_CON_ALC CUMPLE_CON_COND CUMPLE_CON_SDT_ra CUMPLE_CON_SDT_salin  \\\n",
            "175             SI              SI                ND                   ND   \n",
            "677             SI              SI                ND                   ND   \n",
            "\n",
            "    CUMPLE_CON_FLUO CUMPLE_CON_DUR CUMPLE_CON_CF CUMPLE_CON_NO3 CUMPLE_CON_AS  \\\n",
            "175              SI             SI            SI             NO            SI   \n",
            "677              SI             SI            SI             SI            SI   \n",
            "\n",
            "    CUMPLE_CON_CD CUMPLE_CON_CR CUMPLE_CON_HG CUMPLE_CON_PB CUMPLE_CON_MN  \\\n",
            "175            SI            SI            SI            SI            SI   \n",
            "677            SI            SI            SI            SI            SI   \n",
            "\n",
            "    CUMPLE_CON_FE  \n",
            "175            SI  \n",
            "677            NO  \n"
          ]
        }
      ]
    },
    {
      "cell_type": "code",
      "source": [
        "df1=df[df['CALIDAD_DUR'].isnull()]\n",
        "print(df1[calidad],df1[binarias])"
      ],
      "metadata": {
        "colab": {
          "base_uri": "https://localhost:8080/"
        },
        "id": "8kteR5qLnKKb",
        "outputId": "b16b1761-5802-4dbc-d414-e03a40408a3e"
      },
      "execution_count": 87,
      "outputs": [
        {
          "output_type": "stream",
          "name": "stdout",
          "text": [
            "    SEMAFORO\n",
            "635    Verde     CUMPLE_CON_ALC CUMPLE_CON_COND CUMPLE_CON_SDT_ra CUMPLE_CON_SDT_salin  \\\n",
            "635             SI              SI                SI                   SI   \n",
            "\n",
            "    CUMPLE_CON_FLUO CUMPLE_CON_DUR CUMPLE_CON_CF CUMPLE_CON_NO3 CUMPLE_CON_AS  \\\n",
            "635              SI             ND            SI             SI            SI   \n",
            "\n",
            "    CUMPLE_CON_CD CUMPLE_CON_CR CUMPLE_CON_HG CUMPLE_CON_PB CUMPLE_CON_MN  \\\n",
            "635            SI            SI            SI            SI            SI   \n",
            "\n",
            "    CUMPLE_CON_FE  \n",
            "635            SI  \n"
          ]
        }
      ]
    },
    {
      "cell_type": "code",
      "source": [
        "df1=df[df['CALIDAD_N_NO3'].isnull()]\n",
        "print(df1[calidad],df1[binarias])"
      ],
      "metadata": {
        "colab": {
          "base_uri": "https://localhost:8080/"
        },
        "id": "2arl9pwxnT8n",
        "outputId": "0d548c1b-518c-4189-d6bc-6b0bbb8dd6f6"
      },
      "execution_count": 88,
      "outputs": [
        {
          "output_type": "stream",
          "name": "stdout",
          "text": [
            "    SEMAFORO\n",
            "234    Verde     CUMPLE_CON_ALC CUMPLE_CON_COND CUMPLE_CON_SDT_ra CUMPLE_CON_SDT_salin  \\\n",
            "234             SI              SI                SI                   SI   \n",
            "\n",
            "    CUMPLE_CON_FLUO CUMPLE_CON_DUR CUMPLE_CON_CF CUMPLE_CON_NO3 CUMPLE_CON_AS  \\\n",
            "234              SI             SI            SI             ND            SI   \n",
            "\n",
            "    CUMPLE_CON_CD CUMPLE_CON_CR CUMPLE_CON_HG CUMPLE_CON_PB CUMPLE_CON_MN  \\\n",
            "234            SI            SI            SI            SI            SI   \n",
            "\n",
            "    CUMPLE_CON_FE  \n",
            "234            SI  \n"
          ]
        }
      ]
    },
    {
      "cell_type": "code",
      "source": [
        "df[mediciones].describe()"
      ],
      "metadata": {
        "colab": {
          "base_uri": "https://localhost:8080/",
          "height": 300
        },
        "id": "2DT7qnQEno0x",
        "outputId": "ef09ebc4-1b21-4c0d-9eeb-256095124746"
      },
      "execution_count": 89,
      "outputs": [
        {
          "output_type": "execute_result",
          "data": {
            "text/plain": [
              "          ALC_mg/L  CONDUCT_mS/cm\n",
              "count  1064.000000    1062.000000\n",
              "mean    235.633759    1138.953013\n",
              "std     116.874291    1245.563674\n",
              "min      26.640000      50.400000\n",
              "25%     164.000000     501.750000\n",
              "50%     215.527500     815.000000\n",
              "75%     292.710000    1322.750000\n",
              "max    1650.000000   18577.000000"
            ],
            "text/html": [
              "\n",
              "  <div id=\"df-81b5a432-368a-4e1b-8708-9dfe24369b51\">\n",
              "    <div class=\"colab-df-container\">\n",
              "      <div>\n",
              "<style scoped>\n",
              "    .dataframe tbody tr th:only-of-type {\n",
              "        vertical-align: middle;\n",
              "    }\n",
              "\n",
              "    .dataframe tbody tr th {\n",
              "        vertical-align: top;\n",
              "    }\n",
              "\n",
              "    .dataframe thead th {\n",
              "        text-align: right;\n",
              "    }\n",
              "</style>\n",
              "<table border=\"1\" class=\"dataframe\">\n",
              "  <thead>\n",
              "    <tr style=\"text-align: right;\">\n",
              "      <th></th>\n",
              "      <th>ALC_mg/L</th>\n",
              "      <th>CONDUCT_mS/cm</th>\n",
              "    </tr>\n",
              "  </thead>\n",
              "  <tbody>\n",
              "    <tr>\n",
              "      <th>count</th>\n",
              "      <td>1064.000000</td>\n",
              "      <td>1062.000000</td>\n",
              "    </tr>\n",
              "    <tr>\n",
              "      <th>mean</th>\n",
              "      <td>235.633759</td>\n",
              "      <td>1138.953013</td>\n",
              "    </tr>\n",
              "    <tr>\n",
              "      <th>std</th>\n",
              "      <td>116.874291</td>\n",
              "      <td>1245.563674</td>\n",
              "    </tr>\n",
              "    <tr>\n",
              "      <th>min</th>\n",
              "      <td>26.640000</td>\n",
              "      <td>50.400000</td>\n",
              "    </tr>\n",
              "    <tr>\n",
              "      <th>25%</th>\n",
              "      <td>164.000000</td>\n",
              "      <td>501.750000</td>\n",
              "    </tr>\n",
              "    <tr>\n",
              "      <th>50%</th>\n",
              "      <td>215.527500</td>\n",
              "      <td>815.000000</td>\n",
              "    </tr>\n",
              "    <tr>\n",
              "      <th>75%</th>\n",
              "      <td>292.710000</td>\n",
              "      <td>1322.750000</td>\n",
              "    </tr>\n",
              "    <tr>\n",
              "      <th>max</th>\n",
              "      <td>1650.000000</td>\n",
              "      <td>18577.000000</td>\n",
              "    </tr>\n",
              "  </tbody>\n",
              "</table>\n",
              "</div>\n",
              "      <button class=\"colab-df-convert\" onclick=\"convertToInteractive('df-81b5a432-368a-4e1b-8708-9dfe24369b51')\"\n",
              "              title=\"Convert this dataframe to an interactive table.\"\n",
              "              style=\"display:none;\">\n",
              "        \n",
              "  <svg xmlns=\"http://www.w3.org/2000/svg\" height=\"24px\"viewBox=\"0 0 24 24\"\n",
              "       width=\"24px\">\n",
              "    <path d=\"M0 0h24v24H0V0z\" fill=\"none\"/>\n",
              "    <path d=\"M18.56 5.44l.94 2.06.94-2.06 2.06-.94-2.06-.94-.94-2.06-.94 2.06-2.06.94zm-11 1L8.5 8.5l.94-2.06 2.06-.94-2.06-.94L8.5 2.5l-.94 2.06-2.06.94zm10 10l.94 2.06.94-2.06 2.06-.94-2.06-.94-.94-2.06-.94 2.06-2.06.94z\"/><path d=\"M17.41 7.96l-1.37-1.37c-.4-.4-.92-.59-1.43-.59-.52 0-1.04.2-1.43.59L10.3 9.45l-7.72 7.72c-.78.78-.78 2.05 0 2.83L4 21.41c.39.39.9.59 1.41.59.51 0 1.02-.2 1.41-.59l7.78-7.78 2.81-2.81c.8-.78.8-2.07 0-2.86zM5.41 20L4 18.59l7.72-7.72 1.47 1.35L5.41 20z\"/>\n",
              "  </svg>\n",
              "      </button>\n",
              "      \n",
              "  <style>\n",
              "    .colab-df-container {\n",
              "      display:flex;\n",
              "      flex-wrap:wrap;\n",
              "      gap: 12px;\n",
              "    }\n",
              "\n",
              "    .colab-df-convert {\n",
              "      background-color: #E8F0FE;\n",
              "      border: none;\n",
              "      border-radius: 50%;\n",
              "      cursor: pointer;\n",
              "      display: none;\n",
              "      fill: #1967D2;\n",
              "      height: 32px;\n",
              "      padding: 0 0 0 0;\n",
              "      width: 32px;\n",
              "    }\n",
              "\n",
              "    .colab-df-convert:hover {\n",
              "      background-color: #E2EBFA;\n",
              "      box-shadow: 0px 1px 2px rgba(60, 64, 67, 0.3), 0px 1px 3px 1px rgba(60, 64, 67, 0.15);\n",
              "      fill: #174EA6;\n",
              "    }\n",
              "\n",
              "    [theme=dark] .colab-df-convert {\n",
              "      background-color: #3B4455;\n",
              "      fill: #D2E3FC;\n",
              "    }\n",
              "\n",
              "    [theme=dark] .colab-df-convert:hover {\n",
              "      background-color: #434B5C;\n",
              "      box-shadow: 0px 1px 3px 1px rgba(0, 0, 0, 0.15);\n",
              "      filter: drop-shadow(0px 1px 2px rgba(0, 0, 0, 0.3));\n",
              "      fill: #FFFFFF;\n",
              "    }\n",
              "  </style>\n",
              "\n",
              "      <script>\n",
              "        const buttonEl =\n",
              "          document.querySelector('#df-81b5a432-368a-4e1b-8708-9dfe24369b51 button.colab-df-convert');\n",
              "        buttonEl.style.display =\n",
              "          google.colab.kernel.accessAllowed ? 'block' : 'none';\n",
              "\n",
              "        async function convertToInteractive(key) {\n",
              "          const element = document.querySelector('#df-81b5a432-368a-4e1b-8708-9dfe24369b51');\n",
              "          const dataTable =\n",
              "            await google.colab.kernel.invokeFunction('convertToInteractive',\n",
              "                                                     [key], {});\n",
              "          if (!dataTable) return;\n",
              "\n",
              "          const docLinkHtml = 'Like what you see? Visit the ' +\n",
              "            '<a target=\"_blank\" href=https://colab.research.google.com/notebooks/data_table.ipynb>data table notebook</a>'\n",
              "            + ' to learn more about interactive tables.';\n",
              "          element.innerHTML = '';\n",
              "          dataTable['output_type'] = 'display_data';\n",
              "          await google.colab.output.renderOutput(dataTable, element);\n",
              "          const docLink = document.createElement('div');\n",
              "          docLink.innerHTML = docLinkHtml;\n",
              "          element.appendChild(docLink);\n",
              "        }\n",
              "      </script>\n",
              "    </div>\n",
              "  </div>\n",
              "  "
            ]
          },
          "metadata": {},
          "execution_count": 89
        }
      ]
    },
    {
      "cell_type": "code",
      "source": [
        "mediciones = ['ALC_mg/L', 'CONDUCT_mS/cm',\n",
        "              'SDT_M_mg/L', 'FLUORUROS_mg/L',\n",
        "              'DUR_mg/L', 'COLI_FEC_NMP/100_mL',\n",
        "              'N_NO3_mg/L', 'AS_TOT_mg/L',\n",
        "              'CD_TOT_mg/L', 'CR_TOT_mg/L',\n",
        "              'HG_TOT_mg/L', 'PB_TOT_mg/L', \n",
        "              'MN_TOT_mg/L', 'FE_TOT_mg/L',]"
      ],
      "metadata": {
        "id": "_aGCnsCipbMB"
      },
      "execution_count": 90,
      "outputs": []
    },
    {
      "cell_type": "code",
      "source": [
        "df.columns"
      ],
      "metadata": {
        "id": "E0HB_KU7t8_r",
        "outputId": "27ee3e85-4027-4e4f-beca-54b1d988447a",
        "colab": {
          "base_uri": "https://localhost:8080/"
        }
      },
      "execution_count": 91,
      "outputs": [
        {
          "output_type": "execute_result",
          "data": {
            "text/plain": [
              "Index(['CLAVE', 'SITIO', 'ORGANISMO_DE_CUENCA', 'ESTADO', 'MUNICIPIO',\n",
              "       'ACUIFERO', 'SUBTIPO', 'LONGITUD', 'LATITUD', 'PERIODO', 'ALC_mg/L',\n",
              "       'CALIDAD_ALC', 'CONDUCT_mS/cm', 'CALIDAD_CONDUC', 'SDT_mg/L',\n",
              "       'SDT_M_mg/L', 'CALIDAD_SDT_ra', 'CALIDAD_SDT_salin', 'FLUORUROS_mg/L',\n",
              "       'CALIDAD_FLUO', 'DUR_mg/L', 'CALIDAD_DUR', 'COLI_FEC_NMP/100_mL',\n",
              "       'CALIDAD_COLI_FEC', 'N_NO3_mg/L', 'CALIDAD_N_NO3', 'AS_TOT_mg/L',\n",
              "       'CALIDAD_AS', 'CD_TOT_mg/L', 'CALIDAD_CD', 'CR_TOT_mg/L', 'CALIDAD_CR',\n",
              "       'HG_TOT_mg/L', 'CALIDAD_HG', 'PB_TOT_mg/L', 'CALIDAD_PB', 'MN_TOT_mg/L',\n",
              "       'CALIDAD_MN', 'FE_TOT_mg/L', 'CALIDAD_FE', 'SEMAFORO', 'CONTAMINANTES',\n",
              "       'CUMPLE_CON_ALC', 'CUMPLE_CON_COND', 'CUMPLE_CON_SDT_ra',\n",
              "       'CUMPLE_CON_SDT_salin', 'CUMPLE_CON_FLUO', 'CUMPLE_CON_DUR',\n",
              "       'CUMPLE_CON_CF', 'CUMPLE_CON_NO3', 'CUMPLE_CON_AS', 'CUMPLE_CON_CD',\n",
              "       'CUMPLE_CON_CR', 'CUMPLE_CON_HG', 'CUMPLE_CON_PB', 'CUMPLE_CON_MN',\n",
              "       'CUMPLE_CON_FE'],\n",
              "      dtype='object')"
            ]
          },
          "metadata": {},
          "execution_count": 91
        }
      ]
    },
    {
      "cell_type": "code",
      "source": [
        "# cambio de strin a numerico\n",
        "\n",
        "df.loc[df['SDT_M_mg/L'] == '<25' , 'SDT_M_mg/L']='24'\n",
        "\n",
        "#df.loc[df['Age'] == '0-17', 'Age'] = '17'\n",
        "\n",
        "#df['SDT_M_mg/L'] = df['SDT_M_mg/L'].map({'<25':'24'})\n",
        "\n",
        "#df.credit_risk = df.credit_risk.map({1:0, 0:1})"
      ],
      "metadata": {
        "id": "pdWYuIqashnD"
      },
      "execution_count": 101,
      "outputs": []
    },
    {
      "cell_type": "code",
      "source": [
        "df['SDT_M_mg/L'] = pd.to_numeric(df['SDT_M_mg/L'])\n",
        "\n",
        "#pd.to_numeric(s, errors='coerce')"
      ],
      "metadata": {
        "id": "VliwfhDlpr1G"
      },
      "execution_count": 102,
      "outputs": []
    },
    {
      "cell_type": "code",
      "source": [
        "df['SDT_M_mg/L'].isnull().sum()"
      ],
      "metadata": {
        "id": "IwYlRiFUvQHv",
        "outputId": "4bb74cfd-4e33-4333-de54-7a9377101052",
        "colab": {
          "base_uri": "https://localhost:8080/"
        }
      },
      "execution_count": 107,
      "outputs": [
        {
          "output_type": "execute_result",
          "data": {
            "text/plain": [
              "2"
            ]
          },
          "metadata": {},
          "execution_count": 107
        }
      ]
    },
    {
      "cell_type": "code",
      "source": [
        "\n",
        "# Imputamos la variable bore con la media\n",
        "df['SDT_M_mg/L'].fillna(df['SDT_M_mg/L'].median(), inplace=True)\n",
        "\n",
        "#simple = SimpleImputer().fit(df['SDT_M_mg/L'])\n",
        "#median = simple.transform(df['SDT_M_mg/L'])"
      ],
      "metadata": {
        "id": "A3cDCtnMp1zd"
      },
      "execution_count": 112,
      "outputs": []
    },
    {
      "cell_type": "code",
      "source": [
        "df['SDT_M_mg/L'].describe()"
      ],
      "metadata": {
        "id": "OCr6aPYaxaZ1",
        "outputId": "1e0e7414-7013-4d0b-d1bc-54ae33260109",
        "colab": {
          "base_uri": "https://localhost:8080/"
        }
      },
      "execution_count": 113,
      "outputs": [
        {
          "output_type": "execute_result",
          "data": {
            "text/plain": [
              "count     1068.000000\n",
              "mean       895.453249\n",
              "std       2748.991592\n",
              "min         24.000000\n",
              "25%        337.700000\n",
              "50%        550.400000\n",
              "75%        915.900000\n",
              "max      82170.000000\n",
              "Name: SDT_M_mg/L, dtype: float64"
            ]
          },
          "metadata": {},
          "execution_count": 113
        }
      ]
    },
    {
      "cell_type": "code",
      "source": [],
      "metadata": {
        "id": "8lJfCuWexqRq"
      },
      "execution_count": null,
      "outputs": []
    }
  ]
}