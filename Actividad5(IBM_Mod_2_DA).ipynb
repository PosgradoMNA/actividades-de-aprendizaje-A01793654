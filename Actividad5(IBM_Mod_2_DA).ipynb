{
  "nbformat": 4,
  "nbformat_minor": 0,
  "metadata": {
    "colab": {
      "provenance": [],
      "authorship_tag": "ABX9TyNBsnRgX8BlYdLaOJJ/3KVc",
      "include_colab_link": true
    },
    "kernelspec": {
      "name": "python3",
      "display_name": "Python 3"
    },
    "language_info": {
      "name": "python"
    }
  },
  "cells": [
    {
      "cell_type": "markdown",
      "metadata": {
        "id": "view-in-github",
        "colab_type": "text"
      },
      "source": [
        "<a href=\"https://colab.research.google.com/github/PosgradoMNA/actividades-de-aprendizaje-A01793654/blob/main/Actividad5(IBM_Mod_2_DA).ipynb\" target=\"_parent\"><img src=\"https://colab.research.google.com/assets/colab-badge.svg\" alt=\"Open In Colab\"/></a>"
      ]
    },
    {
      "cell_type": "markdown",
      "source": [
        "# Ciencia y analítica de datos\n",
        "## Actividad 5\n",
        "## Cursos de IBM\n",
        "### Data Analysis With Python\n",
        "### Modulo 2\n",
        "#### Profesor: Jobish Vallikavungal Devassia\n",
        "#### Profesor Tutor: Roberto Antonio Guevara González\n",
        "#### Bernardo Mijangos Flores\n",
        "####Matricula A01793654"
      ],
      "metadata": {
        "id": "jIO0Br_roPgI"
      }
    },
    {
      "cell_type": "markdown",
      "source": [
        "# Laboratorio 2\n",
        "\n",
        "## Objetivos:\n",
        "\n",
        "#### Manejar valores faltantes\n",
        "#### Formato de datos correcto\n",
        "#### Estandarizar y normalizar datos"
      ],
      "metadata": {
        "id": "nDvsX6Zfpa5L"
      }
    },
    {
      "cell_type": "markdown",
      "source": [
        "Data wrangling es el proceso de convertir datos del formato inicial a un formato que puede ser mejor para el análisis."
      ],
      "metadata": {
        "id": "HA8EpGqTpXRz"
      }
    },
    {
      "cell_type": "code",
      "execution_count": null,
      "metadata": {
        "id": "49cSa8XLoGbN"
      },
      "outputs": [],
      "source": []
    },
    {
      "cell_type": "markdown",
      "source": [],
      "metadata": {
        "id": "2HC3-7CYpXbe"
      }
    }
  ]
}