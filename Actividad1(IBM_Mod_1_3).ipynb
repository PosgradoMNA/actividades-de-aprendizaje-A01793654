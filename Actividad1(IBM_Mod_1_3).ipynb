{
  "cells": [
    {
      "cell_type": "markdown",
      "metadata": {
        "id": "view-in-github",
        "colab_type": "text"
      },
      "source": [
        "<a href=\"https://colab.research.google.com/github/PosgradoMNA/actividades-de-aprendizaje-bmijangos/blob/main/Actividad1(IBM_Mod_1_3).ipynb\" target=\"_parent\"><img src=\"https://colab.research.google.com/assets/colab-badge.svg\" alt=\"Open In Colab\"/></a>"
      ]
    },
    {
      "cell_type": "markdown",
      "id": "8f56b6bd",
      "metadata": {
        "id": "8f56b6bd"
      },
      "source": [
        "# Exercise: Your First Program"
      ]
    },
    {
      "cell_type": "code",
      "execution_count": null,
      "id": "c84e437e",
      "metadata": {
        "id": "c84e437e",
        "outputId": "666afe84-324e-4c30-9c4f-a341fe3273c1"
      },
      "outputs": [
        {
          "name": "stdout",
          "output_type": "stream",
          "text": [
            "Helo, world!\n"
          ]
        }
      ],
      "source": [
        "# In the code cell below, use the print() function to print out the phrase: Hello, world!\n",
        "\n",
        "print(\"Helo, world!\")"
      ]
    },
    {
      "cell_type": "code",
      "execution_count": null,
      "id": "a2d667d3",
      "metadata": {
        "id": "a2d667d3",
        "outputId": "58a5f3e9-f76c-4a27-df3e-18d26e2ad520"
      },
      "outputs": [
        {
          "name": "stdout",
          "output_type": "stream",
          "text": [
            "Hello, world!\n"
          ]
        }
      ],
      "source": [
        "# Now, let's enhance your code with a comment.\n",
        "# In the code cell below, print out the phrase: Hello, world!\n",
        "# and comment it with the phrase Print the traditional hello world all in one line of code.\n",
        "\n",
        "print(\"Hello, world!\")  # Print the traditional hello world"
      ]
    },
    {
      "cell_type": "markdown",
      "id": "b2bc247e",
      "metadata": {
        "id": "b2bc247e"
      },
      "source": [
        "# Exercise: Types"
      ]
    },
    {
      "cell_type": "code",
      "execution_count": null,
      "id": "178e9473",
      "metadata": {
        "id": "178e9473",
        "outputId": "16b3ef30-a73a-4b57-f757-f88070f4b4d2"
      },
      "outputs": [
        {
          "data": {
            "text/plain": [
              "float"
            ]
          },
          "execution_count": 3,
          "metadata": {},
          "output_type": "execute_result"
        }
      ],
      "source": [
        "# What is the data type of the result of: 6 / 2?\n",
        "\n",
        "type(6/2)"
      ]
    },
    {
      "cell_type": "code",
      "execution_count": null,
      "id": "09c85a91",
      "metadata": {
        "id": "09c85a91",
        "outputId": "2b06cd32-506e-4a50-f18c-061b9c866481"
      },
      "outputs": [
        {
          "data": {
            "text/plain": [
              "int"
            ]
          },
          "execution_count": 4,
          "metadata": {},
          "output_type": "execute_result"
        }
      ],
      "source": [
        "# What is the type of the result of: 6 // 2? (Note the double slash //.)\n",
        "\n",
        "type(6//2)"
      ]
    },
    {
      "cell_type": "markdown",
      "id": "704a8f24",
      "metadata": {
        "id": "704a8f24"
      },
      "source": [
        "# Exercise: Expression and Variables in Python"
      ]
    },
    {
      "cell_type": "code",
      "execution_count": null,
      "id": "23c1b3f1",
      "metadata": {
        "id": "23c1b3f1",
        "outputId": "5186c9ae-649a-4ce8-b12e-a6ab3521346f"
      },
      "outputs": [
        {
          "name": "stdout",
          "output_type": "stream",
          "text": [
            "7\n"
          ]
        }
      ],
      "source": [
        "# What is the value of x where x = 3 + 2 * 2\n",
        "\n",
        "x=3+2*2\n",
        "print(x)"
      ]
    },
    {
      "cell_type": "code",
      "execution_count": null,
      "id": "ea957598",
      "metadata": {
        "id": "ea957598",
        "outputId": "4bf8d600-e745-47ad-964e-3c7830a657c5"
      },
      "outputs": [
        {
          "name": "stdout",
          "output_type": "stream",
          "text": [
            "10\n"
          ]
        }
      ],
      "source": [
        "# What is the value of x where x = 3 + 2 * 2\n",
        "\n",
        "y=(3+2)*2\n",
        "print(y)"
      ]
    },
    {
      "cell_type": "code",
      "execution_count": null,
      "id": "79426423",
      "metadata": {
        "id": "79426423",
        "outputId": "545a005e-be78-4b4e-f0a2-959066bd2146"
      },
      "outputs": [
        {
          "name": "stdout",
          "output_type": "stream",
          "text": [
            "17\n"
          ]
        }
      ],
      "source": [
        "# What is the value of z where z = x + y?\n",
        "\n",
        "z=x+y\n",
        "print(z)"
      ]
    },
    {
      "cell_type": "markdown",
      "id": "d7ab24ec",
      "metadata": {
        "id": "d7ab24ec"
      },
      "source": [
        "# Quiz on Strings"
      ]
    },
    {
      "cell_type": "code",
      "execution_count": null,
      "id": "e08b7aa2",
      "metadata": {
        "id": "e08b7aa2"
      },
      "outputs": [],
      "source": [
        "# What is the value of the variable a after the following code is executed?\n",
        "\n",
        "a = \"1\""
      ]
    },
    {
      "cell_type": "code",
      "execution_count": null,
      "id": "3015c6e7",
      "metadata": {
        "id": "3015c6e7"
      },
      "outputs": [],
      "source": [
        "# What is the value of the variable b after the following code is executed?\n",
        "\n",
        "b = \"2\""
      ]
    },
    {
      "cell_type": "code",
      "execution_count": null,
      "id": "e6223f5a",
      "metadata": {
        "id": "e6223f5a",
        "outputId": "3d44b252-049c-4769-f51c-87230b3cde95"
      },
      "outputs": [
        {
          "name": "stdout",
          "output_type": "stream",
          "text": [
            "12\n"
          ]
        }
      ],
      "source": [
        "# What is the value of the variable c after the following code is executed?\n",
        "\n",
        "c = a + b\n",
        "print(c)"
      ]
    },
    {
      "cell_type": "code",
      "execution_count": null,
      "id": "13eae587",
      "metadata": {
        "id": "13eae587",
        "outputId": "724bd0b8-ca3f-436c-b74e-b38340e70e5e"
      },
      "outputs": [
        {
          "name": "stdout",
          "output_type": "stream",
          "text": [
            "ABC\n"
          ]
        }
      ],
      "source": [
        "# Consider the variable d use slicing to print out the first three elements:\n",
        "\n",
        "d = \"ABCDEFG\"\n",
        "\n",
        "print(d[:3])"
      ]
    },
    {
      "cell_type": "code",
      "execution_count": null,
      "id": "12c61c70",
      "metadata": {
        "id": "12c61c70",
        "outputId": "6e9109b4-19e5-4bca-fcc9-e2a6f113e0e4"
      },
      "outputs": [
        {
          "name": "stdout",
          "output_type": "stream",
          "text": [
            "correct\n"
          ]
        }
      ],
      "source": [
        "# Use a stride value of 2 to print out every second character of the string e:\n",
        "\n",
        "e = 'clocrkr1e1c1t'\n",
        "\n",
        "print(e[::2])"
      ]
    },
    {
      "cell_type": "code",
      "execution_count": null,
      "id": "daa9be2e",
      "metadata": {
        "id": "daa9be2e",
        "outputId": "193391cc-6f6e-4ba3-fa39-02bbb22173ec"
      },
      "outputs": [
        {
          "name": "stdout",
          "output_type": "stream",
          "text": [
            "\\ \n"
          ]
        }
      ],
      "source": [
        "# Print out a backslash:\n",
        "\n",
        "print(r\"\\ \")"
      ]
    },
    {
      "cell_type": "code",
      "execution_count": null,
      "id": "efc00ade",
      "metadata": {
        "id": "efc00ade",
        "outputId": "7f8f33b8-72b7-43bc-8469-88c00e4b85e7"
      },
      "outputs": [
        {
          "data": {
            "text/plain": [
              "'YOU ARE WRONG'"
            ]
          },
          "execution_count": 15,
          "metadata": {},
          "output_type": "execute_result"
        }
      ],
      "source": [
        "# Convert the variable f to uppercase:\n",
        "\n",
        "f = \"You are wrong\"\n",
        "\n",
        "f.upper()"
      ]
    },
    {
      "cell_type": "code",
      "execution_count": null,
      "id": "5d479bcb",
      "metadata": {
        "id": "5d479bcb",
        "outputId": "84df922c-e278-4573-9fd9-4cecd440c92e"
      },
      "outputs": [
        {
          "data": {
            "text/plain": [
              "95"
            ]
          },
          "execution_count": 16,
          "metadata": {},
          "output_type": "execute_result"
        }
      ],
      "source": [
        "# Consider the variable g, and find the first index of the sub-string snow:\n",
        "\n",
        "g = \"Mary had a little lamb Little lamb, little lamb Mary had a little lamb \\\n",
        "Its fleece was white as snow And everywhere that Mary went Mary went, Mary went \\\n",
        "Everywhere that Mary went The lamb was sure to go\"\n",
        "\n",
        "g.find(\"snow\")"
      ]
    },
    {
      "cell_type": "code",
      "execution_count": null,
      "id": "cb66a6ea",
      "metadata": {
        "id": "cb66a6ea",
        "outputId": "ab5a50eb-f4eb-492b-859f-b514fb9a3920"
      },
      "outputs": [
        {
          "data": {
            "text/plain": [
              "'Bob had a little lamb Little lamb, little lamb Bob had a little lamb Its fleece was white as snow And everywhere that Bob went Bob went, Bob went Everywhere that Bob went The lamb was sure to go'"
            ]
          },
          "execution_count": 17,
          "metadata": {},
          "output_type": "execute_result"
        }
      ],
      "source": [
        "# In the variable g, replace the sub-string Mary with Bob:\n",
        "\n",
        "g.replace(\"Mary\",\"Bob\")"
      ]
    },
    {
      "cell_type": "markdown",
      "id": "e9af083e",
      "metadata": {
        "id": "e9af083e"
      },
      "source": [
        "# Create a Tuple"
      ]
    },
    {
      "cell_type": "code",
      "execution_count": null,
      "id": "3f35189e",
      "metadata": {
        "id": "3f35189e",
        "outputId": "2abc6808-ce38-4378-bb8a-93e65119d50e"
      },
      "outputs": [
        {
          "name": "stdout",
          "output_type": "stream",
          "text": [
            "(0, 1, 2, 3)\n"
          ]
        }
      ],
      "source": [
        "# Create a tuple  (0,1,2,3)  and assign it to variable A:\n",
        "\n",
        "A=(0,1,2,3)\n",
        "print(A)"
      ]
    },
    {
      "cell_type": "markdown",
      "id": "f429d979",
      "metadata": {
        "id": "f429d979"
      },
      "source": [
        "# Find the Elements of a Tuple"
      ]
    },
    {
      "cell_type": "code",
      "execution_count": null,
      "id": "085c5d59",
      "metadata": {
        "id": "085c5d59",
        "outputId": "c271da4d-3606-4700-d056-cdb19e44bf59"
      },
      "outputs": [
        {
          "data": {
            "text/plain": [
              "(0, 1)"
            ]
          },
          "execution_count": 27,
          "metadata": {},
          "output_type": "execute_result"
        }
      ],
      "source": [
        "# Find the first two elements of tuple  A :\n",
        "\n",
        "A[0:2]"
      ]
    },
    {
      "cell_type": "markdown",
      "id": "117890e7",
      "metadata": {
        "id": "117890e7"
      },
      "source": [
        "# List"
      ]
    },
    {
      "cell_type": "code",
      "execution_count": null,
      "id": "d8ada42e",
      "metadata": {
        "id": "d8ada42e"
      },
      "outputs": [],
      "source": [
        "# For the next few questions, you will need the following list:\n",
        "\n",
        "B=[\"a\",\"b\",\"c\"]"
      ]
    },
    {
      "cell_type": "code",
      "execution_count": null,
      "id": "e5101c5c",
      "metadata": {
        "id": "e5101c5c",
        "outputId": "2a97f668-41cf-4c05-e7c3-02b1e7b11c1a"
      },
      "outputs": [
        {
          "data": {
            "text/plain": [
              "['a', 'b']"
            ]
          },
          "execution_count": 29,
          "metadata": {},
          "output_type": "execute_result"
        }
      ],
      "source": [
        "# Find the first two elements of the list  B:\n",
        "\n",
        "B[0:2]"
      ]
    },
    {
      "cell_type": "code",
      "execution_count": null,
      "id": "4fd34edb",
      "metadata": {
        "id": "4fd34edb",
        "outputId": "58ecf843-00be-4852-a302-35676ea8a0a7"
      },
      "outputs": [
        {
          "name": "stdout",
          "output_type": "stream",
          "text": [
            "['A', 'b', 'c']\n"
          ]
        }
      ],
      "source": [
        "# Change the first element of the list to an uppercase \"A\".\n",
        "\n",
        "B[0]='A'\n",
        "print(B)"
      ]
    },
    {
      "cell_type": "markdown",
      "id": "286fe280",
      "metadata": {
        "id": "286fe280"
      },
      "source": [
        "# Quiz on Tuples"
      ]
    },
    {
      "cell_type": "code",
      "execution_count": null,
      "id": "e122cce0",
      "metadata": {
        "id": "e122cce0",
        "outputId": "47c1a643-e9f0-468b-b250-a926d6e80565"
      },
      "outputs": [
        {
          "data": {
            "text/plain": [
              "('pop',\n",
              " 'rock',\n",
              " 'soul',\n",
              " 'hard rock',\n",
              " 'soft rock',\n",
              " 'R&B',\n",
              " 'progressive rock',\n",
              " 'disco')"
            ]
          },
          "execution_count": 31,
          "metadata": {},
          "output_type": "execute_result"
        }
      ],
      "source": [
        "# Consider the following tuple:\n",
        "\n",
        "genres_tuple = (\"pop\", \"rock\", \"soul\", \"hard rock\", \"soft rock\", \\\n",
        "                \"R&B\", \"progressive rock\", \"disco\") \n",
        "genres_tuple"
      ]
    },
    {
      "cell_type": "code",
      "execution_count": null,
      "id": "bca1a982",
      "metadata": {
        "id": "bca1a982",
        "outputId": "3408a3c4-3054-410f-b278-675be07aa6ef"
      },
      "outputs": [
        {
          "data": {
            "text/plain": [
              "8"
            ]
          },
          "execution_count": 32,
          "metadata": {},
          "output_type": "execute_result"
        }
      ],
      "source": [
        "# Find the length of the tuple, genres_tuple:\n",
        "\n",
        "len(genres_tuple)"
      ]
    },
    {
      "cell_type": "code",
      "execution_count": null,
      "id": "0177bd51",
      "metadata": {
        "id": "0177bd51",
        "outputId": "c37c9962-1f90-4962-b6d7-a5c85b7f0e72"
      },
      "outputs": [
        {
          "data": {
            "text/plain": [
              "'hard rock'"
            ]
          },
          "execution_count": 33,
          "metadata": {},
          "output_type": "execute_result"
        }
      ],
      "source": [
        "# Access the element, with respect to index 3:\n",
        "\n",
        "genres_tuple[3]"
      ]
    },
    {
      "cell_type": "code",
      "execution_count": null,
      "id": "aaa44741",
      "metadata": {
        "id": "aaa44741",
        "outputId": "2150cf37-2e0e-42e1-e969-632a3ecb747d"
      },
      "outputs": [
        {
          "data": {
            "text/plain": [
              "('hard rock', 'soft rock', 'R&B')"
            ]
          },
          "execution_count": 34,
          "metadata": {},
          "output_type": "execute_result"
        }
      ],
      "source": [
        "# Use slicing to obtain indexes 3, 4 and 5:\n",
        "\n",
        "genres_tuple[3:6]"
      ]
    },
    {
      "cell_type": "code",
      "execution_count": null,
      "id": "eada749a",
      "metadata": {
        "id": "eada749a",
        "outputId": "0c024f3f-368c-4717-ff58-2d6b8b77c3d2"
      },
      "outputs": [
        {
          "data": {
            "text/plain": [
              "('pop', 'rock')"
            ]
          },
          "execution_count": 35,
          "metadata": {},
          "output_type": "execute_result"
        }
      ],
      "source": [
        "# Find the first two elements of the tuple genres_tuple:\n",
        "\n",
        "genres_tuple[:2]"
      ]
    },
    {
      "cell_type": "code",
      "execution_count": null,
      "id": "485f0067",
      "metadata": {
        "id": "485f0067",
        "outputId": "2de77a7a-2a4a-4388-e5a0-637995a76c97"
      },
      "outputs": [
        {
          "data": {
            "text/plain": [
              "7"
            ]
          },
          "execution_count": 36,
          "metadata": {},
          "output_type": "execute_result"
        }
      ],
      "source": [
        "# Find the first index of \"disco\":\n",
        "\n",
        "genres_tuple.index(\"disco\")"
      ]
    },
    {
      "cell_type": "code",
      "execution_count": null,
      "id": "a0ee8cb8",
      "metadata": {
        "id": "a0ee8cb8",
        "outputId": "541c233d-dea3-4c15-d673-06882e2b3f56"
      },
      "outputs": [
        {
          "data": {
            "text/plain": [
              "[-5, -3, 1]"
            ]
          },
          "execution_count": 37,
          "metadata": {},
          "output_type": "execute_result"
        }
      ],
      "source": [
        "# Generate a sorted List from the Tuple C_tuple=(-5, 1, -3):\n",
        "\n",
        "C_tuple=(-5,1,-3)\n",
        "C_list=sorted(C_tuple)\n",
        "C_list"
      ]
    },
    {
      "cell_type": "markdown",
      "id": "2d22851c",
      "metadata": {
        "id": "2d22851c"
      },
      "source": [
        "# Quiz on List"
      ]
    },
    {
      "cell_type": "code",
      "execution_count": null,
      "id": "84d73484",
      "metadata": {
        "id": "84d73484",
        "outputId": "83b8c2d0-d016-483a-b5b2-02d3d9357398"
      },
      "outputs": [
        {
          "data": {
            "text/plain": [
              "[1, 'hello', [1, 2, 3]]"
            ]
          },
          "execution_count": 38,
          "metadata": {},
          "output_type": "execute_result"
        }
      ],
      "source": [
        "# Create a list a_list, with the following elements 1, hello, [1,2,3] and True.\n",
        "\n",
        "a_list=[1,'hello',[1,2,3]]\n",
        "a_list"
      ]
    },
    {
      "cell_type": "code",
      "execution_count": null,
      "id": "1f528022",
      "metadata": {
        "id": "1f528022",
        "outputId": "781b45ae-09d3-437e-cfef-a11ed2b2ecb4"
      },
      "outputs": [
        {
          "data": {
            "text/plain": [
              "'hello'"
            ]
          },
          "execution_count": 39,
          "metadata": {},
          "output_type": "execute_result"
        }
      ],
      "source": [
        "# Find the value stored at index 1 of a_list.\n",
        "\n",
        "a_list[1]"
      ]
    },
    {
      "cell_type": "code",
      "execution_count": null,
      "id": "2dce3e3a",
      "metadata": {
        "id": "2dce3e3a",
        "outputId": "24c87cae-c48d-47a7-9b88-09968636991a"
      },
      "outputs": [
        {
          "data": {
            "text/plain": [
              "['hello', [1, 2, 3]]"
            ]
          },
          "execution_count": 40,
          "metadata": {},
          "output_type": "execute_result"
        }
      ],
      "source": [
        "# Retrieve the elements stored at index 1, 2 and 3 of a_list.\n",
        "\n",
        "a_list[1:4]"
      ]
    },
    {
      "cell_type": "code",
      "execution_count": null,
      "id": "38a6f9e7",
      "metadata": {
        "id": "38a6f9e7",
        "outputId": "5ca214eb-929a-4180-dbc8-7c2b8a2579b5"
      },
      "outputs": [
        {
          "data": {
            "text/plain": [
              "[1, 'a', 2, 1, 'd']"
            ]
          },
          "execution_count": 41,
          "metadata": {},
          "output_type": "execute_result"
        }
      ],
      "source": [
        "# Concatenate the following lists A = [1, 'a'] and B = [2, 1, 'd']:\n",
        "\n",
        "A = [1, 'a'] \n",
        "B = [2, 1, 'd']\n",
        "A + B"
      ]
    },
    {
      "cell_type": "markdown",
      "id": "b881a03b",
      "metadata": {
        "id": "b881a03b"
      },
      "source": [
        "# Cast a List to a Set"
      ]
    },
    {
      "cell_type": "code",
      "execution_count": null,
      "id": "d872baa3",
      "metadata": {
        "id": "d872baa3",
        "outputId": "adfa7a28-f923-4ed5-c826-f12c0f2d0fff"
      },
      "outputs": [
        {
          "data": {
            "text/plain": [
              "{'A', 'B', 'C'}"
            ]
          },
          "execution_count": 3,
          "metadata": {},
          "output_type": "execute_result"
        }
      ],
      "source": [
        "set(['A','B','C','A','B','C'])"
      ]
    },
    {
      "cell_type": "markdown",
      "id": "a74f457d",
      "metadata": {
        "id": "a74f457d"
      },
      "source": [
        "# Add an Element to the Set"
      ]
    },
    {
      "cell_type": "code",
      "execution_count": null,
      "id": "6fd18e87",
      "metadata": {
        "id": "6fd18e87",
        "outputId": "599f4878-7877-4d3b-ff1f-13a0e1f32507"
      },
      "outputs": [
        {
          "data": {
            "text/plain": [
              "{'A', 'B', 'C', 'D'}"
            ]
          },
          "execution_count": 4,
          "metadata": {},
          "output_type": "execute_result"
        }
      ],
      "source": [
        "# Add the string 'D' to the set S.\n",
        "\n",
        "S={'A','B','C'}\n",
        "S.add('D')\n",
        "S"
      ]
    },
    {
      "cell_type": "markdown",
      "id": "dd883b81",
      "metadata": {
        "id": "dd883b81"
      },
      "source": [
        "# Intersection of Sets"
      ]
    },
    {
      "cell_type": "code",
      "execution_count": null,
      "id": "24387d96",
      "metadata": {
        "id": "24387d96",
        "outputId": "f8610946-4b04-40a7-b534-9b529b3bf2b1"
      },
      "outputs": [
        {
          "data": {
            "text/plain": [
              "{1, 3}"
            ]
          },
          "execution_count": 5,
          "metadata": {},
          "output_type": "execute_result"
        }
      ],
      "source": [
        "# Find the intersection of set A and B.\n",
        "\n",
        "A={1,2,3,4,5}\n",
        "B={1,3,9, 12}\n",
        "\n",
        "A & B"
      ]
    },
    {
      "cell_type": "markdown",
      "id": "5b000d3c",
      "metadata": {
        "id": "5b000d3c"
      },
      "source": [
        "# Quiz on Sets"
      ]
    },
    {
      "cell_type": "code",
      "execution_count": null,
      "id": "da095ea9",
      "metadata": {
        "id": "da095ea9",
        "outputId": "ebeb5ad7-6ea0-4802-f310-8dbda2d35c8a"
      },
      "outputs": [
        {
          "data": {
            "text/plain": [
              "{'electronic music', 'house', 'rap'}"
            ]
          },
          "execution_count": 8,
          "metadata": {},
          "output_type": "execute_result"
        }
      ],
      "source": [
        "# Convert the list ['rap','house','electronic music', 'rap'] to a set:\n",
        "\n",
        "set( ['rap','house','electronic music', 'rap'])"
      ]
    },
    {
      "cell_type": "code",
      "execution_count": null,
      "id": "2e4042b8",
      "metadata": {
        "id": "2e4042b8",
        "outputId": "0a581866-b315-413f-c6ed-d1ef570dffcb"
      },
      "outputs": [
        {
          "name": "stdout",
          "output_type": "stream",
          "text": [
            "La suma de A es: 6\n",
            "La suma de B es: 3\n"
          ]
        }
      ],
      "source": [
        "# Consider the list A = [1, 2, 2, 1] and set B = set([1, 2, 2, 1]), does sum(A) == sum(B)?\n",
        "\n",
        "A = [1, 2, 2, 1]\n",
        "B = set([1, 2, 2, 1])\n",
        "print(\"La suma de A es:\",sum(A))\n",
        "print(\"La suma de B es:\",sum(B))"
      ]
    },
    {
      "cell_type": "code",
      "execution_count": null,
      "id": "254ba799",
      "metadata": {
        "id": "254ba799",
        "outputId": "b76c6e9f-d271-460b-a11b-1ec8342a7aff"
      },
      "outputs": [
        {
          "data": {
            "text/plain": [
              "{'AC/DC', 'Back in Black', 'The Dark Side of the Moon', 'Thriller'}"
            ]
          },
          "execution_count": 15,
          "metadata": {},
          "output_type": "execute_result"
        }
      ],
      "source": [
        "# Create a new set album_set3 that is the union of album_set1 and album_set2:\n",
        "\n",
        "\n",
        "album_set1 = set([\"Thriller\", 'AC/DC', 'Back in Black'])\n",
        "album_set2 = set([ \"AC/DC\", \"Back in Black\", \"The Dark Side of the Moon\"])\n",
        "album_set3 = album_set1.union(album_set2)\n",
        "album_set3"
      ]
    },
    {
      "cell_type": "code",
      "execution_count": null,
      "id": "aa128c73",
      "metadata": {
        "id": "aa128c73",
        "outputId": "1d45f39b-70aa-4153-9772-8cc4c48a2ea4"
      },
      "outputs": [
        {
          "data": {
            "text/plain": [
              "True"
            ]
          },
          "execution_count": 16,
          "metadata": {},
          "output_type": "execute_result"
        }
      ],
      "source": [
        "# Find out if album_set1 is a subset of album_set3:\n",
        "\n",
        "album_set1.issubset(album_set3)"
      ]
    },
    {
      "cell_type": "markdown",
      "id": "fb8a4092",
      "metadata": {
        "id": "fb8a4092"
      },
      "source": [
        "# Quiz on Dictionaries"
      ]
    },
    {
      "cell_type": "code",
      "execution_count": null,
      "id": "12ba3093",
      "metadata": {
        "id": "12ba3093",
        "outputId": "f5a8b39b-9865-4eec-b341-ede4e0ee00c6"
      },
      "outputs": [
        {
          "data": {
            "text/plain": [
              "{'The Bodyguard': '1992', 'Saturday Night Fever': '1977'}"
            ]
          },
          "execution_count": 21,
          "metadata": {},
          "output_type": "execute_result"
        }
      ],
      "source": [
        "# You will need this dictionary for the next two questions:\n",
        "\n",
        "soundtrack_dic = {\"The Bodyguard\":\"1992\", \"Saturday Night Fever\":\"1977\"}\n",
        "soundtrack_dic "
      ]
    },
    {
      "cell_type": "code",
      "execution_count": null,
      "id": "d2647ee4",
      "metadata": {
        "id": "d2647ee4",
        "outputId": "35c08be4-a049-443a-ad67-b996cf3baeff"
      },
      "outputs": [
        {
          "data": {
            "text/plain": [
              "dict_keys(['The Bodyguard', 'Saturday Night Fever'])"
            ]
          },
          "execution_count": 22,
          "metadata": {},
          "output_type": "execute_result"
        }
      ],
      "source": [
        "# a) In the dictionary soundtrack_dic what are the keys ?\n",
        "\n",
        "soundtrack_dic.keys()"
      ]
    },
    {
      "cell_type": "code",
      "execution_count": null,
      "id": "6fde3199",
      "metadata": {
        "id": "6fde3199",
        "outputId": "4346640a-a26c-4283-81e0-d3c48dc6b90b"
      },
      "outputs": [
        {
          "data": {
            "text/plain": [
              "dict_values(['1992', '1977'])"
            ]
          },
          "execution_count": 24,
          "metadata": {},
          "output_type": "execute_result"
        }
      ],
      "source": [
        "soundtrack_dic.values()"
      ]
    },
    {
      "cell_type": "code",
      "execution_count": null,
      "id": "8cee3c22",
      "metadata": {
        "id": "8cee3c22",
        "outputId": "8d7ca49f-9dfa-4c3b-d1ec-b0ed657b100a"
      },
      "outputs": [
        {
          "data": {
            "text/plain": [
              "{'Back in Blak': 50, 'Bodyguard': 50, 'Thriller': 65}"
            ]
          },
          "execution_count": 26,
          "metadata": {},
          "output_type": "execute_result"
        }
      ],
      "source": [
        "# You will need this dictionary for the following questions:\n",
        "\n",
        "# The Albums Back in Black, The Bodyguard and Thriller have the following music recording sales in millions 50, 50 \n",
        "# and 65 respectively:\n",
        "\n",
        "# a) Create a dictionary album_sales_dict where the keys are the album name and the sales in millions are the values.\n",
        "\n",
        "album_sales_dict={\"Back in Blak\":50,\"Bodyguard\":50,\"Thriller\":65}\n",
        "album_sales_dict"
      ]
    },
    {
      "cell_type": "code",
      "execution_count": null,
      "id": "387c2119",
      "metadata": {
        "id": "387c2119",
        "outputId": "d4344754-c416-450e-92bb-fbc63045ba7d"
      },
      "outputs": [
        {
          "data": {
            "text/plain": [
              "65"
            ]
          },
          "execution_count": 28,
          "metadata": {},
          "output_type": "execute_result"
        }
      ],
      "source": [
        "# b) Use the dictionary to find the total sales of Thriller:\n",
        "\n",
        "album_sales_dict[\"Thriller\"]"
      ]
    },
    {
      "cell_type": "code",
      "execution_count": null,
      "id": "a6407659",
      "metadata": {
        "id": "a6407659",
        "outputId": "1da16f3a-b5d5-4749-ea2b-a9e9ff66f835"
      },
      "outputs": [
        {
          "data": {
            "text/plain": [
              "dict_keys(['Back in Blak', 'Bodyguard', 'Thriller'])"
            ]
          },
          "execution_count": 29,
          "metadata": {},
          "output_type": "execute_result"
        }
      ],
      "source": [
        "# Find the names of the albums from the dictionary using the method keys():\n",
        "\n",
        "album_sales_dict.keys()"
      ]
    },
    {
      "cell_type": "code",
      "execution_count": null,
      "id": "e415022d",
      "metadata": {
        "id": "e415022d",
        "outputId": "ad07f281-d963-4d21-f103-6df336e97f18"
      },
      "outputs": [
        {
          "data": {
            "text/plain": [
              "dict_values([50, 50, 65])"
            ]
          },
          "execution_count": 30,
          "metadata": {},
          "output_type": "execute_result"
        }
      ],
      "source": [
        "# d) Find the values of the recording sales from the dictionary using the method values:\n",
        "\n",
        "album_sales_dict.values()"
      ]
    },
    {
      "cell_type": "markdown",
      "id": "cddacfbf",
      "metadata": {
        "id": "cddacfbf"
      },
      "source": [
        "# Quiz on Conditions"
      ]
    },
    {
      "cell_type": "code",
      "execution_count": null,
      "id": "d47bd8e0",
      "metadata": {
        "id": "d47bd8e0",
        "outputId": "29344e24-41ab-4415-c7d8-d2815634fce5"
      },
      "outputs": [
        {
          "name": "stdout",
          "output_type": "stream",
          "text": [
            "This album is Amazing!\n"
          ]
        }
      ],
      "source": [
        "# Write an if statement to determine if an album had a rating greater than 8.\n",
        "# Test it using the rating for the album “Back in Black” that had a rating of 8.5.\n",
        "# If the statement is true print \"This album is Amazing!\"\n",
        "\n",
        "r=8.5\n",
        "if r > 8:\n",
        "    print(\"This album is Amazing!\")\n"
      ]
    },
    {
      "cell_type": "code",
      "execution_count": null,
      "id": "451f28bc",
      "metadata": {
        "id": "451f28bc",
        "outputId": "7f533d49-ab37-4d3e-ed3f-f23a823bcf2a"
      },
      "outputs": [
        {
          "name": "stdout",
          "output_type": "stream",
          "text": [
            "this album is ok\n"
          ]
        }
      ],
      "source": [
        "# Write an if-else statement that performs the following.\n",
        "# If the rating is larger then eight print “this album is amazing”.\n",
        "# If the rating is less than or equal to 8 print “this album is ok”.\n",
        "\n",
        "r=8\n",
        "if r > 8:\n",
        "    print(\"This album is Amazing!\")\n",
        "else:\n",
        "    print(\"this album is ok\")"
      ]
    },
    {
      "cell_type": "code",
      "execution_count": null,
      "id": "83734c53",
      "metadata": {
        "id": "83734c53",
        "outputId": "cb1b4009-e1b2-453d-a8a6-8a81445a64df"
      },
      "outputs": [
        {
          "name": "stdout",
          "output_type": "stream",
          "text": [
            "This album came out in year 1991\n"
          ]
        }
      ],
      "source": [
        "# Write an if statement to determine if an album came out before 1980\n",
        "# or in the years: 1991 or 1993.\n",
        "# If the condition is true print out the year the album came out.\n",
        "\n",
        "album = 1991\n",
        "\n",
        "if album < 1980 or album == 1991 or album == 1993:\n",
        "    print(\"This album came out in year\", album)"
      ]
    },
    {
      "cell_type": "markdown",
      "id": "5ae7715b",
      "metadata": {
        "id": "5ae7715b"
      },
      "source": [
        "# Quiz on Loops"
      ]
    },
    {
      "cell_type": "code",
      "execution_count": null,
      "id": "7286f51d",
      "metadata": {
        "id": "7286f51d",
        "outputId": "6f0bf77a-36df-4137-f1aa-553187c2fa37"
      },
      "outputs": [
        {
          "name": "stdout",
          "output_type": "stream",
          "text": [
            "-4\n",
            "-3\n",
            "-2\n",
            "-1\n",
            "0\n",
            "1\n",
            "2\n",
            "3\n",
            "4\n"
          ]
        }
      ],
      "source": [
        "# Write a for loop the prints out all the element between -5 and 5 using the range function.\n",
        "\n",
        "for i in range(-4, 5):\n",
        "    print(i)"
      ]
    },
    {
      "cell_type": "code",
      "execution_count": null,
      "id": "72678846",
      "metadata": {
        "id": "72678846",
        "outputId": "c5d11fdf-f0e7-49e4-be14-be986a5eb480"
      },
      "outputs": [
        {
          "name": "stdout",
          "output_type": "stream",
          "text": [
            "rock\n",
            "R&B\n",
            "Soundtrack\n",
            "R&B\n",
            "soul\n",
            "pop\n"
          ]
        }
      ],
      "source": [
        "# Print the elements of the following list:\n",
        "# Genres=[ 'rock', 'R&B', 'Soundtrack', 'R&B', 'soul', 'pop']\n",
        "# Make sure you follow Python conventions.\n",
        "\n",
        "Genres=[ 'rock', 'R&B', 'Soundtrack', 'R&B', 'soul', 'pop']\n",
        "\n",
        "for i in Genres:\n",
        "    print(i)\n"
      ]
    },
    {
      "cell_type": "code",
      "execution_count": null,
      "id": "d68711f1",
      "metadata": {
        "id": "d68711f1",
        "outputId": "ed84a9bb-1b74-427a-f73e-34314d9b98ba"
      },
      "outputs": [
        {
          "name": "stdout",
          "output_type": "stream",
          "text": [
            "red\n",
            "yellow\n",
            "green\n",
            "purple\n",
            "blue\n"
          ]
        }
      ],
      "source": [
        "# Write a for loop that prints out the following list: squares=['red', 'yellow', 'green', 'purple', 'blue']\n",
        "\n",
        "squares=['red', 'yellow', 'green', 'purple', 'blue']\n",
        "\n",
        "for i in squares:\n",
        "    print(i)"
      ]
    },
    {
      "cell_type": "code",
      "execution_count": null,
      "id": "5645d2a2",
      "metadata": {
        "id": "5645d2a2",
        "outputId": "199108b0-5ebb-4f5a-b88a-03b1d9421c6b"
      },
      "outputs": [
        {
          "name": "stdout",
          "output_type": "stream",
          "text": [
            "10\n",
            "9.5\n",
            "10\n",
            "8\n",
            "7.5\n"
          ]
        }
      ],
      "source": [
        "# Write a while loop to display the values of the Rating of an album playlist stored in the list PlayListRatings.\n",
        "# If the score is less than 6, exit the loop.\n",
        "# The list PlayListRatings is given by: PlayListRatings = [10, 9.5, 10, 8, 7.5, 5, 10, 10]\n",
        "\n",
        "PlayListRatings = [10, 9.5, 10, 8, 7.5, 5, 10, 10]\n",
        "i = 0\n",
        "Rating = PlayListRatings[0]\n",
        "while(i < len(PlayListRatings) and Rating >= 6):\n",
        "    print(Rating)\n",
        "    i = i + 1\n",
        "    Rating = PlayListRatings[i]"
      ]
    },
    {
      "cell_type": "code",
      "execution_count": null,
      "id": "95772925",
      "metadata": {
        "id": "95772925",
        "outputId": "357746b8-9601-448c-ce3f-66b3a3e92c00"
      },
      "outputs": [
        {
          "name": "stdout",
          "output_type": "stream",
          "text": [
            "['orange', 'orange']\n"
          ]
        }
      ],
      "source": [
        "# Write a while loop to copy the strings 'orange' of the list squares to the list new_squares.\n",
        "# Stop and exit the loop if the value on the list is not 'orange':\n",
        "\n",
        "squares = ['orange', 'orange', 'purple', 'blue ', 'orange']\n",
        "new_squares = []\n",
        "\n",
        "i = 0\n",
        "while(i < len(squares) and squares[i] == 'orange'):\n",
        "    new_squares.append(squares[i])\n",
        "    i = i + 1\n",
        "print (new_squares)"
      ]
    },
    {
      "cell_type": "markdown",
      "id": "7b971ccf",
      "metadata": {
        "id": "7b971ccf"
      },
      "source": [
        "# Quiz on Functions"
      ]
    },
    {
      "cell_type": "code",
      "execution_count": null,
      "id": "4cb32108",
      "metadata": {
        "id": "4cb32108",
        "outputId": "b85b2301-ad10-4e17-d0ae-6eb129422fab"
      },
      "outputs": [
        {
          "data": {
            "text/plain": [
              "10.0"
            ]
          },
          "execution_count": 85,
          "metadata": {},
          "output_type": "execute_result"
        }
      ],
      "source": [
        "# Come up with a function that divides the first input by the second input:\n",
        "\n",
        "def dividir(a, b):\n",
        "    return(a/b)\n",
        "\n",
        "dividir(30,3)"
      ]
    },
    {
      "cell_type": "code",
      "execution_count": null,
      "id": "e41a0918",
      "metadata": {
        "id": "e41a0918"
      },
      "outputs": [],
      "source": [
        "# Use the con function for the following question\n",
        "\n",
        "def con(a, b):\n",
        "    return(a + b)"
      ]
    },
    {
      "cell_type": "code",
      "execution_count": null,
      "id": "ddcd7fde",
      "metadata": {
        "id": "ddcd7fde",
        "outputId": "12a055b9-fb17-47b8-f11c-91370a23af6a"
      },
      "outputs": [
        {
          "data": {
            "text/plain": [
              "'Hola Mundo'"
            ]
          },
          "execution_count": 90,
          "metadata": {},
          "output_type": "execute_result"
        }
      ],
      "source": [
        "# Can the con function we defined before be used to add two integers or strings?\n",
        "\n",
        "con('Hola ', 'Mundo')    "
      ]
    },
    {
      "cell_type": "code",
      "execution_count": null,
      "id": "7e0294a2",
      "metadata": {
        "id": "7e0294a2",
        "outputId": "1b23c7cb-81ec-461c-a6f7-a5221e2ed70b"
      },
      "outputs": [
        {
          "data": {
            "text/plain": [
              "['a', 5, 'b', 7]"
            ]
          },
          "execution_count": 92,
          "metadata": {},
          "output_type": "execute_result"
        }
      ],
      "source": [
        "# Can the con function we defined before be used to concatenate lists or tuples?\n",
        "\n",
        "con(['a',5],['b',7])"
      ]
    },
    {
      "cell_type": "markdown",
      "id": "6d29dc8f",
      "metadata": {
        "id": "6d29dc8f"
      },
      "source": [
        "# Exercises"
      ]
    },
    {
      "cell_type": "code",
      "execution_count": null,
      "id": "6e220a14",
      "metadata": {
        "id": "6e220a14"
      },
      "outputs": [],
      "source": [
        "# You have been recruited by your friend, a linguistics enthusiast,\n",
        "# to create a utility tool that can perform analysis on a given piece of text.\n",
        "# Complete the class 'analysedText' with the following methods -\n",
        "\n",
        "# Constructor (__init__) - This method should take the argument text,\n",
        "# make it lower case, and remove all punctuation.\n",
        "# Assume only the following punctuation is used: period (.), \n",
        "# exclamation mark (!), comma (,) and question mark (?).\n",
        "# Assign this newly formatted text to a new attribute called fmtText.\n",
        "\n",
        "# freqAll - This method should create and return dictionary of all unique words in the text,\n",
        "# along with the number of times they occur in the text.\n",
        "# Each key in the dictionary should be the unique word appearing in the text and the associated\n",
        "# value should be the number of times it occurs in the text. Create this dictionary from the fmtText attribute.\n",
        "\n",
        "# freqOf - This method should take a word as an argument and return the number of occurrences of that word in fmtText.\n",
        "\n",
        "# The skeleton code has been given to you. Docstrings can be ignored for the purpose of the exercise.\n",
        "# Hint: Some useful functions are replace(), lower(), split(), count()\n",
        "\n",
        "\n",
        "class analysedText(object):\n",
        "    \n",
        "    def __init__ (self, text):\n",
        "        # remueve . ! ? ,\n",
        "        formattedText = text.replace('.','').replace('!','').replace('?','').replace(',','')\n",
        "        \n",
        "        # Texto en minusculas\n",
        "        formattedText = formattedText.lower()\n",
        "        \n",
        "        self.fmtText = formattedText\n",
        "        \n",
        "    def freqAll(self):        \n",
        "        # divide el texto en palabras\n",
        "        wordList = self.fmtText.split(' ')\n",
        "        \n",
        "        # crea el diccionario y elimina duplicados\n",
        "        freqMap = {}\n",
        "        for word in set(wordList):\n",
        "            freqMap[word] = wordList.count(word)\n",
        "        \n",
        "        return freqMap\n",
        "    \n",
        "    def freqOf(self,word):\n",
        "        # obtiene la frecuencia\n",
        "        freqDict = self.freqAll()\n",
        "        \n",
        "        if word in freqDict:\n",
        "            return freqDict[word]\n",
        "        else:\n",
        "            return 0\n",
        "    "
      ]
    },
    {
      "cell_type": "code",
      "execution_count": null,
      "id": "41e1b374",
      "metadata": {
        "id": "41e1b374",
        "outputId": "02ad08fa-f040-409d-8d42-51670dbcebfd"
      },
      "outputs": [
        {
          "name": "stdout",
          "output_type": "stream",
          "text": [
            "Constructor: \n",
            "Test Passed\n",
            "freqAll: \n",
            "Test Passed\n",
            "freqOf: \n",
            "Test Passed\n"
          ]
        }
      ],
      "source": [
        "# You can run the code cell below to test your functions to ensure they are working correctly.\n",
        "# First execute the code cell in which you implemented your solution, then execute the code cell to test your implementation.\n",
        "\n",
        "import sys\n",
        "\n",
        "sampleMap = {'eirmod': 1,'sed': 1, 'amet': 2, 'diam': 5, 'consetetur': 1, 'labore': 1, 'tempor': 1, 'dolor': 1, 'magna': 2, 'et': 3, 'nonumy': 1, 'ipsum': 1, 'lorem': 2}\n",
        "\n",
        "def testMsg(passed):\n",
        "    if passed:\n",
        "       return 'Test Passed'\n",
        "    else :\n",
        "       return 'Test Failed'\n",
        "\n",
        "print(\"Constructor: \")\n",
        "try:\n",
        "    samplePassage = analysedText(\"Lorem ipsum dolor! diam amet, consetetur Lorem magna. sed diam nonumy eirmod tempor. diam et labore? et diam magna. et diam amet.\")\n",
        "    print(testMsg(samplePassage.fmtText == \"lorem ipsum dolor diam amet consetetur lorem magna sed diam nonumy eirmod tempor diam et labore et diam magna et diam amet\"))\n",
        "except:\n",
        "    print(\"Error detected. Recheck your function \" )\n",
        "print(\"freqAll: \")\n",
        "try:\n",
        "    wordMap = samplePassage.freqAll()\n",
        "    print(testMsg(wordMap==sampleMap))\n",
        "except:\n",
        "    print(\"Error detected. Recheck your function \" )\n",
        "print(\"freqOf: \")\n",
        "try:\n",
        "    passed = True\n",
        "    for word in sampleMap:\n",
        "        if samplePassage.freqOf(word) != sampleMap[word]:\n",
        "            passed = False\n",
        "            break\n",
        "    print(testMsg(passed))\n",
        "    \n",
        "except:\n",
        "    print(\"Error detected. Recheck your function  \" )"
      ]
    },
    {
      "cell_type": "code",
      "execution_count": null,
      "id": "e1f175dc",
      "metadata": {
        "id": "e1f175dc"
      },
      "outputs": [],
      "source": []
    }
  ],
  "metadata": {
    "kernelspec": {
      "display_name": "Python 3 (ipykernel)",
      "language": "python",
      "name": "python3"
    },
    "language_info": {
      "codemirror_mode": {
        "name": "ipython",
        "version": 3
      },
      "file_extension": ".py",
      "mimetype": "text/x-python",
      "name": "python",
      "nbconvert_exporter": "python",
      "pygments_lexer": "ipython3",
      "version": "3.9.12"
    },
    "colab": {
      "provenance": [],
      "include_colab_link": true
    }
  },
  "nbformat": 4,
  "nbformat_minor": 5
}