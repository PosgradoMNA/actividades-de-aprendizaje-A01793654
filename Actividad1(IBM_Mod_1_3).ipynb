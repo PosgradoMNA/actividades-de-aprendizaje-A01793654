{
  "cells": [
    {
      "cell_type": "markdown",
      "metadata": {
        "id": "view-in-github",
        "colab_type": "text"
      },
      "source": [
        "<a href=\"https://colab.research.google.com/github/PosgradoMNA/actividades-de-aprendizaje-bmijangos/blob/main/Actividad1(IBM_Mod_1_3).ipynb\" target=\"_parent\"><img src=\"https://colab.research.google.com/assets/colab-badge.svg\" alt=\"Open In Colab\"/></a>"
      ]
    },
    {
      "cell_type": "markdown",
      "id": "8f56b6bd",
      "metadata": {
        "id": "8f56b6bd"
      },
      "source": [
        "# Exercise: Your First Program"
      ]
    },
    {
      "cell_type": "code",
      "execution_count": 1,
      "id": "c84e437e",
      "metadata": {
        "colab": {
          "base_uri": "https://localhost:8080/"
        },
        "id": "c84e437e",
        "outputId": "c008acd0-a2fb-4a3b-80b7-96bfd1c65f1f"
      },
      "outputs": [
        {
          "output_type": "stream",
          "name": "stdout",
          "text": [
            "Helo, world!\n"
          ]
        }
      ],
      "source": [
        "# In the code cell below, use the print() function to print out the phrase: Hello, world!\n",
        "\n",
        "print(\"Helo, world!\")"
      ]
    },
    {
      "cell_type": "code",
      "execution_count": 2,
      "id": "a2d667d3",
      "metadata": {
        "colab": {
          "base_uri": "https://localhost:8080/"
        },
        "id": "a2d667d3",
        "outputId": "1ec0ab9c-0456-4053-ea52-1e7dcfc85bcf"
      },
      "outputs": [
        {
          "output_type": "stream",
          "name": "stdout",
          "text": [
            "Hello, world!\n"
          ]
        }
      ],
      "source": [
        "# Now, let's enhance your code with a comment.\n",
        "# In the code cell below, print out the phrase: Hello, world!\n",
        "# and comment it with the phrase Print the traditional hello world all in one line of code.\n",
        "\n",
        "print(\"Hello, world!\")  # Print the traditional hello world"
      ]
    },
    {
      "cell_type": "markdown",
      "id": "b2bc247e",
      "metadata": {
        "id": "b2bc247e"
      },
      "source": [
        "# Exercise: Types"
      ]
    },
    {
      "cell_type": "code",
      "execution_count": 3,
      "id": "178e9473",
      "metadata": {
        "colab": {
          "base_uri": "https://localhost:8080/"
        },
        "id": "178e9473",
        "outputId": "4a0d0afc-0ce9-430d-dbfa-293332932cf7"
      },
      "outputs": [
        {
          "output_type": "execute_result",
          "data": {
            "text/plain": [
              "float"
            ]
          },
          "metadata": {},
          "execution_count": 3
        }
      ],
      "source": [
        "# What is the data type of the result of: 6 / 2?\n",
        "\n",
        "type(6/2)"
      ]
    },
    {
      "cell_type": "code",
      "execution_count": 4,
      "id": "09c85a91",
      "metadata": {
        "colab": {
          "base_uri": "https://localhost:8080/"
        },
        "id": "09c85a91",
        "outputId": "3d9ffd6d-9075-44f4-b93d-576e97b5b46d"
      },
      "outputs": [
        {
          "output_type": "execute_result",
          "data": {
            "text/plain": [
              "int"
            ]
          },
          "metadata": {},
          "execution_count": 4
        }
      ],
      "source": [
        "# What is the type of the result of: 6 // 2? (Note the double slash //.)\n",
        "\n",
        "type(6//2)"
      ]
    },
    {
      "cell_type": "markdown",
      "id": "704a8f24",
      "metadata": {
        "id": "704a8f24"
      },
      "source": [
        "# Exercise: Expression and Variables in Python"
      ]
    },
    {
      "cell_type": "code",
      "execution_count": 5,
      "id": "23c1b3f1",
      "metadata": {
        "colab": {
          "base_uri": "https://localhost:8080/"
        },
        "id": "23c1b3f1",
        "outputId": "da910d65-f833-41a8-d86a-ff5ab8782909"
      },
      "outputs": [
        {
          "output_type": "stream",
          "name": "stdout",
          "text": [
            "7\n"
          ]
        }
      ],
      "source": [
        "# What is the value of x where x = 3 + 2 * 2\n",
        "\n",
        "x=3+2*2\n",
        "print(x)"
      ]
    },
    {
      "cell_type": "code",
      "execution_count": 6,
      "id": "ea957598",
      "metadata": {
        "colab": {
          "base_uri": "https://localhost:8080/"
        },
        "id": "ea957598",
        "outputId": "5e051781-fe91-4ffe-ecd4-91c25f908d00"
      },
      "outputs": [
        {
          "output_type": "stream",
          "name": "stdout",
          "text": [
            "10\n"
          ]
        }
      ],
      "source": [
        "# What is the value of x where x = 3 + 2 * 2\n",
        "\n",
        "y=(3+2)*2\n",
        "print(y)"
      ]
    },
    {
      "cell_type": "code",
      "execution_count": 7,
      "id": "79426423",
      "metadata": {
        "colab": {
          "base_uri": "https://localhost:8080/"
        },
        "id": "79426423",
        "outputId": "22669c57-0fd7-4fb9-933b-1b920e0b9316"
      },
      "outputs": [
        {
          "output_type": "stream",
          "name": "stdout",
          "text": [
            "17\n"
          ]
        }
      ],
      "source": [
        "# What is the value of z where z = x + y?\n",
        "\n",
        "z=x+y\n",
        "print(z)"
      ]
    },
    {
      "cell_type": "markdown",
      "id": "d7ab24ec",
      "metadata": {
        "id": "d7ab24ec"
      },
      "source": [
        "# Quiz on Strings"
      ]
    },
    {
      "cell_type": "code",
      "execution_count": 8,
      "id": "e08b7aa2",
      "metadata": {
        "id": "e08b7aa2"
      },
      "outputs": [],
      "source": [
        "# What is the value of the variable a after the following code is executed?\n",
        "\n",
        "a = \"1\""
      ]
    },
    {
      "cell_type": "code",
      "execution_count": 9,
      "id": "3015c6e7",
      "metadata": {
        "id": "3015c6e7"
      },
      "outputs": [],
      "source": [
        "# What is the value of the variable b after the following code is executed?\n",
        "\n",
        "b = \"2\""
      ]
    },
    {
      "cell_type": "code",
      "execution_count": 10,
      "id": "e6223f5a",
      "metadata": {
        "colab": {
          "base_uri": "https://localhost:8080/"
        },
        "id": "e6223f5a",
        "outputId": "d6a9053e-93b2-4767-9fec-ad82e401c86d"
      },
      "outputs": [
        {
          "output_type": "stream",
          "name": "stdout",
          "text": [
            "12\n"
          ]
        }
      ],
      "source": [
        "# What is the value of the variable c after the following code is executed?\n",
        "\n",
        "c = a + b\n",
        "print(c)"
      ]
    },
    {
      "cell_type": "code",
      "execution_count": 11,
      "id": "13eae587",
      "metadata": {
        "colab": {
          "base_uri": "https://localhost:8080/"
        },
        "id": "13eae587",
        "outputId": "ef282991-b7d7-4aea-fb26-9fab25ae5158"
      },
      "outputs": [
        {
          "output_type": "stream",
          "name": "stdout",
          "text": [
            "ABC\n"
          ]
        }
      ],
      "source": [
        "# Consider the variable d use slicing to print out the first three elements:\n",
        "\n",
        "d = \"ABCDEFG\"\n",
        "\n",
        "print(d[:3])"
      ]
    },
    {
      "cell_type": "code",
      "execution_count": 12,
      "id": "12c61c70",
      "metadata": {
        "colab": {
          "base_uri": "https://localhost:8080/"
        },
        "id": "12c61c70",
        "outputId": "f25025fd-10a8-44cb-f63a-288609a68a80"
      },
      "outputs": [
        {
          "output_type": "stream",
          "name": "stdout",
          "text": [
            "correct\n"
          ]
        }
      ],
      "source": [
        "# Use a stride value of 2 to print out every second character of the string e:\n",
        "\n",
        "e = 'clocrkr1e1c1t'\n",
        "\n",
        "print(e[::2])"
      ]
    },
    {
      "cell_type": "code",
      "execution_count": 13,
      "id": "daa9be2e",
      "metadata": {
        "colab": {
          "base_uri": "https://localhost:8080/"
        },
        "id": "daa9be2e",
        "outputId": "da263284-8f89-444a-ee4c-52983b22aa13"
      },
      "outputs": [
        {
          "output_type": "stream",
          "name": "stdout",
          "text": [
            "\\ \n"
          ]
        }
      ],
      "source": [
        "# Print out a backslash:\n",
        "\n",
        "print(r\"\\ \")"
      ]
    },
    {
      "cell_type": "code",
      "execution_count": 14,
      "id": "efc00ade",
      "metadata": {
        "colab": {
          "base_uri": "https://localhost:8080/",
          "height": 36
        },
        "id": "efc00ade",
        "outputId": "2490eb57-23de-4c30-ef98-4312a7e08093"
      },
      "outputs": [
        {
          "output_type": "execute_result",
          "data": {
            "text/plain": [
              "'YOU ARE WRONG'"
            ],
            "application/vnd.google.colaboratory.intrinsic+json": {
              "type": "string"
            }
          },
          "metadata": {},
          "execution_count": 14
        }
      ],
      "source": [
        "# Convert the variable f to uppercase:\n",
        "\n",
        "f = \"You are wrong\"\n",
        "\n",
        "f.upper()"
      ]
    },
    {
      "cell_type": "code",
      "execution_count": 15,
      "id": "5d479bcb",
      "metadata": {
        "colab": {
          "base_uri": "https://localhost:8080/"
        },
        "id": "5d479bcb",
        "outputId": "ca63b28b-d240-456c-fe27-ddb7dbcc1c78"
      },
      "outputs": [
        {
          "output_type": "execute_result",
          "data": {
            "text/plain": [
              "95"
            ]
          },
          "metadata": {},
          "execution_count": 15
        }
      ],
      "source": [
        "# Consider the variable g, and find the first index of the sub-string snow:\n",
        "\n",
        "g = \"Mary had a little lamb Little lamb, little lamb Mary had a little lamb \\\n",
        "Its fleece was white as snow And everywhere that Mary went Mary went, Mary went \\\n",
        "Everywhere that Mary went The lamb was sure to go\"\n",
        "\n",
        "g.find(\"snow\")"
      ]
    },
    {
      "cell_type": "code",
      "execution_count": 16,
      "id": "cb66a6ea",
      "metadata": {
        "colab": {
          "base_uri": "https://localhost:8080/",
          "height": 53
        },
        "id": "cb66a6ea",
        "outputId": "8a7d3e7d-66cf-4e70-9bb1-cc56dfac02ea"
      },
      "outputs": [
        {
          "output_type": "execute_result",
          "data": {
            "text/plain": [
              "'Bob had a little lamb Little lamb, little lamb Bob had a little lamb Its fleece was white as snow And everywhere that Bob went Bob went, Bob went Everywhere that Bob went The lamb was sure to go'"
            ],
            "application/vnd.google.colaboratory.intrinsic+json": {
              "type": "string"
            }
          },
          "metadata": {},
          "execution_count": 16
        }
      ],
      "source": [
        "# In the variable g, replace the sub-string Mary with Bob:\n",
        "\n",
        "g.replace(\"Mary\",\"Bob\")"
      ]
    },
    {
      "cell_type": "markdown",
      "id": "e9af083e",
      "metadata": {
        "id": "e9af083e"
      },
      "source": [
        "# Create a Tuple"
      ]
    },
    {
      "cell_type": "code",
      "execution_count": 17,
      "id": "3f35189e",
      "metadata": {
        "colab": {
          "base_uri": "https://localhost:8080/"
        },
        "id": "3f35189e",
        "outputId": "01df00f7-c343-4338-f83b-66982c1e1cd3"
      },
      "outputs": [
        {
          "output_type": "stream",
          "name": "stdout",
          "text": [
            "(0, 1, 2, 3)\n"
          ]
        }
      ],
      "source": [
        "# Create a tuple  (0,1,2,3)  and assign it to variable A:\n",
        "\n",
        "A=(0,1,2,3)\n",
        "print(A)"
      ]
    },
    {
      "cell_type": "markdown",
      "id": "f429d979",
      "metadata": {
        "id": "f429d979"
      },
      "source": [
        "# Find the Elements of a Tuple"
      ]
    },
    {
      "cell_type": "code",
      "execution_count": 18,
      "id": "085c5d59",
      "metadata": {
        "colab": {
          "base_uri": "https://localhost:8080/"
        },
        "id": "085c5d59",
        "outputId": "a611f885-1b57-4119-b23a-1c050a6c5167"
      },
      "outputs": [
        {
          "output_type": "execute_result",
          "data": {
            "text/plain": [
              "(0, 1)"
            ]
          },
          "metadata": {},
          "execution_count": 18
        }
      ],
      "source": [
        "# Find the first two elements of tuple  A :\n",
        "\n",
        "A[0:2]"
      ]
    },
    {
      "cell_type": "markdown",
      "id": "117890e7",
      "metadata": {
        "id": "117890e7"
      },
      "source": [
        "# List"
      ]
    },
    {
      "cell_type": "code",
      "execution_count": 19,
      "id": "d8ada42e",
      "metadata": {
        "id": "d8ada42e"
      },
      "outputs": [],
      "source": [
        "# For the next few questions, you will need the following list:\n",
        "\n",
        "B=[\"a\",\"b\",\"c\"]"
      ]
    },
    {
      "cell_type": "code",
      "execution_count": 20,
      "id": "e5101c5c",
      "metadata": {
        "colab": {
          "base_uri": "https://localhost:8080/"
        },
        "id": "e5101c5c",
        "outputId": "45f62dbb-9bec-4830-f0d0-a140194e5278"
      },
      "outputs": [
        {
          "output_type": "execute_result",
          "data": {
            "text/plain": [
              "['a', 'b']"
            ]
          },
          "metadata": {},
          "execution_count": 20
        }
      ],
      "source": [
        "# Find the first two elements of the list  B:\n",
        "\n",
        "B[0:2]"
      ]
    },
    {
      "cell_type": "code",
      "execution_count": 21,
      "id": "4fd34edb",
      "metadata": {
        "colab": {
          "base_uri": "https://localhost:8080/"
        },
        "id": "4fd34edb",
        "outputId": "0cc97bca-dc99-44fe-d7bb-88baafb64e88"
      },
      "outputs": [
        {
          "output_type": "stream",
          "name": "stdout",
          "text": [
            "['A', 'b', 'c']\n"
          ]
        }
      ],
      "source": [
        "# Change the first element of the list to an uppercase \"A\".\n",
        "\n",
        "B[0]='A'\n",
        "print(B)"
      ]
    },
    {
      "cell_type": "markdown",
      "id": "286fe280",
      "metadata": {
        "id": "286fe280"
      },
      "source": [
        "# Quiz on Tuples"
      ]
    },
    {
      "cell_type": "code",
      "execution_count": 22,
      "id": "e122cce0",
      "metadata": {
        "colab": {
          "base_uri": "https://localhost:8080/"
        },
        "id": "e122cce0",
        "outputId": "e4b557e8-362f-4192-a085-83f741789a95"
      },
      "outputs": [
        {
          "output_type": "execute_result",
          "data": {
            "text/plain": [
              "('pop',\n",
              " 'rock',\n",
              " 'soul',\n",
              " 'hard rock',\n",
              " 'soft rock',\n",
              " 'R&B',\n",
              " 'progressive rock',\n",
              " 'disco')"
            ]
          },
          "metadata": {},
          "execution_count": 22
        }
      ],
      "source": [
        "# Consider the following tuple:\n",
        "\n",
        "genres_tuple = (\"pop\", \"rock\", \"soul\", \"hard rock\", \"soft rock\", \\\n",
        "                \"R&B\", \"progressive rock\", \"disco\") \n",
        "genres_tuple"
      ]
    },
    {
      "cell_type": "code",
      "execution_count": 23,
      "id": "bca1a982",
      "metadata": {
        "colab": {
          "base_uri": "https://localhost:8080/"
        },
        "id": "bca1a982",
        "outputId": "a65e49ab-2fbd-4a83-d42d-9104e40ab8dc"
      },
      "outputs": [
        {
          "output_type": "execute_result",
          "data": {
            "text/plain": [
              "8"
            ]
          },
          "metadata": {},
          "execution_count": 23
        }
      ],
      "source": [
        "# Find the length of the tuple, genres_tuple:\n",
        "\n",
        "len(genres_tuple)"
      ]
    },
    {
      "cell_type": "code",
      "execution_count": 24,
      "id": "0177bd51",
      "metadata": {
        "colab": {
          "base_uri": "https://localhost:8080/",
          "height": 36
        },
        "id": "0177bd51",
        "outputId": "615ccf0a-1823-4f6c-ce8a-6daa477b341b"
      },
      "outputs": [
        {
          "output_type": "execute_result",
          "data": {
            "text/plain": [
              "'hard rock'"
            ],
            "application/vnd.google.colaboratory.intrinsic+json": {
              "type": "string"
            }
          },
          "metadata": {},
          "execution_count": 24
        }
      ],
      "source": [
        "# Access the element, with respect to index 3:\n",
        "\n",
        "genres_tuple[3]"
      ]
    },
    {
      "cell_type": "code",
      "execution_count": 25,
      "id": "aaa44741",
      "metadata": {
        "colab": {
          "base_uri": "https://localhost:8080/"
        },
        "id": "aaa44741",
        "outputId": "b7ba2ef4-c342-426e-8a8a-80b43aecfabb"
      },
      "outputs": [
        {
          "output_type": "execute_result",
          "data": {
            "text/plain": [
              "('hard rock', 'soft rock', 'R&B')"
            ]
          },
          "metadata": {},
          "execution_count": 25
        }
      ],
      "source": [
        "# Use slicing to obtain indexes 3, 4 and 5:\n",
        "\n",
        "genres_tuple[3:6]"
      ]
    },
    {
      "cell_type": "code",
      "execution_count": 26,
      "id": "eada749a",
      "metadata": {
        "colab": {
          "base_uri": "https://localhost:8080/"
        },
        "id": "eada749a",
        "outputId": "874acdd6-b9eb-4234-f19e-393715fd9b19"
      },
      "outputs": [
        {
          "output_type": "execute_result",
          "data": {
            "text/plain": [
              "('pop', 'rock')"
            ]
          },
          "metadata": {},
          "execution_count": 26
        }
      ],
      "source": [
        "# Find the first two elements of the tuple genres_tuple:\n",
        "\n",
        "genres_tuple[:2]"
      ]
    },
    {
      "cell_type": "code",
      "execution_count": 27,
      "id": "485f0067",
      "metadata": {
        "colab": {
          "base_uri": "https://localhost:8080/"
        },
        "id": "485f0067",
        "outputId": "413e1fb2-5b81-48a1-de9f-40b7bf5a161c"
      },
      "outputs": [
        {
          "output_type": "execute_result",
          "data": {
            "text/plain": [
              "7"
            ]
          },
          "metadata": {},
          "execution_count": 27
        }
      ],
      "source": [
        "# Find the first index of \"disco\":\n",
        "\n",
        "genres_tuple.index(\"disco\")"
      ]
    },
    {
      "cell_type": "code",
      "execution_count": 28,
      "id": "a0ee8cb8",
      "metadata": {
        "colab": {
          "base_uri": "https://localhost:8080/"
        },
        "id": "a0ee8cb8",
        "outputId": "56b4cacf-09e8-4856-9666-0486d886b5d8"
      },
      "outputs": [
        {
          "output_type": "execute_result",
          "data": {
            "text/plain": [
              "[-5, -3, 1]"
            ]
          },
          "metadata": {},
          "execution_count": 28
        }
      ],
      "source": [
        "# Generate a sorted List from the Tuple C_tuple=(-5, 1, -3):\n",
        "\n",
        "C_tuple=(-5,1,-3)\n",
        "C_list=sorted(C_tuple)\n",
        "C_list"
      ]
    },
    {
      "cell_type": "markdown",
      "id": "2d22851c",
      "metadata": {
        "id": "2d22851c"
      },
      "source": [
        "# Quiz on List"
      ]
    },
    {
      "cell_type": "code",
      "execution_count": 29,
      "id": "84d73484",
      "metadata": {
        "colab": {
          "base_uri": "https://localhost:8080/"
        },
        "id": "84d73484",
        "outputId": "6e07150c-c417-4582-bbb9-eb220ff57913"
      },
      "outputs": [
        {
          "output_type": "execute_result",
          "data": {
            "text/plain": [
              "[1, 'hello', [1, 2, 3]]"
            ]
          },
          "metadata": {},
          "execution_count": 29
        }
      ],
      "source": [
        "# Create a list a_list, with the following elements 1, hello, [1,2,3] and True.\n",
        "\n",
        "a_list=[1,'hello',[1,2,3]]\n",
        "a_list"
      ]
    },
    {
      "cell_type": "code",
      "execution_count": 30,
      "id": "1f528022",
      "metadata": {
        "colab": {
          "base_uri": "https://localhost:8080/",
          "height": 36
        },
        "id": "1f528022",
        "outputId": "b6af2cd5-3cc5-4893-ad1f-19e446d5d131"
      },
      "outputs": [
        {
          "output_type": "execute_result",
          "data": {
            "text/plain": [
              "'hello'"
            ],
            "application/vnd.google.colaboratory.intrinsic+json": {
              "type": "string"
            }
          },
          "metadata": {},
          "execution_count": 30
        }
      ],
      "source": [
        "# Find the value stored at index 1 of a_list.\n",
        "\n",
        "a_list[1]"
      ]
    },
    {
      "cell_type": "code",
      "execution_count": 31,
      "id": "2dce3e3a",
      "metadata": {
        "colab": {
          "base_uri": "https://localhost:8080/"
        },
        "id": "2dce3e3a",
        "outputId": "61435ecd-cc9b-4320-c7d6-6231edd171c7"
      },
      "outputs": [
        {
          "output_type": "execute_result",
          "data": {
            "text/plain": [
              "['hello', [1, 2, 3]]"
            ]
          },
          "metadata": {},
          "execution_count": 31
        }
      ],
      "source": [
        "# Retrieve the elements stored at index 1, 2 and 3 of a_list.\n",
        "\n",
        "a_list[1:4]"
      ]
    },
    {
      "cell_type": "code",
      "execution_count": 32,
      "id": "38a6f9e7",
      "metadata": {
        "colab": {
          "base_uri": "https://localhost:8080/"
        },
        "id": "38a6f9e7",
        "outputId": "4bb91a88-a6df-41b3-efe7-4416cfcea604"
      },
      "outputs": [
        {
          "output_type": "execute_result",
          "data": {
            "text/plain": [
              "[1, 'a', 2, 1, 'd']"
            ]
          },
          "metadata": {},
          "execution_count": 32
        }
      ],
      "source": [
        "# Concatenate the following lists A = [1, 'a'] and B = [2, 1, 'd']:\n",
        "\n",
        "A = [1, 'a'] \n",
        "B = [2, 1, 'd']\n",
        "A + B"
      ]
    },
    {
      "cell_type": "markdown",
      "id": "b881a03b",
      "metadata": {
        "id": "b881a03b"
      },
      "source": [
        "# Cast a List to a Set"
      ]
    },
    {
      "cell_type": "code",
      "execution_count": 33,
      "id": "d872baa3",
      "metadata": {
        "colab": {
          "base_uri": "https://localhost:8080/"
        },
        "id": "d872baa3",
        "outputId": "f2b25954-decf-4389-b06b-d3b1917e0eb6"
      },
      "outputs": [
        {
          "output_type": "execute_result",
          "data": {
            "text/plain": [
              "{'A', 'B', 'C'}"
            ]
          },
          "metadata": {},
          "execution_count": 33
        }
      ],
      "source": [
        "set(['A','B','C','A','B','C'])"
      ]
    },
    {
      "cell_type": "markdown",
      "id": "a74f457d",
      "metadata": {
        "id": "a74f457d"
      },
      "source": [
        "# Add an Element to the Set"
      ]
    },
    {
      "cell_type": "code",
      "execution_count": 34,
      "id": "6fd18e87",
      "metadata": {
        "colab": {
          "base_uri": "https://localhost:8080/"
        },
        "id": "6fd18e87",
        "outputId": "902890c1-f74b-445a-dae0-b8a9c4bdfd0c"
      },
      "outputs": [
        {
          "output_type": "execute_result",
          "data": {
            "text/plain": [
              "{'A', 'B', 'C', 'D'}"
            ]
          },
          "metadata": {},
          "execution_count": 34
        }
      ],
      "source": [
        "# Add the string 'D' to the set S.\n",
        "\n",
        "S={'A','B','C'}\n",
        "S.add('D')\n",
        "S"
      ]
    },
    {
      "cell_type": "markdown",
      "id": "dd883b81",
      "metadata": {
        "id": "dd883b81"
      },
      "source": [
        "# Intersection of Sets"
      ]
    },
    {
      "cell_type": "code",
      "execution_count": 35,
      "id": "24387d96",
      "metadata": {
        "colab": {
          "base_uri": "https://localhost:8080/"
        },
        "id": "24387d96",
        "outputId": "4ac8991d-0064-4d79-b296-efc626cefb68"
      },
      "outputs": [
        {
          "output_type": "execute_result",
          "data": {
            "text/plain": [
              "{1, 3}"
            ]
          },
          "metadata": {},
          "execution_count": 35
        }
      ],
      "source": [
        "# Find the intersection of set A and B.\n",
        "\n",
        "A={1,2,3,4,5}\n",
        "B={1,3,9, 12}\n",
        "\n",
        "A & B"
      ]
    },
    {
      "cell_type": "markdown",
      "id": "5b000d3c",
      "metadata": {
        "id": "5b000d3c"
      },
      "source": [
        "# Quiz on Sets"
      ]
    },
    {
      "cell_type": "code",
      "execution_count": 36,
      "id": "da095ea9",
      "metadata": {
        "colab": {
          "base_uri": "https://localhost:8080/"
        },
        "id": "da095ea9",
        "outputId": "c80ccaaa-ae44-48c9-f5a6-ec9c6afe2e94"
      },
      "outputs": [
        {
          "output_type": "execute_result",
          "data": {
            "text/plain": [
              "{'electronic music', 'house', 'rap'}"
            ]
          },
          "metadata": {},
          "execution_count": 36
        }
      ],
      "source": [
        "# Convert the list ['rap','house','electronic music', 'rap'] to a set:\n",
        "\n",
        "set( ['rap','house','electronic music', 'rap'])"
      ]
    },
    {
      "cell_type": "code",
      "execution_count": 37,
      "id": "2e4042b8",
      "metadata": {
        "colab": {
          "base_uri": "https://localhost:8080/"
        },
        "id": "2e4042b8",
        "outputId": "7128d42a-fc32-412d-994a-fee87c62ee04"
      },
      "outputs": [
        {
          "output_type": "stream",
          "name": "stdout",
          "text": [
            "La suma de A es: 6\n",
            "La suma de B es: 3\n"
          ]
        }
      ],
      "source": [
        "# Consider the list A = [1, 2, 2, 1] and set B = set([1, 2, 2, 1]), does sum(A) == sum(B)?\n",
        "\n",
        "A = [1, 2, 2, 1]\n",
        "B = set([1, 2, 2, 1])\n",
        "print(\"La suma de A es:\",sum(A))\n",
        "print(\"La suma de B es:\",sum(B))"
      ]
    },
    {
      "cell_type": "code",
      "execution_count": 38,
      "id": "254ba799",
      "metadata": {
        "colab": {
          "base_uri": "https://localhost:8080/"
        },
        "id": "254ba799",
        "outputId": "604b16d3-1d8b-45b8-d143-004cbadf53dc"
      },
      "outputs": [
        {
          "output_type": "execute_result",
          "data": {
            "text/plain": [
              "{'AC/DC', 'Back in Black', 'The Dark Side of the Moon', 'Thriller'}"
            ]
          },
          "metadata": {},
          "execution_count": 38
        }
      ],
      "source": [
        "# Create a new set album_set3 that is the union of album_set1 and album_set2:\n",
        "\n",
        "\n",
        "album_set1 = set([\"Thriller\", 'AC/DC', 'Back in Black'])\n",
        "album_set2 = set([ \"AC/DC\", \"Back in Black\", \"The Dark Side of the Moon\"])\n",
        "album_set3 = album_set1.union(album_set2)\n",
        "album_set3"
      ]
    },
    {
      "cell_type": "code",
      "execution_count": 39,
      "id": "aa128c73",
      "metadata": {
        "colab": {
          "base_uri": "https://localhost:8080/"
        },
        "id": "aa128c73",
        "outputId": "a29dda29-c2fb-4918-ff67-45b095e5e67c"
      },
      "outputs": [
        {
          "output_type": "execute_result",
          "data": {
            "text/plain": [
              "True"
            ]
          },
          "metadata": {},
          "execution_count": 39
        }
      ],
      "source": [
        "# Find out if album_set1 is a subset of album_set3:\n",
        "\n",
        "album_set1.issubset(album_set3)"
      ]
    },
    {
      "cell_type": "markdown",
      "id": "fb8a4092",
      "metadata": {
        "id": "fb8a4092"
      },
      "source": [
        "# Quiz on Dictionaries"
      ]
    },
    {
      "cell_type": "code",
      "execution_count": 40,
      "id": "12ba3093",
      "metadata": {
        "colab": {
          "base_uri": "https://localhost:8080/"
        },
        "id": "12ba3093",
        "outputId": "a8d2ca98-3e03-46e3-c58c-98c8866eb12a"
      },
      "outputs": [
        {
          "output_type": "execute_result",
          "data": {
            "text/plain": [
              "{'The Bodyguard': '1992', 'Saturday Night Fever': '1977'}"
            ]
          },
          "metadata": {},
          "execution_count": 40
        }
      ],
      "source": [
        "# You will need this dictionary for the next two questions:\n",
        "\n",
        "soundtrack_dic = {\"The Bodyguard\":\"1992\", \"Saturday Night Fever\":\"1977\"}\n",
        "soundtrack_dic "
      ]
    },
    {
      "cell_type": "code",
      "execution_count": 41,
      "id": "d2647ee4",
      "metadata": {
        "colab": {
          "base_uri": "https://localhost:8080/"
        },
        "id": "d2647ee4",
        "outputId": "4257a892-85ec-46b6-be59-a7549cec2530"
      },
      "outputs": [
        {
          "output_type": "execute_result",
          "data": {
            "text/plain": [
              "dict_keys(['The Bodyguard', 'Saturday Night Fever'])"
            ]
          },
          "metadata": {},
          "execution_count": 41
        }
      ],
      "source": [
        "# a) In the dictionary soundtrack_dic what are the keys ?\n",
        "\n",
        "soundtrack_dic.keys()"
      ]
    },
    {
      "cell_type": "code",
      "execution_count": 42,
      "id": "6fde3199",
      "metadata": {
        "colab": {
          "base_uri": "https://localhost:8080/"
        },
        "id": "6fde3199",
        "outputId": "f1a7d976-95a1-4c4a-86a6-66c0afa955ee"
      },
      "outputs": [
        {
          "output_type": "execute_result",
          "data": {
            "text/plain": [
              "dict_values(['1992', '1977'])"
            ]
          },
          "metadata": {},
          "execution_count": 42
        }
      ],
      "source": [
        "soundtrack_dic.values()"
      ]
    },
    {
      "cell_type": "code",
      "execution_count": 43,
      "id": "8cee3c22",
      "metadata": {
        "colab": {
          "base_uri": "https://localhost:8080/"
        },
        "id": "8cee3c22",
        "outputId": "28cd2b0a-09ee-4ff3-df1a-85fe91bb7cd6"
      },
      "outputs": [
        {
          "output_type": "execute_result",
          "data": {
            "text/plain": [
              "{'Back in Blak': 50, 'Bodyguard': 50, 'Thriller': 65}"
            ]
          },
          "metadata": {},
          "execution_count": 43
        }
      ],
      "source": [
        "# You will need this dictionary for the following questions:\n",
        "\n",
        "# The Albums Back in Black, The Bodyguard and Thriller have the following music recording sales in millions 50, 50 \n",
        "# and 65 respectively:\n",
        "\n",
        "# a) Create a dictionary album_sales_dict where the keys are the album name and the sales in millions are the values.\n",
        "\n",
        "album_sales_dict={\"Back in Blak\":50,\"Bodyguard\":50,\"Thriller\":65}\n",
        "album_sales_dict"
      ]
    },
    {
      "cell_type": "code",
      "execution_count": 44,
      "id": "387c2119",
      "metadata": {
        "colab": {
          "base_uri": "https://localhost:8080/"
        },
        "id": "387c2119",
        "outputId": "9fdea101-7f57-4970-b85c-3c556b597cb8"
      },
      "outputs": [
        {
          "output_type": "execute_result",
          "data": {
            "text/plain": [
              "65"
            ]
          },
          "metadata": {},
          "execution_count": 44
        }
      ],
      "source": [
        "# b) Use the dictionary to find the total sales of Thriller:\n",
        "\n",
        "album_sales_dict[\"Thriller\"]"
      ]
    },
    {
      "cell_type": "code",
      "execution_count": 45,
      "id": "a6407659",
      "metadata": {
        "colab": {
          "base_uri": "https://localhost:8080/"
        },
        "id": "a6407659",
        "outputId": "dbc2a5dc-9b42-4819-dacb-39b5284cb13f"
      },
      "outputs": [
        {
          "output_type": "execute_result",
          "data": {
            "text/plain": [
              "dict_keys(['Back in Blak', 'Bodyguard', 'Thriller'])"
            ]
          },
          "metadata": {},
          "execution_count": 45
        }
      ],
      "source": [
        "# Find the names of the albums from the dictionary using the method keys():\n",
        "\n",
        "album_sales_dict.keys()"
      ]
    },
    {
      "cell_type": "code",
      "execution_count": 46,
      "id": "e415022d",
      "metadata": {
        "colab": {
          "base_uri": "https://localhost:8080/"
        },
        "id": "e415022d",
        "outputId": "7cd19e33-99fd-47b1-e8e0-53bf58dc12c3"
      },
      "outputs": [
        {
          "output_type": "execute_result",
          "data": {
            "text/plain": [
              "dict_values([50, 50, 65])"
            ]
          },
          "metadata": {},
          "execution_count": 46
        }
      ],
      "source": [
        "# d) Find the values of the recording sales from the dictionary using the method values:\n",
        "\n",
        "album_sales_dict.values()"
      ]
    },
    {
      "cell_type": "markdown",
      "id": "cddacfbf",
      "metadata": {
        "id": "cddacfbf"
      },
      "source": [
        "# Quiz on Conditions"
      ]
    },
    {
      "cell_type": "code",
      "execution_count": 47,
      "id": "d47bd8e0",
      "metadata": {
        "colab": {
          "base_uri": "https://localhost:8080/"
        },
        "id": "d47bd8e0",
        "outputId": "576af5d8-2f3e-4c5f-9f94-080aa47d42fc"
      },
      "outputs": [
        {
          "output_type": "stream",
          "name": "stdout",
          "text": [
            "This album is Amazing!\n"
          ]
        }
      ],
      "source": [
        "# Write an if statement to determine if an album had a rating greater than 8.\n",
        "# Test it using the rating for the album “Back in Black” that had a rating of 8.5.\n",
        "# If the statement is true print \"This album is Amazing!\"\n",
        "\n",
        "r=8.5\n",
        "if r > 8:\n",
        "    print(\"This album is Amazing!\")\n"
      ]
    },
    {
      "cell_type": "code",
      "execution_count": 48,
      "id": "451f28bc",
      "metadata": {
        "colab": {
          "base_uri": "https://localhost:8080/"
        },
        "id": "451f28bc",
        "outputId": "fc1dff60-89dd-43fc-86d2-89d7f305bd4b"
      },
      "outputs": [
        {
          "output_type": "stream",
          "name": "stdout",
          "text": [
            "this album is ok\n"
          ]
        }
      ],
      "source": [
        "# Write an if-else statement that performs the following.\n",
        "# If the rating is larger then eight print “this album is amazing”.\n",
        "# If the rating is less than or equal to 8 print “this album is ok”.\n",
        "\n",
        "r=8\n",
        "if r > 8:\n",
        "    print(\"This album is Amazing!\")\n",
        "else:\n",
        "    print(\"this album is ok\")"
      ]
    },
    {
      "cell_type": "code",
      "execution_count": 49,
      "id": "83734c53",
      "metadata": {
        "colab": {
          "base_uri": "https://localhost:8080/"
        },
        "id": "83734c53",
        "outputId": "4dd1a92c-3f9f-47a5-daeb-750b97da35e7"
      },
      "outputs": [
        {
          "output_type": "stream",
          "name": "stdout",
          "text": [
            "This album came out in year 1991\n"
          ]
        }
      ],
      "source": [
        "# Write an if statement to determine if an album came out before 1980\n",
        "# or in the years: 1991 or 1993.\n",
        "# If the condition is true print out the year the album came out.\n",
        "\n",
        "album = 1991\n",
        "\n",
        "if album < 1980 or album == 1991 or album == 1993:\n",
        "    print(\"This album came out in year\", album)"
      ]
    },
    {
      "cell_type": "markdown",
      "id": "5ae7715b",
      "metadata": {
        "id": "5ae7715b"
      },
      "source": [
        "# Quiz on Loops"
      ]
    },
    {
      "cell_type": "code",
      "execution_count": 50,
      "id": "7286f51d",
      "metadata": {
        "colab": {
          "base_uri": "https://localhost:8080/"
        },
        "id": "7286f51d",
        "outputId": "21b8675c-a3d1-4fd6-b790-e72687c03871"
      },
      "outputs": [
        {
          "output_type": "stream",
          "name": "stdout",
          "text": [
            "-4\n",
            "-3\n",
            "-2\n",
            "-1\n",
            "0\n",
            "1\n",
            "2\n",
            "3\n",
            "4\n"
          ]
        }
      ],
      "source": [
        "# Write a for loop the prints out all the element between -5 and 5 using the range function.\n",
        "\n",
        "for i in range(-4, 5):\n",
        "    print(i)"
      ]
    },
    {
      "cell_type": "code",
      "execution_count": 51,
      "id": "72678846",
      "metadata": {
        "colab": {
          "base_uri": "https://localhost:8080/"
        },
        "id": "72678846",
        "outputId": "1dfe8e6b-f691-45db-8155-c902e5bb6332"
      },
      "outputs": [
        {
          "output_type": "stream",
          "name": "stdout",
          "text": [
            "rock\n",
            "R&B\n",
            "Soundtrack\n",
            "R&B\n",
            "soul\n",
            "pop\n"
          ]
        }
      ],
      "source": [
        "# Print the elements of the following list:\n",
        "# Genres=[ 'rock', 'R&B', 'Soundtrack', 'R&B', 'soul', 'pop']\n",
        "# Make sure you follow Python conventions.\n",
        "\n",
        "Genres=[ 'rock', 'R&B', 'Soundtrack', 'R&B', 'soul', 'pop']\n",
        "\n",
        "for i in Genres:\n",
        "    print(i)\n"
      ]
    },
    {
      "cell_type": "code",
      "execution_count": 52,
      "id": "d68711f1",
      "metadata": {
        "colab": {
          "base_uri": "https://localhost:8080/"
        },
        "id": "d68711f1",
        "outputId": "cefd656c-e179-4f73-9229-b96df40e17c9"
      },
      "outputs": [
        {
          "output_type": "stream",
          "name": "stdout",
          "text": [
            "red\n",
            "yellow\n",
            "green\n",
            "purple\n",
            "blue\n"
          ]
        }
      ],
      "source": [
        "# Write a for loop that prints out the following list: squares=['red', 'yellow', 'green', 'purple', 'blue']\n",
        "\n",
        "squares=['red', 'yellow', 'green', 'purple', 'blue']\n",
        "\n",
        "for i in squares:\n",
        "    print(i)"
      ]
    },
    {
      "cell_type": "code",
      "execution_count": 53,
      "id": "5645d2a2",
      "metadata": {
        "colab": {
          "base_uri": "https://localhost:8080/"
        },
        "id": "5645d2a2",
        "outputId": "c160fa5e-3d5c-4763-e240-6f7459bd59d5"
      },
      "outputs": [
        {
          "output_type": "stream",
          "name": "stdout",
          "text": [
            "10\n",
            "9.5\n",
            "10\n",
            "8\n",
            "7.5\n"
          ]
        }
      ],
      "source": [
        "# Write a while loop to display the values of the Rating of an album playlist stored in the list PlayListRatings.\n",
        "# If the score is less than 6, exit the loop.\n",
        "# The list PlayListRatings is given by: PlayListRatings = [10, 9.5, 10, 8, 7.5, 5, 10, 10]\n",
        "\n",
        "PlayListRatings = [10, 9.5, 10, 8, 7.5, 5, 10, 10]\n",
        "i = 0\n",
        "Rating = PlayListRatings[0]\n",
        "while(i < len(PlayListRatings) and Rating >= 6):\n",
        "    print(Rating)\n",
        "    i = i + 1\n",
        "    Rating = PlayListRatings[i]"
      ]
    },
    {
      "cell_type": "code",
      "execution_count": 54,
      "id": "95772925",
      "metadata": {
        "colab": {
          "base_uri": "https://localhost:8080/"
        },
        "id": "95772925",
        "outputId": "67e26f0b-e766-41bd-e1f1-e3dad75c124a"
      },
      "outputs": [
        {
          "output_type": "stream",
          "name": "stdout",
          "text": [
            "['orange', 'orange']\n"
          ]
        }
      ],
      "source": [
        "# Write a while loop to copy the strings 'orange' of the list squares to the list new_squares.\n",
        "# Stop and exit the loop if the value on the list is not 'orange':\n",
        "\n",
        "squares = ['orange', 'orange', 'purple', 'blue ', 'orange']\n",
        "new_squares = []\n",
        "\n",
        "i = 0\n",
        "while(i < len(squares) and squares[i] == 'orange'):\n",
        "    new_squares.append(squares[i])\n",
        "    i = i + 1\n",
        "print (new_squares)"
      ]
    },
    {
      "cell_type": "markdown",
      "id": "7b971ccf",
      "metadata": {
        "id": "7b971ccf"
      },
      "source": [
        "# Quiz on Functions"
      ]
    },
    {
      "cell_type": "code",
      "execution_count": 55,
      "id": "4cb32108",
      "metadata": {
        "colab": {
          "base_uri": "https://localhost:8080/"
        },
        "id": "4cb32108",
        "outputId": "0544673d-ca5a-407b-990b-8f180b85821e"
      },
      "outputs": [
        {
          "output_type": "execute_result",
          "data": {
            "text/plain": [
              "10.0"
            ]
          },
          "metadata": {},
          "execution_count": 55
        }
      ],
      "source": [
        "# Come up with a function that divides the first input by the second input:\n",
        "\n",
        "def dividir(a, b):\n",
        "    return(a/b)\n",
        "\n",
        "dividir(30,3)"
      ]
    },
    {
      "cell_type": "code",
      "execution_count": 56,
      "id": "e41a0918",
      "metadata": {
        "id": "e41a0918"
      },
      "outputs": [],
      "source": [
        "# Use the con function for the following question\n",
        "\n",
        "def con(a, b):\n",
        "    return(a + b)"
      ]
    },
    {
      "cell_type": "code",
      "execution_count": 57,
      "id": "ddcd7fde",
      "metadata": {
        "colab": {
          "base_uri": "https://localhost:8080/",
          "height": 36
        },
        "id": "ddcd7fde",
        "outputId": "b88a1d7a-4a68-4357-c67f-6df4f2263724"
      },
      "outputs": [
        {
          "output_type": "execute_result",
          "data": {
            "text/plain": [
              "'Hola Mundo'"
            ],
            "application/vnd.google.colaboratory.intrinsic+json": {
              "type": "string"
            }
          },
          "metadata": {},
          "execution_count": 57
        }
      ],
      "source": [
        "# Can the con function we defined before be used to add two integers or strings?\n",
        "\n",
        "con('Hola ', 'Mundo')    "
      ]
    },
    {
      "cell_type": "code",
      "execution_count": 58,
      "id": "7e0294a2",
      "metadata": {
        "colab": {
          "base_uri": "https://localhost:8080/"
        },
        "id": "7e0294a2",
        "outputId": "d25ce02a-26fa-4625-f5ad-28ba98502527"
      },
      "outputs": [
        {
          "output_type": "execute_result",
          "data": {
            "text/plain": [
              "['a', 5, 'b', 7]"
            ]
          },
          "metadata": {},
          "execution_count": 58
        }
      ],
      "source": [
        "# Can the con function we defined before be used to concatenate lists or tuples?\n",
        "\n",
        "con(['a',5],['b',7])"
      ]
    },
    {
      "cell_type": "markdown",
      "id": "6d29dc8f",
      "metadata": {
        "id": "6d29dc8f"
      },
      "source": [
        "# Exercises"
      ]
    },
    {
      "cell_type": "code",
      "execution_count": 59,
      "id": "6e220a14",
      "metadata": {
        "id": "6e220a14"
      },
      "outputs": [],
      "source": [
        "# You have been recruited by your friend, a linguistics enthusiast,\n",
        "# to create a utility tool that can perform analysis on a given piece of text.\n",
        "# Complete the class 'analysedText' with the following methods -\n",
        "\n",
        "# Constructor (__init__) - This method should take the argument text,\n",
        "# make it lower case, and remove all punctuation.\n",
        "# Assume only the following punctuation is used: period (.), \n",
        "# exclamation mark (!), comma (,) and question mark (?).\n",
        "# Assign this newly formatted text to a new attribute called fmtText.\n",
        "\n",
        "# freqAll - This method should create and return dictionary of all unique words in the text,\n",
        "# along with the number of times they occur in the text.\n",
        "# Each key in the dictionary should be the unique word appearing in the text and the associated\n",
        "# value should be the number of times it occurs in the text. Create this dictionary from the fmtText attribute.\n",
        "\n",
        "# freqOf - This method should take a word as an argument and return the number of occurrences of that word in fmtText.\n",
        "\n",
        "# The skeleton code has been given to you. Docstrings can be ignored for the purpose of the exercise.\n",
        "# Hint: Some useful functions are replace(), lower(), split(), count()\n",
        "\n",
        "\n",
        "class analysedText(object):\n",
        "    \n",
        "    def __init__ (self, text):\n",
        "        # remueve . ! ? ,\n",
        "        formattedText = text.replace('.','').replace('!','').replace('?','').replace(',','')\n",
        "        \n",
        "        # Texto en minusculas\n",
        "        formattedText = formattedText.lower()\n",
        "        \n",
        "        self.fmtText = formattedText\n",
        "        \n",
        "    def freqAll(self):        \n",
        "        # divide el texto en palabras\n",
        "        wordList = self.fmtText.split(' ')\n",
        "        \n",
        "        # crea el diccionario y elimina duplicados\n",
        "        freqMap = {}\n",
        "        for word in set(wordList):\n",
        "            freqMap[word] = wordList.count(word)\n",
        "        \n",
        "        return freqMap\n",
        "    \n",
        "    def freqOf(self,word):\n",
        "        # obtiene la frecuencia\n",
        "        freqDict = self.freqAll()\n",
        "        \n",
        "        if word in freqDict:\n",
        "            return freqDict[word]\n",
        "        else:\n",
        "            return 0\n",
        "    "
      ]
    },
    {
      "cell_type": "code",
      "execution_count": 60,
      "id": "41e1b374",
      "metadata": {
        "colab": {
          "base_uri": "https://localhost:8080/"
        },
        "id": "41e1b374",
        "outputId": "8a6529ef-373d-4948-e49d-9fa103d8d176"
      },
      "outputs": [
        {
          "output_type": "stream",
          "name": "stdout",
          "text": [
            "Constructor: \n",
            "Test Passed\n",
            "freqAll: \n",
            "Test Passed\n",
            "freqOf: \n",
            "Test Passed\n"
          ]
        }
      ],
      "source": [
        "# You can run the code cell below to test your functions to ensure they are working correctly.\n",
        "# First execute the code cell in which you implemented your solution, then execute the code cell to test your implementation.\n",
        "\n",
        "import sys\n",
        "\n",
        "sampleMap = {'eirmod': 1,'sed': 1, 'amet': 2, 'diam': 5, 'consetetur': 1, 'labore': 1, 'tempor': 1, 'dolor': 1, 'magna': 2, 'et': 3, 'nonumy': 1, 'ipsum': 1, 'lorem': 2}\n",
        "\n",
        "def testMsg(passed):\n",
        "    if passed:\n",
        "       return 'Test Passed'\n",
        "    else :\n",
        "       return 'Test Failed'\n",
        "\n",
        "print(\"Constructor: \")\n",
        "try:\n",
        "    samplePassage = analysedText(\"Lorem ipsum dolor! diam amet, consetetur Lorem magna. sed diam nonumy eirmod tempor. diam et labore? et diam magna. et diam amet.\")\n",
        "    print(testMsg(samplePassage.fmtText == \"lorem ipsum dolor diam amet consetetur lorem magna sed diam nonumy eirmod tempor diam et labore et diam magna et diam amet\"))\n",
        "except:\n",
        "    print(\"Error detected. Recheck your function \" )\n",
        "print(\"freqAll: \")\n",
        "try:\n",
        "    wordMap = samplePassage.freqAll()\n",
        "    print(testMsg(wordMap==sampleMap))\n",
        "except:\n",
        "    print(\"Error detected. Recheck your function \" )\n",
        "print(\"freqOf: \")\n",
        "try:\n",
        "    passed = True\n",
        "    for word in sampleMap:\n",
        "        if samplePassage.freqOf(word) != sampleMap[word]:\n",
        "            passed = False\n",
        "            break\n",
        "    print(testMsg(passed))\n",
        "    \n",
        "except:\n",
        "    print(\"Error detected. Recheck your function  \" )"
      ]
    },
    {
      "cell_type": "code",
      "execution_count": 60,
      "id": "e1f175dc",
      "metadata": {
        "id": "e1f175dc"
      },
      "outputs": [],
      "source": []
    }
  ],
  "metadata": {
    "kernelspec": {
      "display_name": "Python 3 (ipykernel)",
      "language": "python",
      "name": "python3"
    },
    "language_info": {
      "codemirror_mode": {
        "name": "ipython",
        "version": 3
      },
      "file_extension": ".py",
      "mimetype": "text/x-python",
      "name": "python",
      "nbconvert_exporter": "python",
      "pygments_lexer": "ipython3",
      "version": "3.9.12"
    },
    "colab": {
      "provenance": [],
      "include_colab_link": true
    }
  },
  "nbformat": 4,
  "nbformat_minor": 5
}