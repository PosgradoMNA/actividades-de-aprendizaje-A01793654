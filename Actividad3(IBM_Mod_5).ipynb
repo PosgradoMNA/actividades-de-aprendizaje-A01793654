{
  "nbformat": 4,
  "nbformat_minor": 0,
  "metadata": {
    "colab": {
      "provenance": [],
      "authorship_tag": "ABX9TyP9q+z+h/0+AKLmVXaRQexH",
      "include_colab_link": true
    },
    "kernelspec": {
      "name": "python3",
      "display_name": "Python 3"
    },
    "language_info": {
      "name": "python"
    }
  },
  "cells": [
    {
      "cell_type": "markdown",
      "metadata": {
        "id": "view-in-github",
        "colab_type": "text"
      },
      "source": [
        "<a href=\"https://colab.research.google.com/github/PosgradoMNA/actividades-de-aprendizaje-A01793654/blob/main/Actividad3(IBM_Mod_5).ipynb\" target=\"_parent\"><img src=\"https://colab.research.google.com/assets/colab-badge.svg\" alt=\"Open In Colab\"/></a>"
      ]
    },
    {
      "cell_type": "markdown",
      "source": [
        "# Actividad 3 (Curos de IBM modulo 5)\n",
        "\n",
        "## Bernardo Mijangos Flores\n",
        "### Matricula A01793654"
      ],
      "metadata": {
        "id": "aaOQGoPEpHEl"
      }
    },
    {
      "cell_type": "markdown",
      "source": [
        "## Laboratorio 5.1 matriz con numpy"
      ],
      "metadata": {
        "id": "gxM8xr94pUuN"
      }
    },
    {
      "cell_type": "code",
      "execution_count": 6,
      "metadata": {
        "colab": {
          "base_uri": "https://localhost:8080/"
        },
        "id": "s5MUwObLo8bS",
        "outputId": "be6c892d-8a22-4f01-d678-176ac19b2763"
      },
      "outputs": [
        {
          "output_type": "execute_result",
          "data": {
            "text/plain": [
              "array([1, 2, 3, 4, 5])"
            ]
          },
          "metadata": {},
          "execution_count": 6
        }
      ],
      "source": [
        "# Tranfiera la siguiente lista a una matriz en numpy\n",
        "\n",
        "import numpy as np\n",
        "a=[1,2,3,4,5]\n",
        "\n",
        "x = np.array(a)\n",
        "x"
      ]
    },
    {
      "cell_type": "code",
      "source": [
        "# encontrar el typo de x usando la funcion type()\n",
        "\n",
        "type(x)"
      ],
      "metadata": {
        "colab": {
          "base_uri": "https://localhost:8080/"
        },
        "id": "Dv6JiJI0p-wb",
        "outputId": "217fa27a-0f81-4b3d-967a-0b743a47e8e9"
      },
      "execution_count": 7,
      "outputs": [
        {
          "output_type": "execute_result",
          "data": {
            "text/plain": [
              "numpy.ndarray"
            ]
          },
          "metadata": {},
          "execution_count": 7
        }
      ]
    },
    {
      "cell_type": "code",
      "source": [
        "# encontrar la forma de la matriz\n",
        "\n",
        "x.shape"
      ],
      "metadata": {
        "colab": {
          "base_uri": "https://localhost:8080/"
        },
        "id": "7tOrrmvvqNwb",
        "outputId": "61303c1e-fab6-4273-b6be-217da211ab70"
      },
      "execution_count": 8,
      "outputs": [
        {
          "output_type": "execute_result",
          "data": {
            "text/plain": [
              "(5,)"
            ]
          },
          "metadata": {},
          "execution_count": 8
        }
      ]
    },
    {
      "cell_type": "code",
      "source": [
        "# encontrar el tipo de dato de la matriz\n",
        "\n",
        "x.dtype"
      ],
      "metadata": {
        "colab": {
          "base_uri": "https://localhost:8080/"
        },
        "id": "7FP9qktlrh22",
        "outputId": "0e171889-0759-4c79-9f9f-c70cda7fb12f"
      },
      "execution_count": 9,
      "outputs": [
        {
          "output_type": "execute_result",
          "data": {
            "text/plain": [
              "dtype('int64')"
            ]
          },
          "metadata": {},
          "execution_count": 9
        }
      ]
    },
    {
      "cell_type": "code",
      "source": [
        "# encontrar la media de la matriz\n",
        "\n",
        "x.mean()"
      ],
      "metadata": {
        "colab": {
          "base_uri": "https://localhost:8080/"
        },
        "id": "6ktJNsbwry2j",
        "outputId": "eea7afe4-407d-4868-84f2-f451d7eb24d2"
      },
      "execution_count": 10,
      "outputs": [
        {
          "output_type": "execute_result",
          "data": {
            "text/plain": [
              "3.0"
            ]
          },
          "metadata": {},
          "execution_count": 10
        }
      ]
    },
    {
      "cell_type": "markdown",
      "source": [
        "# 1D numpy en python"
      ],
      "metadata": {
        "id": "001VSnJ9swfW"
      }
    },
    {
      "cell_type": "code",
      "source": [
        "# crear la siguiente lista:\n",
        "\n",
        "a = [\"0\", 1, \"two\", \"3\", 4]\n",
        "a"
      ],
      "metadata": {
        "colab": {
          "base_uri": "https://localhost:8080/"
        },
        "id": "vTZSVdfsr9tE",
        "outputId": "7e194642-1a97-4fc0-9b0a-5b61368fd034"
      },
      "execution_count": 12,
      "outputs": [
        {
          "output_type": "execute_result",
          "data": {
            "text/plain": [
              "['0', 1, 'two', '3', 4]"
            ]
          },
          "metadata": {},
          "execution_count": 12
        }
      ]
    },
    {
      "cell_type": "code",
      "source": [
        "# podemos acceder a cada elemento usando un corchete de la siguiente manera:\n",
        "\n",
        "print(\"a[0]:\", a[0])\n",
        "print(\"a[1]:\", a[1])\n",
        "print(\"a[2]:\", a[2])\n",
        "print(\"a[3]:\", a[3])\n",
        "print(\"a[4]:\", a[4])"
      ],
      "metadata": {
        "colab": {
          "base_uri": "https://localhost:8080/"
        },
        "id": "2Se5jBKqtVdo",
        "outputId": "ed84b208-a17d-4ddf-fb31-c8c178c83e84"
      },
      "execution_count": 13,
      "outputs": [
        {
          "output_type": "stream",
          "name": "stdout",
          "text": [
            "a[0]: 0\n",
            "a[1]: 1\n",
            "a[2]: two\n",
            "a[3]: 3\n",
            "a[4]: 4\n"
          ]
        }
      ]
    },
    {
      "cell_type": "code",
      "source": [
        "# importando la libreria de numpy\n",
        "\n",
        "import numpy as np"
      ],
      "metadata": {
        "id": "4LcYPmIWtmTl"
      },
      "execution_count": 14,
      "outputs": []
    },
    {
      "cell_type": "code",
      "source": [
        "# se crea una matriz en numpy\n",
        "\n",
        "a = np.array([0, 1, 2, 3, 4])\n",
        "a"
      ],
      "metadata": {
        "colab": {
          "base_uri": "https://localhost:8080/"
        },
        "id": "KyCVw-GWuCQe",
        "outputId": "4351cb29-a4a5-476a-92f2-7c7dadf18184"
      },
      "execution_count": 15,
      "outputs": [
        {
          "output_type": "execute_result",
          "data": {
            "text/plain": [
              "array([0, 1, 2, 3, 4])"
            ]
          },
          "metadata": {},
          "execution_count": 15
        }
      ]
    },
    {
      "cell_type": "code",
      "source": [
        "# cada elemento es del mismo tipo, en este caso enteros\n",
        "\n",
        "# se muestra cada elemento de la matriz\n",
        "\n",
        "print(\"a[0]:\", a[0])\n",
        "print(\"a[1]:\", a[1])\n",
        "print(\"a[2]:\", a[2])\n",
        "print(\"a[3]:\", a[3])\n",
        "print(\"a[4]:\", a[4])"
      ],
      "metadata": {
        "colab": {
          "base_uri": "https://localhost:8080/"
        },
        "id": "XcMpsAsIuNW1",
        "outputId": "3fc512e0-5bd7-484e-df89-25c0a9b01d9b"
      },
      "execution_count": 17,
      "outputs": [
        {
          "output_type": "stream",
          "name": "stdout",
          "text": [
            "a[0]: 0\n",
            "a[1]: 1\n",
            "a[2]: 2\n",
            "a[3]: 3\n",
            "a[4]: 4\n"
          ]
        }
      ]
    },
    {
      "cell_type": "code",
      "source": [
        "# comprobando la version de numpy\n",
        "\n",
        "print(np.__version__)"
      ],
      "metadata": {
        "colab": {
          "base_uri": "https://localhost:8080/"
        },
        "id": "ClH0mlJEuic0",
        "outputId": "78689ee6-746d-445c-eb93-a92982210241"
      },
      "execution_count": 18,
      "outputs": [
        {
          "output_type": "stream",
          "name": "stdout",
          "text": [
            "1.21.6\n"
          ]
        }
      ]
    },
    {
      "cell_type": "code",
      "source": [
        "# comprobando el tipo de la matriz\n",
        "\n",
        "type(a)"
      ],
      "metadata": {
        "colab": {
          "base_uri": "https://localhost:8080/"
        },
        "id": "4FgErlrauypK",
        "outputId": "a7ea052a-1b4b-4768-ef61-64a694cc010a"
      },
      "execution_count": 19,
      "outputs": [
        {
          "output_type": "execute_result",
          "data": {
            "text/plain": [
              "numpy.ndarray"
            ]
          },
          "metadata": {},
          "execution_count": 19
        }
      ]
    },
    {
      "cell_type": "code",
      "source": [
        "# Como las matrices numpy contienen datos del mismo tipo, podemos usar el atributo \"dtype\" para obtener el tipo de datos de los elementos de la matriz. En este caso, es un entero de 64 bits:\n",
        "\n",
        "# comprobando los tipos de valores\n",
        "\n",
        "a.dtype"
      ],
      "metadata": {
        "colab": {
          "base_uri": "https://localhost:8080/"
        },
        "id": "DWr3_rvlvC15",
        "outputId": "3177ba11-09e6-4664-e59f-b84888872582"
      },
      "execution_count": 20,
      "outputs": [
        {
          "output_type": "execute_result",
          "data": {
            "text/plain": [
              "dtype('int64')"
            ]
          },
          "metadata": {},
          "execution_count": 20
        }
      ]
    },
    {
      "cell_type": "code",
      "source": [
        "# Verificar el tipo de matriz y el tipo de valor\n",
        "\n",
        "b = np.array([3.1, 11.02, 6.2, 213.2, 5.2])\n",
        "\n",
        "type(b)"
      ],
      "metadata": {
        "colab": {
          "base_uri": "https://localhost:8080/"
        },
        "id": "W_tj6xVfvWpe",
        "outputId": "f3c43f26-c190-4a12-c99d-3173449393ed"
      },
      "execution_count": 22,
      "outputs": [
        {
          "output_type": "execute_result",
          "data": {
            "text/plain": [
              "numpy.ndarray"
            ]
          },
          "metadata": {},
          "execution_count": 22
        }
      ]
    },
    {
      "cell_type": "code",
      "source": [
        "# Verificar el tipo de valor de la matriz\n",
        "\n",
        "b.dtype"
      ],
      "metadata": {
        "colab": {
          "base_uri": "https://localhost:8080/"
        },
        "id": "c4f6G0xY5EUC",
        "outputId": "6512839a-90ba-492f-e376-415e8f513157"
      },
      "execution_count": 23,
      "outputs": [
        {
          "output_type": "execute_result",
          "data": {
            "text/plain": [
              "dtype('float64')"
            ]
          },
          "metadata": {},
          "execution_count": 23
        }
      ]
    },
    {
      "cell_type": "code",
      "source": [
        "# considerar la matriz c:\n",
        "\n",
        "c = np.array([20, 1, 2, 3, 4])\n",
        "c"
      ],
      "metadata": {
        "colab": {
          "base_uri": "https://localhost:8080/"
        },
        "id": "a6EuwjcB5YlR",
        "outputId": "e67dfc77-97a1-44b4-a4e2-b7aef5b3b74d"
      },
      "execution_count": 24,
      "outputs": [
        {
          "output_type": "execute_result",
          "data": {
            "text/plain": [
              "array([20,  1,  2,  3,  4])"
            ]
          },
          "metadata": {},
          "execution_count": 24
        }
      ]
    },
    {
      "cell_type": "code",
      "source": [
        "# asignar 100 al primer elemento\n",
        "\n",
        "c[0] = 100\n",
        "c"
      ],
      "metadata": {
        "colab": {
          "base_uri": "https://localhost:8080/"
        },
        "id": "lGmxzCwd5mK1",
        "outputId": "26d995b4-ca86-4fe4-c6f1-2ba1e9cd354e"
      },
      "execution_count": 25,
      "outputs": [
        {
          "output_type": "execute_result",
          "data": {
            "text/plain": [
              "array([100,   1,   2,   3,   4])"
            ]
          },
          "metadata": {},
          "execution_count": 25
        }
      ]
    },
    {
      "cell_type": "code",
      "source": [
        "# Asignar 0 al quinto elemento\n",
        "\n",
        "c[4] = 0\n",
        "c"
      ],
      "metadata": {
        "colab": {
          "base_uri": "https://localhost:8080/"
        },
        "id": "ZGsVV9PO5uTV",
        "outputId": "27a0ce67-02fa-4726-8e2e-51f16686a337"
      },
      "execution_count": 26,
      "outputs": [
        {
          "output_type": "execute_result",
          "data": {
            "text/plain": [
              "array([100,   1,   2,   3,   0])"
            ]
          },
          "metadata": {},
          "execution_count": 26
        }
      ]
    },
    {
      "cell_type": "code",
      "source": [
        "# asignar 20 al segundo elemento de la siguiente matriz:\n",
        "\n",
        "a = np.array([10, 2, 30, 40,50])\n",
        "a"
      ],
      "metadata": {
        "colab": {
          "base_uri": "https://localhost:8080/"
        },
        "id": "vd7ngbm650Mq",
        "outputId": "6c65e42a-6f8a-409d-d9fe-f6df79f4b189"
      },
      "execution_count": 27,
      "outputs": [
        {
          "output_type": "execute_result",
          "data": {
            "text/plain": [
              "array([10,  2, 30, 40, 50])"
            ]
          },
          "metadata": {},
          "execution_count": 27
        }
      ]
    },
    {
      "cell_type": "code",
      "source": [
        "a[1] = 20\n",
        "a"
      ],
      "metadata": {
        "colab": {
          "base_uri": "https://localhost:8080/"
        },
        "id": "2fsq5SfG5_2M",
        "outputId": "23ccf655-c2c4-40cd-9c79-3a0f7c576141"
      },
      "execution_count": 28,
      "outputs": [
        {
          "output_type": "execute_result",
          "data": {
            "text/plain": [
              "array([10, 20, 30, 40, 50])"
            ]
          },
          "metadata": {},
          "execution_count": 28
        }
      ]
    },
    {
      "cell_type": "markdown",
      "source": [
        "## Slicing"
      ],
      "metadata": {
        "id": "mVkZKktR6Wf_"
      }
    },
    {
      "cell_type": "code",
      "source": [
        "# Slicing en la matriz de numpy\n",
        "\n",
        "d = c[1:4]\n",
        "d"
      ],
      "metadata": {
        "colab": {
          "base_uri": "https://localhost:8080/"
        },
        "id": "hIsu0gf46EQO",
        "outputId": "2556228b-1992-4e26-9944-b7ec7900b725"
      },
      "execution_count": 29,
      "outputs": [
        {
          "output_type": "execute_result",
          "data": {
            "text/plain": [
              "array([1, 2, 3])"
            ]
          },
          "metadata": {},
          "execution_count": 29
        }
      ]
    },
    {
      "cell_type": "code",
      "source": [
        "# establecer el cuarto y quinto elemento los valores de 300 y 400\n",
        "\n",
        "c[3:5] = 300, 400\n",
        "c"
      ],
      "metadata": {
        "colab": {
          "base_uri": "https://localhost:8080/"
        },
        "id": "yhntA4nL6i1p",
        "outputId": "b0b2172d-b9c4-42af-8890-c68b8d504918"
      },
      "execution_count": 30,
      "outputs": [
        {
          "output_type": "execute_result",
          "data": {
            "text/plain": [
              "array([100,   1,   2, 300, 400])"
            ]
          },
          "metadata": {},
          "execution_count": 30
        }
      ]
    },
    {
      "cell_type": "code",
      "source": [
        "# También podemos definir los pasos en el corte, así: [start:end:step].\n",
        "\n",
        "arr = np.array([1, 2, 3, 4, 5, 6, 7])\n",
        "\n",
        "print(arr[1:5:2])"
      ],
      "metadata": {
        "colab": {
          "base_uri": "https://localhost:8080/"
        },
        "id": "lfcPG3B969Km",
        "outputId": "98fd2c68-7ea1-4146-944f-d505c75e8bfb"
      },
      "execution_count": 31,
      "outputs": [
        {
          "output_type": "stream",
          "name": "stdout",
          "text": [
            "[2 4]\n"
          ]
        }
      ]
    },
    {
      "cell_type": "code",
      "source": [
        "# Si no pasamos start se considera 0\n",
        "\n",
        "print(arr[:4])"
      ],
      "metadata": {
        "colab": {
          "base_uri": "https://localhost:8080/"
        },
        "id": "x8Igmirs7Lfa",
        "outputId": "f98749df-2fa2-4f3f-a403-75a04cd5c623"
      },
      "execution_count": 32,
      "outputs": [
        {
          "output_type": "stream",
          "name": "stdout",
          "text": [
            "[1 2 3 4]\n"
          ]
        }
      ]
    },
    {
      "cell_type": "code",
      "source": [
        "# Si no pasamos end, considera hasta la longitud de la matriz.\n",
        "\n",
        "print(arr[4:])"
      ],
      "metadata": {
        "colab": {
          "base_uri": "https://localhost:8080/"
        },
        "id": "EL2JzZv47g__",
        "outputId": "2a60edfa-8344-4837-f896-3c29bbc55b5c"
      },
      "execution_count": 33,
      "outputs": [
        {
          "output_type": "stream",
          "name": "stdout",
          "text": [
            "[5 6 7]\n"
          ]
        }
      ]
    },
    {
      "cell_type": "code",
      "source": [
        "# Si no pasamos el paso se considera 1\n",
        "\n",
        "print(arr[1:5:])"
      ],
      "metadata": {
        "colab": {
          "base_uri": "https://localhost:8080/"
        },
        "id": "h_gHxoUb8z4R",
        "outputId": "916f8082-40d3-4121-d6f7-628e85accdcd"
      },
      "execution_count": 34,
      "outputs": [
        {
          "output_type": "stream",
          "name": "stdout",
          "text": [
            "[2 3 4 5]\n"
          ]
        }
      ]
    },
    {
      "cell_type": "code",
      "source": [
        "# Imprime los elementos pares en la matriz\n",
        "\n",
        "arr = np.array([1, 2, 3, 4, 5, 6, 7, 8])\n",
        "\n",
        "print(arr[1:8:2])"
      ],
      "metadata": {
        "colab": {
          "base_uri": "https://localhost:8080/"
        },
        "id": "_d5J_LgC9A44",
        "outputId": "0a61d14a-51a7-4144-dd4a-3dcda129f348"
      },
      "execution_count": 36,
      "outputs": [
        {
          "output_type": "stream",
          "name": "stdout",
          "text": [
            "[2 4 6 8]\n"
          ]
        }
      ]
    },
    {
      "cell_type": "markdown",
      "source": [
        "## Asignar valores a una lista"
      ],
      "metadata": {
        "id": "Rk1-gQj7_1HF"
      }
    },
    {
      "cell_type": "code",
      "source": [
        "# crea la lista de indices\n",
        "\n",
        "select = [0, 2, 3, 4]\n",
        "select"
      ],
      "metadata": {
        "colab": {
          "base_uri": "https://localhost:8080/"
        },
        "id": "ThEAvV13_lE2",
        "outputId": "43e3ec60-2799-4a0f-9908-78f7d1750562"
      },
      "execution_count": 40,
      "outputs": [
        {
          "output_type": "execute_result",
          "data": {
            "text/plain": [
              "[0, 2, 3, 4]"
            ]
          },
          "metadata": {},
          "execution_count": 40
        }
      ]
    },
    {
      "cell_type": "code",
      "source": [
        "# Usa la lista para seleccionar elementos\n",
        "\n",
        "d = c[select]\n",
        "d"
      ],
      "metadata": {
        "colab": {
          "base_uri": "https://localhost:8080/"
        },
        "id": "ZIPEzXV9AeG_",
        "outputId": "784b2b53-83ce-4141-bbaf-6428f351c8c9"
      },
      "execution_count": 41,
      "outputs": [
        {
          "output_type": "execute_result",
          "data": {
            "text/plain": [
              "array([100000, 100000, 100000, 100000])"
            ]
          },
          "metadata": {},
          "execution_count": 41
        }
      ]
    },
    {
      "cell_type": "code",
      "source": [
        "# asigna los elementos especificos a un nuevo valor\n",
        "\n",
        "c[select] = 100000\n",
        "c"
      ],
      "metadata": {
        "colab": {
          "base_uri": "https://localhost:8080/"
        },
        "id": "ugoRSo04AAhI",
        "outputId": "683267f5-15ca-45e7-c2d5-654fcca3392c"
      },
      "execution_count": 42,
      "outputs": [
        {
          "output_type": "execute_result",
          "data": {
            "text/plain": [
              "array([100000,      1, 100000, 100000, 100000])"
            ]
          },
          "metadata": {},
          "execution_count": 42
        }
      ]
    },
    {
      "cell_type": "markdown",
      "source": [
        "## Otros atributos"
      ],
      "metadata": {
        "id": "UEUcWH4PAwbB"
      }
    },
    {
      "cell_type": "code",
      "source": [
        "# crea una matriz en numpy\n",
        "\n",
        "a = np.array([0, 1, 2, 3, 4])\n",
        "a"
      ],
      "metadata": {
        "colab": {
          "base_uri": "https://localhost:8080/"
        },
        "id": "I3yeRLRcAQ4y",
        "outputId": "6ab1b6ae-8f0f-4e94-8284-b81acf61c936"
      },
      "execution_count": 43,
      "outputs": [
        {
          "output_type": "execute_result",
          "data": {
            "text/plain": [
              "array([0, 1, 2, 3, 4])"
            ]
          },
          "metadata": {},
          "execution_count": 43
        }
      ]
    },
    {
      "cell_type": "code",
      "source": [
        "# obtiene el tamaño de la matriz\n",
        "\n",
        "a.size"
      ],
      "metadata": {
        "colab": {
          "base_uri": "https://localhost:8080/"
        },
        "id": "Cl0rStq_A1Ub",
        "outputId": "d1d326be-bc0c-433f-92f7-0c0ada07578d"
      },
      "execution_count": 44,
      "outputs": [
        {
          "output_type": "execute_result",
          "data": {
            "text/plain": [
              "5"
            ]
          },
          "metadata": {},
          "execution_count": 44
        }
      ]
    },
    {
      "cell_type": "code",
      "source": [
        "# obtiene el numero de dimensiones de la matriz\n",
        "\n",
        "a.ndim"
      ],
      "metadata": {
        "colab": {
          "base_uri": "https://localhost:8080/"
        },
        "id": "Du4uXMNnBAvS",
        "outputId": "06e60be8-da86-42de-9106-4034f40361d3"
      },
      "execution_count": 45,
      "outputs": [
        {
          "output_type": "execute_result",
          "data": {
            "text/plain": [
              "1"
            ]
          },
          "metadata": {},
          "execution_count": 45
        }
      ]
    },
    {
      "cell_type": "code",
      "source": [
        "# obtiene la forma/tamaño de la matriz\n",
        "\n",
        "a.shape"
      ],
      "metadata": {
        "colab": {
          "base_uri": "https://localhost:8080/"
        },
        "id": "wIW38iEgBINb",
        "outputId": "d01a2c46-398f-458c-8672-5ddf07f39468"
      },
      "execution_count": 46,
      "outputs": [
        {
          "output_type": "execute_result",
          "data": {
            "text/plain": [
              "(5,)"
            ]
          },
          "metadata": {},
          "execution_count": 46
        }
      ]
    },
    {
      "cell_type": "code",
      "source": [
        "# Encuentre el tamaño, la dimensión y la forma de la matriz b\n",
        "\n",
        "b = np.array([10, 20, 30, 40, 50, 60, 70])"
      ],
      "metadata": {
        "id": "YH5Sfp3cBRxu"
      },
      "execution_count": 47,
      "outputs": []
    },
    {
      "cell_type": "code",
      "source": [
        "b.size"
      ],
      "metadata": {
        "colab": {
          "base_uri": "https://localhost:8080/"
        },
        "id": "tKxTzPe0Bkn8",
        "outputId": "5428ff79-3de9-4004-a1eb-4c578a9e2690"
      },
      "execution_count": 49,
      "outputs": [
        {
          "output_type": "execute_result",
          "data": {
            "text/plain": [
              "7"
            ]
          },
          "metadata": {},
          "execution_count": 49
        }
      ]
    },
    {
      "cell_type": "code",
      "source": [
        "b.ndim"
      ],
      "metadata": {
        "colab": {
          "base_uri": "https://localhost:8080/"
        },
        "id": "i69am8ItBkPj",
        "outputId": "56733d63-d287-49e9-cf64-7f951e0cbb3f"
      },
      "execution_count": 50,
      "outputs": [
        {
          "output_type": "execute_result",
          "data": {
            "text/plain": [
              "1"
            ]
          },
          "metadata": {},
          "execution_count": 50
        }
      ]
    },
    {
      "cell_type": "code",
      "source": [
        "b.shape"
      ],
      "metadata": {
        "colab": {
          "base_uri": "https://localhost:8080/"
        },
        "id": "mF_KziRUBcbw",
        "outputId": "e6a56465-aa94-4a27-89ab-e9c34c978623"
      },
      "execution_count": 51,
      "outputs": [
        {
          "output_type": "execute_result",
          "data": {
            "text/plain": [
              "(7,)"
            ]
          },
          "metadata": {},
          "execution_count": 51
        }
      ]
    },
    {
      "cell_type": "code",
      "source": [],
      "metadata": {
        "id": "WFfyWLWlBhGZ"
      },
      "execution_count": null,
      "outputs": []
    }
  ]
}