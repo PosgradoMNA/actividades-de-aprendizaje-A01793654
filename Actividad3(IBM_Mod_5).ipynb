{
  "nbformat": 4,
  "nbformat_minor": 0,
  "metadata": {
    "colab": {
      "provenance": [],
      "authorship_tag": "ABX9TyMrEAjvmDsnyl2SVL7t+Cfc",
      "include_colab_link": true
    },
    "kernelspec": {
      "name": "python3",
      "display_name": "Python 3"
    },
    "language_info": {
      "name": "python"
    }
  },
  "cells": [
    {
      "cell_type": "markdown",
      "metadata": {
        "id": "view-in-github",
        "colab_type": "text"
      },
      "source": [
        "<a href=\"https://colab.research.google.com/github/PosgradoMNA/actividades-de-aprendizaje-A01793654/blob/main/Actividad3(IBM_Mod_5).ipynb\" target=\"_parent\"><img src=\"https://colab.research.google.com/assets/colab-badge.svg\" alt=\"Open In Colab\"/></a>"
      ]
    },
    {
      "cell_type": "markdown",
      "source": [
        "# Actividad 3 (Curos de IBM modulo)\n",
        "\n",
        "## Bernardo Mijangos Flores"
      ],
      "metadata": {
        "id": "aaOQGoPEpHEl"
      }
    },
    {
      "cell_type": "markdown",
      "source": [
        "## Laboratorio 5.1 matriz con numpy"
      ],
      "metadata": {
        "id": "gxM8xr94pUuN"
      }
    },
    {
      "cell_type": "code",
      "execution_count": 6,
      "metadata": {
        "colab": {
          "base_uri": "https://localhost:8080/"
        },
        "id": "s5MUwObLo8bS",
        "outputId": "be6c892d-8a22-4f01-d678-176ac19b2763"
      },
      "outputs": [
        {
          "output_type": "execute_result",
          "data": {
            "text/plain": [
              "array([1, 2, 3, 4, 5])"
            ]
          },
          "metadata": {},
          "execution_count": 6
        }
      ],
      "source": [
        "# Tranfiera la siguiente lista a una matriz en numpy\n",
        "\n",
        "import numpy as np\n",
        "a=[1,2,3,4,5]\n",
        "\n",
        "x = np.array(a)\n",
        "x"
      ]
    },
    {
      "cell_type": "code",
      "source": [
        "# encontrar el typo de x usando la funcion type()\n",
        "\n",
        "type(x)"
      ],
      "metadata": {
        "colab": {
          "base_uri": "https://localhost:8080/"
        },
        "id": "Dv6JiJI0p-wb",
        "outputId": "217fa27a-0f81-4b3d-967a-0b743a47e8e9"
      },
      "execution_count": 7,
      "outputs": [
        {
          "output_type": "execute_result",
          "data": {
            "text/plain": [
              "numpy.ndarray"
            ]
          },
          "metadata": {},
          "execution_count": 7
        }
      ]
    },
    {
      "cell_type": "code",
      "source": [],
      "metadata": {
        "id": "7tOrrmvvqNwb"
      },
      "execution_count": null,
      "outputs": []
    }
  ]
}