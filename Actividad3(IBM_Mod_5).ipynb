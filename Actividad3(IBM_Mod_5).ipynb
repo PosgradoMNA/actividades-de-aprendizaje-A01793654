{
  "nbformat": 4,
  "nbformat_minor": 0,
  "metadata": {
    "colab": {
      "provenance": [],
      "authorship_tag": "ABX9TyMSKgRs4Qb/GNnIA7tJZbGe",
      "include_colab_link": true
    },
    "kernelspec": {
      "name": "python3",
      "display_name": "Python 3"
    },
    "language_info": {
      "name": "python"
    }
  },
  "cells": [
    {
      "cell_type": "markdown",
      "metadata": {
        "id": "view-in-github",
        "colab_type": "text"
      },
      "source": [
        "<a href=\"https://colab.research.google.com/github/PosgradoMNA/actividades-de-aprendizaje-A01793654/blob/main/Actividad3(IBM_Mod_5).ipynb\" target=\"_parent\"><img src=\"https://colab.research.google.com/assets/colab-badge.svg\" alt=\"Open In Colab\"/></a>"
      ]
    },
    {
      "cell_type": "markdown",
      "source": [
        "# Actividad 3 (Curos de IBM modulo 5)\n",
        "\n",
        "## Bernardo Mijangos Flores\n",
        "### Matricula A01793654"
      ],
      "metadata": {
        "id": "aaOQGoPEpHEl"
      }
    },
    {
      "cell_type": "markdown",
      "source": [
        "## Laboratorio 5.1 matriz con numpy"
      ],
      "metadata": {
        "id": "gxM8xr94pUuN"
      }
    },
    {
      "cell_type": "code",
      "execution_count": 2,
      "metadata": {
        "colab": {
          "base_uri": "https://localhost:8080/"
        },
        "id": "s5MUwObLo8bS",
        "outputId": "2527a4c6-4adf-4443-9be7-48d61df23c11"
      },
      "outputs": [
        {
          "output_type": "execute_result",
          "data": {
            "text/plain": [
              "array([1, 2, 3, 4, 5])"
            ]
          },
          "metadata": {},
          "execution_count": 2
        }
      ],
      "source": [
        "# Tranfiera la siguiente lista a una matriz en numpy\n",
        "\n",
        "import numpy as np\n",
        "a=[1,2,3,4,5]\n",
        "\n",
        "x = np.array(a)\n",
        "x"
      ]
    },
    {
      "cell_type": "code",
      "source": [
        "# encontrar el typo de x usando la funcion type()\n",
        "\n",
        "type(x)"
      ],
      "metadata": {
        "colab": {
          "base_uri": "https://localhost:8080/"
        },
        "id": "Dv6JiJI0p-wb",
        "outputId": "217fa27a-0f81-4b3d-967a-0b743a47e8e9"
      },
      "execution_count": null,
      "outputs": [
        {
          "output_type": "execute_result",
          "data": {
            "text/plain": [
              "numpy.ndarray"
            ]
          },
          "metadata": {},
          "execution_count": 7
        }
      ]
    },
    {
      "cell_type": "code",
      "source": [
        "# encontrar la forma de la matriz\n",
        "\n",
        "x.shape"
      ],
      "metadata": {
        "colab": {
          "base_uri": "https://localhost:8080/"
        },
        "id": "7tOrrmvvqNwb",
        "outputId": "61303c1e-fab6-4273-b6be-217da211ab70"
      },
      "execution_count": null,
      "outputs": [
        {
          "output_type": "execute_result",
          "data": {
            "text/plain": [
              "(5,)"
            ]
          },
          "metadata": {},
          "execution_count": 8
        }
      ]
    },
    {
      "cell_type": "code",
      "source": [
        "# encontrar el tipo de dato de la matriz\n",
        "\n",
        "x.dtype"
      ],
      "metadata": {
        "colab": {
          "base_uri": "https://localhost:8080/"
        },
        "id": "7FP9qktlrh22",
        "outputId": "0e171889-0759-4c79-9f9f-c70cda7fb12f"
      },
      "execution_count": null,
      "outputs": [
        {
          "output_type": "execute_result",
          "data": {
            "text/plain": [
              "dtype('int64')"
            ]
          },
          "metadata": {},
          "execution_count": 9
        }
      ]
    },
    {
      "cell_type": "code",
      "source": [
        "# encontrar la media de la matriz\n",
        "\n",
        "x.mean()"
      ],
      "metadata": {
        "colab": {
          "base_uri": "https://localhost:8080/"
        },
        "id": "6ktJNsbwry2j",
        "outputId": "eea7afe4-407d-4868-84f2-f451d7eb24d2"
      },
      "execution_count": null,
      "outputs": [
        {
          "output_type": "execute_result",
          "data": {
            "text/plain": [
              "3.0"
            ]
          },
          "metadata": {},
          "execution_count": 10
        }
      ]
    },
    {
      "cell_type": "markdown",
      "source": [
        "# 1D numpy en python"
      ],
      "metadata": {
        "id": "001VSnJ9swfW"
      }
    },
    {
      "cell_type": "code",
      "source": [
        "# crear la siguiente lista:\n",
        "\n",
        "a = [\"0\", 1, \"two\", \"3\", 4]\n",
        "a"
      ],
      "metadata": {
        "colab": {
          "base_uri": "https://localhost:8080/"
        },
        "id": "vTZSVdfsr9tE",
        "outputId": "7e194642-1a97-4fc0-9b0a-5b61368fd034"
      },
      "execution_count": null,
      "outputs": [
        {
          "output_type": "execute_result",
          "data": {
            "text/plain": [
              "['0', 1, 'two', '3', 4]"
            ]
          },
          "metadata": {},
          "execution_count": 12
        }
      ]
    },
    {
      "cell_type": "code",
      "source": [
        "# podemos acceder a cada elemento usando un corchete de la siguiente manera:\n",
        "\n",
        "print(\"a[0]:\", a[0])\n",
        "print(\"a[1]:\", a[1])\n",
        "print(\"a[2]:\", a[2])\n",
        "print(\"a[3]:\", a[3])\n",
        "print(\"a[4]:\", a[4])"
      ],
      "metadata": {
        "colab": {
          "base_uri": "https://localhost:8080/"
        },
        "id": "2Se5jBKqtVdo",
        "outputId": "ed84b208-a17d-4ddf-fb31-c8c178c83e84"
      },
      "execution_count": null,
      "outputs": [
        {
          "output_type": "stream",
          "name": "stdout",
          "text": [
            "a[0]: 0\n",
            "a[1]: 1\n",
            "a[2]: two\n",
            "a[3]: 3\n",
            "a[4]: 4\n"
          ]
        }
      ]
    },
    {
      "cell_type": "code",
      "source": [
        "# importando la libreria de numpy\n",
        "\n",
        "import numpy as np"
      ],
      "metadata": {
        "id": "4LcYPmIWtmTl"
      },
      "execution_count": null,
      "outputs": []
    },
    {
      "cell_type": "code",
      "source": [
        "# se crea una matriz en numpy\n",
        "\n",
        "a = np.array([0, 1, 2, 3, 4])\n",
        "a"
      ],
      "metadata": {
        "colab": {
          "base_uri": "https://localhost:8080/"
        },
        "id": "KyCVw-GWuCQe",
        "outputId": "4351cb29-a4a5-476a-92f2-7c7dadf18184"
      },
      "execution_count": null,
      "outputs": [
        {
          "output_type": "execute_result",
          "data": {
            "text/plain": [
              "array([0, 1, 2, 3, 4])"
            ]
          },
          "metadata": {},
          "execution_count": 15
        }
      ]
    },
    {
      "cell_type": "code",
      "source": [
        "# cada elemento es del mismo tipo, en este caso enteros\n",
        "\n",
        "# se muestra cada elemento de la matriz\n",
        "\n",
        "print(\"a[0]:\", a[0])\n",
        "print(\"a[1]:\", a[1])\n",
        "print(\"a[2]:\", a[2])\n",
        "print(\"a[3]:\", a[3])\n",
        "print(\"a[4]:\", a[4])"
      ],
      "metadata": {
        "colab": {
          "base_uri": "https://localhost:8080/"
        },
        "id": "XcMpsAsIuNW1",
        "outputId": "3fc512e0-5bd7-484e-df89-25c0a9b01d9b"
      },
      "execution_count": null,
      "outputs": [
        {
          "output_type": "stream",
          "name": "stdout",
          "text": [
            "a[0]: 0\n",
            "a[1]: 1\n",
            "a[2]: 2\n",
            "a[3]: 3\n",
            "a[4]: 4\n"
          ]
        }
      ]
    },
    {
      "cell_type": "code",
      "source": [
        "# comprobando la version de numpy\n",
        "\n",
        "print(np.__version__)"
      ],
      "metadata": {
        "colab": {
          "base_uri": "https://localhost:8080/"
        },
        "id": "ClH0mlJEuic0",
        "outputId": "78689ee6-746d-445c-eb93-a92982210241"
      },
      "execution_count": null,
      "outputs": [
        {
          "output_type": "stream",
          "name": "stdout",
          "text": [
            "1.21.6\n"
          ]
        }
      ]
    },
    {
      "cell_type": "code",
      "source": [
        "# comprobando el tipo de la matriz\n",
        "\n",
        "type(a)"
      ],
      "metadata": {
        "colab": {
          "base_uri": "https://localhost:8080/"
        },
        "id": "4FgErlrauypK",
        "outputId": "a7ea052a-1b4b-4768-ef61-64a694cc010a"
      },
      "execution_count": null,
      "outputs": [
        {
          "output_type": "execute_result",
          "data": {
            "text/plain": [
              "numpy.ndarray"
            ]
          },
          "metadata": {},
          "execution_count": 19
        }
      ]
    },
    {
      "cell_type": "code",
      "source": [
        "# Como las matrices numpy contienen datos del mismo tipo, podemos usar el atributo \"dtype\" para obtener el tipo de datos de los elementos de la matriz. En este caso, es un entero de 64 bits:\n",
        "\n",
        "# comprobando los tipos de valores\n",
        "\n",
        "a.dtype"
      ],
      "metadata": {
        "colab": {
          "base_uri": "https://localhost:8080/"
        },
        "id": "DWr3_rvlvC15",
        "outputId": "3177ba11-09e6-4664-e59f-b84888872582"
      },
      "execution_count": null,
      "outputs": [
        {
          "output_type": "execute_result",
          "data": {
            "text/plain": [
              "dtype('int64')"
            ]
          },
          "metadata": {},
          "execution_count": 20
        }
      ]
    },
    {
      "cell_type": "code",
      "source": [
        "# Verificar el tipo de matriz y el tipo de valor\n",
        "\n",
        "b = np.array([3.1, 11.02, 6.2, 213.2, 5.2])\n",
        "\n",
        "type(b)"
      ],
      "metadata": {
        "colab": {
          "base_uri": "https://localhost:8080/"
        },
        "id": "W_tj6xVfvWpe",
        "outputId": "f3c43f26-c190-4a12-c99d-3173449393ed"
      },
      "execution_count": null,
      "outputs": [
        {
          "output_type": "execute_result",
          "data": {
            "text/plain": [
              "numpy.ndarray"
            ]
          },
          "metadata": {},
          "execution_count": 22
        }
      ]
    },
    {
      "cell_type": "code",
      "source": [
        "# Verificar el tipo de valor de la matriz\n",
        "\n",
        "b.dtype"
      ],
      "metadata": {
        "colab": {
          "base_uri": "https://localhost:8080/"
        },
        "id": "c4f6G0xY5EUC",
        "outputId": "6512839a-90ba-492f-e376-415e8f513157"
      },
      "execution_count": null,
      "outputs": [
        {
          "output_type": "execute_result",
          "data": {
            "text/plain": [
              "dtype('float64')"
            ]
          },
          "metadata": {},
          "execution_count": 23
        }
      ]
    },
    {
      "cell_type": "code",
      "source": [
        "# considerar la matriz c:\n",
        "\n",
        "c = np.array([20, 1, 2, 3, 4])\n",
        "c"
      ],
      "metadata": {
        "colab": {
          "base_uri": "https://localhost:8080/"
        },
        "id": "a6EuwjcB5YlR",
        "outputId": "e67dfc77-97a1-44b4-a4e2-b7aef5b3b74d"
      },
      "execution_count": null,
      "outputs": [
        {
          "output_type": "execute_result",
          "data": {
            "text/plain": [
              "array([20,  1,  2,  3,  4])"
            ]
          },
          "metadata": {},
          "execution_count": 24
        }
      ]
    },
    {
      "cell_type": "code",
      "source": [
        "# asignar 100 al primer elemento\n",
        "\n",
        "c[0] = 100\n",
        "c"
      ],
      "metadata": {
        "colab": {
          "base_uri": "https://localhost:8080/"
        },
        "id": "lGmxzCwd5mK1",
        "outputId": "26d995b4-ca86-4fe4-c6f1-2ba1e9cd354e"
      },
      "execution_count": null,
      "outputs": [
        {
          "output_type": "execute_result",
          "data": {
            "text/plain": [
              "array([100,   1,   2,   3,   4])"
            ]
          },
          "metadata": {},
          "execution_count": 25
        }
      ]
    },
    {
      "cell_type": "code",
      "source": [
        "# Asignar 0 al quinto elemento\n",
        "\n",
        "c[4] = 0\n",
        "c"
      ],
      "metadata": {
        "colab": {
          "base_uri": "https://localhost:8080/"
        },
        "id": "ZGsVV9PO5uTV",
        "outputId": "27a0ce67-02fa-4726-8e2e-51f16686a337"
      },
      "execution_count": null,
      "outputs": [
        {
          "output_type": "execute_result",
          "data": {
            "text/plain": [
              "array([100,   1,   2,   3,   0])"
            ]
          },
          "metadata": {},
          "execution_count": 26
        }
      ]
    },
    {
      "cell_type": "code",
      "source": [
        "# asignar 20 al segundo elemento de la siguiente matriz:\n",
        "\n",
        "a = np.array([10, 2, 30, 40,50])\n",
        "a"
      ],
      "metadata": {
        "colab": {
          "base_uri": "https://localhost:8080/"
        },
        "id": "vd7ngbm650Mq",
        "outputId": "6c65e42a-6f8a-409d-d9fe-f6df79f4b189"
      },
      "execution_count": null,
      "outputs": [
        {
          "output_type": "execute_result",
          "data": {
            "text/plain": [
              "array([10,  2, 30, 40, 50])"
            ]
          },
          "metadata": {},
          "execution_count": 27
        }
      ]
    },
    {
      "cell_type": "code",
      "source": [
        "a[1] = 20\n",
        "a"
      ],
      "metadata": {
        "colab": {
          "base_uri": "https://localhost:8080/"
        },
        "id": "2fsq5SfG5_2M",
        "outputId": "23ccf655-c2c4-40cd-9c79-3a0f7c576141"
      },
      "execution_count": null,
      "outputs": [
        {
          "output_type": "execute_result",
          "data": {
            "text/plain": [
              "array([10, 20, 30, 40, 50])"
            ]
          },
          "metadata": {},
          "execution_count": 28
        }
      ]
    },
    {
      "cell_type": "markdown",
      "source": [
        "## Slicing"
      ],
      "metadata": {
        "id": "mVkZKktR6Wf_"
      }
    },
    {
      "cell_type": "code",
      "source": [
        "# Slicing en la matriz de numpy\n",
        "\n",
        "d = c[1:4]\n",
        "d"
      ],
      "metadata": {
        "colab": {
          "base_uri": "https://localhost:8080/"
        },
        "id": "hIsu0gf46EQO",
        "outputId": "2556228b-1992-4e26-9944-b7ec7900b725"
      },
      "execution_count": null,
      "outputs": [
        {
          "output_type": "execute_result",
          "data": {
            "text/plain": [
              "array([1, 2, 3])"
            ]
          },
          "metadata": {},
          "execution_count": 29
        }
      ]
    },
    {
      "cell_type": "code",
      "source": [
        "# establecer el cuarto y quinto elemento los valores de 300 y 400\n",
        "\n",
        "c[3:5] = 300, 400\n",
        "c"
      ],
      "metadata": {
        "colab": {
          "base_uri": "https://localhost:8080/"
        },
        "id": "yhntA4nL6i1p",
        "outputId": "b0b2172d-b9c4-42af-8890-c68b8d504918"
      },
      "execution_count": null,
      "outputs": [
        {
          "output_type": "execute_result",
          "data": {
            "text/plain": [
              "array([100,   1,   2, 300, 400])"
            ]
          },
          "metadata": {},
          "execution_count": 30
        }
      ]
    },
    {
      "cell_type": "code",
      "source": [
        "# También podemos definir los pasos en el corte, así: [start:end:step].\n",
        "\n",
        "arr = np.array([1, 2, 3, 4, 5, 6, 7])\n",
        "\n",
        "print(arr[1:5:2])"
      ],
      "metadata": {
        "colab": {
          "base_uri": "https://localhost:8080/"
        },
        "id": "lfcPG3B969Km",
        "outputId": "98fd2c68-7ea1-4146-944f-d505c75e8bfb"
      },
      "execution_count": null,
      "outputs": [
        {
          "output_type": "stream",
          "name": "stdout",
          "text": [
            "[2 4]\n"
          ]
        }
      ]
    },
    {
      "cell_type": "code",
      "source": [
        "# Si no pasamos start se considera 0\n",
        "\n",
        "print(arr[:4])"
      ],
      "metadata": {
        "colab": {
          "base_uri": "https://localhost:8080/"
        },
        "id": "x8Igmirs7Lfa",
        "outputId": "f98749df-2fa2-4f3f-a403-75a04cd5c623"
      },
      "execution_count": null,
      "outputs": [
        {
          "output_type": "stream",
          "name": "stdout",
          "text": [
            "[1 2 3 4]\n"
          ]
        }
      ]
    },
    {
      "cell_type": "code",
      "source": [
        "# Si no pasamos end, considera hasta la longitud de la matriz.\n",
        "\n",
        "print(arr[4:])"
      ],
      "metadata": {
        "colab": {
          "base_uri": "https://localhost:8080/"
        },
        "id": "EL2JzZv47g__",
        "outputId": "2a60edfa-8344-4837-f896-3c29bbc55b5c"
      },
      "execution_count": null,
      "outputs": [
        {
          "output_type": "stream",
          "name": "stdout",
          "text": [
            "[5 6 7]\n"
          ]
        }
      ]
    },
    {
      "cell_type": "code",
      "source": [
        "# Si no pasamos el paso se considera 1\n",
        "\n",
        "print(arr[1:5:])"
      ],
      "metadata": {
        "colab": {
          "base_uri": "https://localhost:8080/"
        },
        "id": "h_gHxoUb8z4R",
        "outputId": "916f8082-40d3-4121-d6f7-628e85accdcd"
      },
      "execution_count": null,
      "outputs": [
        {
          "output_type": "stream",
          "name": "stdout",
          "text": [
            "[2 3 4 5]\n"
          ]
        }
      ]
    },
    {
      "cell_type": "code",
      "source": [
        "# Imprime los elementos pares en la matriz\n",
        "\n",
        "arr = np.array([1, 2, 3, 4, 5, 6, 7, 8])\n",
        "\n",
        "print(arr[1:8:2])"
      ],
      "metadata": {
        "colab": {
          "base_uri": "https://localhost:8080/"
        },
        "id": "_d5J_LgC9A44",
        "outputId": "0a61d14a-51a7-4144-dd4a-3dcda129f348"
      },
      "execution_count": null,
      "outputs": [
        {
          "output_type": "stream",
          "name": "stdout",
          "text": [
            "[2 4 6 8]\n"
          ]
        }
      ]
    },
    {
      "cell_type": "markdown",
      "source": [
        "## Asignar valores a una lista"
      ],
      "metadata": {
        "id": "Rk1-gQj7_1HF"
      }
    },
    {
      "cell_type": "code",
      "source": [
        "# crea la lista de indices\n",
        "\n",
        "select = [0, 2, 3, 4]\n",
        "select"
      ],
      "metadata": {
        "colab": {
          "base_uri": "https://localhost:8080/"
        },
        "id": "ThEAvV13_lE2",
        "outputId": "43e3ec60-2799-4a0f-9908-78f7d1750562"
      },
      "execution_count": null,
      "outputs": [
        {
          "output_type": "execute_result",
          "data": {
            "text/plain": [
              "[0, 2, 3, 4]"
            ]
          },
          "metadata": {},
          "execution_count": 40
        }
      ]
    },
    {
      "cell_type": "code",
      "source": [
        "# Usa la lista para seleccionar elementos\n",
        "\n",
        "d = c[select]\n",
        "d"
      ],
      "metadata": {
        "colab": {
          "base_uri": "https://localhost:8080/"
        },
        "id": "ZIPEzXV9AeG_",
        "outputId": "784b2b53-83ce-4141-bbaf-6428f351c8c9"
      },
      "execution_count": null,
      "outputs": [
        {
          "output_type": "execute_result",
          "data": {
            "text/plain": [
              "array([100000, 100000, 100000, 100000])"
            ]
          },
          "metadata": {},
          "execution_count": 41
        }
      ]
    },
    {
      "cell_type": "code",
      "source": [
        "# asigna los elementos especificos a un nuevo valor\n",
        "\n",
        "c[select] = 100000\n",
        "c"
      ],
      "metadata": {
        "colab": {
          "base_uri": "https://localhost:8080/"
        },
        "id": "ugoRSo04AAhI",
        "outputId": "683267f5-15ca-45e7-c2d5-654fcca3392c"
      },
      "execution_count": null,
      "outputs": [
        {
          "output_type": "execute_result",
          "data": {
            "text/plain": [
              "array([100000,      1, 100000, 100000, 100000])"
            ]
          },
          "metadata": {},
          "execution_count": 42
        }
      ]
    },
    {
      "cell_type": "markdown",
      "source": [
        "## Otros atributos"
      ],
      "metadata": {
        "id": "UEUcWH4PAwbB"
      }
    },
    {
      "cell_type": "code",
      "source": [
        "# crea una matriz en numpy\n",
        "\n",
        "a = np.array([0, 1, 2, 3, 4])\n",
        "a"
      ],
      "metadata": {
        "colab": {
          "base_uri": "https://localhost:8080/"
        },
        "id": "I3yeRLRcAQ4y",
        "outputId": "6ab1b6ae-8f0f-4e94-8284-b81acf61c936"
      },
      "execution_count": null,
      "outputs": [
        {
          "output_type": "execute_result",
          "data": {
            "text/plain": [
              "array([0, 1, 2, 3, 4])"
            ]
          },
          "metadata": {},
          "execution_count": 43
        }
      ]
    },
    {
      "cell_type": "code",
      "source": [
        "# obtiene el tamaño de la matriz\n",
        "\n",
        "a.size"
      ],
      "metadata": {
        "colab": {
          "base_uri": "https://localhost:8080/"
        },
        "id": "Cl0rStq_A1Ub",
        "outputId": "d1d326be-bc0c-433f-92f7-0c0ada07578d"
      },
      "execution_count": null,
      "outputs": [
        {
          "output_type": "execute_result",
          "data": {
            "text/plain": [
              "5"
            ]
          },
          "metadata": {},
          "execution_count": 44
        }
      ]
    },
    {
      "cell_type": "code",
      "source": [
        "# obtiene el numero de dimensiones de la matriz\n",
        "\n",
        "a.ndim"
      ],
      "metadata": {
        "colab": {
          "base_uri": "https://localhost:8080/"
        },
        "id": "Du4uXMNnBAvS",
        "outputId": "06e60be8-da86-42de-9106-4034f40361d3"
      },
      "execution_count": null,
      "outputs": [
        {
          "output_type": "execute_result",
          "data": {
            "text/plain": [
              "1"
            ]
          },
          "metadata": {},
          "execution_count": 45
        }
      ]
    },
    {
      "cell_type": "code",
      "source": [
        "# obtiene la forma/tamaño de la matriz\n",
        "\n",
        "a.shape"
      ],
      "metadata": {
        "colab": {
          "base_uri": "https://localhost:8080/"
        },
        "id": "wIW38iEgBINb",
        "outputId": "d01a2c46-398f-458c-8672-5ddf07f39468"
      },
      "execution_count": null,
      "outputs": [
        {
          "output_type": "execute_result",
          "data": {
            "text/plain": [
              "(5,)"
            ]
          },
          "metadata": {},
          "execution_count": 46
        }
      ]
    },
    {
      "cell_type": "code",
      "source": [
        "# Encuentre el tamaño, la dimensión y la forma de la matriz b\n",
        "\n",
        "b = np.array([10, 20, 30, 40, 50, 60, 70])"
      ],
      "metadata": {
        "id": "YH5Sfp3cBRxu"
      },
      "execution_count": null,
      "outputs": []
    },
    {
      "cell_type": "code",
      "source": [
        "b.size"
      ],
      "metadata": {
        "colab": {
          "base_uri": "https://localhost:8080/"
        },
        "id": "tKxTzPe0Bkn8",
        "outputId": "5428ff79-3de9-4004-a1eb-4c578a9e2690"
      },
      "execution_count": null,
      "outputs": [
        {
          "output_type": "execute_result",
          "data": {
            "text/plain": [
              "7"
            ]
          },
          "metadata": {},
          "execution_count": 49
        }
      ]
    },
    {
      "cell_type": "code",
      "source": [
        "b.ndim"
      ],
      "metadata": {
        "colab": {
          "base_uri": "https://localhost:8080/"
        },
        "id": "i69am8ItBkPj",
        "outputId": "56733d63-d287-49e9-cf64-7f951e0cbb3f"
      },
      "execution_count": null,
      "outputs": [
        {
          "output_type": "execute_result",
          "data": {
            "text/plain": [
              "1"
            ]
          },
          "metadata": {},
          "execution_count": 50
        }
      ]
    },
    {
      "cell_type": "code",
      "source": [
        "b.shape"
      ],
      "metadata": {
        "colab": {
          "base_uri": "https://localhost:8080/"
        },
        "id": "mF_KziRUBcbw",
        "outputId": "e6a56465-aa94-4a27-89ab-e9c34c978623"
      },
      "execution_count": null,
      "outputs": [
        {
          "output_type": "execute_result",
          "data": {
            "text/plain": [
              "(7,)"
            ]
          },
          "metadata": {},
          "execution_count": 51
        }
      ]
    },
    {
      "cell_type": "markdown",
      "source": [
        "## Funciones estaticas"
      ],
      "metadata": {
        "id": "ZyUM9dyDCP_J"
      }
    },
    {
      "cell_type": "code",
      "source": [
        "a = np.array([1, -1, 1, -1])\n",
        "\n",
        "# obtiene la media\n",
        "\n",
        "mean = a.mean()\n",
        "mean"
      ],
      "metadata": {
        "colab": {
          "base_uri": "https://localhost:8080/"
        },
        "id": "WFfyWLWlBhGZ",
        "outputId": "f2c4609e-b249-466e-97d5-44495c790f5e"
      },
      "execution_count": null,
      "outputs": [
        {
          "output_type": "execute_result",
          "data": {
            "text/plain": [
              "0.0"
            ]
          },
          "metadata": {},
          "execution_count": 53
        }
      ]
    },
    {
      "cell_type": "code",
      "source": [
        "# obtiene la desviacion estandar\n",
        "\n",
        "standard_deviation=a.std()\n",
        "standard_deviation"
      ],
      "metadata": {
        "colab": {
          "base_uri": "https://localhost:8080/"
        },
        "id": "M_hXHKBTCUXd",
        "outputId": "48868335-4bff-4c38-c970-cdd9bff0dcdd"
      },
      "execution_count": null,
      "outputs": [
        {
          "output_type": "execute_result",
          "data": {
            "text/plain": [
              "1.0"
            ]
          },
          "metadata": {},
          "execution_count": 54
        }
      ]
    },
    {
      "cell_type": "code",
      "source": [
        "b = np.array([-1, 2, 3, 4, 5])\n",
        "\n",
        "# obtene el valor maximo de la matriz\n",
        "\n",
        "max_b = b.max()\n",
        "max_b"
      ],
      "metadata": {
        "colab": {
          "base_uri": "https://localhost:8080/"
        },
        "id": "uE-52RHMCixv",
        "outputId": "dec0ed45-cf4c-452e-8570-dd7a2b68385a"
      },
      "execution_count": null,
      "outputs": [
        {
          "output_type": "execute_result",
          "data": {
            "text/plain": [
              "5"
            ]
          },
          "metadata": {},
          "execution_count": 55
        }
      ]
    },
    {
      "cell_type": "code",
      "source": [
        "# obtiene el valor minimo de la matriz\n",
        "\n",
        "min_b = b.min()\n",
        "min_b"
      ],
      "metadata": {
        "colab": {
          "base_uri": "https://localhost:8080/"
        },
        "id": "vz9zmZV1CysG",
        "outputId": "a71e5c70-02d8-4a62-c2ba-f2e4ecd1cfc0"
      },
      "execution_count": null,
      "outputs": [
        {
          "output_type": "execute_result",
          "data": {
            "text/plain": [
              "-1"
            ]
          },
          "metadata": {},
          "execution_count": 56
        }
      ]
    },
    {
      "cell_type": "code",
      "source": [
        "# econtrar la suma del valor maximo y minimo de la matriz:\n",
        "c = np.array([-10, 201, 43, 94, 502])\n",
        "\n",
        "valor_total = c.max()+c.min()\n",
        "valor_total"
      ],
      "metadata": {
        "colab": {
          "base_uri": "https://localhost:8080/"
        },
        "id": "X9ytM961C5f2",
        "outputId": "8b368103-977e-45bc-a765-bed241b4d755"
      },
      "execution_count": null,
      "outputs": [
        {
          "output_type": "execute_result",
          "data": {
            "text/plain": [
              "492"
            ]
          },
          "metadata": {},
          "execution_count": 58
        }
      ]
    },
    {
      "cell_type": "markdown",
      "source": [
        "## Operaciones"
      ],
      "metadata": {
        "id": "C5QBLBRuDWZU"
      }
    },
    {
      "cell_type": "code",
      "source": [
        "u = np.array([1, 0])\n",
        "u"
      ],
      "metadata": {
        "colab": {
          "base_uri": "https://localhost:8080/"
        },
        "id": "49cSw3itDDxq",
        "outputId": "b98def33-9db1-4a5c-f8db-1b449580a16b"
      },
      "execution_count": null,
      "outputs": [
        {
          "output_type": "execute_result",
          "data": {
            "text/plain": [
              "array([1, 0])"
            ]
          },
          "metadata": {},
          "execution_count": 62
        }
      ]
    },
    {
      "cell_type": "code",
      "source": [
        "v = np.array([0, 1])\n",
        "v"
      ],
      "metadata": {
        "colab": {
          "base_uri": "https://localhost:8080/"
        },
        "id": "WoQ19KyXDfcX",
        "outputId": "403ba3e6-d6ed-4ea9-ad43-b60059935070"
      },
      "execution_count": null,
      "outputs": [
        {
          "output_type": "execute_result",
          "data": {
            "text/plain": [
              "array([0, 1])"
            ]
          },
          "metadata": {},
          "execution_count": 63
        }
      ]
    },
    {
      "cell_type": "code",
      "source": [
        "# adicion de matriz\n",
        "\n",
        "z = np.add(u, v)\n",
        "z\n",
        "\n",
        "# la operacion es equivalente a la suma de vectores"
      ],
      "metadata": {
        "colab": {
          "base_uri": "https://localhost:8080/"
        },
        "id": "xLPeYuGxDjvX",
        "outputId": "6b4e4a42-beed-41b5-f360-a7478e9340f1"
      },
      "execution_count": null,
      "outputs": [
        {
          "output_type": "execute_result",
          "data": {
            "text/plain": [
              "array([1, 1])"
            ]
          },
          "metadata": {},
          "execution_count": 65
        }
      ]
    },
    {
      "cell_type": "code",
      "source": [
        "# funciones de ploteo\n",
        "\n",
        "\n",
        "import time \n",
        "import sys\n",
        "import numpy as np \n",
        "\n",
        "import matplotlib.pyplot as plt\n",
        "%matplotlib inline  \n",
        "\n",
        "def Plotvec1(u, z, v):\n",
        "    \n",
        "    ax = plt.axes() # to generate the full window axes\n",
        "    ax.arrow(0, 0, *u, head_width=0.05, color='r', head_length=0.1)# Add an arrow to the  U Axes with arrow head width 0.05, color red and arrow head length 0.1\n",
        "    plt.text(*(u + 0.1), 'u')#Adds the text u to the Axes \n",
        "    \n",
        "    ax.arrow(0, 0, *v, head_width=0.05, color='b', head_length=0.1)# Add an arrow to the  v Axes with arrow head width 0.05, color red and arrow head length 0.1\n",
        "    plt.text(*(v + 0.1), 'v')#Adds the text v to the Axes \n",
        "    \n",
        "    ax.arrow(0, 0, *z, head_width=0.05, head_length=0.1)\n",
        "    plt.text(*(z + 0.1), 'z')#Adds the text z to the Axes \n",
        "    plt.ylim(-2, 2)#set the ylim to bottom(-2), top(2)\n",
        "    plt.xlim(-2, 2)#set the xlim to left(-2), right(2)"
      ],
      "metadata": {
        "id": "bIJpZkE7DnoA"
      },
      "execution_count": null,
      "outputs": []
    },
    {
      "cell_type": "code",
      "source": [
        "# Plot de matriz\n",
        "\n",
        "Plotvec1(u, z, v)"
      ],
      "metadata": {
        "colab": {
          "base_uri": "https://localhost:8080/",
          "height": 269
        },
        "id": "PMA4gYl8D4Jc",
        "outputId": "e36eb507-eac6-4cdc-d25d-bee09c112496"
      },
      "execution_count": null,
      "outputs": [
        {
          "output_type": "display_data",
          "data": {
            "text/plain": [
              "<Figure size 432x288 with 1 Axes>"
            ],
            "image/png": "[encoded data removed]"
          },
          "metadata": {
            "needs_background": "light"
          }
        }
      ]
    },
    {
      "cell_type": "code",
      "source": [
        "# realice la suma de matrices\n",
        "\n",
        "arr1 = np.array([10, 11, 12, 13, 14, 15])\n",
        "arr2 = np.array([20, 21, 22, 23, 24, 25])\n",
        "\n",
        "arr3 = np.add(arr1, arr2)\n",
        "arr3"
      ],
      "metadata": {
        "colab": {
          "base_uri": "https://localhost:8080/"
        },
        "id": "4qRXZQ5sEAvo",
        "outputId": "1df3b976-02dc-48ae-86f1-caf82f2c1def"
      },
      "execution_count": null,
      "outputs": [
        {
          "output_type": "execute_result",
          "data": {
            "text/plain": [
              "array([30, 32, 34, 36, 38, 40])"
            ]
          },
          "metadata": {},
          "execution_count": 68
        }
      ]
    },
    {
      "cell_type": "markdown",
      "source": [
        "## sustrraccion de matrices"
      ],
      "metadata": {
        "id": "HUwc6I3fEyO7"
      }
    },
    {
      "cell_type": "code",
      "source": [
        "a = np.array([10, 20, 30])\n",
        "a"
      ],
      "metadata": {
        "colab": {
          "base_uri": "https://localhost:8080/"
        },
        "id": "pTvO6-HZEoLR",
        "outputId": "fa080a41-2acf-4d55-c30c-1485ee2179c3"
      },
      "execution_count": null,
      "outputs": [
        {
          "output_type": "execute_result",
          "data": {
            "text/plain": [
              "array([10, 20, 30])"
            ]
          },
          "metadata": {},
          "execution_count": 69
        }
      ]
    },
    {
      "cell_type": "code",
      "source": [
        "b = np.array([5, 10, 15])\n",
        "b"
      ],
      "metadata": {
        "colab": {
          "base_uri": "https://localhost:8080/"
        },
        "id": "VLmKwupkE3l8",
        "outputId": "5a13bfe5-9631-4d25-abc9-494769b33406"
      },
      "execution_count": null,
      "outputs": [
        {
          "output_type": "execute_result",
          "data": {
            "text/plain": [
              "array([ 5, 10, 15])"
            ]
          },
          "metadata": {},
          "execution_count": 70
        }
      ]
    },
    {
      "cell_type": "code",
      "source": [
        "# restar las dos matrices y asignarlas a c:\n",
        "\n",
        "c = np.subtract(a, b)\n",
        "\n",
        "print(c)"
      ],
      "metadata": {
        "colab": {
          "base_uri": "https://localhost:8080/"
        },
        "id": "w58OLVniE5Bm",
        "outputId": "45b673b8-68be-4665-b590-a443ec2d903c"
      },
      "execution_count": null,
      "outputs": [
        {
          "output_type": "stream",
          "name": "stdout",
          "text": [
            "[ 5 10 15]\n"
          ]
        }
      ]
    },
    {
      "cell_type": "code",
      "source": [
        "# realice la resta de las matrices\n",
        "\n",
        "arr1 = np.array([10, 20, 30, 40, 50, 60])\n",
        "arr2 = np.array([20, 21, 22, 23, 24, 25])\n",
        "\n",
        "arr3 = np.subtract(arr1,arr2)\n",
        "print(arr3)"
      ],
      "metadata": {
        "colab": {
          "base_uri": "https://localhost:8080/"
        },
        "id": "0mYVw7r6FB5L",
        "outputId": "d00209ce-7acc-4177-a1f0-43013d13ab4e"
      },
      "execution_count": null,
      "outputs": [
        {
          "output_type": "stream",
          "name": "stdout",
          "text": [
            "[-10  -1   8  17  26  35]\n"
          ]
        }
      ]
    },
    {
      "cell_type": "markdown",
      "source": [
        "## multiplicacion de matrices"
      ],
      "metadata": {
        "id": "Da31-SVgFxr5"
      }
    },
    {
      "cell_type": "code",
      "source": [
        "x = np.array([1, 2])\n",
        "x"
      ],
      "metadata": {
        "colab": {
          "base_uri": "https://localhost:8080/"
        },
        "id": "8KYV8KDJFOlr",
        "outputId": "4a326121-26d2-468c-fe7c-dd0ed7fc0dfc"
      },
      "execution_count": null,
      "outputs": [
        {
          "output_type": "execute_result",
          "data": {
            "text/plain": [
              "array([1, 2])"
            ]
          },
          "metadata": {},
          "execution_count": 76
        }
      ]
    },
    {
      "cell_type": "code",
      "source": [
        "y = np.array([2, 1])\n",
        "y"
      ],
      "metadata": {
        "colab": {
          "base_uri": "https://localhost:8080/"
        },
        "id": "phnFYS8CF2QX",
        "outputId": "44af2228-be99-422f-d3ee-815bd6393319"
      },
      "execution_count": null,
      "outputs": [
        {
          "output_type": "execute_result",
          "data": {
            "text/plain": [
              "array([2, 1])"
            ]
          },
          "metadata": {},
          "execution_count": 77
        }
      ]
    },
    {
      "cell_type": "code",
      "source": [
        "# multiplicacion de las matrices\n",
        "\n",
        "z = np.multiply(x, y)\n",
        "z"
      ],
      "metadata": {
        "colab": {
          "base_uri": "https://localhost:8080/"
        },
        "id": "uu8dlBkhF3nr",
        "outputId": "b014f39c-161d-4520-b979-80d2be963588"
      },
      "execution_count": null,
      "outputs": [
        {
          "output_type": "execute_result",
          "data": {
            "text/plain": [
              "array([2, 2])"
            ]
          },
          "metadata": {},
          "execution_count": 78
        }
      ]
    },
    {
      "cell_type": "code",
      "source": [
        "arr1 = np.array([10, 20, 30, 40, 50, 60])\n",
        "arr2 = np.array([2, 1, 2, 3, 4, 5])\n",
        "\n",
        "# realice la multiplicacion de las matrices\n",
        "\n",
        "arr3 = np.multiply(arr1, arr2)\n",
        "print(arr3)"
      ],
      "metadata": {
        "colab": {
          "base_uri": "https://localhost:8080/"
        },
        "id": "m_WYN1d-F7Z4",
        "outputId": "c4ee3a95-7067-48e7-9564-b4decce6f2b6"
      },
      "execution_count": null,
      "outputs": [
        {
          "output_type": "stream",
          "name": "stdout",
          "text": [
            "[ 20  20  60 120 200 300]\n"
          ]
        }
      ]
    },
    {
      "cell_type": "markdown",
      "source": [
        "## division de matrices"
      ],
      "metadata": {
        "id": "kCId7PbGGpj5"
      }
    },
    {
      "cell_type": "code",
      "source": [
        "a = np.array([10, 20, 30])\n",
        "a"
      ],
      "metadata": {
        "colab": {
          "base_uri": "https://localhost:8080/"
        },
        "id": "nRG5N3udGGgn",
        "outputId": "2d31e9da-85a2-4ed9-b996-267c8859b249"
      },
      "execution_count": null,
      "outputs": [
        {
          "output_type": "execute_result",
          "data": {
            "text/plain": [
              "array([10, 20, 30])"
            ]
          },
          "metadata": {},
          "execution_count": 81
        }
      ]
    },
    {
      "cell_type": "code",
      "source": [
        "b = np.array([2, 10, 5])\n",
        "b"
      ],
      "metadata": {
        "colab": {
          "base_uri": "https://localhost:8080/"
        },
        "id": "FnPjHLTuGs7_",
        "outputId": "289ee0dd-4840-4912-ed85-4cab992a7f7b"
      },
      "execution_count": null,
      "outputs": [
        {
          "output_type": "execute_result",
          "data": {
            "text/plain": [
              "array([ 2, 10,  5])"
            ]
          },
          "metadata": {},
          "execution_count": 82
        }
      ]
    },
    {
      "cell_type": "code",
      "source": [
        "c = np.divide(a, b)\n",
        "c"
      ],
      "metadata": {
        "colab": {
          "base_uri": "https://localhost:8080/"
        },
        "id": "uz55RPAEGuZj",
        "outputId": "973481ec-8a50-4feb-f7ab-62d337c53deb"
      },
      "execution_count": null,
      "outputs": [
        {
          "output_type": "execute_result",
          "data": {
            "text/plain": [
              "array([5., 2., 6.])"
            ]
          },
          "metadata": {},
          "execution_count": 83
        }
      ]
    },
    {
      "cell_type": "code",
      "source": [
        "arr1 = np.array([10, 20, 30, 40, 50, 60])\n",
        "arr2 = np.array([3, 5, 10, 8, 2, 33])\n",
        "\n",
        "# realice la division de las matrices\n",
        "\n",
        "arr3 = np.divide(arr1,arr2)\n",
        "print(arr3)"
      ],
      "metadata": {
        "colab": {
          "base_uri": "https://localhost:8080/"
        },
        "id": "U47Jrz6GGv2W",
        "outputId": "dc54133c-ed84-450f-ac8b-e78078082172"
      },
      "execution_count": null,
      "outputs": [
        {
          "output_type": "stream",
          "name": "stdout",
          "text": [
            "[ 3.33333333  4.          3.          5.         25.          1.81818182]\n"
          ]
        }
      ]
    },
    {
      "cell_type": "markdown",
      "source": [
        "## Dot Product"
      ],
      "metadata": {
        "id": "fcvaiVbwHBf3"
      }
    },
    {
      "cell_type": "code",
      "source": [
        "X = np.array([1, 2])\n",
        "Y = np.array([3, 2])"
      ],
      "metadata": {
        "id": "trveGiItG6_z"
      },
      "execution_count": null,
      "outputs": []
    },
    {
      "cell_type": "code",
      "source": [
        "# Calcula dot product\n",
        "\n",
        "np.dot(X, Y)"
      ],
      "metadata": {
        "colab": {
          "base_uri": "https://localhost:8080/"
        },
        "id": "OwcIv6joHJFL",
        "outputId": "02561980-0ebb-41b9-fc9f-a535d7fcea6c"
      },
      "execution_count": null,
      "outputs": [
        {
          "output_type": "execute_result",
          "data": {
            "text/plain": [
              "7"
            ]
          },
          "metadata": {},
          "execution_count": 86
        }
      ]
    },
    {
      "cell_type": "code",
      "source": [
        "# elementos de X\n",
        "print(X[0])\n",
        "print(X[1])"
      ],
      "metadata": {
        "colab": {
          "base_uri": "https://localhost:8080/"
        },
        "id": "XLdDLowQHOMh",
        "outputId": "bcf5a536-607d-4bdf-c140-5ddf9eec2f2b"
      },
      "execution_count": null,
      "outputs": [
        {
          "output_type": "stream",
          "name": "stdout",
          "text": [
            "1\n",
            "2\n"
          ]
        }
      ]
    },
    {
      "cell_type": "code",
      "source": [
        "# elementos de Y\n",
        "print(Y[0])\n",
        "print(Y[1])"
      ],
      "metadata": {
        "colab": {
          "base_uri": "https://localhost:8080/"
        },
        "id": "Kn57Te4THSaQ",
        "outputId": "94481685-3384-4aed-a069-80315b6cf4f0"
      },
      "execution_count": null,
      "outputs": [
        {
          "output_type": "stream",
          "name": "stdout",
          "text": [
            "3\n",
            "2\n"
          ]
        }
      ]
    },
    {
      "cell_type": "code",
      "source": [
        "arr1 = np.array([3, 5])\n",
        "arr2 = np.array([2, 4])\n",
        "\n",
        "# Realice la operacion dot de las matrices\n",
        "\n",
        "arr3 = np.dot(arr1,arr2)\n",
        "print(arr3)"
      ],
      "metadata": {
        "colab": {
          "base_uri": "https://localhost:8080/"
        },
        "id": "tFhpvm1CHZto",
        "outputId": "d9820ea5-243e-41c7-821b-149e9f0056e7"
      },
      "execution_count": null,
      "outputs": [
        {
          "output_type": "stream",
          "name": "stdout",
          "text": [
            "26\n"
          ]
        }
      ]
    },
    {
      "cell_type": "markdown",
      "source": [
        "## agregar constante a una matriz"
      ],
      "metadata": {
        "id": "MoljCeiMH88K"
      }
    },
    {
      "cell_type": "code",
      "source": [
        "u = np.array([1, 2, 3, -1]) \n",
        "u"
      ],
      "metadata": {
        "colab": {
          "base_uri": "https://localhost:8080/"
        },
        "id": "SWtaCVMCH3Pr",
        "outputId": "057c38c2-93c7-452f-f0e8-c3f318c956b2"
      },
      "execution_count": null,
      "outputs": [
        {
          "output_type": "execute_result",
          "data": {
            "text/plain": [
              "array([ 1,  2,  3, -1])"
            ]
          },
          "metadata": {},
          "execution_count": 91
        }
      ]
    },
    {
      "cell_type": "code",
      "source": [
        "# agrega la constante en la matriz\n",
        "\n",
        "u + 1"
      ],
      "metadata": {
        "colab": {
          "base_uri": "https://localhost:8080/"
        },
        "id": "EEmVtZQrIGPQ",
        "outputId": "ac0c0a71-7fb2-40de-bd5e-ba4f5a847be3"
      },
      "execution_count": null,
      "outputs": [
        {
          "output_type": "execute_result",
          "data": {
            "text/plain": [
              "array([2, 3, 4, 0])"
            ]
          },
          "metadata": {},
          "execution_count": 92
        }
      ]
    },
    {
      "cell_type": "code",
      "source": [
        "arr = np.array([1, 2, 3, -1]) \n",
        "\n",
        "# agregue la constante 5 a la matriz\n",
        "\n",
        "arr + 5"
      ],
      "metadata": {
        "colab": {
          "base_uri": "https://localhost:8080/"
        },
        "id": "s5Cybw52ILGN",
        "outputId": "0b36c15e-68b5-419d-b1d4-58a23c344055"
      },
      "execution_count": null,
      "outputs": [
        {
          "output_type": "execute_result",
          "data": {
            "text/plain": [
              "array([6, 7, 8, 4])"
            ]
          },
          "metadata": {},
          "execution_count": 93
        }
      ]
    },
    {
      "cell_type": "markdown",
      "source": [
        "## funciones matematicas"
      ],
      "metadata": {
        "id": "htWwy1vVI7Kx"
      }
    },
    {
      "cell_type": "code",
      "source": [
        "# valor de pi\n",
        "\n",
        "np.pi"
      ],
      "metadata": {
        "colab": {
          "base_uri": "https://localhost:8080/"
        },
        "id": "EEup96DeIzYr",
        "outputId": "008510c6-3b43-4ae3-9a97-c6d06f2f0426"
      },
      "execution_count": null,
      "outputs": [
        {
          "output_type": "execute_result",
          "data": {
            "text/plain": [
              "3.141592653589793"
            ]
          },
          "metadata": {},
          "execution_count": 94
        }
      ]
    },
    {
      "cell_type": "code",
      "source": [
        "# crea una matriz en radianes\n",
        "\n",
        "x = np.array([0, np.pi/2 , np.pi])\n",
        "x"
      ],
      "metadata": {
        "colab": {
          "base_uri": "https://localhost:8080/"
        },
        "id": "Ug5cHzoFJCMY",
        "outputId": "ab06b0c8-d781-4311-e94e-74072ded3d00"
      },
      "execution_count": null,
      "outputs": [
        {
          "output_type": "execute_result",
          "data": {
            "text/plain": [
              "array([0.        , 1.57079633, 3.14159265])"
            ]
          },
          "metadata": {},
          "execution_count": 96
        }
      ]
    },
    {
      "cell_type": "code",
      "source": [
        "# calcula el seno de cada elemento\n",
        "\n",
        "y = np.sin(x)\n",
        "y"
      ],
      "metadata": {
        "colab": {
          "base_uri": "https://localhost:8080/"
        },
        "id": "rKh3-IHMJLV3",
        "outputId": "3a8cbb31-c2e9-4895-bc20-04df4a641f89"
      },
      "execution_count": null,
      "outputs": [
        {
          "output_type": "execute_result",
          "data": {
            "text/plain": [
              "array([0.0000000e+00, 1.0000000e+00, 1.2246468e-16])"
            ]
          },
          "metadata": {},
          "execution_count": 97
        }
      ]
    },
    {
      "cell_type": "markdown",
      "source": [
        "## Linspace"
      ],
      "metadata": {
        "id": "1zqgATq9JSZN"
      }
    },
    {
      "cell_type": "code",
      "source": [
        "# Linspace devuelve números espaciados uniformemente en un intervalo específico."
      ],
      "metadata": {
        "id": "WCep74W6JSJ_"
      },
      "execution_count": null,
      "outputs": []
    },
    {
      "cell_type": "code",
      "source": [
        "# crea u con [-2, 2]  y 5 elementos\n",
        "\n",
        "np.linspace(-2, 2, num=5)"
      ],
      "metadata": {
        "colab": {
          "base_uri": "https://localhost:8080/"
        },
        "id": "AzioMC5tJHk5",
        "outputId": "73360f94-a346-44ce-8b48-0a0d45f1190a"
      },
      "execution_count": null,
      "outputs": [
        {
          "output_type": "execute_result",
          "data": {
            "text/plain": [
              "array([-2., -1.,  0.,  1.,  2.])"
            ]
          },
          "metadata": {},
          "execution_count": 99
        }
      ]
    },
    {
      "cell_type": "code",
      "source": [
        "# crear una matriz con [-2, 2] y 9 elementos\n",
        "\n",
        "np.linspace(-2, 2, num=9)"
      ],
      "metadata": {
        "colab": {
          "base_uri": "https://localhost:8080/"
        },
        "id": "knvv1ZoSJySh",
        "outputId": "f251f601-1cc3-44a2-8554-bfc767da0e55"
      },
      "execution_count": null,
      "outputs": [
        {
          "output_type": "execute_result",
          "data": {
            "text/plain": [
              "array([-2. , -1.5, -1. , -0.5,  0. ,  0.5,  1. ,  1.5,  2. ])"
            ]
          },
          "metadata": {},
          "execution_count": 100
        }
      ]
    },
    {
      "cell_type": "code",
      "source": [
        "# crear una matriz con [0, 2π] y 100 elementos\n",
        "\n",
        "x = np.linspace(0, 2*np.pi, num=100)\n",
        "x"
      ],
      "metadata": {
        "colab": {
          "base_uri": "https://localhost:8080/"
        },
        "id": "kFkFaFPbJ_7X",
        "outputId": "4c47ce43-f619-4bfc-ea99-edf35b5ee2b4"
      },
      "execution_count": null,
      "outputs": [
        {
          "output_type": "execute_result",
          "data": {
            "text/plain": [
              "array([0.        , 0.06346652, 0.12693304, 0.19039955, 0.25386607,\n",
              "       0.31733259, 0.38079911, 0.44426563, 0.50773215, 0.57119866,\n",
              "       0.63466518, 0.6981317 , 0.76159822, 0.82506474, 0.88853126,\n",
              "       0.95199777, 1.01546429, 1.07893081, 1.14239733, 1.20586385,\n",
              "       1.26933037, 1.33279688, 1.3962634 , 1.45972992, 1.52319644,\n",
              "       1.58666296, 1.65012947, 1.71359599, 1.77706251, 1.84052903,\n",
              "       1.90399555, 1.96746207, 2.03092858, 2.0943951 , 2.15786162,\n",
              "       2.22132814, 2.28479466, 2.34826118, 2.41172769, 2.47519421,\n",
              "       2.53866073, 2.60212725, 2.66559377, 2.72906028, 2.7925268 ,\n",
              "       2.85599332, 2.91945984, 2.98292636, 3.04639288, 3.10985939,\n",
              "       3.17332591, 3.23679243, 3.30025895, 3.36372547, 3.42719199,\n",
              "       3.4906585 , 3.55412502, 3.61759154, 3.68105806, 3.74452458,\n",
              "       3.8079911 , 3.87145761, 3.93492413, 3.99839065, 4.06185717,\n",
              "       4.12532369, 4.1887902 , 4.25225672, 4.31572324, 4.37918976,\n",
              "       4.44265628, 4.5061228 , 4.56958931, 4.63305583, 4.69652235,\n",
              "       4.75998887, 4.82345539, 4.88692191, 4.95038842, 5.01385494,\n",
              "       5.07732146, 5.14078798, 5.2042545 , 5.26772102, 5.33118753,\n",
              "       5.39465405, 5.45812057, 5.52158709, 5.58505361, 5.64852012,\n",
              "       5.71198664, 5.77545316, 5.83891968, 5.9023862 , 5.96585272,\n",
              "       6.02931923, 6.09278575, 6.15625227, 6.21971879, 6.28318531])"
            ]
          },
          "metadata": {},
          "execution_count": 104
        }
      ]
    },
    {
      "cell_type": "code",
      "source": [
        "# calcula el sena de la lista x\n",
        "\n",
        "y = np.sin(x)\n",
        "y"
      ],
      "metadata": {
        "colab": {
          "base_uri": "https://localhost:8080/"
        },
        "id": "B2SOMJXMKJAC",
        "outputId": "0e9b7c89-a111-485c-9d59-973038604ba1"
      },
      "execution_count": null,
      "outputs": [
        {
          "output_type": "execute_result",
          "data": {
            "text/plain": [
              "array([ 0.00000000e+00,  6.34239197e-02,  1.26592454e-01,  1.89251244e-01,\n",
              "        2.51147987e-01,  3.12033446e-01,  3.71662456e-01,  4.29794912e-01,\n",
              "        4.86196736e-01,  5.40640817e-01,  5.92907929e-01,  6.42787610e-01,\n",
              "        6.90079011e-01,  7.34591709e-01,  7.76146464e-01,  8.14575952e-01,\n",
              "        8.49725430e-01,  8.81453363e-01,  9.09631995e-01,  9.34147860e-01,\n",
              "        9.54902241e-01,  9.71811568e-01,  9.84807753e-01,  9.93838464e-01,\n",
              "        9.98867339e-01,  9.99874128e-01,  9.96854776e-01,  9.89821442e-01,\n",
              "        9.78802446e-01,  9.63842159e-01,  9.45000819e-01,  9.22354294e-01,\n",
              "        8.95993774e-01,  8.66025404e-01,  8.32569855e-01,  7.95761841e-01,\n",
              "        7.55749574e-01,  7.12694171e-01,  6.66769001e-01,  6.18158986e-01,\n",
              "        5.67059864e-01,  5.13677392e-01,  4.58226522e-01,  4.00930535e-01,\n",
              "        3.42020143e-01,  2.81732557e-01,  2.20310533e-01,  1.58001396e-01,\n",
              "        9.50560433e-02,  3.17279335e-02, -3.17279335e-02, -9.50560433e-02,\n",
              "       -1.58001396e-01, -2.20310533e-01, -2.81732557e-01, -3.42020143e-01,\n",
              "       -4.00930535e-01, -4.58226522e-01, -5.13677392e-01, -5.67059864e-01,\n",
              "       -6.18158986e-01, -6.66769001e-01, -7.12694171e-01, -7.55749574e-01,\n",
              "       -7.95761841e-01, -8.32569855e-01, -8.66025404e-01, -8.95993774e-01,\n",
              "       -9.22354294e-01, -9.45000819e-01, -9.63842159e-01, -9.78802446e-01,\n",
              "       -9.89821442e-01, -9.96854776e-01, -9.99874128e-01, -9.98867339e-01,\n",
              "       -9.93838464e-01, -9.84807753e-01, -9.71811568e-01, -9.54902241e-01,\n",
              "       -9.34147860e-01, -9.09631995e-01, -8.81453363e-01, -8.49725430e-01,\n",
              "       -8.14575952e-01, -7.76146464e-01, -7.34591709e-01, -6.90079011e-01,\n",
              "       -6.42787610e-01, -5.92907929e-01, -5.40640817e-01, -4.86196736e-01,\n",
              "       -4.29794912e-01, -3.71662456e-01, -3.12033446e-01, -2.51147987e-01,\n",
              "       -1.89251244e-01, -1.26592454e-01, -6.34239197e-02, -2.44929360e-16])"
            ]
          },
          "metadata": {},
          "execution_count": 105
        }
      ]
    },
    {
      "cell_type": "code",
      "source": [
        "# grafica del resultado\n",
        "\n",
        "plt.plot(x, y)"
      ],
      "metadata": {
        "colab": {
          "base_uri": "https://localhost:8080/",
          "height": 283
        },
        "id": "0pw1CWJkKPmH",
        "outputId": "bd954b65-a535-4e90-ac24-56cc1149057c"
      },
      "execution_count": null,
      "outputs": [
        {
          "output_type": "execute_result",
          "data": {
            "text/plain": [
              "[<matplotlib.lines.Line2D at 0x7fa37fca4a10>]"
            ]
          },
          "metadata": {},
          "execution_count": 106
        },
        {
          "output_type": "display_data",
          "data": {
            "text/plain": [
              "<Figure size 432x288 with 1 Axes>"
            ],
            "image/png": "[encoded data removed]"
          },
          "metadata": {
            "needs_background": "light"
          }
        }
      ]
    },
    {
      "cell_type": "code",
      "source": [
        "# crea una matriz con [5, 4] y 6 elementos\n",
        "arr = np.linspace(5, 4, num=6)\n",
        "arr"
      ],
      "metadata": {
        "colab": {
          "base_uri": "https://localhost:8080/"
        },
        "id": "JMaBiO16KU7U",
        "outputId": "08ca1396-cbbf-4417-c5b8-9dbbf1d4ba09"
      },
      "execution_count": null,
      "outputs": [
        {
          "output_type": "execute_result",
          "data": {
            "text/plain": [
              "array([5. , 4.8, 4.6, 4.4, 4.2, 4. ])"
            ]
          },
          "metadata": {},
          "execution_count": 111
        }
      ]
    },
    {
      "cell_type": "markdown",
      "source": [
        "## Iterando arreglos 1-D"
      ],
      "metadata": {
        "id": "eWb2n0ocLQjz"
      }
    },
    {
      "cell_type": "code",
      "source": [
        "arr1 = np.array([1, 2, 3])\n",
        "print(arr1)"
      ],
      "metadata": {
        "colab": {
          "base_uri": "https://localhost:8080/"
        },
        "id": "8uEYQykOK2uw",
        "outputId": "e6e09337-e830-41c1-9b53-c36401b21f56"
      },
      "execution_count": null,
      "outputs": [
        {
          "output_type": "stream",
          "name": "stdout",
          "text": [
            "[1 2 3]\n"
          ]
        }
      ]
    },
    {
      "cell_type": "code",
      "source": [
        "for x in arr1:\n",
        "  print(x)"
      ],
      "metadata": {
        "colab": {
          "base_uri": "https://localhost:8080/"
        },
        "id": "t6iNMZS9Lc05",
        "outputId": "7a6e4980-3460-4f78-b5fb-5d6e98c03433"
      },
      "execution_count": null,
      "outputs": [
        {
          "output_type": "stream",
          "name": "stdout",
          "text": [
            "1\n",
            "2\n",
            "3\n"
          ]
        }
      ]
    },
    {
      "cell_type": "markdown",
      "source": [
        "# Quiz sobre 1D Numpy array"
      ],
      "metadata": {
        "id": "DcYDU-vKLhv4"
      }
    },
    {
      "cell_type": "code",
      "source": [
        "# Resta la siguiente vectorial u-v\n",
        "\n",
        "u = np.array([1, 0])\n",
        "v = np.array([0, 1])\n",
        "\n",
        "np.subtract(u,v)"
      ],
      "metadata": {
        "colab": {
          "base_uri": "https://localhost:8080/"
        },
        "id": "4g19hpHLLeDN",
        "outputId": "973f53c5-1a35-4613-8f43-0b7378ece746"
      },
      "execution_count": null,
      "outputs": [
        {
          "output_type": "execute_result",
          "data": {
            "text/plain": [
              "array([ 1, -1])"
            ]
          },
          "metadata": {},
          "execution_count": 114
        }
      ]
    },
    {
      "cell_type": "code",
      "source": [
        "# Multiplica el arreglo z con -2\n",
        "\n",
        "np.multiply(z,-2)"
      ],
      "metadata": {
        "colab": {
          "base_uri": "https://localhost:8080/"
        },
        "id": "o9FW-uPmMHf7",
        "outputId": "946a8ae0-c198-4902-decc-1932239f9f2c"
      },
      "execution_count": null,
      "outputs": [
        {
          "output_type": "execute_result",
          "data": {
            "text/plain": [
              "array([-4, -4])"
            ]
          },
          "metadata": {},
          "execution_count": 116
        }
      ]
    },
    {
      "cell_type": "code",
      "source": [
        "# Considere la lista [1, 2, 3, 4, 5] y [1, 0, 1, 0, 1].\n",
        "# Tramita ambas lista a una matriz y luego multipliquelas\n",
        "\n",
        "arr1 = np.array([1, 2, 3, 4, 5])\n",
        "arr2 = np.array([1, 0, 1, 0, 1])\n",
        "arr1 * arr2"
      ],
      "metadata": {
        "colab": {
          "base_uri": "https://localhost:8080/"
        },
        "id": "pxV2Wqu-MUqK",
        "outputId": "933e5716-b407-4556-db0e-c34d8a218f6f"
      },
      "execution_count": null,
      "outputs": [
        {
          "output_type": "execute_result",
          "data": {
            "text/plain": [
              "array([1, 0, 3, 0, 5])"
            ]
          },
          "metadata": {},
          "execution_count": 118
        }
      ]
    },
    {
      "cell_type": "code",
      "source": [
        "import time \n",
        "import sys\n",
        "import numpy as np \n",
        "\n",
        "import matplotlib.pyplot as plt\n",
        "%matplotlib inline  \n",
        "\n",
        "def Plotvec2(a,b):\n",
        "    ax = plt.axes()# to generate the full window axes\n",
        "    ax.arrow(0, 0, *a, head_width=0.05, color ='r', head_length=0.1)#Add an arrow to the  a Axes with arrow head width 0.05, color red and arrow head length 0.1\n",
        "    plt.text(*(a + 0.1), 'a')\n",
        "    ax.arrow(0, 0, *b, head_width=0.05, color ='b', head_length=0.1)#Add an arrow to the  b Axes with arrow head width 0.05, color blue and arrow head length 0.1\n",
        "    plt.text(*(b + 0.1), 'b')\n",
        "    plt.ylim(-2, 2)#set the ylim to bottom(-2), top(2)\n",
        "    plt.xlim(-2, 2)#set the xlim to left(-2), right(2)\n",
        "    "
      ],
      "metadata": {
        "id": "kuNIjAIcM0uX"
      },
      "execution_count": null,
      "outputs": []
    },
    {
      "cell_type": "code",
      "source": [
        "# convierta la lista [-1, 1] y [1, 1] a una matriz numerica a y b.\n",
        "# Luego, imprima el grafico de las matrices como vectores usando la funcion Plotvec2 y encuentre su producto:\n",
        "\n",
        "a = np.array([-1, 1])\n",
        "b = np.array([1, 1])\n",
        "Plotvec2(a, b)\n",
        "print(\"El producto es\", np.dot(a,b))"
      ],
      "metadata": {
        "colab": {
          "base_uri": "https://localhost:8080/",
          "height": 287
        },
        "id": "QefebG1yNA7x",
        "outputId": "e2878b03-3ca3-4f77-bbbe-a598ecc98fd7"
      },
      "execution_count": null,
      "outputs": [
        {
          "output_type": "stream",
          "name": "stdout",
          "text": [
            "El producto es 0\n"
          ]
        },
        {
          "output_type": "display_data",
          "data": {
            "text/plain": [
              "<Figure size 432x288 with 1 Axes>"
            ],
            "image/png": "[encoded data removed]"
          },
          "metadata": {
            "needs_background": "light"
          }
        }
      ]
    },
    {
      "cell_type": "code",
      "source": [
        "a = np.array([1, 0])\n",
        "b = np.array([0, 1])\n",
        "Plotvec2(a, b)\n",
        "print(\"El producto es\", np.dot(a,b))"
      ],
      "metadata": {
        "colab": {
          "base_uri": "https://localhost:8080/",
          "height": 287
        },
        "id": "G5AYjmkyNbbH",
        "outputId": "c7f32a92-6670-4d70-a813-5f0867a70901"
      },
      "execution_count": null,
      "outputs": [
        {
          "output_type": "stream",
          "name": "stdout",
          "text": [
            "El producto es 0\n"
          ]
        },
        {
          "output_type": "display_data",
          "data": {
            "text/plain": [
              "<Figure size 432x288 with 1 Axes>"
            ],
            "image/png": "[encoded data removed]"
          },
          "metadata": {
            "needs_background": "light"
          }
        }
      ]
    },
    {
      "cell_type": "code",
      "source": [
        "a = np.array([1, 1])\n",
        "b = np.array([0, 1])\n",
        "Plotvec2(a, b)\n",
        "print(\"El producto es\", np.dot(a,b))"
      ],
      "metadata": {
        "colab": {
          "base_uri": "https://localhost:8080/",
          "height": 287
        },
        "id": "GO8UeBOlONgZ",
        "outputId": "372fa7bc-c2fd-4d3b-c8c7-70007fd29915"
      },
      "execution_count": null,
      "outputs": [
        {
          "output_type": "stream",
          "name": "stdout",
          "text": [
            "El producto es 1\n"
          ]
        },
        {
          "output_type": "display_data",
          "data": {
            "text/plain": [
              "<Figure size 432x288 with 1 Axes>"
            ],
            "image/png": "[encoded data removed]"
          },
          "metadata": {
            "needs_background": "light"
          }
        }
      ]
    },
    {
      "cell_type": "markdown",
      "source": [
        "### ¿Por qué los resultados del producto escalar para [-1, 1] y [1, 1] y el producto escalar para [1, 0] y [0, 1] son ​​cero, pero no cero para el producto escalar para [1, 1] y [0, 1]?\n",
        "\n",
        "### R: Por que el angulo de los vectores es de 90 grados"
      ],
      "metadata": {
        "id": "JnscRNtMOzLF"
      }
    },
    {
      "cell_type": "code",
      "source": [
        "# convierta la lista [1, 2, 3] y [8, 9, 10] a matrices arr1 y arr2.\n",
        "# luego realice las operaciones de suma, resta, multiplicacion division y Dot.\n",
        "\n",
        "arr1 = np.array([1, 2, 3])\n",
        "arr2 = np.array([8, 9, 10])"
      ],
      "metadata": {
        "id": "QKkHq21pOUTL"
      },
      "execution_count": null,
      "outputs": []
    },
    {
      "cell_type": "code",
      "source": [
        "# suma\n",
        "arr3 = np.add(arr1, arr2)\n",
        "arr3"
      ],
      "metadata": {
        "colab": {
          "base_uri": "https://localhost:8080/"
        },
        "id": "XVYEuaCsQFkN",
        "outputId": "761c507e-83d6-4182-de7a-6882019a6932"
      },
      "execution_count": null,
      "outputs": [
        {
          "output_type": "execute_result",
          "data": {
            "text/plain": [
              "array([ 9, 11, 13])"
            ]
          },
          "metadata": {},
          "execution_count": 126
        }
      ]
    },
    {
      "cell_type": "code",
      "source": [
        "# resta\n",
        "arr4 = np.subtract(arr1, arr2)\n",
        "arr4\n"
      ],
      "metadata": {
        "colab": {
          "base_uri": "https://localhost:8080/"
        },
        "id": "5ekmqlbvQG7t",
        "outputId": "312d92a4-cbee-42a4-f0cb-3905328347ac"
      },
      "execution_count": null,
      "outputs": [
        {
          "output_type": "execute_result",
          "data": {
            "text/plain": [
              "array([-7, -7, -7])"
            ]
          },
          "metadata": {},
          "execution_count": 127
        }
      ]
    },
    {
      "cell_type": "code",
      "source": [
        "# multiplicacion\n",
        "arr5 = np.multiply(arr1, arr2)\n",
        "arr5\n"
      ],
      "metadata": {
        "colab": {
          "base_uri": "https://localhost:8080/"
        },
        "id": "2skqu0CkQLE9",
        "outputId": "a680533e-25bb-45e7-b4e2-974c4f739113"
      },
      "execution_count": null,
      "outputs": [
        {
          "output_type": "execute_result",
          "data": {
            "text/plain": [
              "array([ 8, 18, 30])"
            ]
          },
          "metadata": {},
          "execution_count": 128
        }
      ]
    },
    {
      "cell_type": "code",
      "source": [
        "# division\n",
        "arr6 = np.divide(arr1, arr2)\n",
        "arr6"
      ],
      "metadata": {
        "colab": {
          "base_uri": "https://localhost:8080/"
        },
        "id": "kMeEhvpVQNmG",
        "outputId": "c2070820-a78c-4150-c3be-16934d8bc635"
      },
      "execution_count": null,
      "outputs": [
        {
          "output_type": "execute_result",
          "data": {
            "text/plain": [
              "array([0.125     , 0.22222222, 0.3       ])"
            ]
          },
          "metadata": {},
          "execution_count": 129
        }
      ]
    },
    {
      "cell_type": "code",
      "source": [
        "# dot\n",
        "arr7 = np.dot(arr1, arr2)\n",
        "arr7"
      ],
      "metadata": {
        "colab": {
          "base_uri": "https://localhost:8080/"
        },
        "id": "amVHruHYQQkg",
        "outputId": "134108ed-98c8-4dbf-aea9-400f9b070c3e"
      },
      "execution_count": null,
      "outputs": [
        {
          "output_type": "execute_result",
          "data": {
            "text/plain": [
              "56"
            ]
          },
          "metadata": {},
          "execution_count": 130
        }
      ]
    },
    {
      "cell_type": "code",
      "source": [
        "# convierta la lista [1, 2, 3, 4, 5] y [6, 7, 8, 9, 10] a matrices arr1 and arr2.\n",
        "# luego encuentre los numeros pares e impares\n",
        "\n",
        "arr1 = np.array([1, 2, 3, 4, 5])\n",
        "arr2 = np.array([6, 7, 8, 9, 10])"
      ],
      "metadata": {
        "id": "ENxnExcAQSE0"
      },
      "execution_count": null,
      "outputs": []
    },
    {
      "cell_type": "code",
      "source": [
        "# pares\n",
        "x = arr1[1:8:2]\n",
        "x"
      ],
      "metadata": {
        "colab": {
          "base_uri": "https://localhost:8080/"
        },
        "id": "svptS57CQrPK",
        "outputId": "eb312be4-15ca-4910-c256-b5fe5a72c0f1"
      },
      "execution_count": null,
      "outputs": [
        {
          "output_type": "execute_result",
          "data": {
            "text/plain": [
              "array([2, 4])"
            ]
          },
          "metadata": {},
          "execution_count": 136
        }
      ]
    },
    {
      "cell_type": "code",
      "source": [
        "# impares\n",
        "y = arr2[0:8:2]\n",
        "y  "
      ],
      "metadata": {
        "colab": {
          "base_uri": "https://localhost:8080/"
        },
        "id": "DD0sB4GpQsjK",
        "outputId": "95672f2d-0e8e-41ce-f196-2f38d64a56ef"
      },
      "execution_count": null,
      "outputs": [
        {
          "output_type": "execute_result",
          "data": {
            "text/plain": [
              "array([ 6,  8, 10])"
            ]
          },
          "metadata": {},
          "execution_count": 138
        }
      ]
    },
    {
      "cell_type": "markdown",
      "source": [
        "# 2D Numpy in Python"
      ],
      "metadata": {
        "id": "N4pLMKVWIly0"
      }
    },
    {
      "cell_type": "code",
      "source": [
        "# crear una matriz 2D\n",
        "\n",
        "import numpy as np \n",
        "import matplotlib.pyplot as plt"
      ],
      "metadata": {
        "id": "B8bD-F2oQwAP"
      },
      "execution_count": 9,
      "outputs": []
    },
    {
      "cell_type": "code",
      "source": [
        "# Considere la lista a, que contiene tres listas anidadas, cada una de igual tamaño.\n",
        "\n",
        "a = [[11, 12, 13], [21, 22, 23], [31, 32, 33]]\n",
        "a"
      ],
      "metadata": {
        "colab": {
          "base_uri": "https://localhost:8080/"
        },
        "id": "XM056eUNHIT3",
        "outputId": "7f9080b2-4358-45d5-aa05-2a11c73e2402"
      },
      "execution_count": 12,
      "outputs": [
        {
          "output_type": "execute_result",
          "data": {
            "text/plain": [
              "[[11, 12, 13], [21, 22, 23], [31, 32, 33]]"
            ]
          },
          "metadata": {},
          "execution_count": 12
        }
      ]
    },
    {
      "cell_type": "code",
      "source": [
        "# Convertir la lista a una matriz\n",
        "\n",
        "A = np.array(a)\n",
        "A"
      ],
      "metadata": {
        "colab": {
          "base_uri": "https://localhost:8080/"
        },
        "id": "xTo5ekHVIFFS",
        "outputId": "b025c829-26e2-4fdd-ca56-f589bca25103"
      },
      "execution_count": 21,
      "outputs": [
        {
          "output_type": "execute_result",
          "data": {
            "text/plain": [
              "array([[11, 12, 13],\n",
              "       [21, 22, 23],\n",
              "       [31, 32, 33]])"
            ]
          },
          "metadata": {},
          "execution_count": 21
        }
      ]
    },
    {
      "cell_type": "code",
      "source": [
        "# Muestra la dimensiones de la matriz\n",
        "\n",
        "A.ndim"
      ],
      "metadata": {
        "colab": {
          "base_uri": "https://localhost:8080/"
        },
        "id": "DLX4IT9UIHhd",
        "outputId": "e77af597-359b-4dbd-99d4-4dfd6bc1fbe3"
      },
      "execution_count": 14,
      "outputs": [
        {
          "output_type": "execute_result",
          "data": {
            "text/plain": [
              "2"
            ]
          },
          "metadata": {},
          "execution_count": 14
        }
      ]
    },
    {
      "cell_type": "code",
      "source": [
        "# Muestra la forma de la matriz\n",
        "\n",
        "A.shape"
      ],
      "metadata": {
        "colab": {
          "base_uri": "https://localhost:8080/"
        },
        "id": "wJLbBLDKJvsQ",
        "outputId": "838e6cec-601f-43ea-dd3e-3d883360c33a"
      },
      "execution_count": 15,
      "outputs": [
        {
          "output_type": "execute_result",
          "data": {
            "text/plain": [
              "(3, 3)"
            ]
          },
          "metadata": {},
          "execution_count": 15
        }
      ]
    },
    {
      "cell_type": "code",
      "source": [
        "# Mostrar el tamaño\n",
        "\n",
        "A.size"
      ],
      "metadata": {
        "colab": {
          "base_uri": "https://localhost:8080/"
        },
        "id": "ZjVfSJEmJ27X",
        "outputId": "d06076e7-a5d2-4dad-e97f-70f401356bf8"
      },
      "execution_count": 16,
      "outputs": [
        {
          "output_type": "execute_result",
          "data": {
            "text/plain": [
              "9"
            ]
          },
          "metadata": {},
          "execution_count": 16
        }
      ]
    },
    {
      "cell_type": "markdown",
      "source": [
        "### Podemos usar corchetes rectangulares para acceder a los diferentesvelementos de la matriz. Simplemente usamos los corchetes y los índices correspondientes al elemento que nos gustaría:"
      ],
      "metadata": {
        "id": "IPKW_LzpKJDH"
      }
    },
    {
      "cell_type": "code",
      "source": [
        "# Accede al elemento en la segunda fila y tercera columna\n",
        "\n",
        "A[1, 2]"
      ],
      "metadata": {
        "colab": {
          "base_uri": "https://localhost:8080/"
        },
        "id": "cly4RfjWJ--E",
        "outputId": "6820a7c7-bf2e-4f36-d955-c78bdd99ea6f"
      },
      "execution_count": 17,
      "outputs": [
        {
          "output_type": "execute_result",
          "data": {
            "text/plain": [
              "23"
            ]
          },
          "metadata": {},
          "execution_count": 17
        }
      ]
    },
    {
      "cell_type": "code",
      "source": [
        "# Accede al elemento en la segunda fila y tercera columna\n",
        "\n",
        "A[1][2]"
      ],
      "metadata": {
        "colab": {
          "base_uri": "https://localhost:8080/"
        },
        "id": "NB8-d0MbKfXG",
        "outputId": "2bc1fba3-3585-404a-878d-b8cd74a38985"
      },
      "execution_count": 18,
      "outputs": [
        {
          "output_type": "execute_result",
          "data": {
            "text/plain": [
              "23"
            ]
          },
          "metadata": {},
          "execution_count": 18
        }
      ]
    },
    {
      "cell_type": "code",
      "source": [
        "# Accede al elemento en la primera fila y la primera columna\n",
        "\n",
        "A[0][0]"
      ],
      "metadata": {
        "colab": {
          "base_uri": "https://localhost:8080/"
        },
        "id": "J9VGviJ9Kkdh",
        "outputId": "53ce4665-a2d8-4308-9022-98879b171256"
      },
      "execution_count": 22,
      "outputs": [
        {
          "output_type": "execute_result",
          "data": {
            "text/plain": [
              "11"
            ]
          },
          "metadata": {},
          "execution_count": 22
        }
      ]
    },
    {
      "cell_type": "code",
      "source": [
        "# Accede al elemento en la primera fila y en la primera y segunda columna\n",
        "\n",
        "A[0][0:2]"
      ],
      "metadata": {
        "colab": {
          "base_uri": "https://localhost:8080/"
        },
        "id": "0gtfSenjKoyq",
        "outputId": "03fc0a59-8c61-4157-9b11-b58bbdc37985"
      },
      "execution_count": 23,
      "outputs": [
        {
          "output_type": "execute_result",
          "data": {
            "text/plain": [
              "array([11, 12])"
            ]
          },
          "metadata": {},
          "execution_count": 23
        }
      ]
    },
    {
      "cell_type": "code",
      "source": [
        "# Acceda al elemento en la primera y segunda fila y en la tercera columna\n",
        "\n",
        "A[0:2, 2]"
      ],
      "metadata": {
        "colab": {
          "base_uri": "https://localhost:8080/"
        },
        "id": "sHL4wXTiK4ru",
        "outputId": "2e060163-9054-4b8f-e34d-cd895c890916"
      },
      "execution_count": 24,
      "outputs": [
        {
          "output_type": "execute_result",
          "data": {
            "text/plain": [
              "array([13, 23])"
            ]
          },
          "metadata": {},
          "execution_count": 24
        }
      ]
    },
    {
      "cell_type": "markdown",
      "source": [
        "### Operaciones basicas"
      ],
      "metadata": {
        "id": "B-GPfrCoLB-z"
      }
    },
    {
      "cell_type": "code",
      "source": [
        "X = np.array([[1, 0], [0, 1]]) \n",
        "X"
      ],
      "metadata": {
        "colab": {
          "base_uri": "https://localhost:8080/"
        },
        "id": "2Iq7oDOPK-9b",
        "outputId": "46260021-41ca-4773-ea8f-aaff65100702"
      },
      "execution_count": 25,
      "outputs": [
        {
          "output_type": "execute_result",
          "data": {
            "text/plain": [
              "array([[1, 0],\n",
              "       [0, 1]])"
            ]
          },
          "metadata": {},
          "execution_count": 25
        }
      ]
    },
    {
      "cell_type": "code",
      "source": [
        "Y = np.array([[2, 1], [1, 2]]) \n",
        "Y"
      ],
      "metadata": {
        "colab": {
          "base_uri": "https://localhost:8080/"
        },
        "id": "MQAu-2XZLH0Y",
        "outputId": "da38fb5f-fef7-40b0-94b9-2bc98a836c7e"
      },
      "execution_count": 26,
      "outputs": [
        {
          "output_type": "execute_result",
          "data": {
            "text/plain": [
              "array([[2, 1],\n",
              "       [1, 2]])"
            ]
          },
          "metadata": {},
          "execution_count": 26
        }
      ]
    },
    {
      "cell_type": "code",
      "source": [
        "# Suma X and Y\n",
        "\n",
        "Z = X + Y\n",
        "Z"
      ],
      "metadata": {
        "colab": {
          "base_uri": "https://localhost:8080/"
        },
        "id": "HFxHdXmsLJy0",
        "outputId": "fe29477b-d9e5-46cd-80f9-30ce5debdeea"
      },
      "execution_count": 27,
      "outputs": [
        {
          "output_type": "execute_result",
          "data": {
            "text/plain": [
              "array([[3, 1],\n",
              "       [1, 3]])"
            ]
          },
          "metadata": {},
          "execution_count": 27
        }
      ]
    },
    {
      "cell_type": "code",
      "source": [
        "Y = np.array([[2, 1], [1, 2]]) \n",
        "Y"
      ],
      "metadata": {
        "colab": {
          "base_uri": "https://localhost:8080/"
        },
        "id": "1mqa-DaPLPP6",
        "outputId": "d8b4399e-28de-4918-a43b-48da3c73c924"
      },
      "execution_count": 28,
      "outputs": [
        {
          "output_type": "execute_result",
          "data": {
            "text/plain": [
              "array([[2, 1],\n",
              "       [1, 2]])"
            ]
          },
          "metadata": {},
          "execution_count": 28
        }
      ]
    },
    {
      "cell_type": "code",
      "source": [
        "# Multiplicacion de Y * 2\n",
        "\n",
        "Z = 2 * Y\n",
        "Z"
      ],
      "metadata": {
        "colab": {
          "base_uri": "https://localhost:8080/"
        },
        "id": "jBUVu6_oLSsP",
        "outputId": "879cc5f3-5ee4-4b52-e08c-a8f708cd5230"
      },
      "execution_count": 29,
      "outputs": [
        {
          "output_type": "execute_result",
          "data": {
            "text/plain": [
              "array([[4, 2],\n",
              "       [2, 4]])"
            ]
          },
          "metadata": {},
          "execution_count": 29
        }
      ]
    },
    {
      "cell_type": "code",
      "source": [
        "Y = np.array([[2, 1], [1, 2]]) \n",
        "Y"
      ],
      "metadata": {
        "colab": {
          "base_uri": "https://localhost:8080/"
        },
        "id": "E7m0lb30LZJS",
        "outputId": "e7badeaf-4f1b-4c51-e9a9-22491b5de887"
      },
      "execution_count": 30,
      "outputs": [
        {
          "output_type": "execute_result",
          "data": {
            "text/plain": [
              "array([[2, 1],\n",
              "       [1, 2]])"
            ]
          },
          "metadata": {},
          "execution_count": 30
        }
      ]
    },
    {
      "cell_type": "code",
      "source": [
        "X = np.array([[1, 0], [0, 1]]) \n",
        "X"
      ],
      "metadata": {
        "colab": {
          "base_uri": "https://localhost:8080/"
        },
        "id": "MidyPJDeLb4t",
        "outputId": "4bc3624c-17a5-4703-cd07-b2f1b70164ff"
      },
      "execution_count": 31,
      "outputs": [
        {
          "output_type": "execute_result",
          "data": {
            "text/plain": [
              "array([[1, 0],\n",
              "       [0, 1]])"
            ]
          },
          "metadata": {},
          "execution_count": 31
        }
      ]
    },
    {
      "cell_type": "code",
      "source": [
        "# Multiplica X * Y\n",
        "\n",
        "Z = X * Y\n",
        "Z"
      ],
      "metadata": {
        "colab": {
          "base_uri": "https://localhost:8080/"
        },
        "id": "y1Wx6jxlLdl-",
        "outputId": "e8d5d6cc-2e20-48b0-fd24-a9b1b7338c4b"
      },
      "execution_count": 32,
      "outputs": [
        {
          "output_type": "execute_result",
          "data": {
            "text/plain": [
              "array([[2, 0],\n",
              "       [0, 2]])"
            ]
          },
          "metadata": {},
          "execution_count": 32
        }
      ]
    },
    {
      "cell_type": "code",
      "source": [
        "A = np.array([[0, 1, 1], [1, 0, 1]])\n",
        "A"
      ],
      "metadata": {
        "colab": {
          "base_uri": "https://localhost:8080/"
        },
        "id": "gyW6JN4qLh0o",
        "outputId": "f150d053-a0f0-427c-f0f5-5b398d738cfa"
      },
      "execution_count": 33,
      "outputs": [
        {
          "output_type": "execute_result",
          "data": {
            "text/plain": [
              "array([[0, 1, 1],\n",
              "       [1, 0, 1]])"
            ]
          },
          "metadata": {},
          "execution_count": 33
        }
      ]
    },
    {
      "cell_type": "code",
      "source": [
        "B = np.array([[1, 1], [1, 1], [-1, 1]])\n",
        "B"
      ],
      "metadata": {
        "colab": {
          "base_uri": "https://localhost:8080/"
        },
        "id": "m1OFYuUeL4jH",
        "outputId": "565ab72f-862d-4263-d317-1c8b185dece6"
      },
      "execution_count": 34,
      "outputs": [
        {
          "output_type": "execute_result",
          "data": {
            "text/plain": [
              "array([[ 1,  1],\n",
              "       [ 1,  1],\n",
              "       [-1,  1]])"
            ]
          },
          "metadata": {},
          "execution_count": 34
        }
      ]
    },
    {
      "cell_type": "code",
      "source": [
        "# Calcular el producto con dot\n",
        "\n",
        "Z = np.dot(A,B)\n",
        "Z"
      ],
      "metadata": {
        "colab": {
          "base_uri": "https://localhost:8080/"
        },
        "id": "wK5X8J7eL6W7",
        "outputId": "f395c664-4c9d-4caf-b299-0ec945d7cd9e"
      },
      "execution_count": 35,
      "outputs": [
        {
          "output_type": "execute_result",
          "data": {
            "text/plain": [
              "array([[0, 2],\n",
              "       [0, 2]])"
            ]
          },
          "metadata": {},
          "execution_count": 35
        }
      ]
    },
    {
      "cell_type": "code",
      "source": [
        "# Calcula el seno de Z\n",
        "\n",
        "np.sin(Z)"
      ],
      "metadata": {
        "colab": {
          "base_uri": "https://localhost:8080/"
        },
        "id": "V1vnHJKkMCG2",
        "outputId": "0fb8f771-1c3d-4a4c-f535-0c559a5e5899"
      },
      "execution_count": 36,
      "outputs": [
        {
          "output_type": "execute_result",
          "data": {
            "text/plain": [
              "array([[0.        , 0.90929743],\n",
              "       [0.        , 0.90929743]])"
            ]
          },
          "metadata": {},
          "execution_count": 36
        }
      ]
    },
    {
      "cell_type": "code",
      "source": [
        "C = np.array([[1,1],[2,2],[3,3]])\n",
        "C"
      ],
      "metadata": {
        "colab": {
          "base_uri": "https://localhost:8080/"
        },
        "id": "C90ctPFIMIgD",
        "outputId": "8ac2b8dd-5c60-4d65-84f7-c789b948258b"
      },
      "execution_count": 37,
      "outputs": [
        {
          "output_type": "execute_result",
          "data": {
            "text/plain": [
              "array([[1, 1],\n",
              "       [2, 2],\n",
              "       [3, 3]])"
            ]
          },
          "metadata": {},
          "execution_count": 37
        }
      ]
    },
    {
      "cell_type": "code",
      "source": [
        "# Obtiene la transpuesta de C\n",
        "\n",
        "C.T"
      ],
      "metadata": {
        "colab": {
          "base_uri": "https://localhost:8080/"
        },
        "id": "Oz18QsvqMLSJ",
        "outputId": "fc864a5e-f5b8-4bd6-d686-2911440dbdc1"
      },
      "execution_count": 38,
      "outputs": [
        {
          "output_type": "execute_result",
          "data": {
            "text/plain": [
              "array([[1, 2, 3],\n",
              "       [1, 2, 3]])"
            ]
          },
          "metadata": {},
          "execution_count": 38
        }
      ]
    },
    {
      "cell_type": "markdown",
      "source": [
        "## Quiz on 2D Numpy Array"
      ],
      "metadata": {
        "id": "QhjpIQRQMjnw"
      }
    },
    {
      "cell_type": "code",
      "source": [
        "# Considere la siguiente lista a, conviértala en una matriz de numpy\n",
        "\n",
        "a = [[1, 2, 3, 4], [5, 6, 7, 8], [9, 10, 11, 12]]\n",
        "A = np.array(a)\n",
        "A"
      ],
      "metadata": {
        "colab": {
          "base_uri": "https://localhost:8080/"
        },
        "id": "trMTJET3MRoX",
        "outputId": "9c5db6ba-0d06-458c-a413-1402dae22090"
      },
      "execution_count": 40,
      "outputs": [
        {
          "output_type": "execute_result",
          "data": {
            "text/plain": [
              "array([[ 1,  2,  3,  4],\n",
              "       [ 5,  6,  7,  8],\n",
              "       [ 9, 10, 11, 12]])"
            ]
          },
          "metadata": {},
          "execution_count": 40
        }
      ]
    },
    {
      "cell_type": "code",
      "source": [
        "# Calcular el tamaño de la matriz\n",
        "\n",
        "A.size"
      ],
      "metadata": {
        "id": "VvUDL3AcM1a9",
        "outputId": "df462d96-8636-4516-fb47-dfce3ee05d05",
        "colab": {
          "base_uri": "https://localhost:8080/"
        }
      },
      "execution_count": 41,
      "outputs": [
        {
          "output_type": "execute_result",
          "data": {
            "text/plain": [
              "12"
            ]
          },
          "metadata": {},
          "execution_count": 41
        }
      ]
    },
    {
      "cell_type": "code",
      "source": [
        "# Acceda al elemento en la primera fila y en la primera y segunda columna.\n",
        "\n",
        "A[0][0:2]"
      ],
      "metadata": {
        "id": "gGfJ_t0zNNaL",
        "outputId": "7e93345f-b808-4bed-e66d-963496151e26",
        "colab": {
          "base_uri": "https://localhost:8080/"
        }
      },
      "execution_count": 42,
      "outputs": [
        {
          "output_type": "execute_result",
          "data": {
            "text/plain": [
              "array([1, 2])"
            ]
          },
          "metadata": {},
          "execution_count": 42
        }
      ]
    },
    {
      "cell_type": "code",
      "source": [
        "# Realice la multiplicación de matrices con las matrices numpy A y B.\n",
        "\n",
        "B = np.array([[0, 1], [1, 0], [1, 1], [-1, 0]])\n",
        "\n",
        "Z = np.dot(A,B)\n",
        "Z"
      ],
      "metadata": {
        "id": "rKTMXI9BNZ8A",
        "outputId": "a2e837af-0734-4ae5-fb3b-e85b37de9c1a",
        "colab": {
          "base_uri": "https://localhost:8080/"
        }
      },
      "execution_count": 44,
      "outputs": [
        {
          "output_type": "execute_result",
          "data": {
            "text/plain": [
              "array([[ 1,  4],\n",
              "       [ 5, 12],\n",
              "       [ 9, 20]])"
            ]
          },
          "metadata": {},
          "execution_count": 44
        }
      ]
    },
    {
      "cell_type": "markdown",
      "source": [
        "## HTTP y Request en Python"
      ],
      "metadata": {
        "id": "9X4pP4oWWmsy"
      }
    },
    {
      "cell_type": "code",
      "source": [
        "# Request es una biblioteca de Python que le permite enviar solicitudes HTTP/1.1 fácilmente.\n",
        "# Podemos importar la biblioteca de la siguiente manera:\n",
        "\n",
        "import requests"
      ],
      "metadata": {
        "id": "iKIZ95zgNhQl"
      },
      "execution_count": 45,
      "outputs": []
    },
    {
      "cell_type": "code",
      "source": [
        "# Tambien se requieren las siguientes librerias:\n",
        "\n",
        "import os \n",
        "from PIL import Image\n",
        "from IPython.display import IFrame"
      ],
      "metadata": {
        "id": "NnpYfC2wYF9q"
      },
      "execution_count": 46,
      "outputs": []
    },
    {
      "cell_type": "code",
      "source": [
        "# Puede realizar una solicitud GET a través del método get to www.ibm.com:\n",
        "\n",
        "url='https://www.ibm.com/'\n",
        "r=requests.get(url)"
      ],
      "metadata": {
        "id": "FosbKRsBYPq9"
      },
      "execution_count": 47,
      "outputs": []
    },
    {
      "cell_type": "code",
      "source": [
        "# Tenemos el objeto de respuesta r, este tiene información sobre la solicitud, como el estado de la solicitud.\n",
        "# Podemos ver el código de estado usando el atributo status_code.\n",
        "\n",
        "r.status_code"
      ],
      "metadata": {
        "id": "yYJdel3OYdOt",
        "outputId": "f3e5a573-b928-4444-9731-467560c4caf0",
        "colab": {
          "base_uri": "https://localhost:8080/"
        }
      },
      "execution_count": 48,
      "outputs": [
        {
          "output_type": "execute_result",
          "data": {
            "text/plain": [
              "200"
            ]
          },
          "metadata": {},
          "execution_count": 48
        }
      ]
    },
    {
      "cell_type": "code",
      "source": [
        "# se puede ver el encabezado de las solicitudes \n",
        "\n",
        "print(r.request.headers)"
      ],
      "metadata": {
        "id": "k7vI7o3vY72Z",
        "outputId": "761f6de8-c501-4b04-afd4-98dfb27f1a62",
        "colab": {
          "base_uri": "https://localhost:8080/"
        }
      },
      "execution_count": 49,
      "outputs": [
        {
          "output_type": "stream",
          "name": "stdout",
          "text": [
            "{'User-Agent': 'python-requests/2.23.0', 'Accept-Encoding': 'gzip, deflate', 'Accept': '*/*', 'Connection': 'keep-alive', 'Cookie': '_abck=C2C4D22F697933D701AC9FE198A4EACC~-1~YAAQh0A2FzoqfYiDAQAASddhoQih5ap7+5Frn6mKSOtXiBLn8A/wQydMt0EG7E423hodfXknPMLZcYJSF4y7X0CjhOgTevc60UxRFAQnUdMhYD6Wh3e0zsWU3hf/r2GDj2HWByDLf/urzdlyt+3Ouh2/4BKvFcBdWPfp3LB/vLQWgXiMc9LEcNtn+h9FfcHtAxWuLuN4y+nvo+RLUIsLZFtNQ4mbBKHJ7jXpY1XDwZNvnw/Yg3K+s5cRNmY+hfrvfOLqjP3m1SvU03axy1ywAsKv1XL2up9A4rUzkpwQHCZV6kMTIMzG5j/BvGXC9JnFHa/QtQgjsuAQn+Nb2t8HX7rH/miRTLdzGoG9ERRP+wUnU5mpqBA=~-1~-1~-1; bm_sz=4D0E1D20DDDA66C59AAB8E36C4F90F5D~YAAQh0A2FzsqfYiDAQAASddhoRG36XVD9gSprtsLvnpJojgjWc6PPe+uPxkevq3JATQHF5tQpGnKCHCNxcrTKUltCjpNAhbXyQhX4yMwYdayGWydjpFv/Act4Z6M7KlApmWLo2hkEOE47FagTug2l25Q9tvW0j0GLjcrgnUd51ylsYdYoCza/R5gCx5k7C3k4/VTjDWHC89Lq0M8stADR25CfQ49xogpLh7WxRLGVWwaNRnu6O5S7760NE3A/JbLnYD9MA3L/kzRMQ1BycLxk9OjAtlJSjHxZoqZm0oDg10=~4599861~4469317'}\n"
          ]
        }
      ]
    },
    {
      "cell_type": "code",
      "source": [
        "# Puede ver el cuerpo de la solicitud, en la siguiente línea, ya que no hay cuerpo para una solicitud de obtención, obtenemos None:\n",
        "\n",
        "print(\"request body:\", r.request.body)"
      ],
      "metadata": {
        "id": "CyCFonkCZGbL",
        "outputId": "b28fb2a9-8c93-4ca2-dcbe-89310e358725",
        "colab": {
          "base_uri": "https://localhost:8080/"
        }
      },
      "execution_count": 50,
      "outputs": [
        {
          "output_type": "stream",
          "name": "stdout",
          "text": [
            "request body: None\n"
          ]
        }
      ]
    },
    {
      "cell_type": "code",
      "source": [
        "#  Esto devuelve un diccionario de Python de encabezados de respuesta HTTP.\n",
        "\n",
        "header=r.headers\n",
        "print(r.headers)"
      ],
      "metadata": {
        "id": "M1L9oxefZWuF",
        "outputId": "d693e6fd-5a8c-415c-e9d6-28186a2d2be6",
        "colab": {
          "base_uri": "https://localhost:8080/"
        }
      },
      "execution_count": 51,
      "outputs": [
        {
          "output_type": "stream",
          "name": "stdout",
          "text": [
            "{'Server': 'Apache', 'Last-Modified': 'Mon, 03 Oct 2022 12:34:16 GMT', 'ETag': '\"17fce-5ea208fcd503e-gzip\"', 'Accept-Ranges': 'bytes', 'Content-Encoding': 'gzip', 'Content-Type': 'text/html', 'Cache-Control': 'max-age=3600', 'Expires': 'Tue, 04 Oct 2022 06:04:47 GMT', 'X-Akamai-Transformed': '9 21227 0 pmb=mTOE,2', 'Date': 'Tue, 04 Oct 2022 05:04:47 GMT', 'Content-Length': '21404', 'Connection': 'keep-alive', 'Vary': 'Accept-Encoding', 'x-content-type-options': 'nosniff', 'X-XSS-Protection': '1; mode=block', 'Content-Security-Policy': 'upgrade-insecure-requests', 'Strict-Transport-Security': 'max-age=31536000'}\n"
          ]
        }
      ]
    },
    {
      "cell_type": "code",
      "source": [
        "# Podemos obtener la fecha de envío de la solicitud mediante date\n",
        "\n",
        "header['date']"
      ],
      "metadata": {
        "id": "NONWyJtrZhlB",
        "outputId": "e63092f0-d0ef-4588-f9b5-097c47fe4913",
        "colab": {
          "base_uri": "https://localhost:8080/",
          "height": 36
        }
      },
      "execution_count": 52,
      "outputs": [
        {
          "output_type": "execute_result",
          "data": {
            "text/plain": [
              "'Tue, 04 Oct 2022 05:04:47 GMT'"
            ],
            "application/vnd.google.colaboratory.intrinsic+json": {
              "type": "string"
            }
          },
          "metadata": {},
          "execution_count": 52
        }
      ]
    },
    {
      "cell_type": "code",
      "source": [
        "# Content-Type muestra el tipo de dato:\n",
        "\n",
        "header['Content-Type']"
      ],
      "metadata": {
        "id": "lBjv_mXFZsc_",
        "outputId": "4f483496-0cc0-46e3-95bd-8509ccc0f794",
        "colab": {
          "base_uri": "https://localhost:8080/",
          "height": 36
        }
      },
      "execution_count": 53,
      "outputs": [
        {
          "output_type": "execute_result",
          "data": {
            "text/plain": [
              "'text/html'"
            ],
            "application/vnd.google.colaboratory.intrinsic+json": {
              "type": "string"
            }
          },
          "metadata": {},
          "execution_count": 53
        }
      ]
    },
    {
      "cell_type": "code",
      "source": [
        "# comprueba la codificacion:\n",
        "\n",
        "r.encoding"
      ],
      "metadata": {
        "id": "1aYwjIFEZ0-o",
        "outputId": "f363022c-fa5e-4780-f5d4-6293abf0f795",
        "colab": {
          "base_uri": "https://localhost:8080/",
          "height": 36
        }
      },
      "execution_count": 55,
      "outputs": [
        {
          "output_type": "execute_result",
          "data": {
            "text/plain": [
              "'ISO-8859-1'"
            ],
            "application/vnd.google.colaboratory.intrinsic+json": {
              "type": "string"
            }
          },
          "metadata": {},
          "execution_count": 55
        }
      ]
    },
    {
      "cell_type": "code",
      "source": [
        "# podemos usar el atributo texto para mostrar el HTML en el cuerpo. Podemos repasar los primeros 100 caracteres:\n",
        "\n",
        "r.text[0:100]"
      ],
      "metadata": {
        "id": "j7J4-gnYZ9_D",
        "outputId": "ffe493f6-d0c6-4736-d020-c3c7cd5fd3b4",
        "colab": {
          "base_uri": "https://localhost:8080/",
          "height": 36
        }
      },
      "execution_count": 57,
      "outputs": [
        {
          "output_type": "execute_result",
          "data": {
            "text/plain": [
              "'<!DOCTYPE html><html lang=\"en-US\"><head><meta name=\"viewport\" content=\"width=device-width\"/><meta ch'"
            ],
            "application/vnd.google.colaboratory.intrinsic+json": {
              "type": "string"
            }
          },
          "metadata": {},
          "execution_count": 57
        }
      ]
    },
    {
      "cell_type": "code",
      "source": [
        "# Puede cargar otros tipos de datos para solicitudes que no sean de texto, como imágenes\n",
        "\n",
        "url='https://cf-courses-data.s3.us.cloud-object-storage.appdomain.cloud/IBMDeveloperSkillsNetwork-PY0101EN-SkillsNetwork/IDSNlogo.png'\n",
        "r=requests.get(url)\n",
        "print(r.headers)"
      ],
      "metadata": {
        "id": "NTLl33QaaHgy",
        "outputId": "d0487a2a-30d6-4196-995c-44fad6f9d7ed",
        "colab": {
          "base_uri": "https://localhost:8080/"
        }
      },
      "execution_count": 58,
      "outputs": [
        {
          "output_type": "stream",
          "name": "stdout",
          "text": [
            "{'Date': 'Tue, 04 Oct 2022 05:13:56 GMT', 'X-Clv-Request-Id': 'eecd4e14-b635-4415-a22d-b7c3ef3e78a6', 'Server': 'Cleversafe', 'X-Clv-S3-Version': '2.5', 'Accept-Ranges': 'bytes', 'x-amz-request-id': 'eecd4e14-b635-4415-a22d-b7c3ef3e78a6', 'Cache-Control': 'max-age=0,public', 'ETag': '\"a831e767d02efd21b904ec485ac0c769\"', 'Content-Type': 'image/png', 'Last-Modified': 'Wed, 14 Sep 2022 05:47:46 GMT', 'Content-Length': '21590'}\n"
          ]
        }
      ]
    },
    {
      "cell_type": "code",
      "source": [
        "r.headers['Content-Type']"
      ],
      "metadata": {
        "id": "E4Wx6fV4ajHW",
        "outputId": "8d74001f-77d8-420e-92b4-6a2045fc3781",
        "colab": {
          "base_uri": "https://localhost:8080/",
          "height": 36
        }
      },
      "execution_count": 59,
      "outputs": [
        {
          "output_type": "execute_result",
          "data": {
            "text/plain": [
              "'image/png'"
            ],
            "application/vnd.google.colaboratory.intrinsic+json": {
              "type": "string"
            }
          },
          "metadata": {},
          "execution_count": 59
        }
      ]
    },
    {
      "cell_type": "code",
      "source": [
        "# Una imagen es un objeto de respuesta que contiene la imagen como un objeto similar a bytes. \n",
        "\n",
        "path=os.path.join(os.getcwd(),'image.png')\n",
        "path"
      ],
      "metadata": {
        "id": "iZiHveuQao_W",
        "outputId": "379f7a48-29cf-47bf-c284-58e2f553447b",
        "colab": {
          "base_uri": "https://localhost:8080/",
          "height": 36
        }
      },
      "execution_count": 60,
      "outputs": [
        {
          "output_type": "execute_result",
          "data": {
            "text/plain": [
              "'/content/image.png'"
            ],
            "application/vnd.google.colaboratory.intrinsic+json": {
              "type": "string"
            }
          },
          "metadata": {},
          "execution_count": 60
        }
      ]
    },
    {
      "cell_type": "code",
      "source": [
        "# Guardamos el archivo, para acceder al cuerpo de la respuesta usamos el contenido del atributo\n",
        "# y luego lo guardamos usando la función de apertura y el método de escritura:\n",
        "\n",
        "with open(path,'wb') as f:\n",
        "    f.write(r.content)"
      ],
      "metadata": {
        "id": "jX0t_5w7a32w"
      },
      "execution_count": 63,
      "outputs": []
    },
    {
      "cell_type": "code",
      "source": [
        "# Mostramos la imagen\n",
        "\n",
        "Image.open(path)"
      ],
      "metadata": {
        "id": "I_VKZs56bGln",
        "outputId": "5627570a-f0e5-443b-be52-fe872c156aee",
        "colab": {
          "base_uri": "https://localhost:8080/",
          "height": 817
        }
      },
      "execution_count": 65,
      "outputs": [
        {
          "output_type": "execute_result",
          "data": {
            "text/plain": [
              "<PIL.PngImagePlugin.PngImageFile image mode=P size=800x800 at 0x7EFD7A782A90>"
            ],
            "image/png": "[encoded data removed]"
          },
          "metadata": {},
          "execution_count": 65
        }
      ]
    },
    {
      "cell_type": "markdown",
      "source": [
        "## Question 1: write  wget "
      ],
      "metadata": {
        "id": "VMiagjPHbbjW"
      }
    },
    {
      "cell_type": "code",
      "source": [
        "# En la sección anterior, usamos la función wget para recuperar contenido del servidor web\n",
        "# como se muestra a continuación. Escriba el código Python para realizar la misma tarea.\n",
        "# El código debe ser el mismo que se usó para descargar la imagen, pero el nombre del archivo debe ser 'Ejemplo1.txt'.\n",
        "\n",
        "url='https://cf-courses-data.s3.us.cloud-object-storage.appdomain.cloud/IBMDeveloperSkillsNetwork-PY0101EN-SkillsNetwork/labs/Module%205/data/Example1.txt'\n",
        "path=os.path.join(os.getcwd(),'example1.txt')\n",
        "r=requests.get(url)\n",
        "with open(path,'wb') as f:\n",
        "    f.write(r.content) "
      ],
      "metadata": {
        "id": "OF5do_N9bPSQ"
      },
      "execution_count": 67,
      "outputs": []
    },
    {
      "cell_type": "code",
      "source": [
        "# La URL base es para http://httpbin.org/ es un servicio de solicitud y respuesta HTTP simple.\n",
        "# La URL en Python viene dada por:\n",
        "\n",
        "url_get='http://httpbin.org/get'"
      ],
      "metadata": {
        "id": "Iqho3oBJbuzm"
      },
      "execution_count": 68,
      "outputs": []
    },
    {
      "cell_type": "code",
      "source": [
        "# Para crear una cadena de consulta, agregue un diccionario.\n",
        "# Las claves son los nombres de los parámetros y los valores son el valor de la cadena de consulta.\n",
        "\n",
        "payload={\"name\":\"Joseph\",\"ID\":\"123\"}"
      ],
      "metadata": {
        "id": "Y13Zo0ogcVb8"
      },
      "execution_count": 69,
      "outputs": []
    },
    {
      "cell_type": "code",
      "source": [
        "# Luego, pasar la carga útil del diccionario al parámetro params de la función get():\n",
        "\n",
        "r=requests.get(url_get,params=payload)\n",
        "r.url"
      ],
      "metadata": {
        "id": "X5ZarCO7chAC",
        "outputId": "150036e1-d25c-4ff8-80f4-d7770e306d96",
        "colab": {
          "base_uri": "https://localhost:8080/",
          "height": 36
        }
      },
      "execution_count": 71,
      "outputs": [
        {
          "output_type": "execute_result",
          "data": {
            "text/plain": [
              "'http://httpbin.org/get?name=Joseph&ID=123'"
            ],
            "application/vnd.google.colaboratory.intrinsic+json": {
              "type": "string"
            }
          },
          "metadata": {},
          "execution_count": 71
        }
      ]
    },
    {
      "cell_type": "code",
      "source": [
        "print(\"request body:\", r.request.body)"
      ],
      "metadata": {
        "id": "4KlBaVWOcm4V",
        "outputId": "68124908-30b0-4939-b85e-27129351e4d9",
        "colab": {
          "base_uri": "https://localhost:8080/"
        }
      },
      "execution_count": 72,
      "outputs": [
        {
          "output_type": "stream",
          "name": "stdout",
          "text": [
            "request body: None\n"
          ]
        }
      ]
    },
    {
      "cell_type": "code",
      "source": [
        "print(r.status_code)"
      ],
      "metadata": {
        "id": "vch5oif2cxUt",
        "outputId": "cffa6564-4bdd-448c-f114-590bd61941d8",
        "colab": {
          "base_uri": "https://localhost:8080/"
        }
      },
      "execution_count": 73,
      "outputs": [
        {
          "output_type": "stream",
          "name": "stdout",
          "text": [
            "200\n"
          ]
        }
      ]
    },
    {
      "cell_type": "code",
      "source": [
        "print(r.text)"
      ],
      "metadata": {
        "id": "zZ5Lcuehc0dS",
        "outputId": "91db3d4d-a8db-4c16-e832-44631b8fe02d",
        "colab": {
          "base_uri": "https://localhost:8080/"
        }
      },
      "execution_count": 74,
      "outputs": [
        {
          "output_type": "stream",
          "name": "stdout",
          "text": [
            "{\n",
            "  \"args\": {\n",
            "    \"ID\": \"123\", \n",
            "    \"name\": \"Joseph\"\n",
            "  }, \n",
            "  \"headers\": {\n",
            "    \"Accept\": \"*/*\", \n",
            "    \"Accept-Encoding\": \"gzip, deflate\", \n",
            "    \"Host\": \"httpbin.org\", \n",
            "    \"User-Agent\": \"python-requests/2.23.0\", \n",
            "    \"X-Amzn-Trace-Id\": \"Root=1-633bc34c-7708ba5846affb514ebbd6a8\"\n",
            "  }, \n",
            "  \"origin\": \"34.74.76.103\", \n",
            "  \"url\": \"http://httpbin.org/get?name=Joseph&ID=123\"\n",
            "}\n",
            "\n"
          ]
        }
      ]
    },
    {
      "cell_type": "code",
      "source": [
        "r.headers['Content-Type']"
      ],
      "metadata": {
        "id": "n98vQyjYc2IN",
        "outputId": "53f87500-a8c5-4beb-f7c4-033607ccaccb",
        "colab": {
          "base_uri": "https://localhost:8080/",
          "height": 36
        }
      },
      "execution_count": 75,
      "outputs": [
        {
          "output_type": "execute_result",
          "data": {
            "text/plain": [
              "'application/json'"
            ],
            "application/vnd.google.colaboratory.intrinsic+json": {
              "type": "string"
            }
          },
          "metadata": {},
          "execution_count": 75
        }
      ]
    },
    {
      "cell_type": "code",
      "source": [
        "r.json()"
      ],
      "metadata": {
        "id": "3IBl0-doc4FY",
        "outputId": "6619015f-d9d6-443d-b0fc-b07eaa27a562",
        "colab": {
          "base_uri": "https://localhost:8080/"
        }
      },
      "execution_count": 76,
      "outputs": [
        {
          "output_type": "execute_result",
          "data": {
            "text/plain": [
              "{'args': {'ID': '123', 'name': 'Joseph'},\n",
              " 'headers': {'Accept': '*/*',\n",
              "  'Accept-Encoding': 'gzip, deflate',\n",
              "  'Host': 'httpbin.org',\n",
              "  'User-Agent': 'python-requests/2.23.0',\n",
              "  'X-Amzn-Trace-Id': 'Root=1-633bc34c-7708ba5846affb514ebbd6a8'},\n",
              " 'origin': '34.74.76.103',\n",
              " 'url': 'http://httpbin.org/get?name=Joseph&ID=123'}"
            ]
          },
          "metadata": {},
          "execution_count": 76
        }
      ]
    },
    {
      "cell_type": "code",
      "source": [
        "r.json()['args']"
      ],
      "metadata": {
        "id": "RTxC7DDzc56F",
        "outputId": "aacc0a8b-c2a1-427e-8b6d-b9360af9b3bc",
        "colab": {
          "base_uri": "https://localhost:8080/"
        }
      },
      "execution_count": 77,
      "outputs": [
        {
          "output_type": "execute_result",
          "data": {
            "text/plain": [
              "{'ID': '123', 'name': 'Joseph'}"
            ]
          },
          "metadata": {},
          "execution_count": 77
        }
      ]
    },
    {
      "cell_type": "markdown",
      "source": [
        "### Post Requests "
      ],
      "metadata": {
        "id": "lIa_BkeXdDEP"
      }
    },
    {
      "cell_type": "code",
      "source": [
        "# Al igual que una solicitud GET, POST se usa para enviar datos a un servidor, pero la solicitud POST\n",
        "# envía los datos en un cuerpo de solicitud.\n",
        "# Para poder enviar la Post Request en Python, en la URL cambiamos la ruta a POST:\n",
        "\n",
        "url_post='http://httpbin.org/post'"
      ],
      "metadata": {
        "id": "qARy6JlEc7dm"
      },
      "execution_count": 78,
      "outputs": []
    },
    {
      "cell_type": "code",
      "source": [
        "# Para hacer una solicitud POST usamos la función post(), la carga útil variable se pasa a los datos del parámetro:\n",
        "\n",
        "r_post=requests.post(url_post,data=payload)"
      ],
      "metadata": {
        "id": "Y3V6p2ZsdOhI"
      },
      "execution_count": 79,
      "outputs": []
    },
    {
      "cell_type": "code",
      "source": [
        "# Al comparar la URL del objeto de respuesta de la solicitud GET y POST, vemos que la solicitud POST no tiene pares de nombre o valor.\n",
        "\n",
        "print(\"POST request URL:\",r_post.url )\n",
        "print(\"GET request URL:\",r.url)"
      ],
      "metadata": {
        "id": "tbOvYbyFdVMk",
        "outputId": "6c5bdd60-f380-43db-c2fb-9263e1ce50d8",
        "colab": {
          "base_uri": "https://localhost:8080/"
        }
      },
      "execution_count": 80,
      "outputs": [
        {
          "output_type": "stream",
          "name": "stdout",
          "text": [
            "POST request URL: http://httpbin.org/post\n",
            "GET request URL: http://httpbin.org/get?name=Joseph&ID=123\n"
          ]
        }
      ]
    },
    {
      "cell_type": "code",
      "source": [
        "# Podemos comparar el cuerpo de la solicitud POST y GET, vemos que solo la solicitud POST tiene un cuerpo:\n",
        "\n",
        "print(\"POST request body:\",r_post.request.body)\n",
        "print(\"GET request body:\",r.request.body)"
      ],
      "metadata": {
        "id": "JXNYjFBOde8O",
        "outputId": "b07293e2-99ec-4e69-db90-eb2221995ab8",
        "colab": {
          "base_uri": "https://localhost:8080/"
        }
      },
      "execution_count": 81,
      "outputs": [
        {
          "output_type": "stream",
          "name": "stdout",
          "text": [
            "POST request body: name=Joseph&ID=123\n",
            "GET request body: None\n"
          ]
        }
      ]
    },
    {
      "cell_type": "code",
      "source": [
        "# We can view the form as well:\n",
        "\n",
        "r_post.json()['form']"
      ],
      "metadata": {
        "id": "LyuildX4dn0m",
        "outputId": "ae399e8e-79df-4966-b20d-ace604d6cd22",
        "colab": {
          "base_uri": "https://localhost:8080/"
        }
      },
      "execution_count": 83,
      "outputs": [
        {
          "output_type": "execute_result",
          "data": {
            "text/plain": [
              "{'ID': '123', 'name': 'Joseph'}"
            ]
          },
          "metadata": {},
          "execution_count": 83
        }
      ]
    },
    {
      "cell_type": "code",
      "source": [],
      "metadata": {
        "id": "cmlXlcBidqKO"
      },
      "execution_count": null,
      "outputs": []
    }
  ]
}