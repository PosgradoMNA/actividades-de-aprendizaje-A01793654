{
 "cells": [
  {
   "cell_type": "markdown",
   "id": "8f56b6bd",
   "metadata": {},
   "source": [
    "# Exercise: Your First Program"
   ]
  },
  {
   "cell_type": "code",
   "execution_count": 1,
   "id": "c84e437e",
   "metadata": {},
   "outputs": [
    {
     "name": "stdout",
     "output_type": "stream",
     "text": [
      "Helo, world!\n"
     ]
    }
   ],
   "source": [
    "# In the code cell below, use the print() function to print out the phrase: Hello, world!\n",
    "\n",
    "print(\"Helo, world!\")"
   ]
  },
  {
   "cell_type": "code",
   "execution_count": 2,
   "id": "a2d667d3",
   "metadata": {},
   "outputs": [
    {
     "name": "stdout",
     "output_type": "stream",
     "text": [
      "Hello, world!\n"
     ]
    }
   ],
   "source": [
    "# Now, let's enhance your code with a comment.\n",
    "# In the code cell below, print out the phrase: Hello, world!\n",
    "# and comment it with the phrase Print the traditional hello world all in one line of code.\n",
    "\n",
    "print(\"Hello, world!\")  # Print the traditional hello world"
   ]
  },
  {
   "cell_type": "markdown",
   "id": "b2bc247e",
   "metadata": {},
   "source": [
    "# Exercise: Types"
   ]
  },
  {
   "cell_type": "code",
   "execution_count": 3,
   "id": "178e9473",
   "metadata": {},
   "outputs": [
    {
     "data": {
      "text/plain": [
       "float"
      ]
     },
     "execution_count": 3,
     "metadata": {},
     "output_type": "execute_result"
    }
   ],
   "source": [
    "# What is the data type of the result of: 6 / 2?\n",
    "\n",
    "type(6/2)"
   ]
  },
  {
   "cell_type": "code",
   "execution_count": 4,
   "id": "09c85a91",
   "metadata": {},
   "outputs": [
    {
     "data": {
      "text/plain": [
       "int"
      ]
     },
     "execution_count": 4,
     "metadata": {},
     "output_type": "execute_result"
    }
   ],
   "source": [
    "# What is the type of the result of: 6 // 2? (Note the double slash //.)\n",
    "\n",
    "type(6//2)"
   ]
  },
  {
   "cell_type": "markdown",
   "id": "704a8f24",
   "metadata": {},
   "source": [
    "# Exercise: Expression and Variables in Python"
   ]
  },
  {
   "cell_type": "code",
   "execution_count": 7,
   "id": "23c1b3f1",
   "metadata": {},
   "outputs": [
    {
     "name": "stdout",
     "output_type": "stream",
     "text": [
      "7\n"
     ]
    }
   ],
   "source": [
    "# What is the value of x where x = 3 + 2 * 2\n",
    "\n",
    "x=3+2*2\n",
    "print(x)"
   ]
  },
  {
   "cell_type": "code",
   "execution_count": 5,
   "id": "ea957598",
   "metadata": {},
   "outputs": [
    {
     "name": "stdout",
     "output_type": "stream",
     "text": [
      "10\n"
     ]
    }
   ],
   "source": [
    "# What is the value of x where x = 3 + 2 * 2\n",
    "\n",
    "y=(3+2)*2\n",
    "print(y)"
   ]
  },
  {
   "cell_type": "code",
   "execution_count": 8,
   "id": "79426423",
   "metadata": {},
   "outputs": [
    {
     "name": "stdout",
     "output_type": "stream",
     "text": [
      "17\n"
     ]
    }
   ],
   "source": [
    "# What is the value of z where z = x + y?\n",
    "\n",
    "z=x+y\n",
    "print(z)"
   ]
  },
  {
   "cell_type": "markdown",
   "id": "d7ab24ec",
   "metadata": {},
   "source": [
    "# Quiz on Strings"
   ]
  },
  {
   "cell_type": "code",
   "execution_count": 9,
   "id": "e08b7aa2",
   "metadata": {},
   "outputs": [],
   "source": [
    "# What is the value of the variable a after the following code is executed?\n",
    "\n",
    "a = \"1\""
   ]
  },
  {
   "cell_type": "code",
   "execution_count": 10,
   "id": "3015c6e7",
   "metadata": {},
   "outputs": [],
   "source": [
    "# What is the value of the variable b after the following code is executed?\n",
    "\n",
    "b = \"2\""
   ]
  },
  {
   "cell_type": "code",
   "execution_count": 11,
   "id": "e6223f5a",
   "metadata": {},
   "outputs": [
    {
     "name": "stdout",
     "output_type": "stream",
     "text": [
      "12\n"
     ]
    }
   ],
   "source": [
    "# What is the value of the variable c after the following code is executed?\n",
    "\n",
    "c = a + b\n",
    "print(c)"
   ]
  },
  {
   "cell_type": "code",
   "execution_count": 12,
   "id": "13eae587",
   "metadata": {},
   "outputs": [
    {
     "name": "stdout",
     "output_type": "stream",
     "text": [
      "ABC\n"
     ]
    }
   ],
   "source": [
    "# Consider the variable d use slicing to print out the first three elements:\n",
    "\n",
    "d = \"ABCDEFG\"\n",
    "\n",
    "print(d[:3])"
   ]
  },
  {
   "cell_type": "code",
   "execution_count": 13,
   "id": "12c61c70",
   "metadata": {},
   "outputs": [
    {
     "name": "stdout",
     "output_type": "stream",
     "text": [
      "correct\n"
     ]
    }
   ],
   "source": [
    "# Use a stride value of 2 to print out every second character of the string e:\n",
    "\n",
    "e = 'clocrkr1e1c1t'\n",
    "\n",
    "print(e[::2])"
   ]
  },
  {
   "cell_type": "code",
   "execution_count": 14,
   "id": "daa9be2e",
   "metadata": {},
   "outputs": [
    {
     "name": "stdout",
     "output_type": "stream",
     "text": [
      "\\ \n"
     ]
    }
   ],
   "source": [
    "# Print out a backslash:\n",
    "\n",
    "print(r\"\\ \")"
   ]
  },
  {
   "cell_type": "code",
   "execution_count": 15,
   "id": "efc00ade",
   "metadata": {},
   "outputs": [
    {
     "data": {
      "text/plain": [
       "'YOU ARE WRONG'"
      ]
     },
     "execution_count": 15,
     "metadata": {},
     "output_type": "execute_result"
    }
   ],
   "source": [
    "# Convert the variable f to uppercase:\n",
    "\n",
    "f = \"You are wrong\"\n",
    "\n",
    "f.upper()"
   ]
  },
  {
   "cell_type": "code",
   "execution_count": 16,
   "id": "5d479bcb",
   "metadata": {},
   "outputs": [
    {
     "data": {
      "text/plain": [
       "95"
      ]
     },
     "execution_count": 16,
     "metadata": {},
     "output_type": "execute_result"
    }
   ],
   "source": [
    "# Consider the variable g, and find the first index of the sub-string snow:\n",
    "\n",
    "g = \"Mary had a little lamb Little lamb, little lamb Mary had a little lamb \\\n",
    "Its fleece was white as snow And everywhere that Mary went Mary went, Mary went \\\n",
    "Everywhere that Mary went The lamb was sure to go\"\n",
    "\n",
    "g.find(\"snow\")"
   ]
  },
  {
   "cell_type": "code",
   "execution_count": 17,
   "id": "cb66a6ea",
   "metadata": {},
   "outputs": [
    {
     "data": {
      "text/plain": [
       "'Bob had a little lamb Little lamb, little lamb Bob had a little lamb Its fleece was white as snow And everywhere that Bob went Bob went, Bob went Everywhere that Bob went The lamb was sure to go'"
      ]
     },
     "execution_count": 17,
     "metadata": {},
     "output_type": "execute_result"
    }
   ],
   "source": [
    "# In the variable g, replace the sub-string Mary with Bob:\n",
    "\n",
    "g.replace(\"Mary\",\"Bob\")"
   ]
  },
  {
   "cell_type": "markdown",
   "id": "e9af083e",
   "metadata": {},
   "source": [
    "# Create a Tuple"
   ]
  },
  {
   "cell_type": "code",
   "execution_count": 26,
   "id": "3f35189e",
   "metadata": {},
   "outputs": [
    {
     "name": "stdout",
     "output_type": "stream",
     "text": [
      "(0, 1, 2, 3)\n"
     ]
    }
   ],
   "source": [
    "# Create a tuple  (0,1,2,3)  and assign it to variable A:\n",
    "\n",
    "A=(0,1,2,3)\n",
    "print(A)"
   ]
  },
  {
   "cell_type": "markdown",
   "id": "f429d979",
   "metadata": {},
   "source": [
    "# Find the Elements of a Tuple"
   ]
  },
  {
   "cell_type": "code",
   "execution_count": 27,
   "id": "085c5d59",
   "metadata": {},
   "outputs": [
    {
     "data": {
      "text/plain": [
       "(0, 1)"
      ]
     },
     "execution_count": 27,
     "metadata": {},
     "output_type": "execute_result"
    }
   ],
   "source": [
    "# Find the first two elements of tuple  A :\n",
    "\n",
    "A[0:2]"
   ]
  },
  {
   "cell_type": "markdown",
   "id": "117890e7",
   "metadata": {},
   "source": [
    "# List"
   ]
  },
  {
   "cell_type": "code",
   "execution_count": 28,
   "id": "d8ada42e",
   "metadata": {},
   "outputs": [],
   "source": [
    "# For the next few questions, you will need the following list:\n",
    "\n",
    "B=[\"a\",\"b\",\"c\"]"
   ]
  },
  {
   "cell_type": "code",
   "execution_count": 29,
   "id": "e5101c5c",
   "metadata": {},
   "outputs": [
    {
     "data": {
      "text/plain": [
       "['a', 'b']"
      ]
     },
     "execution_count": 29,
     "metadata": {},
     "output_type": "execute_result"
    }
   ],
   "source": [
    "# Find the first two elements of the list  B:\n",
    "\n",
    "B[0:2]"
   ]
  },
  {
   "cell_type": "code",
   "execution_count": 30,
   "id": "4fd34edb",
   "metadata": {},
   "outputs": [
    {
     "name": "stdout",
     "output_type": "stream",
     "text": [
      "['A', 'b', 'c']\n"
     ]
    }
   ],
   "source": [
    "# Change the first element of the list to an uppercase \"A\".\n",
    "\n",
    "B[0]='A'\n",
    "print(B)"
   ]
  },
  {
   "cell_type": "markdown",
   "id": "286fe280",
   "metadata": {},
   "source": [
    "# Quiz on Tuples"
   ]
  },
  {
   "cell_type": "code",
   "execution_count": 31,
   "id": "e122cce0",
   "metadata": {},
   "outputs": [
    {
     "data": {
      "text/plain": [
       "('pop',\n",
       " 'rock',\n",
       " 'soul',\n",
       " 'hard rock',\n",
       " 'soft rock',\n",
       " 'R&B',\n",
       " 'progressive rock',\n",
       " 'disco')"
      ]
     },
     "execution_count": 31,
     "metadata": {},
     "output_type": "execute_result"
    }
   ],
   "source": [
    "# Consider the following tuple:\n",
    "\n",
    "genres_tuple = (\"pop\", \"rock\", \"soul\", \"hard rock\", \"soft rock\", \\\n",
    "                \"R&B\", \"progressive rock\", \"disco\") \n",
    "genres_tuple"
   ]
  },
  {
   "cell_type": "code",
   "execution_count": 32,
   "id": "bca1a982",
   "metadata": {},
   "outputs": [
    {
     "data": {
      "text/plain": [
       "8"
      ]
     },
     "execution_count": 32,
     "metadata": {},
     "output_type": "execute_result"
    }
   ],
   "source": [
    "# Find the length of the tuple, genres_tuple:\n",
    "\n",
    "len(genres_tuple)"
   ]
  },
  {
   "cell_type": "code",
   "execution_count": 33,
   "id": "0177bd51",
   "metadata": {},
   "outputs": [
    {
     "data": {
      "text/plain": [
       "'hard rock'"
      ]
     },
     "execution_count": 33,
     "metadata": {},
     "output_type": "execute_result"
    }
   ],
   "source": [
    "# Access the element, with respect to index 3:\n",
    "\n",
    "genres_tuple[3]"
   ]
  },
  {
   "cell_type": "code",
   "execution_count": 34,
   "id": "aaa44741",
   "metadata": {},
   "outputs": [
    {
     "data": {
      "text/plain": [
       "('hard rock', 'soft rock', 'R&B')"
      ]
     },
     "execution_count": 34,
     "metadata": {},
     "output_type": "execute_result"
    }
   ],
   "source": [
    "# Use slicing to obtain indexes 3, 4 and 5:\n",
    "\n",
    "genres_tuple[3:6]"
   ]
  },
  {
   "cell_type": "code",
   "execution_count": 35,
   "id": "eada749a",
   "metadata": {},
   "outputs": [
    {
     "data": {
      "text/plain": [
       "('pop', 'rock')"
      ]
     },
     "execution_count": 35,
     "metadata": {},
     "output_type": "execute_result"
    }
   ],
   "source": [
    "# Find the first two elements of the tuple genres_tuple:\n",
    "\n",
    "genres_tuple[:2]"
   ]
  },
  {
   "cell_type": "code",
   "execution_count": 36,
   "id": "485f0067",
   "metadata": {},
   "outputs": [
    {
     "data": {
      "text/plain": [
       "7"
      ]
     },
     "execution_count": 36,
     "metadata": {},
     "output_type": "execute_result"
    }
   ],
   "source": [
    "# Find the first index of \"disco\":\n",
    "\n",
    "genres_tuple.index(\"disco\")"
   ]
  },
  {
   "cell_type": "code",
   "execution_count": 37,
   "id": "a0ee8cb8",
   "metadata": {},
   "outputs": [
    {
     "data": {
      "text/plain": [
       "[-5, -3, 1]"
      ]
     },
     "execution_count": 37,
     "metadata": {},
     "output_type": "execute_result"
    }
   ],
   "source": [
    "# Generate a sorted List from the Tuple C_tuple=(-5, 1, -3):\n",
    "\n",
    "C_tuple=(-5,1,-3)\n",
    "C_list=sorted(C_tuple)\n",
    "C_list"
   ]
  },
  {
   "cell_type": "markdown",
   "id": "2d22851c",
   "metadata": {},
   "source": [
    "# Quiz on List"
   ]
  },
  {
   "cell_type": "code",
   "execution_count": 38,
   "id": "84d73484",
   "metadata": {},
   "outputs": [
    {
     "data": {
      "text/plain": [
       "[1, 'hello', [1, 2, 3]]"
      ]
     },
     "execution_count": 38,
     "metadata": {},
     "output_type": "execute_result"
    }
   ],
   "source": [
    "# Create a list a_list, with the following elements 1, hello, [1,2,3] and True.\n",
    "\n",
    "a_list=[1,'hello',[1,2,3]]\n",
    "a_list"
   ]
  },
  {
   "cell_type": "code",
   "execution_count": 39,
   "id": "1f528022",
   "metadata": {},
   "outputs": [
    {
     "data": {
      "text/plain": [
       "'hello'"
      ]
     },
     "execution_count": 39,
     "metadata": {},
     "output_type": "execute_result"
    }
   ],
   "source": [
    "# Find the value stored at index 1 of a_list.\n",
    "\n",
    "a_list[1]"
   ]
  },
  {
   "cell_type": "code",
   "execution_count": 40,
   "id": "2dce3e3a",
   "metadata": {},
   "outputs": [
    {
     "data": {
      "text/plain": [
       "['hello', [1, 2, 3]]"
      ]
     },
     "execution_count": 40,
     "metadata": {},
     "output_type": "execute_result"
    }
   ],
   "source": [
    "# Retrieve the elements stored at index 1, 2 and 3 of a_list.\n",
    "\n",
    "a_list[1:4]"
   ]
  },
  {
   "cell_type": "code",
   "execution_count": 41,
   "id": "38a6f9e7",
   "metadata": {},
   "outputs": [
    {
     "data": {
      "text/plain": [
       "[1, 'a', 2, 1, 'd']"
      ]
     },
     "execution_count": 41,
     "metadata": {},
     "output_type": "execute_result"
    }
   ],
   "source": [
    "# Concatenate the following lists A = [1, 'a'] and B = [2, 1, 'd']:\n",
    "\n",
    "A = [1, 'a'] \n",
    "B = [2, 1, 'd']\n",
    "A + B"
   ]
  },
  {
   "cell_type": "markdown",
   "id": "b881a03b",
   "metadata": {},
   "source": [
    "# Cast a List to a Set"
   ]
  },
  {
   "cell_type": "code",
   "execution_count": 3,
   "id": "d872baa3",
   "metadata": {},
   "outputs": [
    {
     "data": {
      "text/plain": [
       "{'A', 'B', 'C'}"
      ]
     },
     "execution_count": 3,
     "metadata": {},
     "output_type": "execute_result"
    }
   ],
   "source": [
    "set(['A','B','C','A','B','C'])"
   ]
  },
  {
   "cell_type": "markdown",
   "id": "a74f457d",
   "metadata": {},
   "source": [
    "# Add an Element to the Set"
   ]
  },
  {
   "cell_type": "code",
   "execution_count": 4,
   "id": "6fd18e87",
   "metadata": {},
   "outputs": [
    {
     "data": {
      "text/plain": [
       "{'A', 'B', 'C', 'D'}"
      ]
     },
     "execution_count": 4,
     "metadata": {},
     "output_type": "execute_result"
    }
   ],
   "source": [
    "# Add the string 'D' to the set S.\n",
    "\n",
    "S={'A','B','C'}\n",
    "S.add('D')\n",
    "S"
   ]
  },
  {
   "cell_type": "markdown",
   "id": "dd883b81",
   "metadata": {},
   "source": [
    "# Intersection of Sets"
   ]
  },
  {
   "cell_type": "code",
   "execution_count": 5,
   "id": "24387d96",
   "metadata": {},
   "outputs": [
    {
     "data": {
      "text/plain": [
       "{1, 3}"
      ]
     },
     "execution_count": 5,
     "metadata": {},
     "output_type": "execute_result"
    }
   ],
   "source": [
    "# Find the intersection of set A and B.\n",
    "\n",
    "A={1,2,3,4,5}\n",
    "B={1,3,9, 12}\n",
    "\n",
    "A & B"
   ]
  },
  {
   "cell_type": "markdown",
   "id": "5b000d3c",
   "metadata": {},
   "source": [
    "# Quiz on Sets"
   ]
  },
  {
   "cell_type": "code",
   "execution_count": 8,
   "id": "da095ea9",
   "metadata": {},
   "outputs": [
    {
     "data": {
      "text/plain": [
       "{'electronic music', 'house', 'rap'}"
      ]
     },
     "execution_count": 8,
     "metadata": {},
     "output_type": "execute_result"
    }
   ],
   "source": [
    "# Convert the list ['rap','house','electronic music', 'rap'] to a set:\n",
    "\n",
    "set( ['rap','house','electronic music', 'rap'])"
   ]
  },
  {
   "cell_type": "code",
   "execution_count": 10,
   "id": "2e4042b8",
   "metadata": {},
   "outputs": [
    {
     "name": "stdout",
     "output_type": "stream",
     "text": [
      "La suma de A es: 6\n",
      "La suma de B es: 3\n"
     ]
    }
   ],
   "source": [
    "# Consider the list A = [1, 2, 2, 1] and set B = set([1, 2, 2, 1]), does sum(A) == sum(B)?\n",
    "\n",
    "A = [1, 2, 2, 1]\n",
    "B = set([1, 2, 2, 1])\n",
    "print(\"La suma de A es:\",sum(A))\n",
    "print(\"La suma de B es:\",sum(B))"
   ]
  },
  {
   "cell_type": "code",
   "execution_count": 15,
   "id": "254ba799",
   "metadata": {},
   "outputs": [
    {
     "data": {
      "text/plain": [
       "{'AC/DC', 'Back in Black', 'The Dark Side of the Moon', 'Thriller'}"
      ]
     },
     "execution_count": 15,
     "metadata": {},
     "output_type": "execute_result"
    }
   ],
   "source": [
    "# Create a new set album_set3 that is the union of album_set1 and album_set2:\n",
    "\n",
    "\n",
    "album_set1 = set([\"Thriller\", 'AC/DC', 'Back in Black'])\n",
    "album_set2 = set([ \"AC/DC\", \"Back in Black\", \"The Dark Side of the Moon\"])\n",
    "album_set3 = album_set1.union(album_set2)\n",
    "album_set3"
   ]
  },
  {
   "cell_type": "code",
   "execution_count": 16,
   "id": "aa128c73",
   "metadata": {},
   "outputs": [
    {
     "data": {
      "text/plain": [
       "True"
      ]
     },
     "execution_count": 16,
     "metadata": {},
     "output_type": "execute_result"
    }
   ],
   "source": [
    "# Find out if album_set1 is a subset of album_set3:\n",
    "\n",
    "album_set1.issubset(album_set3)"
   ]
  },
  {
   "cell_type": "markdown",
   "id": "fb8a4092",
   "metadata": {},
   "source": [
    "# Quiz on Dictionaries"
   ]
  },
  {
   "cell_type": "code",
   "execution_count": 21,
   "id": "12ba3093",
   "metadata": {},
   "outputs": [
    {
     "data": {
      "text/plain": [
       "{'The Bodyguard': '1992', 'Saturday Night Fever': '1977'}"
      ]
     },
     "execution_count": 21,
     "metadata": {},
     "output_type": "execute_result"
    }
   ],
   "source": [
    "# You will need this dictionary for the next two questions:\n",
    "\n",
    "soundtrack_dic = {\"The Bodyguard\":\"1992\", \"Saturday Night Fever\":\"1977\"}\n",
    "soundtrack_dic "
   ]
  },
  {
   "cell_type": "code",
   "execution_count": 22,
   "id": "d2647ee4",
   "metadata": {},
   "outputs": [
    {
     "data": {
      "text/plain": [
       "dict_keys(['The Bodyguard', 'Saturday Night Fever'])"
      ]
     },
     "execution_count": 22,
     "metadata": {},
     "output_type": "execute_result"
    }
   ],
   "source": [
    "# a) In the dictionary soundtrack_dic what are the keys ?\n",
    "\n",
    "soundtrack_dic.keys()"
   ]
  },
  {
   "cell_type": "code",
   "execution_count": 24,
   "id": "6fde3199",
   "metadata": {},
   "outputs": [
    {
     "data": {
      "text/plain": [
       "dict_values(['1992', '1977'])"
      ]
     },
     "execution_count": 24,
     "metadata": {},
     "output_type": "execute_result"
    }
   ],
   "source": [
    "soundtrack_dic.values()"
   ]
  },
  {
   "cell_type": "code",
   "execution_count": 26,
   "id": "8cee3c22",
   "metadata": {},
   "outputs": [
    {
     "data": {
      "text/plain": [
       "{'Back in Blak': 50, 'Bodyguard': 50, 'Thriller': 65}"
      ]
     },
     "execution_count": 26,
     "metadata": {},
     "output_type": "execute_result"
    }
   ],
   "source": [
    "# You will need this dictionary for the following questions:\n",
    "\n",
    "# The Albums Back in Black, The Bodyguard and Thriller have the following music recording sales in millions 50, 50 \n",
    "# and 65 respectively:\n",
    "\n",
    "# a) Create a dictionary album_sales_dict where the keys are the album name and the sales in millions are the values.\n",
    "\n",
    "album_sales_dict={\"Back in Blak\":50,\"Bodyguard\":50,\"Thriller\":65}\n",
    "album_sales_dict"
   ]
  },
  {
   "cell_type": "code",
   "execution_count": 28,
   "id": "387c2119",
   "metadata": {},
   "outputs": [
    {
     "data": {
      "text/plain": [
       "65"
      ]
     },
     "execution_count": 28,
     "metadata": {},
     "output_type": "execute_result"
    }
   ],
   "source": [
    "# b) Use the dictionary to find the total sales of Thriller:\n",
    "\n",
    "album_sales_dict[\"Thriller\"]"
   ]
  },
  {
   "cell_type": "code",
   "execution_count": 29,
   "id": "a6407659",
   "metadata": {},
   "outputs": [
    {
     "data": {
      "text/plain": [
       "dict_keys(['Back in Blak', 'Bodyguard', 'Thriller'])"
      ]
     },
     "execution_count": 29,
     "metadata": {},
     "output_type": "execute_result"
    }
   ],
   "source": [
    "# Find the names of the albums from the dictionary using the method keys():\n",
    "\n",
    "album_sales_dict.keys()"
   ]
  },
  {
   "cell_type": "code",
   "execution_count": 30,
   "id": "e415022d",
   "metadata": {},
   "outputs": [
    {
     "data": {
      "text/plain": [
       "dict_values([50, 50, 65])"
      ]
     },
     "execution_count": 30,
     "metadata": {},
     "output_type": "execute_result"
    }
   ],
   "source": [
    "# d) Find the values of the recording sales from the dictionary using the method values:\n",
    "\n",
    "album_sales_dict.values()"
   ]
  },
  {
   "cell_type": "markdown",
   "id": "cddacfbf",
   "metadata": {},
   "source": [
    "# Quiz on Conditions"
   ]
  },
  {
   "cell_type": "code",
   "execution_count": 50,
   "id": "d47bd8e0",
   "metadata": {},
   "outputs": [
    {
     "name": "stdout",
     "output_type": "stream",
     "text": [
      "This album is Amazing!\n"
     ]
    }
   ],
   "source": [
    "# Write an if statement to determine if an album had a rating greater than 8.\n",
    "# Test it using the rating for the album “Back in Black” that had a rating of 8.5.\n",
    "# If the statement is true print \"This album is Amazing!\"\n",
    "\n",
    "r=8.5\n",
    "if r > 8:\n",
    "    print(\"This album is Amazing!\")\n"
   ]
  },
  {
   "cell_type": "code",
   "execution_count": 53,
   "id": "451f28bc",
   "metadata": {},
   "outputs": [
    {
     "name": "stdout",
     "output_type": "stream",
     "text": [
      "this album is ok\n"
     ]
    }
   ],
   "source": [
    "# Write an if-else statement that performs the following.\n",
    "# If the rating is larger then eight print “this album is amazing”.\n",
    "# If the rating is less than or equal to 8 print “this album is ok”.\n",
    "\n",
    "r=8\n",
    "if r > 8:\n",
    "    print(\"This album is Amazing!\")\n",
    "else:\n",
    "    print(\"this album is ok\")"
   ]
  },
  {
   "cell_type": "code",
   "execution_count": 57,
   "id": "83734c53",
   "metadata": {},
   "outputs": [
    {
     "name": "stdout",
     "output_type": "stream",
     "text": [
      "This album came out in year 1991\n"
     ]
    }
   ],
   "source": [
    "# Write an if statement to determine if an album came out before 1980\n",
    "# or in the years: 1991 or 1993.\n",
    "# If the condition is true print out the year the album came out.\n",
    "\n",
    "album = 1991\n",
    "\n",
    "if album < 1980 or album == 1991 or album == 1993:\n",
    "    print(\"This album came out in year\", album)"
   ]
  },
  {
   "cell_type": "markdown",
   "id": "5ae7715b",
   "metadata": {},
   "source": [
    "# Quiz on Loops"
   ]
  },
  {
   "cell_type": "code",
   "execution_count": 62,
   "id": "7286f51d",
   "metadata": {},
   "outputs": [
    {
     "name": "stdout",
     "output_type": "stream",
     "text": [
      "-4\n",
      "-3\n",
      "-2\n",
      "-1\n",
      "0\n",
      "1\n",
      "2\n",
      "3\n",
      "4\n"
     ]
    }
   ],
   "source": [
    "# Write a for loop the prints out all the element between -5 and 5 using the range function.\n",
    "\n",
    "for i in range(-4, 5):\n",
    "    print(i)"
   ]
  },
  {
   "cell_type": "code",
   "execution_count": 65,
   "id": "72678846",
   "metadata": {},
   "outputs": [
    {
     "name": "stdout",
     "output_type": "stream",
     "text": [
      "rock\n",
      "R&B\n",
      "Soundtrack\n",
      "R&B\n",
      "soul\n",
      "pop\n"
     ]
    }
   ],
   "source": [
    "# Print the elements of the following list:\n",
    "# Genres=[ 'rock', 'R&B', 'Soundtrack', 'R&B', 'soul', 'pop']\n",
    "# Make sure you follow Python conventions.\n",
    "\n",
    "Genres=[ 'rock', 'R&B', 'Soundtrack', 'R&B', 'soul', 'pop']\n",
    "\n",
    "for i in Genres:\n",
    "    print(i)\n"
   ]
  },
  {
   "cell_type": "code",
   "execution_count": 67,
   "id": "d68711f1",
   "metadata": {},
   "outputs": [
    {
     "name": "stdout",
     "output_type": "stream",
     "text": [
      "red\n",
      "yellow\n",
      "green\n",
      "purple\n",
      "blue\n"
     ]
    }
   ],
   "source": [
    "# Write a for loop that prints out the following list: squares=['red', 'yellow', 'green', 'purple', 'blue']\n",
    "\n",
    "squares=['red', 'yellow', 'green', 'purple', 'blue']\n",
    "\n",
    "for i in squares:\n",
    "    print(i)"
   ]
  },
  {
   "cell_type": "code",
   "execution_count": 72,
   "id": "5645d2a2",
   "metadata": {},
   "outputs": [
    {
     "name": "stdout",
     "output_type": "stream",
     "text": [
      "10\n",
      "9.5\n",
      "10\n",
      "8\n",
      "7.5\n"
     ]
    }
   ],
   "source": [
    "# Write a while loop to display the values of the Rating of an album playlist stored in the list PlayListRatings.\n",
    "# If the score is less than 6, exit the loop.\n",
    "# The list PlayListRatings is given by: PlayListRatings = [10, 9.5, 10, 8, 7.5, 5, 10, 10]\n",
    "\n",
    "PlayListRatings = [10, 9.5, 10, 8, 7.5, 5, 10, 10]\n",
    "i = 0\n",
    "Rating = PlayListRatings[0]\n",
    "while(i < len(PlayListRatings) and Rating >= 6):\n",
    "    print(Rating)\n",
    "    i = i + 1\n",
    "    Rating = PlayListRatings[i]"
   ]
  },
  {
   "cell_type": "code",
   "execution_count": 73,
   "id": "95772925",
   "metadata": {},
   "outputs": [
    {
     "name": "stdout",
     "output_type": "stream",
     "text": [
      "['orange', 'orange']\n"
     ]
    }
   ],
   "source": [
    "# Write a while loop to copy the strings 'orange' of the list squares to the list new_squares.\n",
    "# Stop and exit the loop if the value on the list is not 'orange':\n",
    "\n",
    "squares = ['orange', 'orange', 'purple', 'blue ', 'orange']\n",
    "new_squares = []\n",
    "\n",
    "i = 0\n",
    "while(i < len(squares) and squares[i] == 'orange'):\n",
    "    new_squares.append(squares[i])\n",
    "    i = i + 1\n",
    "print (new_squares)"
   ]
  },
  {
   "cell_type": "markdown",
   "id": "7b971ccf",
   "metadata": {},
   "source": [
    "# Quiz on Functions"
   ]
  },
  {
   "cell_type": "code",
   "execution_count": 85,
   "id": "4cb32108",
   "metadata": {},
   "outputs": [
    {
     "data": {
      "text/plain": [
       "10.0"
      ]
     },
     "execution_count": 85,
     "metadata": {},
     "output_type": "execute_result"
    }
   ],
   "source": [
    "# Come up with a function that divides the first input by the second input:\n",
    "\n",
    "def dividir(a, b):\n",
    "    return(a/b)\n",
    "\n",
    "dividir(30,3)"
   ]
  },
  {
   "cell_type": "code",
   "execution_count": 87,
   "id": "e41a0918",
   "metadata": {},
   "outputs": [],
   "source": [
    "# Use the con function for the following question\n",
    "\n",
    "def con(a, b):\n",
    "    return(a + b)"
   ]
  },
  {
   "cell_type": "code",
   "execution_count": 90,
   "id": "ddcd7fde",
   "metadata": {},
   "outputs": [
    {
     "data": {
      "text/plain": [
       "'Hola Mundo'"
      ]
     },
     "execution_count": 90,
     "metadata": {},
     "output_type": "execute_result"
    }
   ],
   "source": [
    "# Can the con function we defined before be used to add two integers or strings?\n",
    "\n",
    "con('Hola ', 'Mundo')    "
   ]
  },
  {
   "cell_type": "code",
   "execution_count": 92,
   "id": "7e0294a2",
   "metadata": {},
   "outputs": [
    {
     "data": {
      "text/plain": [
       "['a', 5, 'b', 7]"
      ]
     },
     "execution_count": 92,
     "metadata": {},
     "output_type": "execute_result"
    }
   ],
   "source": [
    "# Can the con function we defined before be used to concatenate lists or tuples?\n",
    "\n",
    "con(['a',5],['b',7])"
   ]
  },
  {
   "cell_type": "markdown",
   "id": "6d29dc8f",
   "metadata": {},
   "source": [
    "# Exercises"
   ]
  },
  {
   "cell_type": "code",
   "execution_count": 95,
   "id": "6e220a14",
   "metadata": {},
   "outputs": [],
   "source": [
    "# You have been recruited by your friend, a linguistics enthusiast,\n",
    "# to create a utility tool that can perform analysis on a given piece of text.\n",
    "# Complete the class 'analysedText' with the following methods -\n",
    "\n",
    "# Constructor (__init__) - This method should take the argument text,\n",
    "# make it lower case, and remove all punctuation.\n",
    "# Assume only the following punctuation is used: period (.), \n",
    "# exclamation mark (!), comma (,) and question mark (?).\n",
    "# Assign this newly formatted text to a new attribute called fmtText.\n",
    "\n",
    "# freqAll - This method should create and return dictionary of all unique words in the text,\n",
    "# along with the number of times they occur in the text.\n",
    "# Each key in the dictionary should be the unique word appearing in the text and the associated\n",
    "# value should be the number of times it occurs in the text. Create this dictionary from the fmtText attribute.\n",
    "\n",
    "# freqOf - This method should take a word as an argument and return the number of occurrences of that word in fmtText.\n",
    "\n",
    "# The skeleton code has been given to you. Docstrings can be ignored for the purpose of the exercise.\n",
    "# Hint: Some useful functions are replace(), lower(), split(), count()\n",
    "\n",
    "\n",
    "class analysedText(object):\n",
    "    \n",
    "    def __init__ (self, text):\n",
    "        # remueve . ! ? ,\n",
    "        formattedText = text.replace('.','').replace('!','').replace('?','').replace(',','')\n",
    "        \n",
    "        # Texto en minusculas\n",
    "        formattedText = formattedText.lower()\n",
    "        \n",
    "        self.fmtText = formattedText\n",
    "        \n",
    "    def freqAll(self):        \n",
    "        # divide el texto en palabras\n",
    "        wordList = self.fmtText.split(' ')\n",
    "        \n",
    "        # crea el diccionario y elimina duplicados\n",
    "        freqMap = {}\n",
    "        for word in set(wordList):\n",
    "            freqMap[word] = wordList.count(word)\n",
    "        \n",
    "        return freqMap\n",
    "    \n",
    "    def freqOf(self,word):\n",
    "        # obtiene la frecuencia\n",
    "        freqDict = self.freqAll()\n",
    "        \n",
    "        if word in freqDict:\n",
    "            return freqDict[word]\n",
    "        else:\n",
    "            return 0\n",
    "    "
   ]
  },
  {
   "cell_type": "code",
   "execution_count": 96,
   "id": "41e1b374",
   "metadata": {},
   "outputs": [
    {
     "name": "stdout",
     "output_type": "stream",
     "text": [
      "Constructor: \n",
      "Test Passed\n",
      "freqAll: \n",
      "Test Passed\n",
      "freqOf: \n",
      "Test Passed\n"
     ]
    }
   ],
   "source": [
    "# You can run the code cell below to test your functions to ensure they are working correctly.\n",
    "# First execute the code cell in which you implemented your solution, then execute the code cell to test your implementation.\n",
    "\n",
    "import sys\n",
    "\n",
    "sampleMap = {'eirmod': 1,'sed': 1, 'amet': 2, 'diam': 5, 'consetetur': 1, 'labore': 1, 'tempor': 1, 'dolor': 1, 'magna': 2, 'et': 3, 'nonumy': 1, 'ipsum': 1, 'lorem': 2}\n",
    "\n",
    "def testMsg(passed):\n",
    "    if passed:\n",
    "       return 'Test Passed'\n",
    "    else :\n",
    "       return 'Test Failed'\n",
    "\n",
    "print(\"Constructor: \")\n",
    "try:\n",
    "    samplePassage = analysedText(\"Lorem ipsum dolor! diam amet, consetetur Lorem magna. sed diam nonumy eirmod tempor. diam et labore? et diam magna. et diam amet.\")\n",
    "    print(testMsg(samplePassage.fmtText == \"lorem ipsum dolor diam amet consetetur lorem magna sed diam nonumy eirmod tempor diam et labore et diam magna et diam amet\"))\n",
    "except:\n",
    "    print(\"Error detected. Recheck your function \" )\n",
    "print(\"freqAll: \")\n",
    "try:\n",
    "    wordMap = samplePassage.freqAll()\n",
    "    print(testMsg(wordMap==sampleMap))\n",
    "except:\n",
    "    print(\"Error detected. Recheck your function \" )\n",
    "print(\"freqOf: \")\n",
    "try:\n",
    "    passed = True\n",
    "    for word in sampleMap:\n",
    "        if samplePassage.freqOf(word) != sampleMap[word]:\n",
    "            passed = False\n",
    "            break\n",
    "    print(testMsg(passed))\n",
    "    \n",
    "except:\n",
    "    print(\"Error detected. Recheck your function  \" )"
   ]
  },
  {
   "cell_type": "code",
   "execution_count": null,
   "id": "e1f175dc",
   "metadata": {},
   "outputs": [],
   "source": []
  }
 ],
 "metadata": {
  "kernelspec": {
   "display_name": "Python 3 (ipykernel)",
   "language": "python",
   "name": "python3"
  },
  "language_info": {
   "codemirror_mode": {
    "name": "ipython",
    "version": 3
   },
   "file_extension": ".py",
   "mimetype": "text/x-python",
   "name": "python",
   "nbconvert_exporter": "python",
   "pygments_lexer": "ipython3",
   "version": "3.9.12"
  }
 },
 "nbformat": 4,
 "nbformat_minor": 5
}
