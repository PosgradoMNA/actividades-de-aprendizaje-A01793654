{
  "nbformat": 4,
  "nbformat_minor": 0,
  "metadata": {
    "colab": {
      "provenance": [],
      "authorship_tag": "ABX9TyPVM/61sRptGQiVRjaWP3ku",
      "include_colab_link": true
    },
    "kernelspec": {
      "name": "python3",
      "display_name": "Python 3"
    },
    "language_info": {
      "name": "python"
    }
  },
  "cells": [
    {
      "cell_type": "markdown",
      "metadata": {
        "id": "view-in-github",
        "colab_type": "text"
      },
      "source": [
        "<a href=\"https://colab.research.google.com/github/PosgradoMNA/actividades-de-aprendizaje-A01793654/blob/main/Actividad7_IBM(Mod_4_MD).ipynb\" target=\"_parent\"><img src=\"https://colab.research.google.com/assets/colab-badge.svg\" alt=\"Open In Colab\"/></a>"
      ]
    },
    {
      "cell_type": "markdown",
      "source": [
        "# Ciencia y analítica de datos\n",
        "## Actividad 7\n",
        "### Cursos de IBM\n",
        "### Data Analysis With Python\n",
        "### Modulo 4\n",
        "##### Profesor: Jobish Vallikavungal Devassia\n",
        "##### Profesor Tutor: Roberto Antonio Guevara González\n",
        "##### Bernardo Mijangos Flores\n",
        "##### Matricula A01793654\n",
        "### Laboratorio 4"
      ],
      "metadata": {
        "id": "ntHl52kBLkH6"
      }
    },
    {
      "cell_type": "markdown",
      "source": [
        "# Desarrollo del modelo\n",
        "\n",
        "Objetivos:\n",
        "\n",
        "Desarrollar modelos de predicción \n",
        "\n",
        "En esta sección, desarrollaremos varios modelos que predecirán el precio del automóvil utilizando las variables o características. Esto es solo una estimación, pero debería darnos una idea objetiva de cuánto debería costar el automóvil.\n",
        "\n",
        "En el análisis de datos, a menudo usamos el desarrollo de modelos para ayudarnos a predecir futuras observaciones a partir de los datos que tenemos.\n",
        "\n",
        "Un modelo nos ayudará a comprender la relación exacta entre diferentes variables y cómo se utilizan estas variables para predecir el resultado."
      ],
      "metadata": {
        "id": "GW4760HyMmph"
      }
    },
    {
      "cell_type": "code",
      "execution_count": 81,
      "metadata": {
        "id": "HU-uPAf2LhEL"
      },
      "outputs": [],
      "source": [
        "# Importamos la librerias\n",
        "\n",
        "import pandas as pd\n",
        "import numpy as np\n",
        "import matplotlib.pyplot as plt\n",
        "\n",
        "from sklearn.linear_model import LinearRegression   # para la regresion lineal\n",
        "\n",
        "import seaborn as sns   # importamos el paquete de visualizacion seaborn\n",
        "%matplotlib inline \n",
        "\n",
        "\n",
        "from sklearn.preprocessing import PolynomialFeatures   # para realizar una transformación polinomial en múltiples características.\n",
        "\n",
        "from sklearn.pipeline import Pipeline \n",
        "from sklearn.preprocessing import StandardScaler\n",
        "\n",
        "from sklearn.metrics import mean_squared_error   # para determinar el error cuadratico medio MSE\n",
        "\n",
        "from sklearn.metrics import r2_score   # para el polynomial fit\n",
        "\n",
        "import matplotlib.pyplot as plt\n",
        "import numpy as np"
      ]
    },
    {
      "cell_type": "code",
      "source": [
        "# obtenemos los datos del ejercicio del siguiente link\n",
        "\n",
        "path = 'https://cf-courses-data.s3.us.cloud-object-storage.appdomain.cloud/IBMDeveloperSkillsNetwork-DA0101EN-SkillsNetwork/labs/Data%20files/automobileEDA.csv'"
      ],
      "metadata": {
        "id": "XPHbZVQyNVsp"
      },
      "execution_count": 4,
      "outputs": []
    },
    {
      "cell_type": "code",
      "source": [
        "# obtenemos el dataframe con los datos\n",
        "\n",
        "df = pd.read_csv(path)\n",
        "df.head()"
      ],
      "metadata": {
        "colab": {
          "base_uri": "https://localhost:8080/",
          "height": 386
        },
        "id": "iVkGScqPNu9S",
        "outputId": "36335ac2-3739-4c57-f440-d3c4fe97d8de"
      },
      "execution_count": 5,
      "outputs": [
        {
          "output_type": "execute_result",
          "data": {
            "text/plain": [
              "   symboling  normalized-losses         make aspiration num-of-doors  \\\n",
              "0          3                122  alfa-romero        std          two   \n",
              "1          3                122  alfa-romero        std          two   \n",
              "2          1                122  alfa-romero        std          two   \n",
              "3          2                164         audi        std         four   \n",
              "4          2                164         audi        std         four   \n",
              "\n",
              "    body-style drive-wheels engine-location  wheel-base    length  ...  \\\n",
              "0  convertible          rwd           front        88.6  0.811148  ...   \n",
              "1  convertible          rwd           front        88.6  0.811148  ...   \n",
              "2    hatchback          rwd           front        94.5  0.822681  ...   \n",
              "3        sedan          fwd           front        99.8  0.848630  ...   \n",
              "4        sedan          4wd           front        99.4  0.848630  ...   \n",
              "\n",
              "   compression-ratio  horsepower  peak-rpm city-mpg highway-mpg    price  \\\n",
              "0                9.0       111.0    5000.0       21          27  13495.0   \n",
              "1                9.0       111.0    5000.0       21          27  16500.0   \n",
              "2                9.0       154.0    5000.0       19          26  16500.0   \n",
              "3               10.0       102.0    5500.0       24          30  13950.0   \n",
              "4                8.0       115.0    5500.0       18          22  17450.0   \n",
              "\n",
              "  city-L/100km  horsepower-binned  diesel  gas  \n",
              "0    11.190476             Medium       0    1  \n",
              "1    11.190476             Medium       0    1  \n",
              "2    12.368421             Medium       0    1  \n",
              "3     9.791667             Medium       0    1  \n",
              "4    13.055556             Medium       0    1  \n",
              "\n",
              "[5 rows x 29 columns]"
            ],
            "text/html": [
              "\n",
              "  <div id=\"df-d81ac8af-fcbb-4d2e-96b2-60fbb0963d80\">\n",
              "    <div class=\"colab-df-container\">\n",
              "      <div>\n",
              "<style scoped>\n",
              "    .dataframe tbody tr th:only-of-type {\n",
              "        vertical-align: middle;\n",
              "    }\n",
              "\n",
              "    .dataframe tbody tr th {\n",
              "        vertical-align: top;\n",
              "    }\n",
              "\n",
              "    .dataframe thead th {\n",
              "        text-align: right;\n",
              "    }\n",
              "</style>\n",
              "<table border=\"1\" class=\"dataframe\">\n",
              "  <thead>\n",
              "    <tr style=\"text-align: right;\">\n",
              "      <th></th>\n",
              "      <th>symboling</th>\n",
              "      <th>normalized-losses</th>\n",
              "      <th>make</th>\n",
              "      <th>aspiration</th>\n",
              "      <th>num-of-doors</th>\n",
              "      <th>body-style</th>\n",
              "      <th>drive-wheels</th>\n",
              "      <th>engine-location</th>\n",
              "      <th>wheel-base</th>\n",
              "      <th>length</th>\n",
              "      <th>...</th>\n",
              "      <th>compression-ratio</th>\n",
              "      <th>horsepower</th>\n",
              "      <th>peak-rpm</th>\n",
              "      <th>city-mpg</th>\n",
              "      <th>highway-mpg</th>\n",
              "      <th>price</th>\n",
              "      <th>city-L/100km</th>\n",
              "      <th>horsepower-binned</th>\n",
              "      <th>diesel</th>\n",
              "      <th>gas</th>\n",
              "    </tr>\n",
              "  </thead>\n",
              "  <tbody>\n",
              "    <tr>\n",
              "      <th>0</th>\n",
              "      <td>3</td>\n",
              "      <td>122</td>\n",
              "      <td>alfa-romero</td>\n",
              "      <td>std</td>\n",
              "      <td>two</td>\n",
              "      <td>convertible</td>\n",
              "      <td>rwd</td>\n",
              "      <td>front</td>\n",
              "      <td>88.6</td>\n",
              "      <td>0.811148</td>\n",
              "      <td>...</td>\n",
              "      <td>9.0</td>\n",
              "      <td>111.0</td>\n",
              "      <td>5000.0</td>\n",
              "      <td>21</td>\n",
              "      <td>27</td>\n",
              "      <td>13495.0</td>\n",
              "      <td>11.190476</td>\n",
              "      <td>Medium</td>\n",
              "      <td>0</td>\n",
              "      <td>1</td>\n",
              "    </tr>\n",
              "    <tr>\n",
              "      <th>1</th>\n",
              "      <td>3</td>\n",
              "      <td>122</td>\n",
              "      <td>alfa-romero</td>\n",
              "      <td>std</td>\n",
              "      <td>two</td>\n",
              "      <td>convertible</td>\n",
              "      <td>rwd</td>\n",
              "      <td>front</td>\n",
              "      <td>88.6</td>\n",
              "      <td>0.811148</td>\n",
              "      <td>...</td>\n",
              "      <td>9.0</td>\n",
              "      <td>111.0</td>\n",
              "      <td>5000.0</td>\n",
              "      <td>21</td>\n",
              "      <td>27</td>\n",
              "      <td>16500.0</td>\n",
              "      <td>11.190476</td>\n",
              "      <td>Medium</td>\n",
              "      <td>0</td>\n",
              "      <td>1</td>\n",
              "    </tr>\n",
              "    <tr>\n",
              "      <th>2</th>\n",
              "      <td>1</td>\n",
              "      <td>122</td>\n",
              "      <td>alfa-romero</td>\n",
              "      <td>std</td>\n",
              "      <td>two</td>\n",
              "      <td>hatchback</td>\n",
              "      <td>rwd</td>\n",
              "      <td>front</td>\n",
              "      <td>94.5</td>\n",
              "      <td>0.822681</td>\n",
              "      <td>...</td>\n",
              "      <td>9.0</td>\n",
              "      <td>154.0</td>\n",
              "      <td>5000.0</td>\n",
              "      <td>19</td>\n",
              "      <td>26</td>\n",
              "      <td>16500.0</td>\n",
              "      <td>12.368421</td>\n",
              "      <td>Medium</td>\n",
              "      <td>0</td>\n",
              "      <td>1</td>\n",
              "    </tr>\n",
              "    <tr>\n",
              "      <th>3</th>\n",
              "      <td>2</td>\n",
              "      <td>164</td>\n",
              "      <td>audi</td>\n",
              "      <td>std</td>\n",
              "      <td>four</td>\n",
              "      <td>sedan</td>\n",
              "      <td>fwd</td>\n",
              "      <td>front</td>\n",
              "      <td>99.8</td>\n",
              "      <td>0.848630</td>\n",
              "      <td>...</td>\n",
              "      <td>10.0</td>\n",
              "      <td>102.0</td>\n",
              "      <td>5500.0</td>\n",
              "      <td>24</td>\n",
              "      <td>30</td>\n",
              "      <td>13950.0</td>\n",
              "      <td>9.791667</td>\n",
              "      <td>Medium</td>\n",
              "      <td>0</td>\n",
              "      <td>1</td>\n",
              "    </tr>\n",
              "    <tr>\n",
              "      <th>4</th>\n",
              "      <td>2</td>\n",
              "      <td>164</td>\n",
              "      <td>audi</td>\n",
              "      <td>std</td>\n",
              "      <td>four</td>\n",
              "      <td>sedan</td>\n",
              "      <td>4wd</td>\n",
              "      <td>front</td>\n",
              "      <td>99.4</td>\n",
              "      <td>0.848630</td>\n",
              "      <td>...</td>\n",
              "      <td>8.0</td>\n",
              "      <td>115.0</td>\n",
              "      <td>5500.0</td>\n",
              "      <td>18</td>\n",
              "      <td>22</td>\n",
              "      <td>17450.0</td>\n",
              "      <td>13.055556</td>\n",
              "      <td>Medium</td>\n",
              "      <td>0</td>\n",
              "      <td>1</td>\n",
              "    </tr>\n",
              "  </tbody>\n",
              "</table>\n",
              "<p>5 rows × 29 columns</p>\n",
              "</div>\n",
              "      <button class=\"colab-df-convert\" onclick=\"convertToInteractive('df-d81ac8af-fcbb-4d2e-96b2-60fbb0963d80')\"\n",
              "              title=\"Convert this dataframe to an interactive table.\"\n",
              "              style=\"display:none;\">\n",
              "        \n",
              "  <svg xmlns=\"http://www.w3.org/2000/svg\" height=\"24px\"viewBox=\"0 0 24 24\"\n",
              "       width=\"24px\">\n",
              "    <path d=\"M0 0h24v24H0V0z\" fill=\"none\"/>\n",
              "    <path d=\"M18.56 5.44l.94 2.06.94-2.06 2.06-.94-2.06-.94-.94-2.06-.94 2.06-2.06.94zm-11 1L8.5 8.5l.94-2.06 2.06-.94-2.06-.94L8.5 2.5l-.94 2.06-2.06.94zm10 10l.94 2.06.94-2.06 2.06-.94-2.06-.94-.94-2.06-.94 2.06-2.06.94z\"/><path d=\"M17.41 7.96l-1.37-1.37c-.4-.4-.92-.59-1.43-.59-.52 0-1.04.2-1.43.59L10.3 9.45l-7.72 7.72c-.78.78-.78 2.05 0 2.83L4 21.41c.39.39.9.59 1.41.59.51 0 1.02-.2 1.41-.59l7.78-7.78 2.81-2.81c.8-.78.8-2.07 0-2.86zM5.41 20L4 18.59l7.72-7.72 1.47 1.35L5.41 20z\"/>\n",
              "  </svg>\n",
              "      </button>\n",
              "      \n",
              "  <style>\n",
              "    .colab-df-container {\n",
              "      display:flex;\n",
              "      flex-wrap:wrap;\n",
              "      gap: 12px;\n",
              "    }\n",
              "\n",
              "    .colab-df-convert {\n",
              "      background-color: #E8F0FE;\n",
              "      border: none;\n",
              "      border-radius: 50%;\n",
              "      cursor: pointer;\n",
              "      display: none;\n",
              "      fill: #1967D2;\n",
              "      height: 32px;\n",
              "      padding: 0 0 0 0;\n",
              "      width: 32px;\n",
              "    }\n",
              "\n",
              "    .colab-df-convert:hover {\n",
              "      background-color: #E2EBFA;\n",
              "      box-shadow: 0px 1px 2px rgba(60, 64, 67, 0.3), 0px 1px 3px 1px rgba(60, 64, 67, 0.15);\n",
              "      fill: #174EA6;\n",
              "    }\n",
              "\n",
              "    [theme=dark] .colab-df-convert {\n",
              "      background-color: #3B4455;\n",
              "      fill: #D2E3FC;\n",
              "    }\n",
              "\n",
              "    [theme=dark] .colab-df-convert:hover {\n",
              "      background-color: #434B5C;\n",
              "      box-shadow: 0px 1px 3px 1px rgba(0, 0, 0, 0.15);\n",
              "      filter: drop-shadow(0px 1px 2px rgba(0, 0, 0, 0.3));\n",
              "      fill: #FFFFFF;\n",
              "    }\n",
              "  </style>\n",
              "\n",
              "      <script>\n",
              "        const buttonEl =\n",
              "          document.querySelector('#df-d81ac8af-fcbb-4d2e-96b2-60fbb0963d80 button.colab-df-convert');\n",
              "        buttonEl.style.display =\n",
              "          google.colab.kernel.accessAllowed ? 'block' : 'none';\n",
              "\n",
              "        async function convertToInteractive(key) {\n",
              "          const element = document.querySelector('#df-d81ac8af-fcbb-4d2e-96b2-60fbb0963d80');\n",
              "          const dataTable =\n",
              "            await google.colab.kernel.invokeFunction('convertToInteractive',\n",
              "                                                     [key], {});\n",
              "          if (!dataTable) return;\n",
              "\n",
              "          const docLinkHtml = 'Like what you see? Visit the ' +\n",
              "            '<a target=\"_blank\" href=https://colab.research.google.com/notebooks/data_table.ipynb>data table notebook</a>'\n",
              "            + ' to learn more about interactive tables.';\n",
              "          element.innerHTML = '';\n",
              "          dataTable['output_type'] = 'display_data';\n",
              "          await google.colab.output.renderOutput(dataTable, element);\n",
              "          const docLink = document.createElement('div');\n",
              "          docLink.innerHTML = docLinkHtml;\n",
              "          element.appendChild(docLink);\n",
              "        }\n",
              "      </script>\n",
              "    </div>\n",
              "  </div>\n",
              "  "
            ]
          },
          "metadata": {},
          "execution_count": 5
        }
      ]
    },
    {
      "cell_type": "markdown",
      "source": [
        "# 1. Regresión lineal y regresión lineal múltiple"
      ],
      "metadata": {
        "id": "pHcsyfwvOBht"
      }
    },
    {
      "cell_type": "markdown",
      "source": [
        "## Regresión lineal simple\n",
        "\n",
        "La regresión lineal simple es un método que nos ayuda a comprender la relación entre dos variables:\n",
        "\n",
        "*   El predictor/variable independiente (X)\n",
        "*   La respuesta/variable dependiente (que queremos predecir)(Y)\n",
        "\n",
        "El resultado de la regresión lineal es una función lineal que predice la variable de respuesta (dependiente) en función de la variable predictora (independiente).\n",
        "\n",
        "$$\n",
        "Y: Response \\ Variable\\\\\\\\\\\\\\\\\\\\\n",
        "X: Predictor \\ Variables\n",
        "$$\n",
        "\n",
        "<b>Función lineal</b>\n",
        "$$\n",
        "Yhat = a + b  X\n",
        "$$\n",
        "\n",
        "*   se refiere a la intersección de la línea de regresión, en otras palabras: el valor de Y cuando X es 0\n",
        "*   se refiere a la pendiente de la línea de regresión, en otras palabras: el valor con el que cambia Y cuando X aumenta en 1 unidad\n"
      ],
      "metadata": {
        "id": "M4td3rK5OMp7"
      }
    },
    {
      "cell_type": "code",
      "source": [
        "# Creando la regresion lineal\n",
        "\n",
        "lm = LinearRegression()\n",
        "lm"
      ],
      "metadata": {
        "colab": {
          "base_uri": "https://localhost:8080/"
        },
        "id": "rtSAgrm1N8Pf",
        "outputId": "f30d5d6d-e31f-4955-8996-ab48b359ac75"
      },
      "execution_count": 9,
      "outputs": [
        {
          "output_type": "execute_result",
          "data": {
            "text/plain": [
              "LinearRegression()"
            ]
          },
          "metadata": {},
          "execution_count": 9
        }
      ]
    },
    {
      "cell_type": "markdown",
      "source": [
        "Se requiere ver cómo highway-mpg puede ayudarnos a predecir el precio del automóvil. Usando una regresión lineal simple, Se crea una función lineal con \"highway-mpg\" como la variable predictora y el \"price\" como la variable de respuesta."
      ],
      "metadata": {
        "id": "knViuc4GPqD_"
      }
    },
    {
      "cell_type": "code",
      "source": [
        "# asignamos la variable predictora y de respuesta en X y Y\n",
        "\n",
        "X = df[['highway-mpg']]\n",
        "Y = df['price']"
      ],
      "metadata": {
        "id": "FBOsJCy7OC9w"
      },
      "execution_count": 11,
      "outputs": []
    },
    {
      "cell_type": "code",
      "source": [
        "# Ajuste el modelo lineal\n",
        "\n",
        "lm.fit(X,Y)"
      ],
      "metadata": {
        "colab": {
          "base_uri": "https://localhost:8080/"
        },
        "id": "xXpFZQYKP_-g",
        "outputId": "d71547a4-e0b9-4558-9982-7f2a3f096df0"
      },
      "execution_count": 12,
      "outputs": [
        {
          "output_type": "execute_result",
          "data": {
            "text/plain": [
              "LinearRegression()"
            ]
          },
          "metadata": {},
          "execution_count": 12
        }
      ]
    },
    {
      "cell_type": "code",
      "source": [
        "# Generamos una prediccion\n",
        "\n",
        "Yhat=lm.predict(X)\n",
        "Yhat[0:5]   "
      ],
      "metadata": {
        "colab": {
          "base_uri": "https://localhost:8080/"
        },
        "id": "IX8uv1JqQLw0",
        "outputId": "305380e0-f5a5-4947-da42-922d3791bcb2"
      },
      "execution_count": 13,
      "outputs": [
        {
          "output_type": "execute_result",
          "data": {
            "text/plain": [
              "array([16236.50464347, 16236.50464347, 17058.23802179, 13771.3045085 ,\n",
              "       20345.17153508])"
            ]
          },
          "metadata": {},
          "execution_count": 13
        }
      ]
    },
    {
      "cell_type": "code",
      "source": [
        "# Valor del intercepto\n",
        "\n",
        "lm.intercept_"
      ],
      "metadata": {
        "colab": {
          "base_uri": "https://localhost:8080/"
        },
        "id": "uXvbacv7QTYI",
        "outputId": "32a9d6dc-012b-4f21-faa5-89ffd70a66a8"
      },
      "execution_count": 14,
      "outputs": [
        {
          "output_type": "execute_result",
          "data": {
            "text/plain": [
              "38423.3058581574"
            ]
          },
          "metadata": {},
          "execution_count": 14
        }
      ]
    },
    {
      "cell_type": "code",
      "source": [
        "# Valor de la pendiente\n",
        "\n",
        "lm.coef_"
      ],
      "metadata": {
        "colab": {
          "base_uri": "https://localhost:8080/"
        },
        "id": "Mt8wHqyXQ9eU",
        "outputId": "d2122e02-7c41-4f10-a28c-fc320c2f45fd"
      },
      "execution_count": 15,
      "outputs": [
        {
          "output_type": "execute_result",
          "data": {
            "text/plain": [
              "array([-821.73337832])"
            ]
          },
          "metadata": {},
          "execution_count": 15
        }
      ]
    },
    {
      "cell_type": "markdown",
      "source": [
        "Con los valores reales obtenemos:\n",
        "\n",
        "Precio = 38423.31 - 821.73 x highway-mpg"
      ],
      "metadata": {
        "id": "EtmYhz_0RUN6"
      }
    },
    {
      "cell_type": "markdown",
      "source": [
        "# Pregunta 1a)\n",
        "\n",
        "Cree un objeto de regresión lineal llamado \"lm1\"."
      ],
      "metadata": {
        "id": "Qy-kLFWnRukt"
      }
    },
    {
      "cell_type": "code",
      "source": [
        "lm1 = LinearRegression()\n",
        "lm1"
      ],
      "metadata": {
        "colab": {
          "base_uri": "https://localhost:8080/"
        },
        "id": "BrBd48dfRE1z",
        "outputId": "b2ec0606-a077-4179-8559-64768927c56f"
      },
      "execution_count": 16,
      "outputs": [
        {
          "output_type": "execute_result",
          "data": {
            "text/plain": [
              "LinearRegression()"
            ]
          },
          "metadata": {},
          "execution_count": 16
        }
      ]
    },
    {
      "cell_type": "markdown",
      "source": [
        "# Pregunta  1b):\n",
        "¿Entrenar el modelo utilizando \"engine-size\" como variable independiente y \"price\" como variable dependiente?"
      ],
      "metadata": {
        "id": "HM6XsDynSKC1"
      }
    },
    {
      "cell_type": "code",
      "source": [
        "lm1.fit(df[['engine-size']], df[['price']])\n",
        "lm1"
      ],
      "metadata": {
        "colab": {
          "base_uri": "https://localhost:8080/"
        },
        "id": "IwjdmGJJSB-w",
        "outputId": "66bf30c5-4e3d-422f-b3ec-e9ece58b670c"
      },
      "execution_count": 17,
      "outputs": [
        {
          "output_type": "execute_result",
          "data": {
            "text/plain": [
              "LinearRegression()"
            ]
          },
          "metadata": {},
          "execution_count": 17
        }
      ]
    },
    {
      "cell_type": "markdown",
      "source": [
        "# Pregunta 1c):\n",
        "\n",
        "Encuentra la pendiente y el intercepto del modelo."
      ],
      "metadata": {
        "id": "MJCwTxpaSvtR"
      }
    },
    {
      "cell_type": "code",
      "source": [
        "print('Pendiente',lm1.coef_)\n",
        "print('Intercepto',lm1.intercept_)"
      ],
      "metadata": {
        "colab": {
          "base_uri": "https://localhost:8080/"
        },
        "id": "qwt3OT7PSj7D",
        "outputId": "0ab3840a-3be8-4e8a-aa64-a75aa8424f07"
      },
      "execution_count": 21,
      "outputs": [
        {
          "output_type": "stream",
          "name": "stdout",
          "text": [
            "Pendiente [[166.86001569]]\n",
            "Intercepto [-7963.33890628]\n"
          ]
        }
      ]
    },
    {
      "cell_type": "markdown",
      "source": [
        "# Pregunta 1d):\n",
        "\n",
        "¿Cuál es la ecuación de la línea predicha? Puede usar x y yhat o  \"engine-size\" o \"price\"."
      ],
      "metadata": {
        "id": "M0BvgR-pTo6U"
      }
    },
    {
      "cell_type": "code",
      "source": [
        "Yhat=-7963.34 + 166.86*X"
      ],
      "metadata": {
        "id": "tjdbGkt3TIYi"
      },
      "execution_count": 26,
      "outputs": []
    },
    {
      "cell_type": "code",
      "source": [
        "Price=-7963.34 + 166.86*df['engine-size']"
      ],
      "metadata": {
        "id": "XKJz66-LT5O8"
      },
      "execution_count": 27,
      "outputs": []
    },
    {
      "cell_type": "markdown",
      "source": [
        "# Regresión lineal múltiple\n",
        "\n",
        "Para usar más variables en nuestro modelo para predecir el precio del automóvil, podemos usar la regresión lineal múltiple.\n",
        "\n",
        "La regresión lineal múltiple es muy similar a la regresión lineal simple, pero este método se utiliza para explicar la relación entre una variable de respuesta continua (dependiente) y dos o más variables predictoras (independientes).  La mayoría de los modelos de regresión del mundo real involucran múltiples predictores."
      ],
      "metadata": {
        "id": "PA5DaAs_VPXv"
      }
    },
    {
      "cell_type": "markdown",
      "source": [
        "\n",
        "$$\n",
        "Y: Response \\ Variable\\\\\\\\\\\\\\\\\\\\\n",
        "X\\_1 :Predictor\\ Variable \\ 1\\\\\\\\\n",
        "X\\_2: Predictor\\ Variable \\ 2\\\\\\\\\n",
        "X\\_3: Predictor\\ Variable \\ 3\\\\\\\\\n",
        "X\\_4: Predictor\\ Variable \\ 4\\\\\\\\\n",
        "$$\n",
        "\n",
        "\n",
        "$$\n",
        "a: intercept\\\\\\\\\\\\\\\\\\\\\n",
        "b\\_1 :coefficients \\ of\\ Variable \\ 1\\\\\\\\\n",
        "b\\_2: coefficients \\ of\\ Variable \\ 2\\\\\\\\\n",
        "b\\_3: coefficients \\ of\\ Variable \\ 3\\\\\\\\\n",
        "b\\_4: coefficients \\ of\\ Variable \\ 4\\\\\\\\\n",
        "$$\n",
        "\n",
        "La ecuacion es:\n",
        "\n",
        "$$\n",
        "Yhat = a + b\\_1 X\\_1 + b\\_2 X\\_2 + b\\_3 X\\_3 + b\\_4 X\\_4\n",
        "$$\n"
      ],
      "metadata": {
        "id": "HkcZuBdoV0YQ"
      }
    },
    {
      "cell_type": "markdown",
      "source": [
        "Otros buenos predictores de precio podrían ser:\n",
        "\n",
        "*  Horsepower\n",
        "*  Curb-weight\n",
        "*  Engine-size\n",
        "*  Highway-mpg"
      ],
      "metadata": {
        "id": "iQGAMqEXWDto"
      }
    },
    {
      "cell_type": "code",
      "source": [
        "#  uso de estas variables como variables predictoras.\n",
        "\n",
        "Z = df[['horsepower', 'curb-weight', 'engine-size', 'highway-mpg']]"
      ],
      "metadata": {
        "id": "RCV33pMUUJLr"
      },
      "execution_count": 29,
      "outputs": []
    },
    {
      "cell_type": "code",
      "source": [
        "# Ajuste el modelo lineal utilizando las cuatro variables mencionadas.\n",
        "\n",
        "lm.fit(Z, df['price'])"
      ],
      "metadata": {
        "colab": {
          "base_uri": "https://localhost:8080/"
        },
        "id": "pBoHndbYWRHp",
        "outputId": "bcf328d7-12d7-4e23-ec0e-c0f742ec677e"
      },
      "execution_count": 30,
      "outputs": [
        {
          "output_type": "execute_result",
          "data": {
            "text/plain": [
              "LinearRegression()"
            ]
          },
          "metadata": {},
          "execution_count": 30
        }
      ]
    },
    {
      "cell_type": "code",
      "source": [
        "# Valor del intercepto\n",
        "\n",
        "lm.intercept_"
      ],
      "metadata": {
        "colab": {
          "base_uri": "https://localhost:8080/"
        },
        "id": "uxTNTl5KWl7t",
        "outputId": "9a4ff209-5171-4e4b-8322-abd52c858882"
      },
      "execution_count": 31,
      "outputs": [
        {
          "output_type": "execute_result",
          "data": {
            "text/plain": [
              "-15806.62462632922"
            ]
          },
          "metadata": {},
          "execution_count": 31
        }
      ]
    },
    {
      "cell_type": "code",
      "source": [
        "# Valores de los coeficientes (b1, b2, b3, b4)\n",
        "\n",
        "lm.coef_"
      ],
      "metadata": {
        "colab": {
          "base_uri": "https://localhost:8080/"
        },
        "id": "9Wl72EcKWuqg",
        "outputId": "766eaac4-1379-469f-ccd3-8fa74d20fe87"
      },
      "execution_count": 32,
      "outputs": [
        {
          "output_type": "execute_result",
          "data": {
            "text/plain": [
              "array([53.49574423,  4.70770099, 81.53026382, 36.05748882])"
            ]
          },
          "metadata": {},
          "execution_count": 32
        }
      ]
    },
    {
      "cell_type": "markdown",
      "source": [
        "La regresion lineal es:\n",
        "\n",
        "Price = -15678.742628061467 + 52.65851272 x horsepower + 4.69878948 x curb-weight + 81.95906216 x engine-size + 33.58258185 x highway-mpg"
      ],
      "metadata": {
        "id": "JWCCzxhKW_ve"
      }
    },
    {
      "cell_type": "markdown",
      "source": [
        "# Pregunta 2a):\n",
        "\n",
        "Cree y entrene un modelo de regresión lineal múltiple \"lm2\" en el que la variable de respuesta sea \"precio\" y la variable de predicción sea \"normalized-losses\" y \"highway-mpg\"."
      ],
      "metadata": {
        "id": "NpvgO94sXMyM"
      }
    },
    {
      "cell_type": "code",
      "source": [
        "lm2 = LinearRegression()\n",
        "lm2.fit(df[['normalized-losses' , 'highway-mpg']],df['price'])"
      ],
      "metadata": {
        "colab": {
          "base_uri": "https://localhost:8080/"
        },
        "id": "lCo4BRTNW6NM",
        "outputId": "3a4ec31f-ff91-4e8a-d4a1-64719eabdf64"
      },
      "execution_count": 33,
      "outputs": [
        {
          "output_type": "execute_result",
          "data": {
            "text/plain": [
              "LinearRegression()"
            ]
          },
          "metadata": {},
          "execution_count": 33
        }
      ]
    },
    {
      "cell_type": "markdown",
      "source": [
        "# Pregunta 2b):\n",
        "\n",
        "Encuentre el coeficiente del modelo"
      ],
      "metadata": {
        "id": "ci0DdVndXkM-"
      }
    },
    {
      "cell_type": "code",
      "source": [
        "lm2.coef_"
      ],
      "metadata": {
        "colab": {
          "base_uri": "https://localhost:8080/"
        },
        "id": "9btDU7ITXfmZ",
        "outputId": "2a3b61bc-fa63-46ad-83f1-82edbcb534fb"
      },
      "execution_count": 34,
      "outputs": [
        {
          "output_type": "execute_result",
          "data": {
            "text/plain": [
              "array([   1.49789586, -820.45434016])"
            ]
          },
          "metadata": {},
          "execution_count": 34
        }
      ]
    },
    {
      "cell_type": "markdown",
      "source": [
        "# 2. Model Evaluation Using Visualization"
      ],
      "metadata": {
        "id": "_gB-ccODX6wG"
      }
    },
    {
      "cell_type": "markdown",
      "source": [
        "## Gráfico de regresión\n",
        "\n",
        "Este gráfico mostrará una combinación de puntos de datos dispersos (un gráfico de dispersión), así como la línea de regresión lineal ajustada que pasa por los datos. Esto nos dará una estimación razonable de la relación entre las dos variables, la fuerza de la correlación, así como la dirección (correlación positiva o negativa).\n",
        "\n",
        "Visualicemos highway-mpg  como una posible variable predictora del price:"
      ],
      "metadata": {
        "id": "cPSocrBkYkC6"
      }
    },
    {
      "cell_type": "code",
      "source": [
        "width = 12\n",
        "height = 10\n",
        "plt.figure(figsize=(width, height))\n",
        "sns.regplot(x=\"highway-mpg\", y=\"price\", data=df)\n",
        "plt.ylim(0,)"
      ],
      "metadata": {
        "colab": {
          "base_uri": "https://localhost:8080/",
          "height": 623
        },
        "id": "C6nOMuKpXwrx",
        "outputId": "2b754da2-c85d-4bbd-c4c6-27d67f31dbc7"
      },
      "execution_count": 36,
      "outputs": [
        {
          "output_type": "execute_result",
          "data": {
            "text/plain": [
              "(0.0, 48176.897279695775)"
            ]
          },
          "metadata": {},
          "execution_count": 36
        },
        {
          "output_type": "display_data",
          "data": {
            "text/plain": [
              "<Figure size 864x720 with 1 Axes>"
            ],
            "image/png": "[encoded data removed]"
          },
          "metadata": {
            "needs_background": "light"
          }
        }
      ]
    },
    {
      "cell_type": "markdown",
      "source": [
        "En este gráfico se observa que \"price\" está negativamente correlacionado con el highway-mpg ya que la pendiente de regresión es negativa.\n",
        "\n",
        "Una cosa a tener en cuenta al mirar un gráfico de regresión es prestar atención a cuán dispersos están los puntos de datos alrededor de la línea de regresión. \n",
        "\n",
        "Esto le dará una buena indicación de la variación de los datos y si un modelo lineal sería el mejor ajuste o no. Si los datos están demasiado alejados de la línea, este modelo lineal podría no ser el mejor modelo para estos datos.\n",
        "\n",
        "Comparemos este gráfico con el gráfico de regresión de \"peak-rpm\"."
      ],
      "metadata": {
        "id": "hzwYhUEiY9Ri"
      }
    },
    {
      "cell_type": "code",
      "source": [
        "plt.figure(figsize=(width, height))\n",
        "sns.regplot(x=\"peak-rpm\", y=\"price\", data=df)\n",
        "plt.ylim(0,)"
      ],
      "metadata": {
        "colab": {
          "base_uri": "https://localhost:8080/",
          "height": 623
        },
        "id": "Obf_jn7VYz0H",
        "outputId": "ad1eff2c-821d-45c1-fc51-e08d6a5be7d6"
      },
      "execution_count": 37,
      "outputs": [
        {
          "output_type": "execute_result",
          "data": {
            "text/plain": [
              "(0.0, 47414.1)"
            ]
          },
          "metadata": {},
          "execution_count": 37
        },
        {
          "output_type": "display_data",
          "data": {
            "text/plain": [
              "<Figure size 864x720 with 1 Axes>"
            ],
            "image/png": "[encoded data removed]"
          },
          "metadata": {
            "needs_background": "light"
          }
        }
      ]
    },
    {
      "cell_type": "markdown",
      "source": [
        "Al comparar ambos gráficos de regresión vemos que los puntos para \"highway-mpg\" están mucho más cerca de la línea generada y en promedio disminuyen.\n",
        "\n",
        "Los puntos de \"peak-rpm\" están más dispersos alrededor de la línea predicha y es mucho más difícil determinar si los puntos disminuyen o aumentan a medida que aumenta el \"peak-rpm\"."
      ],
      "metadata": {
        "id": "h83cLz0AZgmC"
      }
    },
    {
      "cell_type": "markdown",
      "source": [
        "# Pregunta 3:\n",
        "\n",
        "Dadas las gráficas de regresión anteriores, ¿las \"peak-rpm \" o \"highway-mpg\" están más fuertemente correlacionadas con \"price\"?\n",
        "\n",
        "Usa el método \".corr()\" para verificar tu respuesta."
      ],
      "metadata": {
        "id": "gbRRNLPXZ67a"
      }
    },
    {
      "cell_type": "code",
      "source": [
        "df[[\"peak-rpm\",\"highway-mpg\",\"price\"]].corr()"
      ],
      "metadata": {
        "colab": {
          "base_uri": "https://localhost:8080/",
          "height": 143
        },
        "id": "B1S8QfDRZbGQ",
        "outputId": "79161632-d6c4-4a46-946b-722865c58ccd"
      },
      "execution_count": 38,
      "outputs": [
        {
          "output_type": "execute_result",
          "data": {
            "text/plain": [
              "             peak-rpm  highway-mpg     price\n",
              "peak-rpm     1.000000    -0.058598 -0.101616\n",
              "highway-mpg -0.058598     1.000000 -0.704692\n",
              "price       -0.101616    -0.704692  1.000000"
            ],
            "text/html": [
              "\n",
              "  <div id=\"df-1609bdfb-e7c3-46bc-8f83-dfd3493d6075\">\n",
              "    <div class=\"colab-df-container\">\n",
              "      <div>\n",
              "<style scoped>\n",
              "    .dataframe tbody tr th:only-of-type {\n",
              "        vertical-align: middle;\n",
              "    }\n",
              "\n",
              "    .dataframe tbody tr th {\n",
              "        vertical-align: top;\n",
              "    }\n",
              "\n",
              "    .dataframe thead th {\n",
              "        text-align: right;\n",
              "    }\n",
              "</style>\n",
              "<table border=\"1\" class=\"dataframe\">\n",
              "  <thead>\n",
              "    <tr style=\"text-align: right;\">\n",
              "      <th></th>\n",
              "      <th>peak-rpm</th>\n",
              "      <th>highway-mpg</th>\n",
              "      <th>price</th>\n",
              "    </tr>\n",
              "  </thead>\n",
              "  <tbody>\n",
              "    <tr>\n",
              "      <th>peak-rpm</th>\n",
              "      <td>1.000000</td>\n",
              "      <td>-0.058598</td>\n",
              "      <td>-0.101616</td>\n",
              "    </tr>\n",
              "    <tr>\n",
              "      <th>highway-mpg</th>\n",
              "      <td>-0.058598</td>\n",
              "      <td>1.000000</td>\n",
              "      <td>-0.704692</td>\n",
              "    </tr>\n",
              "    <tr>\n",
              "      <th>price</th>\n",
              "      <td>-0.101616</td>\n",
              "      <td>-0.704692</td>\n",
              "      <td>1.000000</td>\n",
              "    </tr>\n",
              "  </tbody>\n",
              "</table>\n",
              "</div>\n",
              "      <button class=\"colab-df-convert\" onclick=\"convertToInteractive('df-1609bdfb-e7c3-46bc-8f83-dfd3493d6075')\"\n",
              "              title=\"Convert this dataframe to an interactive table.\"\n",
              "              style=\"display:none;\">\n",
              "        \n",
              "  <svg xmlns=\"http://www.w3.org/2000/svg\" height=\"24px\"viewBox=\"0 0 24 24\"\n",
              "       width=\"24px\">\n",
              "    <path d=\"M0 0h24v24H0V0z\" fill=\"none\"/>\n",
              "    <path d=\"M18.56 5.44l.94 2.06.94-2.06 2.06-.94-2.06-.94-.94-2.06-.94 2.06-2.06.94zm-11 1L8.5 8.5l.94-2.06 2.06-.94-2.06-.94L8.5 2.5l-.94 2.06-2.06.94zm10 10l.94 2.06.94-2.06 2.06-.94-2.06-.94-.94-2.06-.94 2.06-2.06.94z\"/><path d=\"M17.41 7.96l-1.37-1.37c-.4-.4-.92-.59-1.43-.59-.52 0-1.04.2-1.43.59L10.3 9.45l-7.72 7.72c-.78.78-.78 2.05 0 2.83L4 21.41c.39.39.9.59 1.41.59.51 0 1.02-.2 1.41-.59l7.78-7.78 2.81-2.81c.8-.78.8-2.07 0-2.86zM5.41 20L4 18.59l7.72-7.72 1.47 1.35L5.41 20z\"/>\n",
              "  </svg>\n",
              "      </button>\n",
              "      \n",
              "  <style>\n",
              "    .colab-df-container {\n",
              "      display:flex;\n",
              "      flex-wrap:wrap;\n",
              "      gap: 12px;\n",
              "    }\n",
              "\n",
              "    .colab-df-convert {\n",
              "      background-color: #E8F0FE;\n",
              "      border: none;\n",
              "      border-radius: 50%;\n",
              "      cursor: pointer;\n",
              "      display: none;\n",
              "      fill: #1967D2;\n",
              "      height: 32px;\n",
              "      padding: 0 0 0 0;\n",
              "      width: 32px;\n",
              "    }\n",
              "\n",
              "    .colab-df-convert:hover {\n",
              "      background-color: #E2EBFA;\n",
              "      box-shadow: 0px 1px 2px rgba(60, 64, 67, 0.3), 0px 1px 3px 1px rgba(60, 64, 67, 0.15);\n",
              "      fill: #174EA6;\n",
              "    }\n",
              "\n",
              "    [theme=dark] .colab-df-convert {\n",
              "      background-color: #3B4455;\n",
              "      fill: #D2E3FC;\n",
              "    }\n",
              "\n",
              "    [theme=dark] .colab-df-convert:hover {\n",
              "      background-color: #434B5C;\n",
              "      box-shadow: 0px 1px 3px 1px rgba(0, 0, 0, 0.15);\n",
              "      filter: drop-shadow(0px 1px 2px rgba(0, 0, 0, 0.3));\n",
              "      fill: #FFFFFF;\n",
              "    }\n",
              "  </style>\n",
              "\n",
              "      <script>\n",
              "        const buttonEl =\n",
              "          document.querySelector('#df-1609bdfb-e7c3-46bc-8f83-dfd3493d6075 button.colab-df-convert');\n",
              "        buttonEl.style.display =\n",
              "          google.colab.kernel.accessAllowed ? 'block' : 'none';\n",
              "\n",
              "        async function convertToInteractive(key) {\n",
              "          const element = document.querySelector('#df-1609bdfb-e7c3-46bc-8f83-dfd3493d6075');\n",
              "          const dataTable =\n",
              "            await google.colab.kernel.invokeFunction('convertToInteractive',\n",
              "                                                     [key], {});\n",
              "          if (!dataTable) return;\n",
              "\n",
              "          const docLinkHtml = 'Like what you see? Visit the ' +\n",
              "            '<a target=\"_blank\" href=https://colab.research.google.com/notebooks/data_table.ipynb>data table notebook</a>'\n",
              "            + ' to learn more about interactive tables.';\n",
              "          element.innerHTML = '';\n",
              "          dataTable['output_type'] = 'display_data';\n",
              "          await google.colab.output.renderOutput(dataTable, element);\n",
              "          const docLink = document.createElement('div');\n",
              "          docLink.innerHTML = docLinkHtml;\n",
              "          element.appendChild(docLink);\n",
              "        }\n",
              "      </script>\n",
              "    </div>\n",
              "  </div>\n",
              "  "
            ]
          },
          "metadata": {},
          "execution_count": 38
        }
      ]
    },
    {
      "cell_type": "markdown",
      "source": [
        "La variable \"highway-mpg\" tiene una correlación más fuerte con \"price\", es aproximadamente -0.704692 en comparación con \"peak-rpm\", que es aproximadamente -0.101616."
      ],
      "metadata": {
        "id": "9t9jvRFvaRxV"
      }
    },
    {
      "cell_type": "markdown",
      "source": [
        "La diferencia entre el valor observado (y) y el valor pronosticado (Yhat) se llama residual (e). Cuando observamos un gráfico de regresión, el residuo es la distancia desde el punto de datos hasta la línea de regresión ajustada.\n",
        "\n",
        "Una gráfica de residuos es un gráfico que muestra los residuos en el eje y vertical y la variable independiente en el eje x horizontal.\n",
        "\n",
        "Si los puntos en una gráfica de residuos se distribuyen aleatoriamente alrededor del eje x, entonces un modelo lineal es apropiado para los datos.\n",
        "\n",
        "La distribución aleatoria de residuos significa que la varianza es constante y, por lo tanto, el modelo lineal se ajusta bien a estos datos."
      ],
      "metadata": {
        "id": "OWzSUnjUcDYR"
      }
    },
    {
      "cell_type": "code",
      "source": [
        "width = 12\n",
        "height = 10\n",
        "plt.figure(figsize=(width, height))\n",
        "sns.residplot(x=df['highway-mpg'],y=df['price'])\n",
        "plt.show()"
      ],
      "metadata": {
        "colab": {
          "base_uri": "https://localhost:8080/",
          "height": 606
        },
        "id": "oPlAE3-raKo3",
        "outputId": "5b0128d0-1e0e-493c-dacf-fe3c80943687"
      },
      "execution_count": 39,
      "outputs": [
        {
          "output_type": "display_data",
          "data": {
            "text/plain": [
              "<Figure size 864x720 with 1 Axes>"
            ],
            "image/png": "[encoded data removed]"
          },
          "metadata": {
            "needs_background": "light"
          }
        }
      ]
    },
    {
      "cell_type": "markdown",
      "source": [
        "Podemos ver en esta gráfica de residuos que los residuos no se distribuyen aleatoriamente alrededor del eje x, lo que nos lleva a creer que tal vez un modelo no lineal sea más apropiado para estos datos."
      ],
      "metadata": {
        "id": "itkFZQqUc1dc"
      }
    },
    {
      "cell_type": "markdown",
      "source": [
        "# Regresión lineal múltiple\n",
        "\n",
        "Una forma de ver el ajuste del modelo es mirar el gráfico de distribución. \n",
        "\n",
        "Podemos observar la distribución de los valores ajustados que resultan del modelo y compararla con la distribución de los valores reales."
      ],
      "metadata": {
        "id": "nj3LeF5NdHNX"
      }
    },
    {
      "cell_type": "code",
      "source": [
        "# generamos una predicción\n",
        "\n",
        "Y_hat = lm.predict(Z)"
      ],
      "metadata": {
        "id": "7ZOmXpt_cirY"
      },
      "execution_count": 40,
      "outputs": []
    },
    {
      "cell_type": "code",
      "source": [
        "plt.figure(figsize=(width, height))\n",
        "\n",
        "\n",
        "ax1 = sns.distplot(df['price'], hist=False, color=\"r\", label=\"Actual Value\")\n",
        "sns.distplot(Y_hat, hist=False, color=\"b\", label=\"Fitted Values\" , ax=ax1)\n",
        "\n",
        "\n",
        "plt.title('Actual vs Fitted Values for Price')\n",
        "plt.xlabel('Price (in dollars)')\n",
        "plt.ylabel('Proportion of Cars')\n",
        "\n",
        "plt.show()\n",
        "plt.close()"
      ],
      "metadata": {
        "colab": {
          "base_uri": "https://localhost:8080/",
          "height": 710
        },
        "id": "LfEPevBxddqR",
        "outputId": "fb64c169-bc3e-4f86-d56f-53bf8918f8a5"
      },
      "execution_count": 41,
      "outputs": [
        {
          "output_type": "stream",
          "name": "stderr",
          "text": [
            "/usr/local/lib/python3.7/dist-packages/seaborn/distributions.py:2619: FutureWarning: `distplot` is a deprecated function and will be removed in a future version. Please adapt your code to use either `displot` (a figure-level function with similar flexibility) or `kdeplot` (an axes-level function for kernel density plots).\n",
            "  warnings.warn(msg, FutureWarning)\n",
            "/usr/local/lib/python3.7/dist-packages/seaborn/distributions.py:2619: FutureWarning: `distplot` is a deprecated function and will be removed in a future version. Please adapt your code to use either `displot` (a figure-level function with similar flexibility) or `kdeplot` (an axes-level function for kernel density plots).\n",
            "  warnings.warn(msg, FutureWarning)\n"
          ]
        },
        {
          "output_type": "display_data",
          "data": {
            "text/plain": [
              "<Figure size 864x720 with 1 Axes>"
            ],
            "image/png": "[encoded data removed]"
          },
          "metadata": {
            "needs_background": "light"
          }
        }
      ]
    },
    {
      "cell_type": "markdown",
      "source": [
        "Se observa que los valores ajustados están razonablemente cerca de los valores reales ya que las dos distribuciones se superponen un poco. Sin embargo, definitivamente hay algo de espacio para mejorar."
      ],
      "metadata": {
        "id": "a-D8okNAduS_"
      }
    },
    {
      "cell_type": "markdown",
      "source": [
        "# 3. Regresión polinomial y canalizaciones\n",
        "\n",
        "La regresión polinomial es un caso particular del modelo de regresión lineal general o de los modelos de regresión lineal múltiple.\n",
        "\n",
        "Obtenemos relaciones no lineales elevando al cuadrado o estableciendo términos de orden superior de las variables predictoras.\n",
        "\n",
        "Hay diferentes órdenes de regresión polinomial:"
      ],
      "metadata": {
        "id": "8zZvUwBHeHa8"
      }
    },
    {
      "cell_type": "markdown",
      "source": [
        "<center><b>Quadratic - 2nd Order</b></center>\n",
        "$$\n",
        "Yhat = a + b_1 X +b_2 X^2 \n",
        "$$\n",
        "\n",
        "<center><b>Cubic - 3rd Order</b></center>\n",
        "$$\n",
        "Yhat = a + b_1 X +b_2 X^2 +b_3 X^3\\\\\\\\\\\\\\\\\\\\\n",
        "$$\n",
        "\n",
        "<center><b>Higher-Order</b>:</center>\n",
        "$$\n",
        "Y = a + b_1 X +b_2 X^2 +b_3 X^3 ....\\\\\\\\\n",
        "$$\n"
      ],
      "metadata": {
        "id": "HzvlCKH1ePOw"
      }
    },
    {
      "cell_type": "markdown",
      "source": [
        "Vimos anteriormente que un modelo lineal no proporcionaba el mejor ajuste al utilizar \"highway-mpg\" como variable de predicción."
      ],
      "metadata": {
        "id": "brGxepx5eWs0"
      }
    },
    {
      "cell_type": "code",
      "source": [
        "# definimos la siguiente función para graficar los datos:\n",
        "\n",
        "def PlotPolly(model, independent_variable, dependent_variabble, Name):\n",
        "    x_new = np.linspace(15, 55, 100)\n",
        "    y_new = model(x_new)\n",
        "\n",
        "    plt.plot(independent_variable, dependent_variabble, '.', x_new, y_new, '-')\n",
        "    plt.title('Polynomial Fit with Matplotlib for Price ~ Length')\n",
        "    ax = plt.gca()\n",
        "    ax.set_facecolor((0.898, 0.898, 0.898))\n",
        "    fig = plt.gcf()\n",
        "    plt.xlabel(Name)\n",
        "    plt.ylabel('Price of Cars')\n",
        "\n",
        "    plt.show()\n",
        "    plt.close()"
      ],
      "metadata": {
        "id": "C6xLaL-ndf5o"
      },
      "execution_count": 42,
      "outputs": []
    },
    {
      "cell_type": "code",
      "source": [
        "# obtenemos las variables\n",
        "\n",
        "x = df['highway-mpg']\n",
        "y = df['price']"
      ],
      "metadata": {
        "id": "C6RsZzKeenCQ"
      },
      "execution_count": 43,
      "outputs": []
    },
    {
      "cell_type": "code",
      "source": [
        "# Ajustemos el polinomio usando la función polyfit, luego usemos la función poly1d para mostrar la función polinomial.\n",
        "# uso del polinomio del tercer orden (cubico)\n",
        "\n",
        "f = np.polyfit(x, y, 3)\n",
        "p = np.poly1d(f)\n",
        "print(p)"
      ],
      "metadata": {
        "colab": {
          "base_uri": "https://localhost:8080/"
        },
        "id": "g-a4vn9KeyIB",
        "outputId": "f94eef23-8c94-4181-b6b2-38982718287f"
      },
      "execution_count": 44,
      "outputs": [
        {
          "output_type": "stream",
          "name": "stdout",
          "text": [
            "        3         2\n",
            "-1.557 x + 204.8 x - 8965 x + 1.379e+05\n"
          ]
        }
      ]
    },
    {
      "cell_type": "code",
      "source": [
        "# uso de la funcion para graficar\n",
        "\n",
        "PlotPolly(p, x, y, 'highway-mpg')"
      ],
      "metadata": {
        "colab": {
          "base_uri": "https://localhost:8080/",
          "height": 295
        },
        "id": "of-lTupifDA6",
        "outputId": "e56662a6-1487-4503-f2f1-a22dabc1989d"
      },
      "execution_count": 45,
      "outputs": [
        {
          "output_type": "display_data",
          "data": {
            "text/plain": [
              "<Figure size 432x288 with 1 Axes>"
            ],
            "image/png": "[encoded data removed]"
          },
          "metadata": {
            "needs_background": "light"
          }
        }
      ]
    },
    {
      "cell_type": "code",
      "source": [
        "\n",
        "np.polyfit(x, y, 3)"
      ],
      "metadata": {
        "colab": {
          "base_uri": "https://localhost:8080/"
        },
        "id": "uxwuqJ5PfM6U",
        "outputId": "6e5313ae-49d9-40c6-c83b-244bef50b2ed"
      },
      "execution_count": 46,
      "outputs": [
        {
          "output_type": "execute_result",
          "data": {
            "text/plain": [
              "array([-1.55663829e+00,  2.04754306e+02, -8.96543312e+03,  1.37923594e+05])"
            ]
          },
          "metadata": {},
          "execution_count": 46
        }
      ]
    },
    {
      "cell_type": "markdown",
      "source": [
        "Se observa en el gráfico que este modelo polinomial funciona mejor que el modelo lineal. Esto se debe a que la función polinomial \"hits\" genera más puntos de datos."
      ],
      "metadata": {
        "id": "lOZf1auNfUHP"
      }
    },
    {
      "cell_type": "markdown",
      "source": [
        "# Pregunta 4:\n",
        "\n",
        "Cree un modelo polinomial de 11 órdenes con las variables x, y de arriba."
      ],
      "metadata": {
        "id": "jQmxIWQEfuyY"
      }
    },
    {
      "cell_type": "code",
      "source": [
        "mp1 = np.polyfit(x, y, 11)\n",
        "p1 = np.poly1d(mp1)\n",
        "print(p1)\n",
        "PlotPolly(p1,x,y, 'Highway MPG')"
      ],
      "metadata": {
        "colab": {
          "base_uri": "https://localhost:8080/",
          "height": 364
        },
        "id": "k_6ebNypfPTQ",
        "outputId": "d857fdfb-d806-40d5-f782-feb11162cb23"
      },
      "execution_count": 50,
      "outputs": [
        {
          "output_type": "stream",
          "name": "stdout",
          "text": [
            "            11             10             9           8         7\n",
            "-1.243e-08 x  + 4.722e-06 x  - 0.0008028 x + 0.08056 x - 5.297 x\n",
            "          6        5             4             3             2\n",
            " + 239.5 x - 7588 x + 1.684e+05 x - 2.565e+06 x + 2.551e+07 x - 1.491e+08 x + 3.879e+08\n"
          ]
        },
        {
          "output_type": "display_data",
          "data": {
            "text/plain": [
              "<Figure size 432x288 with 1 Axes>"
            ],
            "image/png": "[encoded data removed]"
          },
          "metadata": {
            "needs_background": "light"
          }
        }
      ]
    },
    {
      "cell_type": "markdown",
      "source": [
        "La expresión analítica para la función polinomial multivariante se complica. Por ejemplo, la expresión de un polinomio de segundo orden (grado=2) con dos variables está dada por:"
      ],
      "metadata": {
        "id": "SUgU7HO4gbra"
      }
    },
    {
      "cell_type": "markdown",
      "source": [
        "$$\n",
        "Yhat = a + b\\_1 X\\_1 +b\\_2 X\\_2 +b\\_3 X\\_1 X\\_2+b\\_4 X\\_1^2+b\\_5 X\\_2^2\n",
        "$$\n"
      ],
      "metadata": {
        "id": "YVDGTNrBgjcs"
      }
    },
    {
      "cell_type": "code",
      "source": [
        "# Se genera un objeto PolynomialFeatures de grado 2:\n",
        "\n",
        "pr=PolynomialFeatures(degree=2)\n",
        "pr"
      ],
      "metadata": {
        "colab": {
          "base_uri": "https://localhost:8080/"
        },
        "id": "02DmA1S3fz_u",
        "outputId": "f5e65e36-ac61-4ad2-ba2f-e6863cccca03"
      },
      "execution_count": 52,
      "outputs": [
        {
          "output_type": "execute_result",
          "data": {
            "text/plain": [
              "PolynomialFeatures()"
            ]
          },
          "metadata": {},
          "execution_count": 52
        }
      ]
    },
    {
      "cell_type": "code",
      "source": [
        "# Los datos originales, hay 201 muestras y 4 funciones.\n",
        "\n",
        "Z_pr=pr.fit_transform(Z)\n",
        "Z.shape"
      ],
      "metadata": {
        "colab": {
          "base_uri": "https://localhost:8080/"
        },
        "id": "siQ0dUJkg91l",
        "outputId": "589abc0c-5608-4787-a306-d5e4dbaa2a25"
      },
      "execution_count": 54,
      "outputs": [
        {
          "output_type": "execute_result",
          "data": {
            "text/plain": [
              "(201, 4)"
            ]
          },
          "metadata": {},
          "execution_count": 54
        }
      ]
    },
    {
      "cell_type": "code",
      "source": [
        "# Después de la transformación, hay 201 muestras y 15 funciones.\n",
        "\n",
        "Z_pr.shape"
      ],
      "metadata": {
        "colab": {
          "base_uri": "https://localhost:8080/"
        },
        "id": "StAF78PKhDsm",
        "outputId": "6d7634b4-86f2-4df2-8193-dfe5a8f89d28"
      },
      "execution_count": 56,
      "outputs": [
        {
          "output_type": "execute_result",
          "data": {
            "text/plain": [
              "(201, 15)"
            ]
          },
          "metadata": {},
          "execution_count": 56
        }
      ]
    },
    {
      "cell_type": "markdown",
      "source": [
        "# Pipeline"
      ],
      "metadata": {
        "id": "LzGoSbxTh-hu"
      }
    },
    {
      "cell_type": "code",
      "source": [
        "# Creamos el pipeline creando una lista de tuplas incluyendo el nombre del modelo o estimador y su constructor correspondiente.\n",
        "\n",
        "Input=[('scale',StandardScaler()), ('polynomial', PolynomialFeatures(include_bias=False)), ('model',LinearRegression())]"
      ],
      "metadata": {
        "id": "DlW0f08KhRZl"
      },
      "execution_count": 58,
      "outputs": []
    },
    {
      "cell_type": "code",
      "source": [
        "# Ingresamos la lista como un argumento para el constructor pipeline:\n",
        "\n",
        "pipe=Pipeline(Input)\n",
        "pipe"
      ],
      "metadata": {
        "colab": {
          "base_uri": "https://localhost:8080/"
        },
        "id": "DYnJ_ygQitqM",
        "outputId": "37e0bb47-f9f8-4021-8df4-d3d56e34cd8b"
      },
      "execution_count": 59,
      "outputs": [
        {
          "output_type": "execute_result",
          "data": {
            "text/plain": [
              "Pipeline(steps=[('scale', StandardScaler()),\n",
              "                ('polynomial', PolynomialFeatures(include_bias=False)),\n",
              "                ('model', LinearRegression())])"
            ]
          },
          "metadata": {},
          "execution_count": 59
        }
      ]
    },
    {
      "cell_type": "code",
      "source": [
        "# Primero, convertimos el tipo de datos Z al tipo flotante para evitar las advertencias de conversión\n",
        "# que pueden aparecer como resultado de que StandardScaler tome entradas flotantes.\n",
        "\n",
        "# Luego, podemos normalizar los datos, realizar una transformación y ajustar el modelo simultáneamente.\n",
        "\n",
        "Z = Z.astype(float)\n",
        "pipe.fit(Z,y)"
      ],
      "metadata": {
        "colab": {
          "base_uri": "https://localhost:8080/"
        },
        "id": "tuiN0-zOi3-V",
        "outputId": "9ce77096-2eb0-4282-8802-e70ac959e2ea"
      },
      "execution_count": 60,
      "outputs": [
        {
          "output_type": "execute_result",
          "data": {
            "text/plain": [
              "Pipeline(steps=[('scale', StandardScaler()),\n",
              "                ('polynomial', PolynomialFeatures(include_bias=False)),\n",
              "                ('model', LinearRegression())])"
            ]
          },
          "metadata": {},
          "execution_count": 60
        }
      ]
    },
    {
      "cell_type": "code",
      "source": [
        "# Normalizamos los datos, realizamos una transformación y producimos una predicción simultáneamente.\n",
        "\n",
        "ypipe=pipe.predict(Z)\n",
        "ypipe[0:4]"
      ],
      "metadata": {
        "colab": {
          "base_uri": "https://localhost:8080/"
        },
        "id": "6bmPfeZRjUHX",
        "outputId": "9656f0f7-876a-4ab5-8e9e-9cb2540d289b"
      },
      "execution_count": 62,
      "outputs": [
        {
          "output_type": "execute_result",
          "data": {
            "text/plain": [
              "array([13102.74784201, 13102.74784201, 18225.54572197, 10390.29636555])"
            ]
          },
          "metadata": {},
          "execution_count": 62
        }
      ]
    },
    {
      "cell_type": "markdown",
      "source": [
        "# Pregunta 5:\n",
        "\n",
        "Cree una canalización que estandarice los datos, luego produzca una predicción usando un modelo de regresión lineal usando las características Z y el objetivo y."
      ],
      "metadata": {
        "id": "YEbtel_WjYYq"
      }
    },
    {
      "cell_type": "code",
      "source": [
        "Input=[('scale',StandardScaler()),('model',LinearRegression())]\n",
        "\n",
        "pipe=Pipeline(Input)\n",
        "\n",
        "pipe.fit(Z,y)\n",
        "\n",
        "ypipe=pipe.predict(Z)\n",
        "ypipe[0:10]"
      ],
      "metadata": {
        "colab": {
          "base_uri": "https://localhost:8080/"
        },
        "id": "cmc3cK7_jbZ-",
        "outputId": "0b96b3fa-9991-40ac-fc90-92ea45df9530"
      },
      "execution_count": 63,
      "outputs": [
        {
          "output_type": "execute_result",
          "data": {
            "text/plain": [
              "array([13699.11161184, 13699.11161184, 19051.65470233, 10620.36193015,\n",
              "       15521.31420211, 13869.66673213, 15456.16196732, 15974.00907672,\n",
              "       17612.35917161, 10722.32509097])"
            ]
          },
          "metadata": {},
          "execution_count": 63
        }
      ]
    },
    {
      "cell_type": "markdown",
      "source": [
        "# 4. Medidas para la evaluación dentro de la muestra\n",
        "\n",
        "Al evaluar nuestros modelos, no solo queremos visualizar los resultados, sino que también queremos una medida cuantitativa para determinar qué tan preciso es el modelo.\n",
        "\n",
        "Dos medidas muy importantes que se utilizan a menudo en Estadística para determinar la precisión de un modelo son:\n",
        "\n",
        "<ul>\n",
        "    <li><b>R^2 / R-squared</b></li>\n",
        "    <li><b>Mean Squared Error (MSE)</b></li>\n",
        "</ul>\n",
        "\n",
        "\n",
        "R-squared\n",
        "\n",
        "También conocido como coeficiente de determinación, es una medida para indicar qué tan cerca están los datos de la línea de regresión ajustada.\n",
        "\n",
        "El valor de la R-cuadrado es el porcentaje de variación de la variable de respuesta (y) que se explica mediante un modelo lineal.\n",
        "\n",
        "Mean Squared Error (MSE)\n",
        "\n",
        "El error cuadrático medio mide el promedio de los cuadrados de los errores. Es decir, la diferencia entre el valor real (y) y el valor estimado (ŷ)."
      ],
      "metadata": {
        "id": "njI8Gx6akXVi"
      }
    },
    {
      "cell_type": "markdown",
      "source": [
        "## Modelo 1: Regresión lineal simple"
      ],
      "metadata": {
        "id": "hEWiIbGqk3mx"
      }
    },
    {
      "cell_type": "code",
      "source": [
        "#highway_mpg_fit\n",
        "lm.fit(X, Y)\n",
        "# Find the R^2\n",
        "print('The R-square is: ', lm.score(X, Y))"
      ],
      "metadata": {
        "colab": {
          "base_uri": "https://localhost:8080/"
        },
        "id": "cCjy0vADj2cc",
        "outputId": "f81bcf38-a92c-451d-9cc1-6ae555d4d8d2"
      },
      "execution_count": 65,
      "outputs": [
        {
          "output_type": "stream",
          "name": "stdout",
          "text": [
            "The R-square is:  0.4965911884339176\n"
          ]
        }
      ]
    },
    {
      "cell_type": "markdown",
      "source": [
        "Podemos decir que 49.659% de la variación del precio se explica por este modelo lineal simple \"horsepower_fit\".\n",
        "\n",
        "Calculo del MSE:\n",
        "\n",
        "Podemos predecir la salida, es decir, \"yhat\" usando el método de predicción, donde X es la variable de entrada:"
      ],
      "metadata": {
        "id": "3-VI6D5OlNPc"
      }
    },
    {
      "cell_type": "code",
      "source": [
        "Yhat=lm.predict(X)\n",
        "print('La salida de los primeros 4 valores es: ', Yhat[0:4])"
      ],
      "metadata": {
        "colab": {
          "base_uri": "https://localhost:8080/"
        },
        "id": "mBIvX9b6k_-B",
        "outputId": "c8560415-f0d4-4125-dcdc-d03798ef9c79"
      },
      "execution_count": 67,
      "outputs": [
        {
          "output_type": "stream",
          "name": "stdout",
          "text": [
            "La salida de los primeros 4 valores es:  [16236.50464347 16236.50464347 17058.23802179 13771.3045085 ]\n"
          ]
        }
      ]
    },
    {
      "cell_type": "code",
      "source": [
        "# comprobamos los resultados previstos con los resultados reales \n",
        "\n",
        "mse = mean_squared_error(df['price'], Yhat)\n",
        "print('El MSE de price y el valor predicho es: ', mse)"
      ],
      "metadata": {
        "colab": {
          "base_uri": "https://localhost:8080/"
        },
        "id": "gg0-xDN-liR9",
        "outputId": "2d128495-7057-4ccb-89ee-e68ed4cdf131"
      },
      "execution_count": 70,
      "outputs": [
        {
          "output_type": "stream",
          "name": "stdout",
          "text": [
            "El MSE de price y el valor predicho es:  31635042.944639888\n"
          ]
        }
      ]
    },
    {
      "cell_type": "markdown",
      "source": [
        "## Modelo 2: Regresión Lineal Múltiple"
      ],
      "metadata": {
        "id": "1hyPSQ5nmbNY"
      }
    },
    {
      "cell_type": "code",
      "source": [
        "# fit the model \n",
        "lm.fit(Z, df['price'])\n",
        "# Find the R^2\n",
        "print('The R-square is: ', lm.score(Z, df['price']))"
      ],
      "metadata": {
        "colab": {
          "base_uri": "https://localhost:8080/"
        },
        "id": "uwbNFsIul9Bg",
        "outputId": "0e622078-c5b9-4cd9-93de-a89f6927506d"
      },
      "execution_count": 71,
      "outputs": [
        {
          "output_type": "stream",
          "name": "stdout",
          "text": [
            "The R-square is:  0.8093562806577457\n"
          ]
        }
      ]
    },
    {
      "cell_type": "markdown",
      "source": [
        "Se observar que 80.896 % de la variación de price se explica por esta regresión lineal múltiple \"multi_fit\"."
      ],
      "metadata": {
        "id": "tEZgTvz4mnas"
      }
    },
    {
      "cell_type": "code",
      "source": [
        "# Realizamos una prediccion \n",
        "\n",
        "Y_predict_multifit = lm.predict(Z)"
      ],
      "metadata": {
        "id": "0P7VWaiLmiFn"
      },
      "execution_count": 73,
      "outputs": []
    },
    {
      "cell_type": "code",
      "source": [
        "# comparacion de los resultados predichos con los resultados reales\n",
        "\n",
        "print('El MSE de price y los valores predichos usando usando multifit es: ', \\\n",
        "      mean_squared_error(df['price'], Y_predict_multifit))"
      ],
      "metadata": {
        "colab": {
          "base_uri": "https://localhost:8080/"
        },
        "id": "94-jUmT4mxlb",
        "outputId": "b5631b60-7702-4c46-f0aa-974c62119cd7"
      },
      "execution_count": 75,
      "outputs": [
        {
          "output_type": "stream",
          "name": "stdout",
          "text": [
            "El MSE de price y los valores predichos usando usando multifit es:  11980366.87072649\n"
          ]
        }
      ]
    },
    {
      "cell_type": "markdown",
      "source": [
        "# Modelo 3: Ajuste polinomial"
      ],
      "metadata": {
        "id": "h6fTQ7U-nSpk"
      }
    },
    {
      "cell_type": "code",
      "source": [
        "# se aplica la funcion para obtener el valor de R^2:\n",
        "\n",
        "r_squared = r2_score(y, p(x))\n",
        "print('El valor R-square es: ', r_squared)"
      ],
      "metadata": {
        "colab": {
          "base_uri": "https://localhost:8080/"
        },
        "id": "LG_4j2xwnDKP",
        "outputId": "f9976161-fe48-4d3f-965c-4697a397b75b"
      },
      "execution_count": 78,
      "outputs": [
        {
          "output_type": "stream",
          "name": "stdout",
          "text": [
            "El valor R-square es:  0.674194666390652\n"
          ]
        }
      ]
    },
    {
      "cell_type": "markdown",
      "source": [
        "Se observa que 67.419 % de la variación del precio se explica por este ajuste polinomial"
      ],
      "metadata": {
        "id": "dKveKRVaoATb"
      }
    },
    {
      "cell_type": "code",
      "source": [
        "# MSE\n",
        "\n",
        "mean_squared_error(df['price'], p(x))"
      ],
      "metadata": {
        "colab": {
          "base_uri": "https://localhost:8080/"
        },
        "id": "bfH5IvGVn1-B",
        "outputId": "7b1f017d-6583-4515-f7e9-3270905e207c"
      },
      "execution_count": 79,
      "outputs": [
        {
          "output_type": "execute_result",
          "data": {
            "text/plain": [
              "20474146.426361218"
            ]
          },
          "metadata": {},
          "execution_count": 79
        }
      ]
    },
    {
      "cell_type": "markdown",
      "source": [
        "# 5. Predicción y Toma de Decisiones"
      ],
      "metadata": {
        "id": "2mnfqJVcoS97"
      }
    },
    {
      "cell_type": "markdown",
      "source": [
        "### Predicción\n",
        "\n",
        "En la sección anterior, entrenamos el modelo usando el método de ajuste. Ahora usaremos el método predict para producir una predicción."
      ],
      "metadata": {
        "id": "zwFPGe-joaBa"
      }
    },
    {
      "cell_type": "code",
      "source": [
        "new_input=np.arange(1, 100, 1).reshape(-1, 1)     # Se crea una nueva entrada\n",
        "\n",
        "lm.fit(X, Y)    # fit del modelo\n",
        "lm"
      ],
      "metadata": {
        "colab": {
          "base_uri": "https://localhost:8080/"
        },
        "id": "91BbXDZUoMz_",
        "outputId": "c66eb81b-043f-4aab-e5e1-7acc85e0f811"
      },
      "execution_count": 83,
      "outputs": [
        {
          "output_type": "execute_result",
          "data": {
            "text/plain": [
              "LinearRegression()"
            ]
          },
          "metadata": {},
          "execution_count": 83
        }
      ]
    },
    {
      "cell_type": "code",
      "source": [
        "# se produce una prediccion\n",
        "\n",
        "yhat=lm.predict(new_input)\n",
        "yhat[0:5]"
      ],
      "metadata": {
        "colab": {
          "base_uri": "https://localhost:8080/"
        },
        "id": "hbk3ZbL7ovmA",
        "outputId": "ce017a50-5c2f-4ad4-8c9e-2e7b9c0f4efa"
      },
      "execution_count": 84,
      "outputs": [
        {
          "output_type": "stream",
          "name": "stderr",
          "text": [
            "/usr/local/lib/python3.7/dist-packages/sklearn/base.py:451: UserWarning: X does not have valid feature names, but LinearRegression was fitted with feature names\n",
            "  \"X does not have valid feature names, but\"\n"
          ]
        },
        {
          "output_type": "execute_result",
          "data": {
            "text/plain": [
              "array([37601.57247984, 36779.83910151, 35958.10572319, 35136.37234487,\n",
              "       34314.63896655])"
            ]
          },
          "metadata": {},
          "execution_count": 84
        }
      ]
    },
    {
      "cell_type": "code",
      "source": [
        "plt.plot(new_input, yhat)\n",
        "plt.show()"
      ],
      "metadata": {
        "colab": {
          "base_uri": "https://localhost:8080/",
          "height": 265
        },
        "id": "DRsuS_GGo8k4",
        "outputId": "925f3d80-9a2a-4380-da0c-e450d005f5c7"
      },
      "execution_count": 85,
      "outputs": [
        {
          "output_type": "display_data",
          "data": {
            "text/plain": [
              "<Figure size 432x288 with 1 Axes>"
            ],
            "image/png": "[encoded data removed]"
          },
          "metadata": {
            "needs_background": "light"
          }
        }
      ]
    },
    {
      "cell_type": "markdown",
      "source": [
        "# Toma de decisiones: determinación de un buen ajuste del modelo"
      ],
      "metadata": {
        "id": "Z5yrzn9qpE30"
      }
    },
    {
      "cell_type": "markdown",
      "source": [
        "Al comparar modelos, el modelo con el valor R cuadrado más alto se ajusta mejor a los datos.\n",
        "\n",
        "Echemos un vistazo a los valores para los diferentes modelos.\n",
        "\n",
        "Regresión lineal simple: uso de Highway-mpg como variable predictora del precio.\n",
        "\n",
        "R-cuadrado: 0,49659118843391759\n",
        "MSE: 3,16x10^7\n",
        "\n",
        "Regresión lineal múltiple: uso de Horsepower, Curb-weight, Engine-size y Highway-mpg como variables predictoras del price.\n",
        "\n",
        "R-cuadrado: 0.80896354913783497\n",
        "MSE: 1,2x10^7\n",
        "Ajuste polinomial: Uso de Highway-mpg como variable predictora de precio.\n",
        "\n",
        "R-cuadrado: 0,6741946663906514\n",
        "MSE: 2,05 x 10^7"
      ],
      "metadata": {
        "id": "VcaYCr2KpUSG"
      }
    },
    {
      "cell_type": "markdown",
      "source": [
        "# Modelo de regresión lineal simple (SLR) frente a modelo de regresión lineal múltiple (MLR)"
      ],
      "metadata": {
        "id": "XnQs8EWcqHcM"
      }
    },
    {
      "cell_type": "markdown",
      "source": [
        "\n",
        "Por lo general, cuantas más variables tenga, mejor será su modelo para predecir, pero esto no siempre es cierto. En ocasiones, es posible que no tenga suficientes datos, que se encuentre con problemas numéricos o que muchas de las variables no sean útiles e incluso actúen como ruido. Como resultado, siempre debe verificar el MSE y el R^2.\n",
        "\n",
        "Para comparar los resultados de los modelos MLR y SLR, observamos una combinación de R-squared y MSE para llegar a la mejor conclusión sobre el ajuste del modelo.\n",
        "\n",
        "*   SE: El MSE de SLR es 3,16x10^7 mientras que MLR tiene un MSE de 1,2x10^7. El MSE de MLR es mucho más pequeño.\n",
        "*   R-cuadrado: En este caso también podemos ver que hay una gran diferencia entre el R-cuadrado de la SLR y el R-cuadrado de la MLR.\n",
        "\n",
        "El R-cuadrado de la SLR (0,497) es muy pequeño en comparación con el R-cuadrado de la MLR (0,809).\n",
        "\n",
        "Este R-cuadrado en combinación con el MSE muestra que MLR parece ser el mejor ajuste del modelo en este caso en comparación con SLR."
      ],
      "metadata": {
        "id": "pIACZ_e_qHMm"
      }
    },
    {
      "cell_type": "markdown",
      "source": [
        "# Modelo lineal simple (SLR) frente a ajuste polinomial"
      ],
      "metadata": {
        "id": "z3Ca1omdq4vV"
      }
    },
    {
      "cell_type": "markdown",
      "source": [
        "* MSE: Podemos ver que Polynomial Fit redujo el MSE, ya que este MSE es más pequeño que el de SLR.\n",
        "\n",
        "*   R-cuadrado: El R-cuadrado para Polynomial Fit es más grande que el R-cuadrado para SLR, por lo que Polynomial Fit también aumentó bastante el R-cuadrado.\n",
        "\n",
        "Dado que el ajuste polinomial resultó en un MSE más bajo y un R-cuadrado más alto, podemos concluir que este fue un modelo de mejor ajuste que la regresión lineal simple para predecir el \"price\" con \"highwayy-mpg\" como variable de predicción."
      ],
      "metadata": {
        "id": "8-ayNUpfq8zN"
      }
    },
    {
      "cell_type": "markdown",
      "source": [
        "# Regresión lineal múltiple (MLR) frente a ajuste polinomial"
      ],
      "metadata": {
        "id": "OdQ5f0e2r4XN"
      }
    },
    {
      "cell_type": "markdown",
      "source": [
        "*  MSE: El MSE para MLR es más pequeño que el MSE para Polynomial Fit.\n",
        "*  R-cuadrado: El R-cuadrado para el MLR también es mucho mayor que para el Ajuste polinomial."
      ],
      "metadata": {
        "id": "riguRA3Hr4Pr"
      }
    },
    {
      "cell_type": "markdown",
      "source": [
        "# Conclusion"
      ],
      "metadata": {
        "id": "WQDUYDAhsGh_"
      }
    },
    {
      "cell_type": "markdown",
      "source": [
        "Comparando estos tres modelos, concluimos que el modelo MLR es el mejor modelo para poder predecir el precio a partir de nuestro conjunto de datos. Este resultado tiene sentido ya que tenemos 27 variables en total y sabemos que más de una de esas variables son predictores potenciales del precio final del automóvil."
      ],
      "metadata": {
        "id": "7yZDSOB7sLYl"
      }
    },
    {
      "cell_type": "code",
      "source": [],
      "metadata": {
        "id": "EeaFArplqy2F"
      },
      "execution_count": null,
      "outputs": []
    }
  ]
}