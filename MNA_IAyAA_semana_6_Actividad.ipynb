{
  "nbformat": 4,
  "nbformat_minor": 0,
  "metadata": {
    "colab": {
      "provenance": [],
      "collapsed_sections": [],
      "include_colab_link": true
    },
    "kernelspec": {
      "display_name": "Python 3",
      "name": "python3"
    }
  },
  "cells": [
    {
      "cell_type": "markdown",
      "metadata": {
        "id": "view-in-github",
        "colab_type": "text"
      },
      "source": [
        "<a href=\"https://colab.research.google.com/github/PosgradoMNA/actividades-de-aprendizaje-A01793654/blob/main/MNA_IAyAA_semana_6_Actividad.ipynb\" target=\"_parent\"><img src=\"https://colab.research.google.com/assets/colab-badge.svg\" alt=\"Open In Colab\"/></a>"
      ]
    },
    {
      "cell_type": "markdown",
      "source": [
        "#**Maestría en Inteligencia Artificial Aplicada**\n",
        "##**Curso: Inteligencia Artificial y Aprendizaje Automático**\n",
        "###Tecnológico de Monterrey\n",
        "###Prof Luis Eduardo Falcón Morales\n",
        "\n",
        "## **Adtividad de la Semana 6**\n",
        "###**Árboles de decisión y bosque aleatorio.**\n"
      ],
      "metadata": {
        "id": "VFj0sSM06dYa"
      }
    },
    {
      "cell_type": "markdown",
      "source": [
        "**Nombres y matrículas de los integrantes del equipo:**\n",
        "\n",
        "*   \n",
        "*   \n",
        "*   \n",
        "*   \n",
        "*   \n"
      ],
      "metadata": {
        "id": "Qgrvy0RGB9XI"
      }
    },
    {
      "cell_type": "markdown",
      "source": [
        "En cada sección deberás incluir todas las líneas de código necesarias para responder a cada uno de los ejercicios."
      ],
      "metadata": {
        "id": "FrJ2ahMODVj1"
      }
    },
    {
      "cell_type": "code",
      "source": [
        "from google.colab import drive\n",
        "drive.mount('/content/drive')"
      ],
      "metadata": {
        "id": "9xRmLv5qE55l"
      },
      "execution_count": null,
      "outputs": []
    },
    {
      "cell_type": "code",
      "source": [
        "# Incluye aquí todos módulos, librerías y paquetes que requieras.\n",
        "\n",
        "#Importando las librerías que necesitamos\n",
        "\n",
        "import numpy as np\n",
        "import pandas as pd\n",
        "import matplotlib.pyplot as plt #para gráficos\n",
        "import seaborn as sns   # para un mejor despliegue de los gráficos\n",
        "\n",
        "#Esta libraría la voy a usar para hacer la división de datos en datos de entrenamiento y en datos de prueba. \n",
        "from sklearn.model_selection import train_test_split\n",
        "\n",
        "#Las siguientes librerías las voy a usar para crear el pipeline.\n",
        "from sklearn.pipeline import Pipeline #Esta para armar el pipeline\n",
        "from sklearn.impute import SimpleImputer #Esta es para simple imputer, sirve para tratamiento de valores nan (missing values)\n",
        "from sklearn.preprocessing import MinMaxScaler, OneHotEncoder, StandardScaler #Esta para hacer el escalado (numércias), onehotencoder (categóricas)\n",
        "from sklearn.preprocessing import FunctionTransformer #Para variables cuantitativas. La uso en el Pipeline"
      ],
      "metadata": {
        "id": "exXsscs-Dh-2"
      },
      "execution_count": 1,
      "outputs": []
    },
    {
      "cell_type": "markdown",
      "metadata": {
        "id": "X25brD-gQdZM"
      },
      "source": [
        "#**Ejercicio-1.** "
      ]
    },
    {
      "cell_type": "code",
      "source": [
        "#Importando el archivo\n",
        "\n",
        "ruta = \"/content/drive/MyDrive/DataSet/SouthGermanCredit.asc\"\n",
        "df = pd.read_csv(ruta, sep='\\s+')\n",
        "\n",
        "df.head(3)"
      ],
      "metadata": {
        "colab": {
          "base_uri": "https://localhost:8080/",
          "height": 173
        },
        "id": "wQK5SsDSEJuy",
        "outputId": "d30866df-efdd-4419-b35c-7fab6ef432fb"
      },
      "execution_count": 7,
      "outputs": [
        {
          "output_type": "execute_result",
          "data": {
            "text/plain": [
              "   laufkont  laufzeit  moral  verw  hoehe  sparkont  beszeit  rate  famges  \\\n",
              "0         1        18      4     2   1049         1        2     4       2   \n",
              "1         1         9      4     0   2799         1        3     2       3   \n",
              "2         2        12      2     9    841         2        4     2       2   \n",
              "\n",
              "   buerge  ...  verm  alter  weitkred  wohn  bishkred  beruf  pers  telef  \\\n",
              "0       1  ...     2     21         3     1         1      3     2      1   \n",
              "1       1  ...     1     36         3     1         2      3     1      1   \n",
              "2       1  ...     1     23         3     1         1      2     2      1   \n",
              "\n",
              "   gastarb  kredit  \n",
              "0        2       1  \n",
              "1        2       1  \n",
              "2        2       1  \n",
              "\n",
              "[3 rows x 21 columns]"
            ],
            "text/html": [
              "\n",
              "  <div id=\"df-cc56d33b-453c-48af-9371-f44843365d2e\">\n",
              "    <div class=\"colab-df-container\">\n",
              "      <div>\n",
              "<style scoped>\n",
              "    .dataframe tbody tr th:only-of-type {\n",
              "        vertical-align: middle;\n",
              "    }\n",
              "\n",
              "    .dataframe tbody tr th {\n",
              "        vertical-align: top;\n",
              "    }\n",
              "\n",
              "    .dataframe thead th {\n",
              "        text-align: right;\n",
              "    }\n",
              "</style>\n",
              "<table border=\"1\" class=\"dataframe\">\n",
              "  <thead>\n",
              "    <tr style=\"text-align: right;\">\n",
              "      <th></th>\n",
              "      <th>laufkont</th>\n",
              "      <th>laufzeit</th>\n",
              "      <th>moral</th>\n",
              "      <th>verw</th>\n",
              "      <th>hoehe</th>\n",
              "      <th>sparkont</th>\n",
              "      <th>beszeit</th>\n",
              "      <th>rate</th>\n",
              "      <th>famges</th>\n",
              "      <th>buerge</th>\n",
              "      <th>...</th>\n",
              "      <th>verm</th>\n",
              "      <th>alter</th>\n",
              "      <th>weitkred</th>\n",
              "      <th>wohn</th>\n",
              "      <th>bishkred</th>\n",
              "      <th>beruf</th>\n",
              "      <th>pers</th>\n",
              "      <th>telef</th>\n",
              "      <th>gastarb</th>\n",
              "      <th>kredit</th>\n",
              "    </tr>\n",
              "  </thead>\n",
              "  <tbody>\n",
              "    <tr>\n",
              "      <th>0</th>\n",
              "      <td>1</td>\n",
              "      <td>18</td>\n",
              "      <td>4</td>\n",
              "      <td>2</td>\n",
              "      <td>1049</td>\n",
              "      <td>1</td>\n",
              "      <td>2</td>\n",
              "      <td>4</td>\n",
              "      <td>2</td>\n",
              "      <td>1</td>\n",
              "      <td>...</td>\n",
              "      <td>2</td>\n",
              "      <td>21</td>\n",
              "      <td>3</td>\n",
              "      <td>1</td>\n",
              "      <td>1</td>\n",
              "      <td>3</td>\n",
              "      <td>2</td>\n",
              "      <td>1</td>\n",
              "      <td>2</td>\n",
              "      <td>1</td>\n",
              "    </tr>\n",
              "    <tr>\n",
              "      <th>1</th>\n",
              "      <td>1</td>\n",
              "      <td>9</td>\n",
              "      <td>4</td>\n",
              "      <td>0</td>\n",
              "      <td>2799</td>\n",
              "      <td>1</td>\n",
              "      <td>3</td>\n",
              "      <td>2</td>\n",
              "      <td>3</td>\n",
              "      <td>1</td>\n",
              "      <td>...</td>\n",
              "      <td>1</td>\n",
              "      <td>36</td>\n",
              "      <td>3</td>\n",
              "      <td>1</td>\n",
              "      <td>2</td>\n",
              "      <td>3</td>\n",
              "      <td>1</td>\n",
              "      <td>1</td>\n",
              "      <td>2</td>\n",
              "      <td>1</td>\n",
              "    </tr>\n",
              "    <tr>\n",
              "      <th>2</th>\n",
              "      <td>2</td>\n",
              "      <td>12</td>\n",
              "      <td>2</td>\n",
              "      <td>9</td>\n",
              "      <td>841</td>\n",
              "      <td>2</td>\n",
              "      <td>4</td>\n",
              "      <td>2</td>\n",
              "      <td>2</td>\n",
              "      <td>1</td>\n",
              "      <td>...</td>\n",
              "      <td>1</td>\n",
              "      <td>23</td>\n",
              "      <td>3</td>\n",
              "      <td>1</td>\n",
              "      <td>1</td>\n",
              "      <td>2</td>\n",
              "      <td>2</td>\n",
              "      <td>1</td>\n",
              "      <td>2</td>\n",
              "      <td>1</td>\n",
              "    </tr>\n",
              "  </tbody>\n",
              "</table>\n",
              "<p>3 rows × 21 columns</p>\n",
              "</div>\n",
              "      <button class=\"colab-df-convert\" onclick=\"convertToInteractive('df-cc56d33b-453c-48af-9371-f44843365d2e')\"\n",
              "              title=\"Convert this dataframe to an interactive table.\"\n",
              "              style=\"display:none;\">\n",
              "        \n",
              "  <svg xmlns=\"http://www.w3.org/2000/svg\" height=\"24px\"viewBox=\"0 0 24 24\"\n",
              "       width=\"24px\">\n",
              "    <path d=\"M0 0h24v24H0V0z\" fill=\"none\"/>\n",
              "    <path d=\"M18.56 5.44l.94 2.06.94-2.06 2.06-.94-2.06-.94-.94-2.06-.94 2.06-2.06.94zm-11 1L8.5 8.5l.94-2.06 2.06-.94-2.06-.94L8.5 2.5l-.94 2.06-2.06.94zm10 10l.94 2.06.94-2.06 2.06-.94-2.06-.94-.94-2.06-.94 2.06-2.06.94z\"/><path d=\"M17.41 7.96l-1.37-1.37c-.4-.4-.92-.59-1.43-.59-.52 0-1.04.2-1.43.59L10.3 9.45l-7.72 7.72c-.78.78-.78 2.05 0 2.83L4 21.41c.39.39.9.59 1.41.59.51 0 1.02-.2 1.41-.59l7.78-7.78 2.81-2.81c.8-.78.8-2.07 0-2.86zM5.41 20L4 18.59l7.72-7.72 1.47 1.35L5.41 20z\"/>\n",
              "  </svg>\n",
              "      </button>\n",
              "      \n",
              "  <style>\n",
              "    .colab-df-container {\n",
              "      display:flex;\n",
              "      flex-wrap:wrap;\n",
              "      gap: 12px;\n",
              "    }\n",
              "\n",
              "    .colab-df-convert {\n",
              "      background-color: #E8F0FE;\n",
              "      border: none;\n",
              "      border-radius: 50%;\n",
              "      cursor: pointer;\n",
              "      display: none;\n",
              "      fill: #1967D2;\n",
              "      height: 32px;\n",
              "      padding: 0 0 0 0;\n",
              "      width: 32px;\n",
              "    }\n",
              "\n",
              "    .colab-df-convert:hover {\n",
              "      background-color: #E2EBFA;\n",
              "      box-shadow: 0px 1px 2px rgba(60, 64, 67, 0.3), 0px 1px 3px 1px rgba(60, 64, 67, 0.15);\n",
              "      fill: #174EA6;\n",
              "    }\n",
              "\n",
              "    [theme=dark] .colab-df-convert {\n",
              "      background-color: #3B4455;\n",
              "      fill: #D2E3FC;\n",
              "    }\n",
              "\n",
              "    [theme=dark] .colab-df-convert:hover {\n",
              "      background-color: #434B5C;\n",
              "      box-shadow: 0px 1px 3px 1px rgba(0, 0, 0, 0.15);\n",
              "      filter: drop-shadow(0px 1px 2px rgba(0, 0, 0, 0.3));\n",
              "      fill: #FFFFFF;\n",
              "    }\n",
              "  </style>\n",
              "\n",
              "      <script>\n",
              "        const buttonEl =\n",
              "          document.querySelector('#df-cc56d33b-453c-48af-9371-f44843365d2e button.colab-df-convert');\n",
              "        buttonEl.style.display =\n",
              "          google.colab.kernel.accessAllowed ? 'block' : 'none';\n",
              "\n",
              "        async function convertToInteractive(key) {\n",
              "          const element = document.querySelector('#df-cc56d33b-453c-48af-9371-f44843365d2e');\n",
              "          const dataTable =\n",
              "            await google.colab.kernel.invokeFunction('convertToInteractive',\n",
              "                                                     [key], {});\n",
              "          if (!dataTable) return;\n",
              "\n",
              "          const docLinkHtml = 'Like what you see? Visit the ' +\n",
              "            '<a target=\"_blank\" href=https://colab.research.google.com/notebooks/data_table.ipynb>data table notebook</a>'\n",
              "            + ' to learn more about interactive tables.';\n",
              "          element.innerHTML = '';\n",
              "          dataTable['output_type'] = 'display_data';\n",
              "          await google.colab.output.renderOutput(dataTable, element);\n",
              "          const docLink = document.createElement('div');\n",
              "          docLink.innerHTML = docLinkHtml;\n",
              "          element.appendChild(docLink);\n",
              "        }\n",
              "      </script>\n",
              "    </div>\n",
              "  </div>\n",
              "  "
            ]
          },
          "metadata": {},
          "execution_count": 7
        }
      ]
    },
    {
      "cell_type": "code",
      "source": [
        "#Con la siguiente línea voy a sacar los títulos de las columnas\n",
        "df.columns"
      ],
      "metadata": {
        "id": "3nU2GuWYCy6C",
        "colab": {
          "base_uri": "https://localhost:8080/"
        },
        "outputId": "96fd41ae-eb73-4ef5-9ca5-dfe59fc92d21"
      },
      "execution_count": 9,
      "outputs": [
        {
          "output_type": "execute_result",
          "data": {
            "text/plain": [
              "Index(['laufkont', 'laufzeit', 'moral', 'verw', 'hoehe', 'sparkont', 'beszeit',\n",
              "       'rate', 'famges', 'buerge', 'wohnzeit', 'verm', 'alter', 'weitkred',\n",
              "       'wohn', 'bishkred', 'beruf', 'pers', 'telef', 'gastarb', 'kredit'],\n",
              "      dtype='object')"
            ]
          },
          "metadata": {},
          "execution_count": 9
        }
      ]
    },
    {
      "cell_type": "code",
      "source": [
        "#Con el siguiente procedimiento voy a cambiar los nombres de las columas\n",
        "\n",
        "df.rename(columns = {\n",
        "    'laufkont':'status',\n",
        "    'laufzeit':'duration',\n",
        "    'moral':'credit_history',\n",
        "    'verw':'purpose',\n",
        "    'hoehe':'amount',\n",
        "    'sparkont':'savings',\n",
        "    'beszeit':'employment_duration',\n",
        "    'rate':'installment_rate',\n",
        "    'famges':'personal_status_sex',\n",
        "    'buerge':'other_debtors',\n",
        "    'wohnzeit':'present_residence',\n",
        "    'verm':'property',\n",
        "    'alter':'age',\n",
        "    'weitkred':'other_installment_plans',\n",
        "    'wohn':'housing',\n",
        "    'bishkred':'number_credits',\n",
        "    'beruf':'job',\n",
        "    'pers':'people_liable',\n",
        "    'telef':'telephone',\n",
        "    'gastarb':'foreign_worker',\n",
        "    'kredit':'credit_risk'\n",
        "}, inplace = True)"
      ],
      "metadata": {
        "id": "0ulkqXVGCy97"
      },
      "execution_count": 10,
      "outputs": []
    },
    {
      "cell_type": "code",
      "source": [
        "#Aquí simplemente verifico que hayan quedado los nombres correctamente\n",
        "\n",
        "df.columns"
      ],
      "metadata": {
        "colab": {
          "base_uri": "https://localhost:8080/"
        },
        "id": "GfiTMU1bGD9C",
        "outputId": "2e73dc02-4e34-4b5f-bde2-91788cc93af2"
      },
      "execution_count": 11,
      "outputs": [
        {
          "output_type": "execute_result",
          "data": {
            "text/plain": [
              "Index(['status', 'duration', 'credit_history', 'purpose', 'amount', 'savings',\n",
              "       'employment_duration', 'installment_rate', 'personal_status_sex',\n",
              "       'other_debtors', 'present_residence', 'property', 'age',\n",
              "       'other_installment_plans', 'housing', 'number_credits', 'job',\n",
              "       'people_liable', 'telephone', 'foreign_worker', 'credit_risk'],\n",
              "      dtype='object')"
            ]
          },
          "metadata": {},
          "execution_count": 11
        }
      ]
    },
    {
      "cell_type": "markdown",
      "source": [
        "#**Ejercicio-2.**"
      ],
      "metadata": {
        "id": "xZhr2hkECzVv"
      }
    },
    {
      "cell_type": "code",
      "source": [
        "#Antes de comenzar a dividir el dataframe, voy a entender cuál es su tamaño\n",
        "df.shape"
      ],
      "metadata": {
        "id": "kGfAoOPkC1PP",
        "colab": {
          "base_uri": "https://localhost:8080/"
        },
        "outputId": "e41e5983-c641-4f12-becb-ffeb279b513f"
      },
      "execution_count": 12,
      "outputs": [
        {
          "output_type": "execute_result",
          "data": {
            "text/plain": [
              "(1000, 21)"
            ]
          },
          "metadata": {},
          "execution_count": 12
        }
      ]
    },
    {
      "cell_type": "code",
      "source": [
        " #Vamos primero a generar el dataframe de entradas X y de la salida Y\n",
        "\n",
        "X = df.iloc[:,:20]\n",
        "Y = df.iloc[:, -1]\n",
        "\n",
        "#Con las siguientes líneas simplemente estoy verificando el tamaño de los arreglos. De una base de 21 entradas, quedé con X en 20  y Y en 1.\n",
        "print(X.shape)\n",
        "print(Y.shape)"
      ],
      "metadata": {
        "id": "GOydw5OGC1MJ",
        "colab": {
          "base_uri": "https://localhost:8080/"
        },
        "outputId": "e76c46dd-7f9f-4698-e877-4fa5dfdc3aa4"
      },
      "execution_count": 13,
      "outputs": [
        {
          "output_type": "stream",
          "name": "stdout",
          "text": [
            "(1000, 20)\n",
            "(1000,)\n"
          ]
        }
      ]
    },
    {
      "cell_type": "code",
      "source": [
        "#Vamos a generar ahora el conjunto de validación y prueba. Usaré train_test_split\n",
        "#Estoy generando grupos tv (training and validation dado que voy a usar kfold) y grupos Test (prueba).\n",
        "#Cuando me refiero a grupos hablo de las entradas X y salida Y\n",
        "\n",
        "X_tv, X_test, Y_tv, Y_test = train_test_split (X, Y, train_size = 0.85, random_state = 1)"
      ],
      "metadata": {
        "id": "tQjyVRzjGUbt"
      },
      "execution_count": 14,
      "outputs": []
    },
    {
      "cell_type": "code",
      "source": [
        "#Vamos a entender cómo quedó el grupo training-validation y el grupo test\n",
        "\n",
        "print(X_tv.shape)\n",
        "print(X_test.shape)\n",
        "print(Y_tv.shape)\n",
        "print(Y_test.shape)"
      ],
      "metadata": {
        "colab": {
          "base_uri": "https://localhost:8080/"
        },
        "id": "PTmbzbOsGUUQ",
        "outputId": "0ce592a9-46e1-42bb-8044-4756d7cc5834"
      },
      "execution_count": 15,
      "outputs": [
        {
          "output_type": "stream",
          "name": "stdout",
          "text": [
            "(850, 20)\n",
            "(150, 20)\n",
            "(850,)\n",
            "(150,)\n"
          ]
        }
      ]
    },
    {
      "cell_type": "code",
      "source": [
        "#Transformaciones de datos antes de pasar a los modelos\n",
        "#primero voy a definir el arreglo de variables que corresponden a cada tipo así:\n",
        "\n",
        "var_categorical = [\"status\", \"credit_history\", \"purpose\", \"savings\", \"personal_status_sex\", \"other_debtors\", \"other_installement_plans\", \"housing\"]\n",
        "var_ordinal_discretized_quantitative = [\"employment_duration\", \"installement_rate\", \"present_residence\", \"number_credits\", \"people_liable\"]\n",
        "var_quantitative = [\"duration\", \"amount\", \"age\"]\n",
        "var_binary = [\"telephone\", \"foreing_worker\"]\n",
        "var_ordinal = [\"property\", \"job\"]"
      ],
      "metadata": {
        "id": "g7odDtu9GUMG"
      },
      "execution_count": 16,
      "outputs": []
    },
    {
      "cell_type": "code",
      "source": [
        "#a. Imputación de variables: dererminar si hay alguna variable que tenga valores nulos. Se verá a continuación que no hay ningún valor nulo.\n",
        "X.isnull().any()"
      ],
      "metadata": {
        "colab": {
          "base_uri": "https://localhost:8080/"
        },
        "id": "uUhbU6-ZGUBH",
        "outputId": "55e53e24-2773-4df2-a5c4-7402eb9a28e0"
      },
      "execution_count": 17,
      "outputs": [
        {
          "output_type": "execute_result",
          "data": {
            "text/plain": [
              "status                     False\n",
              "duration                   False\n",
              "credit_history             False\n",
              "purpose                    False\n",
              "amount                     False\n",
              "savings                    False\n",
              "employment_duration        False\n",
              "installment_rate           False\n",
              "personal_status_sex        False\n",
              "other_debtors              False\n",
              "present_residence          False\n",
              "property                   False\n",
              "age                        False\n",
              "other_installment_plans    False\n",
              "housing                    False\n",
              "number_credits             False\n",
              "job                        False\n",
              "people_liable              False\n",
              "telephone                  False\n",
              "foreign_worker             False\n",
              "dtype: bool"
            ]
          },
          "metadata": {},
          "execution_count": 17
        }
      ]
    },
    {
      "cell_type": "code",
      "source": [
        "#Análisis de variables numéricas.\n",
        "#Primero voy a hacer un histograma de las variables numéricas para entender cómo se encuentran distribuídas y entender cuál es la mejor transformación.\n",
        "#Variables cuantitativas: ammount, duration, age\n",
        "\n",
        "#Voy a hacer un df de prueba apenas con las variables categóricas, las cuales definí arriba ya.\n",
        "df_prueba =df[var_quantitative]\n",
        "\n",
        "\n",
        "sns.set(rc={'figure.figsize':(15,8)})   # (ancho-columnas, altura-renglones) Ajustemos el tamaño de la ventana \n",
        "                                         # que desplegará los gráficos usando la librería de seaborn (sns).\n",
        "\n",
        "#con esta instrucción voy a hacer un histograma de cada uno de los datos de entrada\n",
        "fig, axes = plt.subplots(3, 3)    # Definimos una ventana de 1x3 nichos para incluir en cada uno de ellos un gráfico.\n",
        "\n",
        "for k in range (0, 3):\n",
        "  \n",
        "  #Caso de la variable original\n",
        "  #La primera línea indica cuál histograma vamos a usar, la segunda ya es la instrucción para imprimir el histograma y la tercera es el label X\n",
        "  plt.subplot(3,3,k+1) \n",
        "  plt.hist(df_prueba[df_prueba.columns[k]], bins=20)\n",
        "  plt.xlabel(df_prueba.columns[k])\n",
        "  if k == 0:\n",
        "    plt.ylabel(\"Sin transformar\")\n",
        "\n",
        "  #Caso de la raiz quadrada de la variable \n",
        "  plt.subplot(3,3,k+4) \n",
        "  plt.hist(np.sqrt(df_prueba[df_prueba.columns[k]]), bins=20)\n",
        "  plt.xlabel(df_prueba.columns[k])\n",
        "  if k == 0:\n",
        "   plt.ylabel(\"Cuadrado\")\n",
        "\n",
        "  #Caso de la variable elevado al logaritmo natural\n",
        "  plt.subplot(3,3,k+7) \n",
        "  plt.hist(np.log(df_prueba[df_prueba.columns[k]]), bins=20)\n",
        "  plt.xlabel(df_prueba.columns[k])\n",
        "  if k == 0:\n",
        "    plt.ylabel(\"Logaritmo\")"
      ],
      "metadata": {
        "colab": {
          "base_uri": "https://localhost:8080/",
          "height": 503
        },
        "id": "bSMlhLZwGbUP",
        "outputId": "0657ece8-77a7-4048-a023-7a5edf0a0950"
      },
      "execution_count": 18,
      "outputs": [
        {
          "output_type": "display_data",
          "data": {
            "text/plain": [
              "<Figure size 1080x576 with 9 Axes>"
            ],
            "image/png": "[encoded data removed]"
          },
          "metadata": {}
        }
      ]
    },
    {
      "cell_type": "code",
      "source": [
        "#Pipeline para variables numéricas (quantitativas)\n",
        "      #Definición del Pipeline\n",
        "mi_pip_quantitative = Pipeline(steps = [(\"Escalar\", MinMaxScaler(feature_range=(1,2))), (\"Log\", FunctionTransformer(np.log))])\n",
        "      #Definición de las variables a las cuales le voy a aplicar el pipeline. Son las mismas de var_quantitative\n",
        "#var_quantitative\n",
        "\n",
        "#Pipeline para variables categóricas y binarias.\n",
        "      #Definición del pipeline.  Si bien arriba ya había visto que no hay valores faltantes, voy a colocar reemplazar los valores faltantes por la moda sólo como práctica estádar.\n",
        "mi_pip_categorical = Pipeline(steps=[(\"Imputación\", SimpleImputer(strategy=\"most-frequent\")),(\"Onehotencoder\", OneHotEncoder(drop = \"first\"))])\n",
        "      #Definición de las variables a las cuales le voy a aplicar el pipeline. Son las mismas de var_categorical\n",
        "#var_categorical\n",
        "\n",
        "#Pipeline para variables binarias\n",
        "      #Definición del pipeline\n",
        "mi_pip_binary = Pipeline(steps=[(\"Imputación\", SimpleImputer(strategy=\"most-frequent\")),(\"Onehotencoder\", OneHotEncoder(drop = \"first\"))])\n",
        "      #Definición de las variables a las cuales le voy a aplicar el pipeline. Son las mismas de var_binary\n",
        "#var_binary"
      ],
      "metadata": {
        "id": "cNXxEnF6GbRK"
      },
      "execution_count": 19,
      "outputs": []
    },
    {
      "cell_type": "markdown",
      "source": [
        "#**Ejercicio-3.**"
      ],
      "metadata": {
        "id": "NCunuooTC2W3"
      }
    },
    {
      "cell_type": "code",
      "source": [
        "from sklearn.metrics import confusion_matrix\n",
        "\n",
        "def mi_cm(yreal, ypred):\n",
        "\n",
        "  cm = confusion_matrix(yreal, ypred)\n",
        "  txt = ['Verdaderos Negativos','Falsos Positivos','Falsos Negativos','Verdaderos Positivos']\n",
        "  vf = [ '( VN )', '( FP )', '( FN )', '( VP )']\n",
        "  frecuencia = [\"{0:0.0f}\".format(value) for value in cm.flatten()]\n",
        "  porcentaje = [\"{0:.1%}\".format(value) for value in cm.flatten()/np.sum(cm)]\n",
        "\n",
        "  labels = [f\"{v1}\\n{v2}\\n{v3}\\n{v4}\" for v1, v2, v3, v4 in zip(txt,vf, frecuencia,porcentaje)]\n",
        "  labels = np.asarray(labels).reshape(2,2)\n",
        "\n",
        "  plt.figure(figsize=(6,4))\n",
        "  ax = sns.heatmap(cm, annot=labels, fmt='', cmap='Spectral', cbar=False)\n",
        "  ax.set(ylabel=\"Etiquetas Reales\", xlabel=\"Etiquetas de Predicción\")\n",
        "  plt.show()  \n",
        "\n"
      ],
      "metadata": {
        "id": "yAb7MWmWFH2F"
      },
      "execution_count": 14,
      "outputs": []
    },
    {
      "cell_type": "code",
      "source": [
        "\n",
        "def mi_recall(yreal, ypred):\n",
        "  \n",
        "  cm = confusion_matrix(yreal, ypred)  \n",
        "  vp, fn = cm[1,1], cm[1,0]\n",
        "  recall = vp / (vp+fn)\n",
        "  return recall"
      ],
      "metadata": {
        "id": "YUcSt4UUFWi8"
      },
      "execution_count": 15,
      "outputs": []
    },
    {
      "cell_type": "code",
      "source": [
        "def mi_gmean(yreal, ypred):\n",
        "\n",
        "     ##########################################################################\n",
        "     ##########################################################################\n",
        "     # INICIA LA SECCIÓN PARA AGREGAR CÓDIGO.\n",
        "     # Ejercicio 3\n",
        "     # Incluye las líneas de código que calculen el valor de la métrica G-mean.\n",
        "     # Sustituye None por tus líneas de código. \n",
        "     # Se esperan en promedio unas 4 líneas de código.\n",
        "\n",
        "     cm = confusion_matrix(yreal, ypred)\n",
        "     recall = mi_recall(yreal, ypred)\n",
        "     vn, fp = cm[0,0], cm[0,1]\n",
        "     especificidad = vn / (vn+fp)\n",
        "\n",
        "     gmean = np.sqrt(recall * especificidad)\n",
        "\n",
        "     return gmean"
      ],
      "metadata": {
        "id": "M_lhYdX_F6rg"
      },
      "execution_count": 16,
      "outputs": []
    },
    {
      "cell_type": "code",
      "source": [
        "from sklearn.linear_model import LogisticRegression\n",
        "from sklearn.tree import DecisionTreeClassifier\n",
        "from sklearn.ensemble import RandomForestClassifier\n",
        "\n",
        "\n",
        "def get_models():\n",
        "  modelos = list()\n",
        "  nombres = list()\n",
        "\n",
        "  # LR - Regresión Logística:\n",
        "  modelos.append(LogisticRegression(solver='liblinear'))\n",
        "  nombres.append('LR')\n",
        "\n",
        "  # DT - Árbol de Decisión:\n",
        "  modelos.append(DecisionTreeClassifier())\n",
        "  nombres.append('DT')\n",
        "  \n",
        "  # MLP - Red Neuronal Artificial / Perceptrón Lineal Multicapa:  \n",
        "  modelos.append(RandomForestClassifier(n_estimators = 10, criterion = 'entropy'))\n",
        "  nombres.append('RFC')\n",
        "  \n",
        "  return modelos, nombres"
      ],
      "metadata": {
        "id": "0MU7xQFm-tcM"
      },
      "execution_count": 17,
      "outputs": []
    },
    {
      "cell_type": "code",
      "source": [
        "modelosOU, nombres = get_models()       \n",
        "resultados = list()\n",
        "\n",
        "for i in range(len(modelosOU)):\n",
        "\n",
        "  model = LogisticRegression(class_weight='balanced')    \n",
        "  kfold = RepeatedStratifiedKFold(n_splits=5, n_repeats=3) \n",
        "  pipe = make_pipeline((modelosOU[i]), (model))\n",
        "\n",
        "  # Ejercicio 5.1:  \n",
        "  mismetricas = {'accuracy':'accuracy', 'recall':make_scorer(mi_recall), 'gmean':make_scorer(mi_gmean) }\n",
        "\n",
        "  # Ejercicio 5.2:\n",
        "  resultadosOU = cross_validate(pipe, X, y, scoring=mismetricas, cv=kfold)\n",
        "\n",
        "  # Ejercicio 5.3:\n",
        "  # agregando resultados a la lista:\n",
        "  resultados.append(resultadosOU)\n",
        "\n",
        "  \n",
        "  # TERMINA LA SECCIÓN PARA AGREGAR CÓDIGO.\n",
        "  #########################################################################\n",
        "\n",
        "\n",
        "\n",
        "\n",
        "\n",
        "  print('%s:\\nmean Accuracy: %.3f (%.4f)\\nmean Recall: %.3f (%.4f)\\nGmean: %.3f (%.4f)\\n' % (nombres[i],\n",
        "                                                                          np.mean(resultadosOU['test_accuracy']),\n",
        "                                                                          np.std(resultadosOU['test_accuracy']), \n",
        "                                                                          np.mean(resultadosOU['test_recall']),\n",
        "                                                                          np.std(resultadosOU['test_recall']),\n",
        "                                                                          np.mean(resultadosOU['test_gmean']),\n",
        "                                                                          np.std(resultadosOU['test_gmean']),  \n",
        "                                                                          ))"
      ],
      "metadata": {
        "colab": {
          "base_uri": "https://localhost:8080/",
          "height": 244
        },
        "id": "DuZQHWikFk2E",
        "outputId": "e1e5a014-84d4-41f9-84a5-9ab88ada27c1"
      },
      "execution_count": 18,
      "outputs": [
        {
          "output_type": "error",
          "ename": "NameError",
          "evalue": "ignored",
          "traceback": [
            "\u001b[0;31m---------------------------------------------------------------------------\u001b[0m",
            "\u001b[0;31mNameError\u001b[0m                                 Traceback (most recent call last)",
            "\u001b[0;32m<ipython-input-18-f607027dc386>\u001b[0m in \u001b[0;36m<module>\u001b[0;34m\u001b[0m\n\u001b[1;32m      6\u001b[0m   \u001b[0mmodel\u001b[0m \u001b[0;34m=\u001b[0m \u001b[0mLogisticRegression\u001b[0m\u001b[0;34m(\u001b[0m\u001b[0mclass_weight\u001b[0m\u001b[0;34m=\u001b[0m\u001b[0;34m'balanced'\u001b[0m\u001b[0;34m)\u001b[0m\u001b[0;34m\u001b[0m\u001b[0;34m\u001b[0m\u001b[0m\n\u001b[1;32m      7\u001b[0m   \u001b[0mkfold\u001b[0m \u001b[0;34m=\u001b[0m \u001b[0mRepeatedStratifiedKFold\u001b[0m\u001b[0;34m(\u001b[0m\u001b[0mn_splits\u001b[0m\u001b[0;34m=\u001b[0m\u001b[0;36m5\u001b[0m\u001b[0;34m,\u001b[0m \u001b[0mn_repeats\u001b[0m\u001b[0;34m=\u001b[0m\u001b[0;36m3\u001b[0m\u001b[0;34m)\u001b[0m\u001b[0;34m\u001b[0m\u001b[0;34m\u001b[0m\u001b[0m\n\u001b[0;32m----> 8\u001b[0;31m   \u001b[0mpipe\u001b[0m \u001b[0;34m=\u001b[0m \u001b[0mmake_pipeline\u001b[0m\u001b[0;34m(\u001b[0m\u001b[0;34m(\u001b[0m\u001b[0mmodelosOU\u001b[0m\u001b[0;34m[\u001b[0m\u001b[0mi\u001b[0m\u001b[0;34m]\u001b[0m\u001b[0;34m)\u001b[0m\u001b[0;34m,\u001b[0m \u001b[0;34m(\u001b[0m\u001b[0mmodel\u001b[0m\u001b[0;34m)\u001b[0m\u001b[0;34m)\u001b[0m\u001b[0;34m\u001b[0m\u001b[0;34m\u001b[0m\u001b[0m\n\u001b[0m\u001b[1;32m      9\u001b[0m \u001b[0;34m\u001b[0m\u001b[0m\n\u001b[1;32m     10\u001b[0m   \u001b[0;31m# Ejercicio 5.1:\u001b[0m\u001b[0;34m\u001b[0m\u001b[0;34m\u001b[0m\u001b[0;34m\u001b[0m\u001b[0m\n",
            "\u001b[0;31mNameError\u001b[0m: name 'make_pipeline' is not defined"
          ]
        }
      ]
    },
    {
      "cell_type": "code",
      "source": [
        "from sklearn.model_selection import cross_val_score\n",
        "from sklearn.compose import ColumnTransformer\n",
        "from sklearn.model_selection import RepeatedStratifiedKFold\n",
        "\n",
        "modelos, nombres = get_models()  # cargamos los modelos a comparar\n",
        "resultados = list()   \n",
        "\n",
        "for i in range(len(modelos)):\n",
        "\n",
        "  #pipeline = Pipeline(steps=[('ct',columnasTransformer),('m',modelos[i])])\n",
        "\n",
        "  cv = RepeatedStratifiedKFold(n_splits=10, n_repeats=3, random_state=1)\n",
        "  scores = cross_val_score(mi_pip_quantitative, X_tv, np.ravel(Y_tv), scoring='accuracy', cv=cv)\n",
        "\n",
        "\n",
        "  resultados.append(scores)\n",
        "  print('>> %s: %.3f (%.3f)' % (nombres[i], np.mean(scores), np.std(scores)))"
      ],
      "metadata": {
        "colab": {
          "base_uri": "https://localhost:8080/",
          "height": 244
        },
        "id": "q7qxXEw5-tSk",
        "outputId": "86e2e912-8a9a-4162-a2b5-2a9aa6a20ac2"
      },
      "execution_count": 8,
      "outputs": [
        {
          "output_type": "error",
          "ename": "NameError",
          "evalue": "ignored",
          "traceback": [
            "\u001b[0;31m---------------------------------------------------------------------------\u001b[0m",
            "\u001b[0;31mNameError\u001b[0m                                 Traceback (most recent call last)",
            "\u001b[0;32m<ipython-input-8-1c3081d8af28>\u001b[0m in \u001b[0;36m<module>\u001b[0;34m\u001b[0m\n\u001b[1;32m     11\u001b[0m \u001b[0;34m\u001b[0m\u001b[0m\n\u001b[1;32m     12\u001b[0m   \u001b[0mcv\u001b[0m \u001b[0;34m=\u001b[0m \u001b[0mRepeatedStratifiedKFold\u001b[0m\u001b[0;34m(\u001b[0m\u001b[0mn_splits\u001b[0m\u001b[0;34m=\u001b[0m\u001b[0;36m10\u001b[0m\u001b[0;34m,\u001b[0m \u001b[0mn_repeats\u001b[0m\u001b[0;34m=\u001b[0m\u001b[0;36m3\u001b[0m\u001b[0;34m,\u001b[0m \u001b[0mrandom_state\u001b[0m\u001b[0;34m=\u001b[0m\u001b[0;36m1\u001b[0m\u001b[0;34m)\u001b[0m\u001b[0;34m\u001b[0m\u001b[0;34m\u001b[0m\u001b[0m\n\u001b[0;32m---> 13\u001b[0;31m   \u001b[0mscores\u001b[0m \u001b[0;34m=\u001b[0m \u001b[0mcross_val_score\u001b[0m\u001b[0;34m(\u001b[0m\u001b[0mmi_pip_quantitative\u001b[0m\u001b[0;34m,\u001b[0m \u001b[0mX_tv\u001b[0m\u001b[0;34m,\u001b[0m \u001b[0mnp\u001b[0m\u001b[0;34m.\u001b[0m\u001b[0mravel\u001b[0m\u001b[0;34m(\u001b[0m\u001b[0mY_tv\u001b[0m\u001b[0;34m)\u001b[0m\u001b[0;34m,\u001b[0m \u001b[0mscoring\u001b[0m\u001b[0;34m=\u001b[0m\u001b[0;34m'accuracy'\u001b[0m\u001b[0;34m,\u001b[0m \u001b[0mcv\u001b[0m\u001b[0;34m=\u001b[0m\u001b[0mcv\u001b[0m\u001b[0;34m)\u001b[0m\u001b[0;34m\u001b[0m\u001b[0;34m\u001b[0m\u001b[0m\n\u001b[0m\u001b[1;32m     14\u001b[0m \u001b[0;34m\u001b[0m\u001b[0m\n\u001b[1;32m     15\u001b[0m \u001b[0;34m\u001b[0m\u001b[0m\n",
            "\u001b[0;31mNameError\u001b[0m: name 'mi_pip_quantitative' is not defined"
          ]
        }
      ]
    },
    {
      "cell_type": "code",
      "source": [
        "None"
      ],
      "metadata": {
        "id": "YXlcSWA-C4Dj"
      },
      "execution_count": null,
      "outputs": []
    },
    {
      "cell_type": "code",
      "source": [],
      "metadata": {
        "id": "BKI80-YdC4HN"
      },
      "execution_count": null,
      "outputs": []
    },
    {
      "cell_type": "markdown",
      "source": [
        "#**Ejercicio-4.**"
      ],
      "metadata": {
        "id": "chqk9jIDC5Pq"
      }
    },
    {
      "cell_type": "code",
      "source": [
        "None"
      ],
      "metadata": {
        "id": "RBVSFwK4C6g9"
      },
      "execution_count": null,
      "outputs": []
    },
    {
      "cell_type": "code",
      "source": [],
      "metadata": {
        "id": "7KXnlNzAC69Y"
      },
      "execution_count": null,
      "outputs": []
    },
    {
      "cell_type": "markdown",
      "source": [
        "#**Ejercicio-5.**"
      ],
      "metadata": {
        "id": "Rv7KFq-mC7PS"
      }
    },
    {
      "cell_type": "code",
      "source": [
        "None"
      ],
      "metadata": {
        "id": "jaDj3kawC9B6"
      },
      "execution_count": null,
      "outputs": []
    },
    {
      "cell_type": "code",
      "source": [],
      "metadata": {
        "id": "4tQxQROVC9Us"
      },
      "execution_count": null,
      "outputs": []
    },
    {
      "cell_type": "markdown",
      "source": [
        "#**Ejercicio-6.**"
      ],
      "metadata": {
        "id": "W2S7LI0NC9wE"
      }
    },
    {
      "cell_type": "code",
      "source": [
        "None"
      ],
      "metadata": {
        "id": "x6uBleJUC_AU"
      },
      "execution_count": null,
      "outputs": []
    },
    {
      "cell_type": "code",
      "source": [],
      "metadata": {
        "id": "n0P_AcyjC_Dh"
      },
      "execution_count": null,
      "outputs": []
    },
    {
      "cell_type": "markdown",
      "source": [
        "###**Fin de la Actividad de la semana 6.**"
      ],
      "metadata": {
        "id": "7ql_r2G-DB_m"
      }
    }
  ]
}